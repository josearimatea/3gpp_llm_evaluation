{
  "cells": [
    {
      "cell_type": "markdown",
      "metadata": {
        "id": "ZNZo20neg88Q"
      },
      "source": [
        "# Final Project\n",
        "\n",
        "\n",
        "\n"
      ]
    },
    {
      "cell_type": "markdown",
      "metadata": {},
      "source": [
        "## Links"
      ]
    },
    {
      "cell_type": "markdown",
      "metadata": {},
      "source": [
        "# Main libraries"
      ]
    },
    {
      "cell_type": "code",
      "execution_count": 17,
      "metadata": {},
      "outputs": [],
      "source": [
        "import nbimporter\n",
        "import json\n",
        "import os"
      ]
    },
    {
      "cell_type": "markdown",
      "metadata": {},
      "source": [
        "# Information TSpec-LLM Dataset"
      ]
    },
    {
      "cell_type": "code",
      "execution_count": 13,
      "metadata": {},
      "outputs": [],
      "source": [
        "import Process_tspec_llm\n",
        "\n",
        "processTspec = Process_tspec_llm"
      ]
    },
    {
      "cell_type": "markdown",
      "metadata": {},
      "source": [
        "## Verify TSpec-LLM Data"
      ]
    },
    {
      "cell_type": "code",
      "execution_count": 14,
      "metadata": {},
      "outputs": [
        {
          "name": "stdout",
          "output_type": "stream",
          "text": [
            "Total size of .md files in the repository: 1330.64 MB\n",
            "Total words in .md files in the repository: 164572408\n",
            "Rel-17: Total size of .md files: 736.61 MB, Total words: 90746969\n",
            "Rel-18: Total size of .md files: 594.03 MB, Total words: 73825439\n"
          ]
        }
      ],
      "source": [
        "directory_path = '../Dataset/TSpec-LLM/3GPP-clean'\n",
        "md_sizes_report = processTspec.calculate_md_sizes_and_word_count(directory_path)\n",
        "json_filename = 'md_sizes_word_count_report.json'\n",
        "processTspec.save_report_to_json(md_sizes_report, json_filename)\n",
        "processTspec.print_summary(md_sizes_report)\n"
      ]
    },
    {
      "cell_type": "markdown",
      "metadata": {},
      "source": [
        "## Get texts in TSpec-LLM"
      ]
    },
    {
      "cell_type": "code",
      "execution_count": 15,
      "metadata": {},
      "outputs": [
        {
          "name": "stdout",
          "output_type": "stream",
          "text": [
            "Total de documentos carregados: 2788\n",
            "Exemplo: {'release': 'Rel-17', 'series': '48_series', 'content': '![](media/image1.wmf){width=\"7.0875in\" height=\"0.9722222222222222in\"}\\n\\nContents {#contents .TT}\\n========\\n\\n[7](#foreword)\\n\\n[8](#scope)\\n\\n[8](#references)\\n\\n[9](#abbreviations)\\n\\n[9](#protocol-model)\\n\\n[10](#radio-link-layer-management-procedures)\\n\\n[10](#link-establishment-indication)\\n\\n[11](#link-establishment-request)\\n\\n[11](#link-release-indication)\\n\\n[11](#link-release-request)\\n\\n[12](#transmission-of-a-transparent-l3-message-in-acknowledged-mode)\\n\\n[12](#reception-of-a-transparent-l3-message-in-acknowledged-mode)\\n\\n[12](#transmission-of-a-transparent-l3-message-in-unacknowledged-mode)\\n\\n[12](#reception-of-a-transparent-l3-message-in-unacknowledged-mode)\\n\\n[13](#link-error-indication)\\n\\n[13](#dedicated-channel-management-procedures)\\n\\n[13](#channel-activation)\\n\\n[13](#signalling-procedure)\\n\\n[14](#activation-for-intra-cell-channel-change)\\n\\n[15](#activation-for-asynchronous-handover)\\n\\n[15](#activation-for-synchronous-handover)\\n\\n[15](#activation-for-secondary-channels-in-multislot-configuration)\\n\\n[15](#channel-reactivation)\\n\\n[16](#channel-mode-modify)\\n\\n[16](#handover-detection)\\n\\n[17](#start-of-encryption)\\n\\n[17](#measurement-reporting)\\n\\n[18](#basic-measurement-reporting)\\n\\n[18](#measurement-pre-processing)\\n\\n[19](#pre-processing-configuration)\\n\\n[19](#pre-processed-measurement-reporting)\\n\\n[19](#extended-measurement-reporting)\\n\\n[20](#deactivate-sacch)\\n\\n[20](#radio-channel-release)\\n\\n[20](#ms-power-control)\\n\\n[21](#transmission-power-control)\\n\\n[22](#connection-failure)\\n\\n[22](#physical-context-request)\\n\\n[22](#sacch-information-modify)\\n\\n[23](#talker-detection)\\n\\n[23](#listener-detection)\\n\\n[23](#remote-codec-configuration)\\n\\n[23](#round-trip-delay-report)\\n\\n[24](#pre-handover-warning)\\n\\n[24](#multirate-codec-configuration-change)\\n\\n[25](#multirate-codec-configuration-change-performed)\\n\\n[25](#tfo-report)\\n\\n[25](#tfo-modification-request)\\n\\n[26](#common-channel-management-procedures)\\n\\n[26](#channel-request-by-ms)\\n\\n[26](#paging)\\n\\n[26](#delete-indication)\\n\\n[27](#ccch-load-indication)\\n\\n[27](#broadcast-information-modify)\\n\\n[27](#short-message-cell-broadcast)\\n\\n[30](#immediate-assignment)\\n\\n[31](#notification)\\n\\n[31](#trx-management-procedures)\\n\\n[31](#radio-resource-indication)\\n\\n[32](#sacch-filling-information-modify)\\n\\n[32](#flow-control)\\n\\n[33](#error-reporting)\\n\\n[33](#a-location-services-procedures)\\n\\n[33](#a.1-llp-message-transport)\\n\\n[34](#error-handling)\\n\\n[34](#general)\\n\\n[34](#message-discriminator-error)\\n\\n[34](#message-type-error)\\n\\n[34](#message-sequence-error)\\n\\n[34](#general-information-element-errors)\\n\\n[34](#mandatory-information-element-errors)\\n\\n[35](#optional-information-element-errors)\\n\\n[35](#conditional-information-element-errors)\\n\\n[35](#message-formats-and-contents)\\n\\n[35](#general-1)\\n\\n[36](#transparent-messages)\\n\\n[36](#non-transparent-messages-bsc-bts-specific-messages)\\n\\n[36](#radio-link-layer-management-messages)\\n\\n[37](#data-request)\\n\\n[37](#data-indication)\\n\\n[37](#error-indication)\\n\\n[37](#establish-request)\\n\\n[38](#establish-confirm)\\n\\n[38](#establish-indication)\\n\\n[38](#release-request)\\n\\n[38](#release-confirm)\\n\\n[39](#release-indication)\\n\\n[39](#unit-data-request)\\n\\n[39](#unit-data-indication)\\n\\n[39](#dedicated-channel-management-messages)\\n\\n[40](#channel-activation-1)\\n\\n[41](#channel-activation-acknowledge)\\n\\n[41](#channel-activation-negative-acknowledge)\\n\\n[42](#connection-failure-indication)\\n\\n[42](#deactivate-sacch-1)\\n\\n[42](#encryption-command)\\n\\n[42](#handover-detection-1)\\n\\n[42](#measurement-result)\\n\\n[43](#mode-modify)\\n\\n[43](#mode-modify-acknowledge)\\n\\n[44](#mode-modify-negative-acknowledge)\\n\\n[44](#physical-context-request-1)\\n\\n[44](#physical-context-confirm)\\n\\n[44](#rf-channel-release)\\n\\n[44](#ms-power-control-1)\\n\\n[45](#bs-power-control)\\n\\n[45](#preprocess-configure)\\n\\n[45](#preprocessed-measurement-result)\\n\\n[45](#rf-channel-release-acknowledge)\\n\\n[45](#sacch-info-modify)\\n\\n[46](#talker-detection-1)\\n\\n[46](#listener-detection-1)\\n\\n[46](#remote-codec-configuration-report)\\n\\n[47](#round-trip-delay-report-1)\\n\\n[47](#pre-handover-notification)\\n\\n[47](#multirate-codec-modification-request)\\n\\n[47](#multirate-codec-modification-acknowledge)\\n\\n[47](#multirate-codec-modification-negative-acknowledge)\\n\\n[48](#multirate-codec-modification-performed)\\n\\n[48](#tfo-report-1)\\n\\n[48](#tfo-modification-request-1)\\n\\n[48](#common-channel-management-messages)\\n\\n[49](#bcch-information)\\n\\n[49](#ccch-load-indication-1)\\n\\n[50](#channel-required)\\n\\n[50](#delete-indication-1)\\n\\n[50](#paging-command)\\n\\n[50](#immediate-assign-command)\\n\\n[51](#sms-broadcast-request)\\n\\n[51](#sms-broadcast-command)\\n\\n[51](#cbch-load-indication)\\n\\n[52](#notification-command)\\n\\n[52](#trx-management-messages)\\n\\n[52](#rf-resource-indication)\\n\\n[53](#sacch-filling)\\n\\n[53](#overload)\\n\\n[53](#error-report)\\n\\n[54](#location-services-messages)\\n\\n[54](#location-information)\\n\\n[54](#information-element-codings)\\n\\n[54](#message-discriminator)\\n\\n[55](#message-type)\\n\\n[56](#other-information-elements)\\n\\n[57](#channel-number)\\n\\n[58](#link-identifier)\\n\\n[58](#activation-type)\\n\\n[59](#bs-power)\\n\\n[60](#channel-identification)\\n\\n[60](#channel-mode)\\n\\n[62](#encryption-information)\\n\\n[62](#frame-number)\\n\\n[63](#handover-reference)\\n\\n[63](#l1-information)\\n\\n[63](#l3-information-message-name)\\n\\n[63](#ms-identity)\\n\\n[63](#ms-power)\\n\\n[64](#paging-group)\\n\\n[64](#paging-load)\\n\\n[64](#physical-context)\\n\\n[65](#access-delay)\\n\\n[65](#rach-load)\\n\\n[65](#request-reference)\\n\\n[66](#release-mode)\\n\\n[66](#resource-information)\\n\\n[66](#rlm-cause)\\n\\n[67](#starting-time)\\n\\n[67](#timing-advance)\\n\\n[67](#uplink-measurements)\\n\\n[68](#cause)\\n\\n[71](#measurement-result-number)\\n\\n[71](#message-identifier)\\n\\n[71](#sacch-information)\\n\\n[72](#system-info-type)\\n\\n[73](#ms-power-parameters)\\n\\n[73](#bs-power-parameters)\\n\\n[74](#pre-processing-parameters)\\n\\n[74](#pre-processed-measurements)\\n\\n[74](#full-immediate-assign-info)\\n\\n[75](#smscb-information)\\n\\n[75](#ms-timing-offset)\\n\\n[75](#erroneous-message)\\n\\n[75](#full-bcch-information-message-name)\\n\\n[76](#channel-needed)\\n\\n[76](#cb-command-type)\\n\\n[77](#smscb-message)\\n\\n[77](#cbch-load-information)\\n\\n[77](#smscb-channel-indicator)\\n\\n[78](#group-call-reference)\\n\\n[78](#channel-description)\\n\\n[78](#nch-drx-information)\\n\\n[78](#command-indicator)\\n\\n[79](#emlpp-priority)\\n\\n[79](#uic)\\n\\n[79](#main-channel-reference)\\n\\n[80](#multirate-configuration)\\n\\n[80](#multirate-control)\\n\\n[80](#supported-codec-types)\\n\\n[82](#codec-configuration)\\n\\n[83](#round-trip-delay)\\n\\n[83](#tfo-status)\\n\\n[84](#llp-apdu)\\n\\n[84](#tfo-transparent-container)\\n\\n[84](#drx-info)\\n\\n[85](#annex-a-informative-change-history)Foreword 1 Scope 1.1 References\\n1.2 Abbreviations 2 Protocol model 3 Radio Link Layer Management\\nProcedures 3.1 Link establishment indication 3.2 Link establishment\\nrequest 3.3 Link release indication 3.4 Link release request 3.5\\nTransmission of a transparent L3-Message in acknowledged mode 3.6\\nReception of a transparent L3-Message in acknowledged mode 3.7\\nTransmission of a transparent L3-Message in unacknowledged mode 3.8\\nReception of a transparent L3-Message in unacknowledged mode 3.9 Link\\nerror indication Dedicated channel management procedures 4.1 Channel\\nactivation 4.1.1 Signalling Procedure 4.1.2 Activation for Intra-Cell\\nChannel Change 4.1.3 Activation for Asynchronous Handover 4.1.4\\nActivation for Synchronous Handover 4.1.5 Activation for Secondary\\nChannels in Multislot Configuration 4.1.6 Channel reactivation 4.2\\nChannel MODE MODIFY 4.3 Handover detection 4.4 Start of encryption 4.5\\nMeasurement reporting 4.5.1 Basic measurement reporting 4.5.2\\nMeasurement pre-processing 4.5.2.1 Pre-processing configuration 4.5.2.2\\nPre-processed measurement reporting 4.5.3 Extended measurement reporting\\n4.6 Deactivate SACCH 4.7 Radio channel release 4.8 MS power control 4.9\\nTransmission power control 4.10 Connection failure 4.11 Physical context\\nrequest 4.12 SACCH information modify 4.13 Talker detection 4.14\\nListener detection 4.15 Remote Codec Configuration 4.16 Round Trip Delay\\nReport 4.17 Pre-handover Warning 4.18 MultiRate Codec Configuration\\nChange 4.19 MultiRate Codec Configuration Change Performed 4.20 TFO\\nReport 4.21 TFO Modification Request 5 Common channel management\\nprocedures 5.1 Channel request by MS 5.2 Paging 5.3 Delete indication\\n5.4 CCCH load indication 5.5 Broadcast information modify 5.6 Short\\nMessage Cell Broadcast 5.7 IMMEDIATE ASSIGNMENT 5.8 Notification 6 TRX\\nmanagement procedures 6.1 Radio resource indication 6.2 SACCH filling\\ninformation modify 6.3 Flow control 6.4 Error reporting 6a Location\\nservices procedures 6a.1 LLP message transport 7 Error handling 7.1\\nGeneral 7.2 Message discriminator error 7.3 Message type error 7.4\\nMessage sequence error 7.5 General information element errors 7.6\\nMandatory information element errors 7.7 Optional information element\\nerrors 7.8 Conditional information element errors 8 Message formats and\\ncontents 8.0 General 8.1 Transparent messages 8.2 Non-transparent\\nmessages (BSC-BTS specific messages) 8.3 Radio link layer management\\nmessages 8.3.1 DATA REQUEST 8.3.2 DATA INDICATION 8.3.3 ERROR INDICATION\\n8.3.4 ESTABLISH REQUEST 8.3.5 ESTABLISH CONFIRM 8.3.6 ESTABLISH\\nINDICATION 8.3.7 RELEASE REQUEST 8.3.8 RELEASE CONFIRM 8.3.9 RELEASE\\nINDICATION 8.3.10 UNIT DATA REQUEST 8.3.11 UNIT DATA INDICATION 8.4\\nDEDICATED CHANNEL MANAGEMENT MESSAGES 8.4.1 CHANNEL ACTIVATION 8.4.2\\nCHANNEL ACTIVATION ACKNOWLEDGE 8.4.3 CHANNEL ACTIVATION NEGATIVE\\nACKNOWLEDGE 8.4.4 CONNECTION FAILURE INDICATION 8.4.5 DEACTIVATE SACCH\\n8.4.6 ENCRYPTION COMMAND 8.4.7 HANDOVER DETECTION 8.4.8 MEASUREMENT\\nRESULT 8.4.9 MODE MODIFY 8.4.10 MODE MODIFY ACKNOWLEDGE 8.4.11 MODE\\nMODIFY NEGATIVE ACKNOWLEDGE 8.4.12 PHYSICAL CONTEXT REQUEST 8.4.13\\nPHYSICAL CONTEXT CONFIRM 8.4.14 RF CHANNEL RELEASE 8.4.15 MS POWER\\nCONTROL 8.4.16 BS POWER CONTROL 8.4.17 PREPROCESS CONFIGURE 8.4.18\\nPREPROCESSED MEASUREMENT RESULT 8.4.19 RF CHANNEL RELEASE ACKNOWLEDGE\\n8.4.20 SACCH INFO MODIFY 8.4.21 TALKER DETECTION 8.4.22 LISTENER\\nDETECTION 8.4.23 REMOTE CODEC CONFIGURATION REPORT 8.4.24 ROUND TRIP\\nDELAY REPORT 8.4.25 PRE-HANDOVER NOTIFICATION 8.4.26 MULTIRATE CODEC\\nMODIFICATION REQUEST 8.4.27 MULTIRATE CODEC MODIFICATION ACKNOWLEDGE\\n8.4.28 MULTIRATE CODEC MODIFICATION NEGATIVE ACKNOWLEDGE 8.4.29\\nMULTIRATE CODEC MODIFICATION PERFORMED 8.4.30 TFO REPORT 8.4.31 TFO\\nMODIFICATION REQUEST 8.5 COMMON CHANNEL MANAGEMENT MESSAGES 8.5.1 BCCH\\nINFORMATION 8.5.2 CCCH LOAD INDICATION 8.5.3 CHANNEL REQUIRED 8.5.4\\nDELETE INDICATION 8.5.5 PAGING COMMAND 8.5.6 IMMEDIATE ASSIGN COMMAND\\n8.5.7 SMS BROADCAST REQUEST 8.5.8 SMS BROADCAST COMMAND 8.5.9 CBCH LOAD\\nINDICATION 8.5.10 NOTIFICATION COMMAND 8.6 TRX MANAGEMENT MESSAGES 8.6.1\\nRF RESOURCE INDICATION 8.6.2 SACCH FILLING 8.6.3 OVERLOAD 8.6.4 ERROR\\nREPORT 8.7 LOCATION SERVICES MESSAGES 8.7.1 LOCATION INFORMATION 9\\nInformation element codings 9.1 Message discriminator 9.2 MESSAGE TYPE\\n9.3 Other information elements 9.3.1 Channel Number 9.3.2 Link\\nIdentifier 9.3.3 Activation Type 9.3.4 BS Power 9.3.5 Channel\\nIdentification 9.3.6 Channel Mode 9.3.7 Encryption information 9.3.8\\nFrame Number 9.3.9 Handover reference 9.3.10 L1 Information 9.3.11 L3\\nInformation (message name) 9.3.12 MS Identity 9.3.13 MS Power 9.3.14\\nPaging Group 9.3.15 Paging Load 9.3.16 Physical Context 9.3.17 Access\\nDelay 9.3.18 RACH Load 9.3.19 Request Reference 9.3.20 Release Mode\\n9.3.21 Resource Information 9.3.22 RLM Cause 9.3.23 Starting Time 9.3.24\\nTiming Advance 9.3.25 Uplink Measurements 9.3.26 Cause 9.3.27\\nMeasurement result number 9.3.28 Message Identifier 9.3.29 SACCH\\nInformation 9.3.30 System Info Type 9.3.31 MS Power Parameters 9.3.32 BS\\nPower Parameters 9.3.33 Pre-processing Parameters 9.3.34 Pre-processed\\nMeasurements 9.3.35 Full Immediate Assign Info 9.3.36 SMSCB Information\\n9.3.37 MS Timing Offset 9.3.38 Erroneous Message 9.3.39 Full BCCH\\nInformation (message name) 9.3.40 Channel Needed 9.3.41 CB Command type\\n9.3.42 SMSCB Message 9.3.43 CBCH Load Information 9.3.44 SMSCB Channel\\nIndicator 9.3.45 Group call reference 9.3.46 Channel description 9.3.47\\nNCH DRX information 9.3.48 Command indicator 9.3.49 eMLPP Priority\\n9.3.50 UIC 9.3.51 Main channel reference 9.3.52 MultiRate configuration\\n9.3.53 MultiRate Control 9.3.54 Supported Codec Types 9.3.55 Codec\\nConfiguration 9.3.56 Round Trip Delay 9.3.57 TFO Status 9.3.58 LLP APDU\\n9.3.59 TFO transparent container 9.3.60 DRX Info Annex A (informative):\\nChange History\\n\\nForeword\\n========\\n\\nThis Technical Specification has been produced by the 3^rd^ Generation\\nPartnership Project (3GPP).\\n\\nThe contents of the present document are subject to continuing work\\nwithin the TSG and may change following formal TSG approval. Should the\\nTSG modify the contents of the present document, it will be re-released\\nby the TSG with an identifying change of release date and an increase in\\nversion number as follows:\\n\\nVersion x.y.z\\n\\nwhere:\\n\\nx the first digit:\\n\\n1 presented to TSG for information;\\n\\n2 presented to TSG for approval;\\n\\n3 or greater indicates TSG approved document under change control.\\n\\ny the second digit is incremented for all changes of substance, i.e.\\ntechnical enhancements, corrections, updates, etc.\\n\\nz the third digit is incremented when editorial only changes have been\\nincorporated in the document.\\n\\n1 Scope\\n=======\\n\\nThe present document specifies the general structure of layer 3 and\\ntraffic management procedures and messages used on the A-bis interface\\nto support signalling procedures as defined in 3GPP\\xa0TS\\xa024.008 and\\n3GPP\\xa0TS\\xa044.018. Support for Location Services (LCS) related signalling,\\nas defined in 3GPP\\xa0TS\\xa023.071, is also included. 3GPP\\xa0TS\\xa023.071\\nidentifies new A-bis signalling to support BTS-embedded Type B LMUs as\\nwell as standalone, Type B LMUs. The standalone Type B LMU supports the\\nlayer 1 and 2 signalling for the A-bis as well as the Location Service\\nmessage defined in the present document.\\n\\nThe use and general aspects of the Base Station Controller (BSC) to Base\\nStation Transceiver (BTS) interface (the A-bis interface) are given in\\n3GPP\\xa0TS\\xa048.051.\\n\\nNetwork management procedures and messages for the A-bis interface are\\ndefined in 3GPP\\xa0TS\\xa008.59.\\n\\nThe functional split between BSC and BTS is defined in 3GPP\\xa0TS\\xa048.052.\\nThe procedures and messages required to support this split are defined\\nin detail in the present document.\\n\\n1.1 References\\n--------------\\n\\nThe following documents contain provisions which, through reference in\\nthis text, constitute provisions of the present document.\\n\\n\\\\- References are either specific (identified by date of publication,\\nedition number, version number, etc.) or non‑specific.\\n\\n\\\\- For a specific reference, subsequent revisions do not apply.\\n\\n\\\\- For a non-specific reference, the latest version applies. In the case\\nof a reference to a 3GPP document (including a GSM document), a\\nnon-specific reference implicitly refers to the latest version of that\\ndocument *in the same Release as the present document*.\\n\\n\\\\[1\\\\] 3GPP TR 21.905: \\\\\"Vocabulary for 3GPP Specifications\\\\\".\\n\\n\\\\[2\\\\] 3GPP\\xa0TS\\xa043.020: \\\\\"Security related network functions\\\\\".\\n\\n\\\\[2a\\\\] 3GPP\\xa0TS\\xa023.071: \\\\\"Location Services; Functional description --\\nStage 2\\\\\".\\n\\n\\\\[3\\\\] 3GPP\\xa0TS\\xa044.004: \\\\\"Layer 1 General requirements\\\\\".\\n\\n\\\\[4\\\\] 3GPP\\xa0TS\\xa044.005: \\\\\"Data Link (DL) layer General aspects\\\\\".\\n\\n\\\\[5\\\\] 3GPP\\xa0TS\\xa044.006: \\\\\"Mobile Station - Base Station System (MS - BSS)\\ninterface Data Link (DL) layer specification\\\\\".\\n\\n\\\\[6\\\\] 3GPP\\xa0TS\\xa024.008: \\\\\"Mobile radio interface layer\\xa03 specification;\\nCore Network Protocols; Stage 3\\\\\".\\n\\n\\\\[7\\\\] 3GPP\\xa0TS\\xa044.012: \\\\\"Short Message Service Cell Broadcast (SMSCB)\\nsupport on the mobile radio interface\\\\\".\\n\\n\\\\[7a\\\\] 3GPP\\xa0TS\\xa044.071: \\\\\"Mobile radio interface layer\\xa03 Location\\nServices (LCS) specification\\\\\".\\n\\n\\\\[8\\\\] 3GPP\\xa0TS\\xa045.002: \\\\\"Multiplexing and multiple access on the radio\\npath\\\\\".\\n\\n\\\\[9\\\\] 3GPP\\xa0TS\\xa045.005: \\\\\"Radio transmission and reception\\\\\".\\n\\n\\\\[10\\\\] 3GPP\\xa0TS\\xa045.008: \\\\\"Radio subsystem link control\\\\\".\\n\\n\\\\[11\\\\] 3GPP\\xa0TS\\xa045.009: \\\\\"Link Adaptation\\\\\".\\n\\n\\\\[12\\\\] 3GPP\\xa0TS\\xa045.010: \\\\\"Radio subsystem synchronization\\\\\".\\n\\n\\\\[13\\\\] 3GPP\\xa0TS\\xa048.006: \\\\\"Signaling transport specification mechanism for\\nthe Base Station System -- Mobile-services Switching Centre (BSS - MSC)\\ninterface\\\\\".\\n\\n\\\\[14\\\\] 3GPP\\xa0TS\\xa048.008: \\\\\"Mobile-services Switching Centre -- Base\\nStation System (MSC-BSS) interface; Layer 3 specification\\\\\".\\n\\n\\\\[15\\\\] 3GPP\\xa0TS\\xa048.051: \\\\\"Base Station Controller ‑ Base Transceiver\\nStation (BSC ‑ BTS) interface; General aspects\\\\\".\\n\\n\\\\[16\\\\] 3GPP\\xa0TS\\xa048.052: \\\\\"Base Station Controller ‑ Base Transceiver\\nStation (BSC ‑ BTS) interface; Interface principles\\\\\".\\n\\n\\\\[17\\\\] 3GPP\\xa0TS\\xa048.056: \\\\\"Base Station Controller ‑ Base Transceiver\\nStation (BSC ‑ BTS) interface; Layer 2 specification\\\\\".\\n\\n\\\\[18\\\\] 3GPP\\xa0TS\\xa026.103: \\\\\"Speech Codec List for GSM and UMTS\\\\\".\\n\\n\\\\[19\\\\] 3GPP\\xa0TS\\xa044.018: \\\\\"Radio Resource Control Protocol\\\\\".\\n\\n1.2 Abbreviations\\n-----------------\\n\\nFor the purposes of the present document, the abbreviations defined in\\n3GPP\\xa0TR\\xa021.905 apply.\\n\\n2 Protocol model\\n================\\n\\nA model for L3 can be found in figure 2.1.\\n\\nL2 addressing is made to TRX (or BCF) using the TEI of LAPD. Different\\nL2 links are used for traffic management messages (RSL, Radio Signalling\\nLink), network management messages (OML, Operation & Maintenance Link)\\nand L2 management messages (L2ML, Layer 2 Management Link).\\n\\nFor traffic management, two types of signalling messages have been\\ndefined:\\n\\n**Transparent Messages:** Messages which are forwarded by BTS without\\ninterpretation or changes.\\n\\n**Non-Transparent Messages:** Messages which are sent only between BSC\\nand BTS and which BTS is acting upon or which are the results of BTS\\nactions.\\n\\nIn addition, the messages have been grouped into four main groups: Radio\\nLink Layer Management, Dedicated Channel Management, Common Channel\\nManagement and TRX Management messages.\\n\\nDiscrimination between these types and groups is based on the Message\\nDiscriminator which is sent as the first octet in all messages.\\nTransparent and non-transparent messages are discriminated by a\\ntransparency flag (T-bit) in the Message Discriminator. Transparent\\nmessages are merely forwarded to L2 on the radio interface.\\n\\nIn order to address the relevant radio channel, a Channel Number element\\nis included to support the distribution of messages to relevant physical\\nchannels on the TRX. A Link Identifier element supports the distribution\\non logical links/channels on the radio interface (compare the DLCI\\nelement of the A interface, 3GPP\\xa0TS\\xa048.006).\\n\\nAll messages in this GTS are to be transmitted on the A-bis interface\\nusing the I format of LAPD, except for MEASUREMENT RESULT which is sent\\nin UI format.\\n\\nFigure 2.1/48.058: L3 model\\n\\n3 Radio Link Layer Management Procedures\\n========================================\\n\\nThis sub-clause describes procedures related to the management of a link\\nlayer connection on the radio path.\\n\\n3.1 Link establishment indication\\n---------------------------------\\n\\nThis procedure is used by BTS to indicate to BSC that a layer 2 link on\\nthe radio path has been established in multi-frame mode at the\\ninitiative of an MS. BSC can use this indication to set up an SCCP\\nconnection to MSC.\\n\\nUpon reception of a SABM frame on a link on an active channel, the BTS\\nsends an ESTablish INDication message to BSC. The message contains the\\ncontents of the information field of the SABM frame if present.\\n\\nThe procedure is used in all establishment cases, for all channels and\\nall SAPIs.\\n\\n3.2 Link establishment request\\n------------------------------\\n\\nThis procedure is used by BSC to request the establishment of a link\\nlayer connection in multi-frame mode on the radio path.\\n\\nThe procedure is started by BSC sending an ESTablish REQuest message to\\nBTS. BTS then establishes the link by sending an SABM frame. Upon\\nreception of the acknowledgement (UA-frame) from MS, BTS sends an\\nESTablish CONFirm message to BSC.\\n\\nIn case of a failure, BTS sends a RELease INDication and an ERRor\\nINDication message to BSC (cf. 3GPP\\xa0TS\\xa044.006).\\n\\n![](media/image5.png){width=\"3.6875in\" height=\"1.1770833333333333in\"}\\n\\n3.3 Link release indication\\n---------------------------\\n\\nThis procedure is used by BTS to indicate to BSC that a link layer\\nconnection on the radio path has been released at the initiative of an\\nMS.\\n\\nWhen receiving a DISC frame on a link layer connection in multi-frame\\nmode, BTS sends a RELease INDication message to BSC. (If the link layer\\nis in idle mode, BTS will send a DM frame to MS but does not notify\\nBSC.)\\n\\nCollision cases are treated as specified in 3GPP\\xa0TS\\xa044.006.\\n\\n![](media/image6.png){width=\"3.6666666666666665in\"\\nheight=\"0.8229166666666666in\"}\\n\\n3.4 Link release request\\n------------------------\\n\\nThis procedure is used by BSC to request the release of a link layer\\nconnection on the radio path.\\n\\nThe procedure is started by BSC sending a RELease REQuest message to\\nBTS. BTS then sends a DISC frame to MS. When it has received the\\nacknowledgement (UA or DM frame), BTS sends a RELease CONFirm message to\\nBSC.\\n\\nCollision cases are treated as specified in 3GPP\\xa0TS\\xa044.006.\\n\\nIf BTS has repeated the DISC frame N200 times, BTS sends a RELease\\nINDication and an ERRor INDication message to BSC (cf. 3GPP\\xa0TS\\xa044.006).\\n\\n![](media/image7.png){width=\"3.65625in\" height=\"1.2083333333333333in\"}\\n\\n3.5 Transmission of a transparent L3-Message in acknowledged mode\\n-----------------------------------------------------------------\\n\\nThis procedure is used by BSC to request the sending of a L3 message to\\nMS in acknowledged mode.\\n\\nBSC sends a DATA REQuest message to BTS. The message contains the\\ncomplete L3 message to be sent in acknowledged mode.\\n\\n![](media/image8.png){width=\"3.6979166666666665in\" height=\"1.0625in\"}\\n\\n3.6 Reception of a transparent L3-Message in acknowledged mode\\n--------------------------------------------------------------\\n\\nThis procedure is used by BTS to indicate the reception of a L3 message\\nin acknowledged mode.\\n\\nBTS sends a DATA INDication message to BSC. The message contains the\\nreceived L3 message.\\n\\n![](media/image9.png){width=\"3.65625in\" height=\"0.9583333333333334in\"}\\n\\n3.7 Transmission of a transparent L3-Message in unacknowledged mode\\n-------------------------------------------------------------------\\n\\nThis procedure is used by BSC to request the sending of a L3 message to\\nMS in unacknowledged mode.\\n\\nBSC sends a UNIT DATA REQuest message to BTS. The message contains the\\nL3 message to be sent to MS in unacknowledged mode.\\n\\n![](media/image10.png){width=\"3.6875in\" height=\"0.7291666666666666in\"}\\n\\n3.8 Reception of a transparent L3-Message in unacknowledged mode\\n----------------------------------------------------------------\\n\\nThis procedure is used by BTS to indicate the reception of a L3 message\\nin unacknowledged mode.\\n\\nBTS sends a UNIT DATA INDication message to BSC. The message contains\\nthe received L3 message.\\n\\n![](media/image11.png){width=\"3.6875in\" height=\"0.7708333333333334in\"}\\n\\n3.9 Link error indication\\n-------------------------\\n\\nThis procedure is used by BTS to indicate an abnormal case such as the\\nfollowing.\\n\\n\\\\- a protocol error as specified in 3GPP\\xa0TS\\xa044.006;\\n\\n\\\\- a link layer failure, i.e. the repetition of an I-frame N200 times\\nwithout an acknowledgement;\\n\\n\\\\- the repetition of an SABM or DISC frame N200 times without an\\nacknowledgement;\\n\\n\\\\- the reception of an SABM frame in multi-frame established state.\\n\\nWhen such an event has occurred, BTS notifies BSC by sending an ERROR\\nINDication message containing the relevant cause information.\\n\\nA BTS that supports enhanced power control (EPC) shall activate a\\nchannel in EPC mode if so ordered by the BSC in the CHANNEL ACTIVATION\\nmessage. Further, it shall use enhanced power control procedures as\\ndefined in 3GPP\\xa0TS\\xa045.008 for MS (uplink) power control and/or BS\\n(downlink) power control if so ordered by the BSC in the CHANNEL\\nACTIVATION message (or the BS POWER CONTROL or MS POWER CONTROL\\nmessages).\\n\\n![](media/image12.png){width=\"3.71875in\" height=\"0.7604166666666666in\"}\\n\\n Dedicated channel management procedures\\n=======================================\\n\\n4.1 Channel activation\\n----------------------\\n\\nThis procedure is used to activate a channel at the BTS for an MS which\\nlater will be commanded to this channel by an IMMediate ASSIGN, an\\nASSIGN CoMmanD, an ADDitional ASSIGNment; a NOTIFICATION, a CHANNEL\\nRELEASE (with a Channel description) a HANDOver CoMmanD or a\\nCONFiguration CHange CoMmanD message.\\n\\nIn the handover case, the procedure is used between the target BSC and\\nthe target BTS to activate a channel for a subsequent handover from the\\nold BTS.\\n\\n### 4.1.1 Signalling Procedure\\n\\nBSC determines what channel shall be used and starts up that channel at\\nBTS by sending a CHANnel ACTIVation message to the relevant TRX. This\\nmessage contains the reason for the activation (immediate assignment,\\nassignment, asynchronous/synchronous handover, additional assignment,\\nactivation of a secondary channel in a multislot configuration), the\\nidentification of the channel to be used (channel no) and a complete\\ndescription of the channel (full/half rate, speech/data, coding/rate\\nadaption, hopping sequence, encryption key etc.).\\n\\nIf the Encryption Information field is present, the activation is done\\nwith ciphering active. If the Encryption Information element is not\\npresent, activation is done without ciphering.\\n\\nAfter activating the channel as requested, TRX responds with the CHANnel\\nACTIVation ACKnowledge message. This message contains the current frame\\nnumber at BTS. The frame number is used by BSC to determine the Starting\\nTime parameter to be included in the following assignment message to MS.\\n(A suitable number has to be added to current frame number to take all\\npossible signalling delays into account).\\n\\n![](media/image13.png){width=\"5.145833333333333in\" height=\"1.75in\"}\\n\\nIf the TRX for some reason cannot activate the resource as requested by\\nthe CHANnel Activation message, the TRX shall return a CHANnel\\nACTIVation Negative ACKnowledge message with the most appropriate cause\\nvalue.\\n\\nPossible cause values may be:\\n\\n\\\\- O&M intervention (e.g. channel blocked);\\n\\n\\\\- resource not available (e.g. speech coder, encryption device);\\n\\n\\\\- equipment failure;\\n\\n\\\\- channel already activated;\\n\\n\\\\- etc.\\n\\n![](media/image14.png){width=\"2.0520833333333335in\"\\nheight=\"0.9895833333333334in\"}\\n\\nIn the handover case, the procedure is initiated by the target BSC when\\nthis receives the HANDOver REQuest message from MSC (or autonomously by\\nBSC for BSC internal handover). The BSC sends a CHANnel ACTIVation\\nmessage to the relevant TRX. The message contains the Handover Reference\\nvalue which can be used by the BTS to check the Handover Access from MS.\\nAfter activation of the channel TRX responds with a CHANnel ACTIVation\\nACKnowledge message containing the current frame number at BTS.\\n\\nThe BSC can then determine the Starting Time parameter to be included in\\nthe HANDOver REQuest ACKnowledge message to MSC (and the HANDOver\\nCoMmanD message to MS).\\n\\n![](media/image15.png){width=\"3.40625in\" height=\"2.1041666666666665in\"}\\n\\n### 4.1.2 Activation for Intra-Cell Channel Change\\n\\nThis activation precedes the Immediate Assignment, Assignment or\\nAdditional assignment procedures. The Timing Advance element must be\\nincluded in the CHANNEL ACTIVATION message.\\n\\nBTS activates the channel and starts transmission and reception on the\\nmain channel in the indicated mode. Ciphering is started if so indicated\\nin the encryption information.\\n\\nThe reception and transmission on SACCH is also started immediately.\\n\\nIf the BS and/or MS power elements and/or the Physical Context element\\nare present, the reception and transmission processes and the L1-header\\nof SACCH are initialized accordingly.\\n\\n### 4.1.3 Activation for Asynchronous Handover\\n\\nBTS starts transmission immediately on the main channel in the indicated\\nmode and with encryption if so indicated. If the MS Power element is\\npresent the BTS may start transmission also on the SACCH.\\n\\nWhen receiving a correct access burst with the correct handover\\nreference, BTS starts the normal reception process on the main channel\\nin the indicated mode and starts receiving (and sending if not started\\nearlier) on SACCH. Deciphering is started if so indicated. The handover\\ndetection procedure towards BSC is also started.\\n\\n### 4.1.4 Activation for Synchronous Handover\\n\\nBTS starts transmission immediately on the main channel in the indicated\\nmode and with encryption if so indicated. If the MS Power and Timing\\nAdvance element are present, BTS shall start transmission also on SACCH\\nwith the timing advance and MS power control parameters indicated. If\\nonly the MS power element is present the BTS may start transmission also\\non the SACCH.\\n\\nWhen receiving a correct access burst with the correct handover\\nreference, BTS starts the normal reception process on the main channel\\nin the indicated mode, with deciphering applied if so indicated, and\\nstarts receiving (and sending if not started earlier) on SACCH. The\\nhandover detection procedure towards BSC is also started. Alternatively,\\nthe reception of a correctly decoded frame from the MS on the main\\nchannel, in the indicated mode and deciphering applied if so indicated,\\nallows the start of sending on SACCH (if not already started) and starts\\nthe handover detection procedure towards the BSC.\\n\\nNOTE: The activation for synchronous handover can be used for pseudo\\nsynchronized handover.\\n\\n### 4.1.5 Activation for Secondary Channels in Multislot Configuration\\n\\nBTS activates the channel and starts transmission and reception on the\\ntraffic and SACCH channels in the indicated mode. Ciphering is applied\\nif so indicated in the encryption information.\\n\\nIf the BS and/or MS power elements and/or the Physical Context element\\nare present, the reception if applicable and transmission processes and\\nthe L1-header of SACCH are initialized accordingly.\\n\\n### 4.1.6 Channel reactivation\\n\\nThis procedure is used by BSC to request a reactivation of an active\\nchannel. During the reactivation, information flows, e.g., user\\ninformation such as speech or data, that are common for the two phases\\nof operation, are not interrupted.\\n\\nBSC initiates the procedure by sending a CHANNEL ACTivation message to\\nBTS where the activation type indicates \\\\\"reactivation\\\\\", the BTS shall\\nreactivate the channel with the new parameters. After having\\nsuccessfully reactivate the channel with the parameters supplied the BTS\\nresponds with a CHANNEL ACTivation ACKnowledge message to BSC.\\n\\n![](media/image16.png){width=\"3.6770833333333335in\"\\nheight=\"1.0833333333333333in\"}\\n\\nIf the TRX for some reason cannot reactivate the channel as requested in\\nthe CHANNEL ACTIVATION message, the TRX shall return a CHANNEL\\nACTivation Negative ACKnowledge message with the most appropriate cause\\nvalue.\\n\\n![](media/image17.png){width=\"3.6770833333333335in\" height=\"1.09375in\"}\\n\\n4.2 Channel MODE MODIFY\\n-----------------------\\n\\nThis procedure is used by BSC to request a change of the channel mode\\nand/or a change between uni‑directional and bi-directional channel types\\nof an active channel. In addition, for secondary channels in a multislot\\nconfiguration, the procedure can be used by BSC to request a change in\\nthe encryption information of an active channel.\\n\\nBSC initiates the procedure by sending a MODE MODIFY message to BTS. The\\nmessage contains the new mode to be used. After having changed to the\\nnew mode, BTS responds with a MODE MODIFY ACKnowledge message to BSC.\\n\\n![](media/image18.png){width=\"3.6770833333333335in\"\\nheight=\"1.1041666666666667in\"}\\n\\nIf the TRX for some reason cannot modify the channel as requested in the\\nMODE MODIFY message, the TRX shall return a MODE MODIFY Negative\\nACKnowledge message with the most appropriate cause value.\\n\\n![](media/image19.png){width=\"3.6979166666666665in\"\\nheight=\"1.1041666666666667in\"}\\n\\n4.3 Handover detection\\n----------------------\\n\\nThis procedure is used between the target BTS and BSC when a handed over\\nMS accesses the new BTS.\\n\\nThe procedure is initiated by BTS upon detection of an MS on a channel\\nactivated for handover as described in sub-clause 4.1.3 for the\\nasynchronous handover and in sub-clause 4.1.4 for synchronous handover.\\n\\nIn case of an asynchronous handover, BTS builds the PHYsical INFOrmation\\nmessage as specified in 3GPP\\xa0TS\\xa044.018, sends the message to MS in\\nunacknowledged mode on the main signalling link and starts timer T3105.\\nA HANDOver DETection message is sent to BSC. This message contains the\\nmeasured delay of the access burst. If the timer expires before the\\nreception of a correctly decoded frame from MS, BTS repeats the PHYSical\\nINFOrmation message to MS as specified in 3GPP\\xa0TS\\xa044.018. If the\\nPHYsical INFOrmation message has been repeated Ny1 times without a\\ncorrectly decoded frame being received from MS, the BTS shall send a\\nCONNECTION FAILURE message to BSC with the cause value \\\\\"handover access\\nfailure\\\\\".\\n\\nIn case of a synchronous handover, BTS only sends a HANDOver DETection\\nmessage to BSC (no PHYsical INFOrmation message sent to MS). If the\\nhandover detection is based on the detection of an handover access burst\\nwith the correct handover reference, see sub-clause 4.1.4, the measured\\ndelay of the access burst is included in the HANDOver DETection message.\\n\\n![](media/image20.png){width=\"3.71875in\" height=\"0.8854166666666666in\"}\\n\\n4.4 Start of encryption\\n-----------------------\\n\\nThis procedure is used to start encryption according to the procedure\\ndefined in 3GPP\\xa0TS\\xa044.018.\\n\\nThe procedure is initiated by BSC upon reception of the CIPHER MODE\\nCOMMAND message from MSC (see 3GPP\\xa0TS\\xa048.008).\\n\\nBSC sends the ENCRyption CoMmanD message to the relevant TRX and\\nchannel. In case of a Multislot configuration the message is sent only\\nto the TCH used as a main channel (defined in 3GPP\\xa0TS\\xa045.002). The\\nmessage contains all information required to select and load the user\\ndata and encryption device with the appropriate key and also the\\ncomplete Ciphering Mode Command message to be sent to MS.\\n\\nAfter receipt of this message, TRX sends the CIPHering MODe CoMmanD\\nmessage to MS in unciphered form and starts deciphering as described in\\n3GPP\\xa0TS\\xa044.018 and 3GPP\\xa0TS\\xa043.020. The start of deciphering and the\\nsending of the Ciphering Mode Command message to MS must be done\\nsimultaneously.\\n\\nWhen receiving the CIPHering MODe CoMmanD, MS starts both deciphering\\nand enciphering and sends the CIPHering MODe COMplete message.\\n\\nTRX starts enciphering upon reception of any correct layer 2 frame which\\nis received after start of deciphering.\\n\\n![](media/image21.png){width=\"3.6770833333333335in\"\\nheight=\"1.6979166666666667in\"}\\n\\nIf the TRX for some reason can not perform the enciphering as requested\\nin the ENCRYPTION COMMAND, the TRX shall return an ERROR REPORT message,\\ne.g., with the cause \\\\\"Encryption algorithm not implemented\\\\\".\\n\\n![](media/image22.png){width=\"3.6979166666666665in\"\\nheight=\"0.9895833333333334in\"}\\n\\n4.5 Measurement reporting\\n-------------------------\\n\\nThese procedures are used to report to BSC all parameters and\\nmeasurement results required by BSC for handover requirement\\ndetermination. One procedure is also used to report to the BSC extended\\nmeasurements made by Mobile Stations.\\n\\nMS measures downlink received signal level and quality from the serving\\ncell and received signal level from surrounding cells as defined in\\n3GPP\\xa0TS\\xa045.005 and 3GPP\\xa0TS\\xa045.008. The measurement results are reported\\nin Measurement Report messages sent in every SACCH block (every 480 ms)\\nor, in case SACCH is used also for other signalling, in at least every\\nsecond SACCH block (every 960 ms).\\n\\nIn addition, the MS which implements ECSD options shall use fast inband\\nprocedure for downlink quality reporting if the use of such procedure\\nhas been ordered by the BSC.\\n\\nIn addition, an MS on a channel in enhanced power control (EPC) mode\\nshall measure the quality on the downlink and send EPC Downlink Quality\\nReports in each EPCCH block (every 120 ms) as defined in 3GPP\\xa0TS\\xa045.008,\\nif so ordered by the BSC (see 3GPP\\xa0TS\\xa044.018).\\n\\nThe TRX measures the received signal level and the quality on the uplink\\nof the current channel. The averaging period is one SACCH block period\\n(same as the basic period for MS).\\n\\nIn addition, a TRX that supports EPC shall measure the quality on the\\nuplink for each channel in EPC mode. The averaging period is one EPC\\nreporting period (see 3GPP\\xa0TS\\xa045.008).\\n\\nThese measurements made by MS and TRX form the basic raw data for the\\nhandover algorithms in BSC/MSC. The support of forwarding this raw data\\nover the A-bis interface is mandatory for both BTS and BSC. The\\nprocedure to be used for this basic measurement reporting is defined in\\nsub-clause 4.5.1.\\n\\nIn addition, the BTS and BSC may optionally support some pre-processing\\nin BTS of these basic measurements. The additional and optional\\nprocedures required to support this pre-processing are defined in\\nsub-clause 4.5.2.\\n\\nExtended measurements made by MS shall be forwarded to the BSC, using\\nthe same procedure as for \\'normal\\' measurements. This case is described\\nin sub-clause 4.5.3.\\n\\n### 4.5.1 Basic measurement reporting\\n\\nThis procedure is used by BTS to report the results of the basic radio\\nmeasurements made by MS and TRX according to 3GPP\\xa0TS\\xa045.008 and\\n3GPP\\xa0TS\\xa045.005. The support of this procedure is mandatory in all BTS:s\\nand all BSC:s. It is the default procedure to use unless otherwise\\nindicated (see sub-clause 4.5.2.1).\\n\\nTRX reports all these measurements in MEASurement RESult messages to\\nBSC. The sending of the MEASurement RESult messages is synchronized with\\nthe reception of SACCH blocks from MS.\\n\\nIf an uplink SACCH block does not contain a MEASurement REPort or an\\nEXTended MEASurement REPort (see sub-clause 4.5.3) from MS (e.g. when it\\nsends a short message), only the uplink measurement results are included\\nwith an indication that the MS measurements are missing.\\n\\n![](media/image23.png){width=\"3.71875in\" height=\"3.2395833333333335in\"}\\n\\n### 4.5.2 Measurement pre-processing\\n\\nThese additional and optional procedures are included to support some\\npre-processing in BTS of radio measurement data. When used, they may\\nreplace the basic procedure defined in sub-clause 4.5.1. However, it\\nshall be possible to change back to the basic procedure.\\n\\nPre-processing in BTS must not affect the procedures on the A interface\\n(e.g. the Handover Candidate Enquiry procedure).\\n\\n#### 4.5.2.1 Pre-processing configuration\\n\\nThis procedure is used by BSC to modify the pre-processing parameters\\naccording to reported communication conditions (e.g. degradation of the\\ncommunication).\\n\\nIn order to change the parameters, BSC sends a PREPROCESS CONFIGURE\\nmessage to BTS.\\n\\nA parameter setting in the PREPROCESS CONFIGURE message indicates if the\\nbasic procedure defined in sub-clause 4.5.1 or pre-processing is to be\\nused.\\n\\n![](media/image24.png){width=\"2.03125in\" height=\"0.6145833333333334in\"}\\n\\n#### 4.5.2.2 Pre-processed measurement reporting\\n\\nThis procedure is used by BTS to report the results of measurement pre‑\\nprocessing.\\n\\nTo report the results, BTS sends a PREPROCESSED MEASUREMENT RESULT\\nmessage to BSC.\\n\\nThe conditions to send the message are set in the PREPROCESS CONFIGURE\\nmessage.\\n\\n![](media/image25.png){width=\"3.6979166666666665in\"\\nheight=\"3.6145833333333335in\"}\\n\\n### 4.5.3 Extended measurement reporting\\n\\nThis procedure is used by BTS to report the results of the extended\\nmeasurements made by MS according to 3GPP\\xa0TS\\xa045.008.\\n\\nIf an uplink SACCH block contains an EXTended MEASurement REPort from\\nMS, it shall be forwarded to the BSC using the same procedure as when\\nreporting regular measurement reports from an MS. Though, no measurement\\npre-processing is possible.\\n\\n![](media/image26.png){width=\"3.7083333333333335in\"\\nheight=\"3.2395833333333335in\"}\\n\\n4.6 Deactivate SACCH\\n--------------------\\n\\nThis procedure is used by BSC to deactivate the SACCH at BTS according\\nto the Channel Release procedure defined in 3GPP\\xa0TS\\xa044.018.\\n\\nWhen sending the Channel Release message to MS, BSC also sends the\\nDEACTIVATE SACCH message to BTS to deactivate the SACCH (see\\n3GPP\\xa0TS\\xa044.018, Channel Release procedure).\\n\\n![](media/image27.png){width=\"3.71875in\" height=\"0.875in\"}\\n\\n4.7 Radio channel release\\n-------------------------\\n\\nThis procedure is used by BSC to release a radio channel which is no\\nlonger needed.\\n\\nWhen an activated radio channel is no longer needed, BSC sends an RF\\nCHANnel RELease message to the relevant TRX and channel. After having\\nreleased the addressed resources, the BTS sends a RF CHANnel RELease\\nACKnowledge to BSC.\\n\\n![](media/image28.png){width=\"3.71875in\" height=\"1.0in\"}\\n\\n4.8 MS power control\\n--------------------\\n\\nThis procedure is used by BSC to set the MS power level or the\\nparameters required by TRX for the control of MS power.\\n\\nThe initial parameters are set by BSC in the CHANNEL ACTIVATION message\\n(see Channel Activation procedure). If these parameters are to be\\nchanged for an active channel, BSC sends a MS POWER CONTROL message to\\nTRX.\\n\\nThe support of the power control and the enhanced power control\\nperformed by BTS is optional.\\n\\nIf power control is supported by BTS and it is to be used, this is\\nindicated by optional parameters in the MS POWER CONTROL message (or the\\nCHANNEL ACTIVATION message). Based on the measurements performed on the\\nuplink, TRX then attempts to keep the power control parameters within\\nthe limits set by the MS POWER CONTROL message (or by the CHANNEL\\nACTIVATION message) by changing the MS Power Level field of the L1\\nheader sent to MS in each SACCH block. MS confirms the power in the\\nuplink L1 header.\\n\\nWhen the BTS supports MS power control the BSC can modify the MS power\\nparameters during the connection (e.g. because of a classmark change) by\\nsending a MS POWER CONTROL message containing the new parameters.\\n\\nThe MS POWER CONTROL and the CHANNEL ACTIVATION message must also\\ncontain a maximum power permitted for the MS.\\n\\nIn addition, the BTS which implements ECSD option shall use fast inband\\nprocedure for fast power control if the use of such procedure has been\\nordered by the BSC.\\n\\nA BTS that supports enhanced power control (EPC) shall use EPC\\nprocedures for MS (uplink) power control (see 3GPP\\xa0TS\\xa045.008) if so\\nordered by the BSC in the MS POWER CONTROL message (or CHANNEL\\nACTIVATION message). Based on the measurements performed on the uplink,\\nTRX then attempts to keep the power control parameters within the limits\\nset by the MS POWER CONTROL message (or by the CHANNEL ACTIVATION\\nmessage) by sending EPC Uplink Power Control Commands to the MS in each\\nEPCCH block. MS confirms the power in the uplink L1 header on the SACCH.\\n\\n![](media/image29.png){width=\"3.4479166666666665in\" height=\"1.25in\"}\\n\\n4.9 Transmission power control\\n------------------------------\\n\\nThis is an optional procedure which is used between BSC and BTS to set\\nthe TRX transmission power level or the parameters required by TRX for\\nthe control of TRX transmission power.\\n\\nThe initial parameters are set by BSC in the CHANNEL ACTIVATION message\\n(see Channel Activation procedure). If these parameters are to be\\nchanged for an active channel, BSC sends a BS POWER CONTROL message to\\nTRX.\\n\\nThe support of the power control, the fast power control and the\\nenhanced power control performed by BTS are optional.\\n\\nIf power control is supported by BTS and it is to be used, this is\\nindicated by optional parameters in the BS POWER CONTROL message (or the\\nCHANNEL ACTIVATION message). Based on the Measurement Report messages\\nsent by MS, the TRX will then attempt to keep the power control\\nparameters within the limits set in the BS POWER CONTROL message (or by\\nthe CHANNEL ACTIVATION message) by changing the transmitted power on\\nthat channel.\\n\\nIf fast power control mechanism is supported by BTS and is to be used,\\nthis is indicated by optional paramters in the BS POWER CONTROL message\\n(or by the CHANNEL ACTIVATION message). Based on the Fast Measurement\\nReport messages sent by MS, the TRX will then attempt to keep the power\\ncontrol parameters within the limits set in the BS POWER CONTROL message\\n(or by the CHANNEL ACTIVATION message) by changing the transmitted power\\non that channel.\\n\\nA BTS that supports enhanced power control (EPC) shall use EPC\\nprocedures for BS (downlink) power control (see 3GPP\\xa0TS\\xa045.008) if so\\nordered by the BSC in the BS POWER CONTROL message (or CHANNEL\\nACTIVATION message). Based on the EPC Downlink Quality Reports sent by\\nthe MS, the TRX shall then attempt to keep the power control parameters\\nwithin the limits set in the BS POWER CONTROL message (or by the CHANNEL\\nACTIVATION message) by changing the transmitted power on that channel.\\n\\nNOTE: The EPC mode field is only valid in the channel activation\\nmessage.\\n\\nThe maximum power of the TRX is determined from network planning\\ncriteria. However, BSC may indicate a lower maximum power in the BS\\nPOWER CONTROL message (or the CHANNEL ACTIVATION message).\\n\\n![](media/image30.png){width=\"2.0625in\" height=\"0.78125in\"}\\n\\n4.10 Connection failure\\n-----------------------\\n\\nThis procedure is used by BTS to indicate to BSC that an active\\nconnection has been broken (e.g. due to a radio link failure as defined\\nin 3GPP\\xa0TS\\xa045.008).\\n\\nWhen BTS detects that a connection has been broken, BTS sends a\\nCONNection FAILure INDication message to BSC with the most proper cause\\nvalue. Further actions are defined in 3GPP\\xa0TS\\xa044.018.\\n\\nSome possible cause values are:\\n\\n\\\\- radio link failure (as defined in 3GPP\\xa0TS\\xa045.008);\\n\\n\\\\- hardware failure (e.g. transcoder failure);\\n\\n\\\\- etc.\\n\\n![](media/image31.png){width=\"2.0625in\" height=\"0.7291666666666666in\"}\\n\\n4.11 Physical context request\\n-----------------------------\\n\\nThis is an optional procedure which allows the BSC to obtain information\\non the \\\\\"physical context\\\\\" of a radio channel just prior to a channel\\nchange. This information may be forwarded to the new TRX (possibly in\\nanother collocated cell).\\n\\nThe procedure is initiated by BSC sending a PHYsical CONTEXT REQuest\\nmessage to TRX. TRX responds with a PHYsical CONTEXT CONFirm message\\nwhich contains information on the \\\\\"physical context\\\\\" of the channel.\\n\\n![](media/image32.png){width=\"2.03125in\" height=\"1.0in\"}\\n\\n4.12 SACCH information modify\\n-----------------------------\\n\\nThis procedure is used by the BSC to modify the SACCH filling\\ninformation (System Information) sent on an individual SACCH channel.\\nFor this purpose, the BSC sends a SACCH INFO MODIFY message to the BTS.\\nThe SACCH filling information as given in the SACCH INFO MODIFY message\\nshall be used on the indicated channel until the channel is released or\\nthe information is changed by another SACCH INFO MODIFY message.\\n\\n![](media/image33.png){width=\"2.03125in\" height=\"0.75in\"}\\n\\n4.13 Talker detection\\n---------------------\\n\\nThe procedure is used by the BTS during the period the channel is\\nactivated for a voice group call. Upon detection of an MS on a channel\\nactivated for group call as specified in sub-clause 4.1, the BTS builds\\nthe VGCS UPLINK GRANT message as specified in 3GPP\\xa0TS\\xa044.018, sends the\\nmessage to the MS in unacknowledged mode on the main signalling link and\\nstarts timer T3115. A TALKER DETection message is sent to the BSC. This\\nmessage contains the measured delay of the access burst. If the timer\\nexpires before the reception of a correctly decoded frame from the MS,\\nthe BTS repeats the VGCS UPLINK GRANT message to the MS as specified in\\n3GPP\\xa0TS\\xa044.018. If the VGCS UPLINK GRANT message has been repeated Ny2\\ntimes without a correctly decoded frame being received from the MS, the\\nBTS shall send a CONNECTION FAILURE INDICATION message to the BSC with\\ncause value \\\\\"talker access failure\\\\\".\\n\\n![](media/image34.png){width=\"3.96875in\" height=\"0.875in\"}\\n\\n4.14 Listener detection\\n-----------------------\\n\\nThe procedure is used by the BTS during the period the channel is\\nactivated for a voice group call. Upon detection of an uplink access\\nhaving the value reserved for replying to an uplink access request as\\nspecified in sub-clause 4.1. The BTS builds the LISTENER DETection\\nmessage and sends the message to the BSC. This message contains the\\nmeasured delay of the access burst.\\n\\n![](media/image35.png){width=\"3.9375in\" height=\"0.8645833333333334in\"}\\n\\n4.15 Remote Codec Configuration\\n-------------------------------\\n\\nThis procedure is used by the BTS to report to the BSC the codec\\ninformation received from the remote BSS prior to a MultiRate Codec TFO\\nestablishment or within TFO. This information can be used by the BSC to\\nsolve potential codec type and codec mode mismatches.\\n\\n![](media/image36.png){width=\"2.0729166666666665in\"\\nheight=\"0.7708333333333334in\"}\\n\\n4.16 Round Trip Delay Report\\n----------------------------\\n\\nThis procedure is used by the BTS to report to the BSC the BTS to\\nTranscoder or BTS to Remote BTS round trip transmission delay. This\\ninformation can be used by the BSC to set the correct timing for a\\npre-handover warning and to optimise the AMR Configuration and/or\\nAdaptation algorithm.\\n\\n![](media/image37.png){width=\"2.03125in\" height=\"0.78125in\"}\\n\\n4.17 Pre-handover Warning\\n-------------------------\\n\\nThis procedure is used by the BSC to notify the serving BTS that a\\nhandover is going to be performed and allow the serving BTS to take the\\nnecessary steps in preparation of the handover (adaptation freezing for\\nMultiRate Codec, TFO discontinuation,....). The Pre-handover Warning may\\ndisable (withdraw the \"general authorisation\" of ) the RATSCCH mechanism\\nbetween BTS and MS for a while or permanently to ensure consistent\\nconfigurations in BSC, BTSs and MS during and after handover. The BSC\\nshall provide to the BTS the codec configuration parameters after\\nHandover.\\n\\nIn case the announced handover has failed, the BSC sends the\\nPre-handover Notification again to the serving BTS, this time with the\\ncodec configuration parameters as before the handover attempt in order\\nto re-establish the BTS operation (adaptation enable for MultiRate\\nCodec, TFO enable, RATSCCH authorisation, ...).\\n\\n![](media/image38.png){width=\"2.03125in\" height=\"0.7291666666666666in\"}\\n\\n4.18 MultiRate Codec Configuration Change\\n-----------------------------------------\\n\\nThis procedure is used by the BSC to authorise the BTS to change the\\nMultiRate Codec Configuration to solve a codec mismatch prior to TFO\\nestablishment or within TFO. The BTS shall use the RATSCCH inband\\nsignalling with the MS as defined by Rec 3GPP\\xa0TS\\xa045.009.\\n\\nOnce the MultiRate Codec Configuration has been changed, the BTS shall\\nsend a MultiRate CODEC MOD ACK to the BSC to acknowledge the execution\\nof the codec change. The MultiRate CODEC MOD ACK contains the final\\nMultiRate Codec configuration.\\n\\n![](media/image39.png){width=\"4.875in\" height=\"1.3854166666666667in\"}\\n\\nIf for any reason, the BTS is not able to complete the MultiRate Codec\\nConfiguration change, it should send a MultiRate CODEC MOD Negative ACK\\nwith the most appropriate cause.\\n\\n![](media/image40.png){width=\"4.895833333333333in\"\\nheight=\"1.3854166666666667in\"}\\n\\nPossible causes are:\\n\\n\\\\- tbd\\n\\nThis procedure is also used by the BTS to indicate to the BSC the\\noptimal codec configuration for TFO, in the case where the TC or the BTS\\nruns the TFO algorithm, and the BSC is responsible for changing the\\ncodec configuration. The BSC does not acknowledge this message.\\n\\n4.19 MultiRate Codec Configuration Change Performed\\n---------------------------------------------------\\n\\nThis procedure is used by the BTS to report to the BSC that a MultiRate\\nCodec Modification was performed using the RATSCCH in-band signalling\\ncapability. The BTS shall report the MultiRate codec configuration after\\nthe completion of the procedure.\\n\\n![](media/image42.png){width=\"2.5625in\" height=\"0.78125in\"}\\n\\n4.20 TFO Report\\n---------------\\n\\nThis procedure is used by the BTS to report to the BSC that TFO (based\\non AMR) is established, or is not in operation anymore.\\n\\n![](media/image43.png){width=\"2.5625in\" height=\"0.7604166666666666in\"}\\n\\n4.21 TFO Modification Request\\n-----------------------------\\n\\nThis procedure is used by the BSC to change the TFO configuration while\\noperating with AMR: enabling or disabling TFO.\\n\\nThis procedure shall be used only during an established call. At call\\nsetup, Channel Activation procedure shall be used. During an in-call\\nmodification from data to speech, Mode Modify procedure shall be used.\\n\\n![](media/image44.png){width=\"2.5833333333333335in\"\\nheight=\"0.7291666666666666in\"}\\n\\n5 Common channel management procedures\\n======================================\\n\\n5.1 Channel request by MS\\n-------------------------\\n\\nThe procedure is initiated by TRX upon detection of a random access from\\nan MS (CHANnel REQuest message from MS). TRX then sends a CHANnel\\nReQuireD message to BSC containing the Request Reference parameter\\n(random number selected by MS plus some low order bits of the TDMA frame\\nnumber for the access) and the measured delay of the Access Burst.\\n\\n![](media/image45.png){width=\"3.6666666666666665in\" height=\"0.875in\"}\\n\\n5.2 Paging\\n----------\\n\\nThis procedure is used to request the paging of one mobile station on a\\ngiven paging subchannel.\\n\\nThe paging of an MS is initiated by BSC sending a PAGing CoMmanD message\\nto BTS. The message contains the MS identity (TMSI or IMSI), the paging\\npopulation number of the MS, optionally an indication for the MS about\\nwhich combination of channels will be needed for the subsequent\\ntransaction related to the paging and optionally an indication of the\\neMLPP priority of the call.\\n\\nThe PAGing REQuest messages to be sent on the radio path are built and\\nsent by BTS.\\n\\nThe use by BTS of the \\\\\"extended paging\\\\\" facilities and the general\\ndownlink scheduling of the downlink CCCH is operator dependant and is\\nnot specified in this GTS. This process may also be influenced by O&M\\nprocedures.\\n\\n![](media/image46.png){width=\"4.5in\" height=\"1.34375in\"}\\n\\n5.3 Delete indication\\n---------------------\\n\\nThis procedure is used by BTS to indicate that due to overload on the\\ndownlink CCCH, an IMMEDIATE ASSIGN COMMAND has been deleted.\\n\\nFor that purpose BTS sends a DELETE INDication message to BSC.\\n\\n![](media/image47.png){width=\"2.1041666666666665in\"\\nheight=\"0.7083333333333334in\"}\\n\\n5.4 CCCH load indication\\n------------------------\\n\\nThis procedure is used by a BTS to inform the BSC of the load on a\\nparticular CCCH timeslot.\\n\\nThe CCCH LOAD INDication message is sent regularly from BTS to BSC if\\nthe load exceeds some value set by O&M. The sending rate is also set by\\nO&M.\\n\\n![](media/image48.png){width=\"3.15625in\" height=\"1.40625in\"}\\n\\n5.5 Broadcast information modify\\n--------------------------------\\n\\nThis procedure is used by BSC to indicate to BTS the new information to\\nbe broadcast on BCCH.\\n\\nFor that purpose, BSC sends a BCCH INFOrmation message to BTS.\\n\\n![](media/image49.png){width=\"3.71875in\" height=\"0.7083333333333334in\"}\\n\\n5.6 Short Message Cell Broadcast\\n--------------------------------\\n\\nShort Message Service Cell Broadcast messages are sent to BTS as SMS\\nBROADCAST REQUEST or SMS BROADCAST COMMAND messages.\\n\\nWith the SMS BROADCAST REQUEST mode of operation, the BSC handles the\\nqueuing, repetition and transmission of the messages taking the capacity\\nof the CBCHs (basic and extended channel (see 3GPP\\xa0TS\\xa045.002)) into\\naccount. The BSC is also responsible for the segmentation of the SMS\\nCell Broadcast messages on the Radio interface:\\n\\n![](media/image50.png){width=\"3.71875in\" height=\"0.7395833333333334in\"}\\n\\nWith the SMS BROADCAST COMMAND mode of operation, the BSC can request\\nthe broadcast of a complete Cell Broadcast message. The BSC handles the\\nqueuing, repetition and transmission of the messages taking the capacity\\nof the CBCHs (basic and extended channel\\xa0\\\\[see 3GPP\\xa0TS\\xa045.002\\\\]) into\\naccount. The BSC is responsible for the segmentation of the SMS Cell\\nBroadcast messages on the Radio interface:\\n\\n![](media/image51.png){width=\"3.71875in\" height=\"1.6354166666666667in\"}\\n\\nWith the SMS BROADCAST COMMAND mode of operation, the BSC can also set\\nthe BTS broadcast default mode. The BTS is then responsible for\\ntransmission of a default message when no other message is to be\\nbroadcast.\\n\\n![](media/image52.png){width=\"3.9479166666666665in\" height=\"2.0in\"}\\n\\nEven though BSC handles the transmission of messages taking the capacity\\nof CBCH into account, BTS can indicate to BSC if an overflow or\\nunderflow situation is about to happen in the CBCH. With the CBCH LOAD\\nINDICATION mode of operation, the BTS can request immediate broadcast of\\nm (=amount indicated in the CBCH Load Information element) scheduled\\nSMSCB messages in the underflow situation. BSC shall transmit m\\nscheduled messages and after that continue the broadcast of messages\\naccording to its own timetable. If BTS requests more messages than BSC\\nis possessing, then BSC shall transmit only the amount it is possessing.\\nCBCH LOAD INDICATION mode of operation could only be applied when DRX\\nmode is used (see 3GPP\\xa0TS\\xa044.012).\\n\\n![](media/image53.png){width=\"4.427083333333333in\" height=\"4.8125in\"}\\n\\nWith the CBCH LOAD INDICATION mode of operation, the BTS can also\\nrequest immediate stop of broadcast for a period of m (=amount indicated\\nin the CBCH Load Information element) message slots in the overflow\\nsituation. BSC shall stop the broadcast for a period of m message slots\\nand after that continue the broadcast of messages according to its own\\ntimetable.\\n\\n![](media/image54.png){width=\"4.4375in\" height=\"5.010416666666667in\"}\\n\\n5.7 IMMEDIATE ASSIGNMENT\\n------------------------\\n\\nThis procedure is used by BSC to request the transmission of an\\nimmediate assign message on downlink CCCH. To initiate the immediate\\nassign, the BSC sends an IMMEDIATE ASSIGN COMMAND message. The message\\ncontains the complete immediate assign message as defined in\\n3GPP\\xa0TS\\xa044.018 (IMMEDIATE ASSIGNMENT or IMMEDIATE ASSIGNMENT EXTENDED or\\nIMMEDIATE ASSIGNMENT REJECT) with the \\\\\"Page Mode\\\\\" element set to the\\nvalue \\\\\"no change\\\\\". Upon receipt of the message, the BTS may transmit\\nthe immediate assignment message as received or combine several to\\nconstruct the IMMEDIATE ASSIGNMENT EXTENDED or IMMEDIATE ASSIGNMENT\\nREJECT. The BTS may also update the \\\\\"Page Mode\\\\\" element before\\ntransmission.\\n\\nThe IMMEDIATE ASSIGNMENT EXTENDED message is either sent by the BSC in\\nthe IMMEDIATE ASSIGN COMMAND, or built by the BTS from up to two\\nIMMEDIATE ASSIGN COMMAND messages.\\n\\nThe IMMEDIATE ASSIGNMENT REJECT message is either sent by the BTS as\\nreceived in the IMMEDIATE ASSIGN COMMAND message or built by the BTS\\nfrom the contents of two or more IMMEDIATE ASSIGN COMMAND messages. For\\nthe latter case the BTS may consider request references with identical\\ncontents within the same message as duplicates and all but one may be\\nsuppressed.\\n\\n![](media/image55.png){width=\"3.6770833333333335in\" height=\"0.84375in\"}\\n\\n5.8 Notification\\n----------------\\n\\nThis procedure is used to request that notification be performed by the\\nBTS. The BSC indicates the exact action required by the BTS in the\\ncommand indicator.\\n\\nThe NOTIFication messages to be sent on the radio path are built and\\nsent by BTS.\\n\\nThe BSC manages the NCH DRX information whilst the BTS manages the\\nscheduling of the messages on the NCH.\\n\\n![](media/image56.png){width=\"4.645833333333333in\" height=\"1.3125in\"}\\n\\nIf the BTS for some reason can not perform the notification commanded by\\nthe BSC, then the BTS shall return an ERROR REPORT message with the\\nrelevant cause value.\\n\\n![](media/image57.png){width=\"3.7708333333333335in\"\\nheight=\"0.9895833333333334in\"}\\n\\n6 TRX management procedures\\n===========================\\n\\n6.1 Radio resource indication\\n-----------------------------\\n\\nThis procedure is used to inform BSC on the interference levels on idle\\nchannels of a TRX.\\n\\nIn the RF RESource INDication message, TRX reports the interference\\nlevel for each of the channels which have been idle (not active) for the\\nwhole measurement period. See also 3GPP\\xa0TS\\xa048.008 and 3GPP\\xa0TS\\xa045.008.\\n\\nThe RF RESource INDication message is sent regularly with a rate set by\\nO&M.\\n\\n![](media/image58.png){width=\"2.8229166666666665in\"\\nheight=\"1.7083333333333333in\"}\\n\\n6.2 SACCH filling information modify\\n------------------------------------\\n\\nThis procedure is used by BSC to indicate to BTS the new information to\\nbe used as filling information on SACCHs.\\n\\nFor that propose BSC sends a SACCH FILLing message to BTS.\\n\\n![](media/image59.png){width=\"2.8229166666666665in\"\\nheight=\"0.7604166666666666in\"}\\n\\n6.3 Flow control\\n----------------\\n\\nThis procedure is defined to give some degree of flow control. It can be\\nused for TRX processor overload, downlink CCCH overload and ACCH\\noverload.\\n\\nThe algorithm used in BSC to control the traffic flow is as follows:\\n\\nUpon receipt of the first OVERLOAD message, BSC reduces the traffic by\\none step and starts timers T1 and T2. During T1 all OVERLOAD messages\\nare ignored in order not to reduce the traffic too rapidly. Reception of\\nan OVERLOAD message after T1 but still during T2 will decrease the\\ntraffic by one more step and timers T1 and T2 are restarted. This step\\nby step reduction of traffic is continued until maximum reduction is\\nobtained.\\n\\nIf T2 expires (i.e. no OVERLOAD message was received during T2), the\\ntraffic will be increased by one step and T2 restarted. This step by\\nstep increase of traffic will be continued until full load has been\\nresumed.\\n\\nThe number of steps and the method of reducing the load is considered to\\nbe implementation dependent. For example, the amount of random accesses\\nand thereby access grants can be reduced by use of the RACH Control\\nparameters (e.g. Access Control Class or Cell Barred) or the Cell\\nSelection parameters (e.g. CELL-RESELECT-HYSTERESIS or RXLEV‑\\nACCESS-MIN) in the system information messages of 3GPP\\xa0TS\\xa044.018.\\n\\n![](media/image60.png){width=\"4.5in\" height=\"2.9791666666666665in\"}\\n\\n6.4 Error reporting\\n-------------------\\n\\nThis procedure is used by BTS to report detected errors as described in\\nclause 7 below if they cannot be reported by any other procedure.\\n\\nWhen TRX detects the reception of an erroneous message, it sends an\\nERROR REPORT message to BSC with the most appropriate cause value. In\\norder to identify the erroneous message, the Message Type, the Channel\\nNumber, the Link Identifier and/or the complete erroneous message can be\\nincluded.\\n\\n![](media/image61.png){width=\"2.03125in\" height=\"0.7395833333333334in\"}\\n\\n6a Location services procedures\\n===============================\\n\\nThese procedures are related to Location Services (LCS).\\n\\n6a.1 LLP message transport\\n--------------------------\\n\\nThis procedure is used to convey LLP messages between the BTS-or\\nStandalone Type B LMU and the BSC, as defined in the Location Services\\n(LCS) Stage 2 document 3GPP\\xa0TS\\xa023.071.\\n\\nThe sending entity (BSC, Standalone Type B LMU or BTS) sends a Location\\nInformation message containing an embedded LLP message to the receiving\\nentity (BSC, Standalone Type B LMU or BTS).\\n\\n![](media/image62.png){width=\"3.78125in\" height=\"1.3333333333333333in\"}\\n\\n7 Error handling\\n================\\n\\n7.1 General\\n-----------\\n\\nThe procedures specified above apply to those messages which pass the\\nchecks described below.\\n\\nThe behaviour of BSC in erroneous cases is implementation dependent.\\n\\nThe behaviour of BTS in erroneous cases is to ignore the message and to\\nsend a report to BSC. The report can be sent in either of the following\\nmessages:\\n\\n\\\\- CHANNEL ACTIVATION NACK in connection with channel activations;\\n\\n\\\\- MODE MODIFY NACK in connection with a channel mode change;\\n\\n\\\\- ERROR REPORT in other cases.\\n\\nFor procedures controlled by the BSC, and in particular procedures where\\nthe BSC sends a request for resources at the BTS and waits for an\\nacknowledge, the implementation in the BSC must provide means for\\navoiding deadlock situations at the BTS as e.g. hanging resources.\\n\\n7.2 Message discriminator error\\n-------------------------------\\n\\nA message with a non-specified message discriminator is erroneous.\\n\\n7.3 Message type error\\n----------------------\\n\\nA message with a non-specified message type is considered correct, but\\nis ignored by BTS.\\n\\n7.4 Message sequence error\\n--------------------------\\n\\nA message with an existing message type which is not possible according\\nto the specification and to the state of the BTS is erroneous.\\n\\n7.5 General information element errors\\n--------------------------------------\\n\\nThis category includes:\\n\\n\\\\- Information element out of sequence;\\n\\n\\\\- Abnormally duplicated element;\\n\\n\\\\- Missing element.\\n\\nA message with such an error is erroneous.\\n\\n7.6 Mandatory information element errors\\n----------------------------------------\\n\\nThis includes:\\n\\na\\\\) Non-existing element type.\\n\\nb\\\\) Information length error.\\n\\nc\\\\) Content which does not comply with the specification (value reserved\\nfor future use is considered as case d)).\\n\\nd\\\\) Value indicated as reserved for future use.\\n\\ne\\\\) Bits reserved for future use not set to 0.\\n\\nf\\\\) Content complying with specification but incompatible with the\\nstate.\\n\\ng\\\\) Content complying with the specification but inconsistent.\\n\\nAll cases except e) are considered erroneous.\\n\\nIn case e), BTS simply ignores the reserved (RFU) bits.\\n\\n7.7 Optional information element errors\\n---------------------------------------\\n\\nThe same categories of errors as in previous sub-clause apply.\\n\\nIn cases other than b), e), f) and g), BTS ignores the element and\\nprocesses the rest of the message.\\n\\nCases b), f) and g) are considered erroneous.\\n\\nIn case e), BTS ignores the reserved (RFU) bits.\\n\\n7.8 Conditional information element errors\\n------------------------------------------\\n\\nThe same categories of errors as in sub-clause 7.6 apply.\\n\\nIf the conditions for presence of the element are met, the same\\nerroneous cases as in sub-clause 7.6 apply.\\n\\nIf the conditions for presence of the element are not met, the same\\nerroneous cases as in sub-clause 7.7 apply.\\n\\n8 Message formats and contents\\n==============================\\n\\n8.0 General\\n-----------\\n\\nThis sub-clause defines the format and contents of the messages sent\\nover the A-bis interface. Similar coding principles as in 3GPP\\xa0TS\\xa024.008\\nand 3GPP\\xa0TS\\xa048.008 are used.\\n\\nFor each message, the contained Information Elements are listed. For\\neach Information Element, the following information is given:\\n\\n\\\\- Name of Information Element;\\n\\n\\\\- Reference sub-clause for the coding of the Information Element;\\n\\n\\\\- Presence condition for the Information Element;\\n\\nM Mandatory, must always be present;\\n\\n**receiver:** if not present, consider message erroneous;\\n\\nC Conditional, presence depending on e.g.\\n\\na\\\\) value of other element;\\n\\nb\\\\) presence of optional element;\\n\\n**receiver:** if not present when condition met, consider\\n\\n> message erroneous, else accept message;\\n\\nO Optional, **receiver:** present or not, accept message;\\n\\n\\\\- Format of Information Element:\\n\\nT Type only, fixed length, only Element Identifier;\\n\\nV Value only, fixed length, no Element Identifier included;\\n\\nTV Type and Value, fixed length, Element Identifier included;\\n\\nTLV Type, Length and Value, variable length, Element Identifier and\\nLength Indicator included;\\n\\n\\\\- Total length of Information Element; for variable length, lower and\\nupper limits.\\n\\nNOTE: Maximum message length is determined by the N201 parameter of\\n3GPP\\xa0TS\\xa048.056.\\n\\nIn a message, the message discriminator is transmitted first. The\\npurpose is to distinguish between transparent messages (T-bit set to 1)\\nand non-transparent messages (T-bit set to 0) and also between messages\\nrelated to Radio Link Layer Management, Dedicated Channel Management,\\nCommon Channel Management and TRX Management. The octets are sent in the\\norder shown in the description of the messages and information elements.\\n\\n8.1 Transparent messages\\n------------------------\\n\\nTransparent messages are used at the A-bis interface to convey layer 3\\nmessages for the radio interface as defined in 3GPP\\xa0TS\\xa044.018 and for\\nwhich BTS has to take or has taken no specific action. The T‑ bit of the\\nMessage Discriminator is set to 1.\\n\\nIn the uplink direction (messages from MS), all messages received in I‑\\nframes and all messages received in UI-frames except for the MEASurement\\nREPort message are considered as transparent. They are forwarded to BSC\\nas DATA INDication and UNIT DATA INDication messages respectively.\\n\\nIn the downlink direction (messages to MS) all messages as defined in\\n3GPP\\xa0TS\\xa044.018 are transparent except for the following messages, which\\nare replaced by BSC-BTS specific messages over the A‑ bis interface and\\nwhere BTS will send the corresponding L3 message over the radio\\ninterface after the necessary actions have been taken:\\n\\n  ---------------------------- ------------------------------------\\n  Message to MS                Replaced on A-bis interface by\\n  CIPHering MODe CoMmanD       ENCRyption CoMmanD\\n  PAGing REQuest               PAGing CoMmanD\\n  NOTIFication                 NOTIFication CoMmanD\\n  SYSTEM INFOrmation           BCCH INFOrmation and SACCH FILLing\\n  EXTENDED MEASUREMENT ORDER   SACCH FILLing\\n  Immediate assign (3 types)   IMMEDIATE ASSIGN COMMAND\\n  ---------------------------- ------------------------------------\\n\\nTransparent messages are sent by BSC as DATA REQuest or UNIT DATA\\nREQuest messages.\\n\\n8.2 Non-transparent messages (BSC-BTS specific messages)\\n--------------------------------------------------------\\n\\nThese messages are used over the A-bis interface for messages on which\\nBTS has to take some action (BSC to BTS direction) and for messages\\nwhich are the result from actions taken by BTS (BTS to BSC direction).\\nThe T-bit of the Message Discriminator is set to 0.\\n\\n8.3 Radio link layer management messages\\n----------------------------------------\\n\\nThese messages are related to Radio Link Layer Management procedures.\\nThey all have the following general format:\\n\\n  -------------------------------------------------- ----------- ---------- -------- --------\\n  INFORMATION ELEMENT                                REFERENCE   PRESENCE   FORMAT   LENGTH\\n  Message discriminator                              9.1         M          V        1\\n  Message type                                       9.2         M          V        1\\n  Channel number                                     9.3.1       M          TV       2\\n  Link Identifier                                    9.3.2       M          TV       2\\n  (Information elements depending on message type)                                   \\n  -------------------------------------------------- ----------- ---------- -------- --------\\n\\nThe messages concerned are the following:\\n\\n  ---------------------- ----------------------\\n  Message name           Reference sub-clause\\n  DATA REQuest           8.3.1\\n  DATA INDication        8.3.2\\n  ERROR INDication       8.3.3\\n  ESTablish REQuest      8.3.4\\n  ESTablish CONFirm      8.3.5\\n  ESTablish INDication   8.3.6\\n  RELease REQuest        8.3.7\\n  RELease CONFirm        8.3.8\\n  RELease INDication     8.3.9\\n  UNIT DATA REQuest      8.3.10\\n  UNIT DATA INDication   8.3.11\\n  ---------------------- ----------------------\\n\\n### 8.3.1 DATA REQUEST\\n\\nThis message is sent from BSC to BTS to request the sending of a message\\nin acknowledged mode on a radio link layer connection.\\n\\n  ----------------------- ----------- ---------- -------- --------\\n  INFORMATION ELEMENT     REFERENCE   PRESENCE   FORMAT   LENGTH\\n  Message discriminator   9.1         M          V        1\\n  Message type            9.2         M          V        1\\n  Channel number          9.3.1       M          TV       2\\n  Link Identifier         9.3.2       M          TV       2\\n  L3 Information          9.3.11      M          TLV      \\\\>=3\\n  ----------------------- ----------- ---------- -------- --------\\n\\n### 8.3.2 DATA INDICATION\\n\\nThis message is sent from BTS to BSC to indicate the reception of a\\nmessage in acknowledged mode on a radio link layer connection.\\n\\n  ----------------------- ----------- ---------- -------- --------\\n  INFORMATION ELEMENT     REFERENCE   PRESENCE   FORMAT   LENGTH\\n  Message discriminator   9.1         M          V        1\\n  Message type            9.2         M          V        1\\n  Channel number          9.3.1       M          TV       2\\n  Link Identifier         9.3.2       M          TV       2\\n  L3 Information          9.3.11      M          TLV      \\\\>=3\\n  ----------------------- ----------- ---------- -------- --------\\n\\n### 8.3.3 ERROR INDICATION\\n\\nThis message is sent from BTS to BSC to indicate an abnormal case for a\\nradio link layer connection.\\n\\n  ----------------------- ----------- ---------- -------- --------\\n  INFORMATION ELEMENT     REFERENCE   PRESENCE   FORMAT   LENGTH\\n  Message discriminator   9.1         M          V        1\\n  Message type            9.2         M          V        1\\n  Channel number          9.3.1       M          TV       2\\n  Link Identifier         9.3.2       M          TV       2\\n  RLM Cause               9.3.22      M          TLV      2‑4\\n  ----------------------- ----------- ---------- -------- --------\\n\\n### 8.3.4 ESTABLISH REQUEST\\n\\nThis message is sent from BSC to BTS to request the establishment of a\\nmulti-frame mode (acknowledged mode) link layer connection on the radio\\npath.\\n\\n  ----------------------- ----------- ---------- -------- --------\\n  INFORMATION ELEMENT     REFERENCE   PRESENCE   FORMAT   LENGTH\\n  Message discriminator   9.1         M          V        1\\n  Message type            9.2         M          V        1\\n  Channel number          9.3.1       M          TV       2\\n  Link Identifier         9.3.2       M          TV       2\\n  ----------------------- ----------- ---------- -------- --------\\n\\n### 8.3.5 ESTABLISH CONFIRM\\n\\nThis message is sent from BTS to BSC to confirm the establishment of a\\nradio link layer connection in multi-frame (acknowledged) mode.\\n\\n  ----------------------- ----------- ---------- -------- --------\\n  INFORMATION ELEMENT     REFERENCE   PRESENCE   FORMAT   LENGTH\\n  Message discriminator   9.1         M          V        1\\n  Message type            9.2         M          V        1\\n  Channel number          9.3.1       M          TV       2\\n  Link Identifier         9.3.2       M          TV       2\\n  ----------------------- ----------- ---------- -------- --------\\n\\n### 8.3.6 ESTABLISH INDICATION\\n\\nThis message is sent from BTS to BSC to indicate the establishment of a\\nradio link layer connection in multi-frame mode, initiated by an MS.\\n\\n  ------------------------------------------------------------------------------------------------------------ ----------- ------------ -------- --------\\n  INFORMATION ELEMENT                                                                                          REFERENCE   PRESENCE     FORMAT   LENGTH\\n  Message discriminator                                                                                        9.1         M            V        1\\n  Message type                                                                                                 9.2         M            V        1\\n  Channel number                                                                                               9.3.1       M            TV       2\\n  Link Identifier                                                                                              9.3.2       M            TV       2\\n  L3 Information                                                                                               9.3.11      O (note 1)   TLV      3-23\\n  NOTE 1: The L3 Information field is present only if the SABM frame contained a non-empty information field                                     \\n  ------------------------------------------------------------------------------------------------------------ ----------- ------------ -------- --------\\n\\nNOTE: The \\\\\"establish mode\\\\\" parameter appearing in 3GPP\\xa0TS\\xa044.006 is\\nused only on the MS side.\\n\\n### 8.3.7 RELEASE REQUEST\\n\\nThis message is sent from BSC to BTS to request the release of multi‑\\nframe mode of a radio link layer connection.\\n\\n  ----------------------- ----------- ---------- -------- --------\\n  INFORMATION ELEMENT     REFERENCE   PRESENCE   FORMAT   LENGTH\\n  Message discriminator   9.1         M          V        1\\n  Message type            9.2         M          V        1\\n  Channel number          9.3.1       M          TV       2\\n  Link Identifier         9.3.2       M          TV       2\\n  Release Mode            9.3.20      M          TV       2\\n  ----------------------- ----------- ---------- -------- --------\\n\\n### 8.3.8 RELEASE CONFIRM\\n\\nThis message is sent from BTS to BSC to confirm the release of multi‑\\nframe mode of a radio link layer connection.\\n\\n  ----------------------- ----------- ---------- -------- --------\\n  INFORMATION ELEMENT     REFERENCE   PRESENCE   FORMAT   LENGTH\\n  Message discriminator   9.1         M          V        1\\n  Message type            9.2         M          V        1\\n  Channel number          9.3.1       M          TV       2\\n  Link Identifier         9.3.2       M          TV       2\\n  ----------------------- ----------- ---------- -------- --------\\n\\n### 8.3.9 RELEASE INDICATION\\n\\nThis message is sent from BTS to BSC to indicate the release of a radio\\nlink layer connection (initiated by MS).\\n\\n  ----------------------- ----------- ---------- -------- --------\\n  INFORMATION ELEMENT     REFERENCE   PRESENCE   FORMAT   LENGTH\\n  Message discriminator   9.1         M          V        1\\n  Message type            9.2         M          V        1\\n  Channel number          9.3.1       M          TV       2\\n  Link Identifier         9.3.2       M          TV       2\\n  ----------------------- ----------- ---------- -------- --------\\n\\n### 8.3.10 UNIT DATA REQUEST\\n\\nThis message is sent from BSC to BTS to request the sending of a message\\nin unacknowledged mode on a radio link layer connection.\\n\\n  ----------------------- ----------- ---------- -------- --------\\n  INFORMATION ELEMENT     REFERENCE   PRESENCE   FORMAT   LENGTH\\n  Message discriminator   9.1         M          V        1\\n  Message type            9.2         M          V        1\\n  Channel number          9.3.1       M          TV       2\\n  Link Identifier         9.3.2       M          TV       2\\n  L3 Information          9.3.11      M          TLV      3-25\\n  ----------------------- ----------- ---------- -------- --------\\n\\n### 8.3.11 UNIT DATA INDICATION\\n\\nThis message is sent from BTS to BSC to indicate the reception of a\\nmessage in unacknowledged mode on a radio link layer connection.\\n\\n  ----------------------- ----------- ---------- -------- --------\\n  INFORMATION ELEMENT     REFERENCE   PRESENCE   FORMAT   LENGTH\\n  Message discriminator   9.1         M          V        1\\n  Message type            9.2         M          V        1\\n  Channel number          9.3.1       M          TV       2\\n  Link Identifier         9.3.2       M          TV       2\\n  L3 Information          9.3.11      M          TLV      3-23\\n  ----------------------- ----------- ---------- -------- --------\\n\\n8.4 DEDICATED CHANNEL MANAGEMENT MESSAGES\\n-----------------------------------------\\n\\nThese messages are related to Dedicated Channel Management procedures.\\nThey all have the following general format:\\n\\n  -------------------------------------------------- ----------- ---------- -------- --------\\n  INFORMATION ELEMENT                                REFERENCE   PRESENCE   FORMAT   LENGTH\\n  Message discriminator                              9.1         M          V        1\\n  Message type                                       9.2         M          V        1\\n  Channel number                                     9.3.1       M          TV       2\\n  (Information elements depending on message type)                                   \\n  -------------------------------------------------- ----------- ---------- -------- --------\\n\\nThe messages concerned are the following:\\n\\n  -------------------------------------- ----------------------\\n  Message name                           Reference sub-clause\\n  CHANnel ACTIVation                     8.4.1\\n  CHANnel ACTIVation ACKnowledge         8.4.2\\n  CHANnel ACTIVation Negative ACK        8.4.3\\n  CONNection FAILure INDication          8.4.4\\n  DEACTIVATE SACCH                       8.4.5\\n  ENCRyption CoMmanD                     8.4.6\\n  HANDOver DETection                     8.4.7\\n  TALKER DETection                       8.4.21\\n  LISTENER DETection                     8.4.22\\n  MEASurement RESult                     8.4.8\\n  MODE MODIFY REQuest                    8.4.9\\n  MODE MODIFY ACKnowledge                8.4.10\\n  MODE MODIFY Negative ACKnowledge       8.4.11\\n  PHYsical CONTEXT REQuest               8.4.12\\n  PHYsical CONTEXT CONFirm               8.4.13\\n  RF CHANnel RELease                     8.4.14\\n  MS POWER CONTROL                       8.4.15\\n  BS POWER CONTROL                       8.4.16\\n  PREPROCecc CONFIGure                   8.4.17\\n  PREPROCessed MEASurement RESult        8.4.18\\n  RF CHANnel RELease ACKnowledge         8.4.19\\n  SACCH INFO MODIFY                      8.4.20\\n  REMOTE CODEC CONFiguration REPort      8.4.23\\n  Round Trip Delay REPort                8.4.24\\n  PRE-HANDOver NOTIFication              8.4.25\\n  MultiRate CODEC MODification REQuest   8.4.26\\n  MultiRate CODEC MOD ACKnowledge        8.4.27\\n  MultiRate CODEC MOD Negative ACK       8.4.28\\n  MultiRate CODEC MOD PERformed          8.4.29\\n  TFO REPort                             8.4.30\\n  TFO MODification REQuest               8.4.31\\n  -------------------------------------- ----------------------\\n\\n### 8.4.1 CHANNEL ACTIVATION\\n\\nThis message is sent from BSC to BTS in order to activate a radio\\nchannel. The attributes of the channel are defined in the message.\\n\\n  --------------------------- ----------- ---------- -------- --------\\n  INFORMATION ELEMENT         REFERENCE   PRESENCE   FORMAT   LENGTH\\n  Message discriminator       9.1         M          V        1\\n  Message type                9.2         M          V        1\\n  Channel number              9.3.1       M          TV       2\\n  Activation Type             9.3.3       M          TV       2\\n  Channel Mode                9.3.6       M          TLV      8‑9\\n  Channel Identification      9.3.5       O 7)       TLV      8\\n  Encryption information      9.3.7       O 1)       TLV      \\\\>=3\\n  Handover Reference          9.3.9       C 2)       TV       2\\n  BS Power                    9.3.4       O 3)       TV       2\\n  MS Power                    9.3.13      O 3)       TV       2\\n  Timing Advance              9.3.24      C 3) 4)    TV       2\\n  BS Power Parameters         9.3.32      O 5)       TLV      \\\\>=2\\n  MS Power Parameters         9.3.31      O 5)       TLV      \\\\>=2\\n  Physical Context            9.3.16      O 6)       TLV      \\\\>=2\\n  SACCH Information           9.3.29      O 8)       TLV      \\\\>=3\\n  UIC                         9.3.50      O 9)       TLV      3\\n  Main channel reference      9.3.51      O 10)      TV       2\\n  MultiRate configuration     9.3.52      O 11)      TLV      \\\\>=4\\n  MultiRate Control           9.3.53      O 12)      TV       2\\n  Supported Codec Types       9.3.54      O 12)      TLV      \\\\>=5\\n  TFO transparent container   9.3.59      O 12)      TLV      \\\\>=3\\n  --------------------------- ----------- ---------- -------- --------\\n\\n1\\\\) The Encryption Information element is only included if ciphering is\\nto be applied.\\n\\n2\\\\) The Handover Reference element is only included if activation type\\nis handover.\\n\\n3\\\\) If BS Power, MS Power and/or Timing Advance elements are present,\\nthey are to be used to set the initial transmission power and the\\ninitial L1-header.\\n\\n4\\\\) The Timing Advance element must be included if activation type is\\nintra cell channel change.\\n\\n5\\\\) The BS and MS Power Parameters elements are included to indicate\\nthat BS and/or MS power control is to be performed by BTS. The maximum\\npower to be used is indicated in the BS and MS Power elements\\nrespectively.\\n\\n6\\\\) Optional element for additional physical channel information.\\n\\n7\\\\) Included if compatibility with phase1 is required.\\n\\n8\\\\) Optional element for setting the SACCH filling information\\nindividually for this channel. If this element is present, the SACCH\\nfilling information as given by this element shall be used for this\\nchannel (replacing any SACCH filling information as given by the SACCH\\nFILLING message(s)) until the channel is released or the information is\\nchanged by a SACCH INFO MODIFY message. (If this element is not present,\\nthe SACCH filling as given by the SACCH FILLING message(s) shall be\\nused.)\\n\\n9\\\\) The UIC element may be included for voice group calls. It is used in\\nthe same way as the BSIC for decoding the random access bursts when\\ndecoding uplink access bursts. If not included, the BSIC shall be used\\nfor decoding uplink access bursts.\\n\\n10\\\\) Optional element for multislot operation, it may be used in case of\\npower control in the BTS.\\n\\n11\\\\) Included if the Channel Mode indicates that a multi-rate speech\\ncodec is used.\\n\\n12\\\\) Optionally included if the Channel Mode indicates that a multi-rate\\nspeech codec is used and TFO control is required or to give to the BTS\\nthe possibility to change autonomously the multi-rate codec\\nconfiguration.\\n\\n### 8.4.2 CHANNEL ACTIVATION ACKNOWLEDGE\\n\\nThis message is sent from BSC to BTS to acknowledge that the requested\\nchannel activation has been completed correctly.\\n\\n  ----------------------- ----------- ---------- -------- --------\\n  INFORMATION ELEMENT     REFERENCE   PRESENCE   FORMAT   LENGTH\\n  Message discriminator   9.1         M          V        1\\n  Message type            9.2         M          V        1\\n  Channel number          9.3.1       M          TV       2\\n  Frame number            9.3.8       M          TV       3\\n  ----------------------- ----------- ---------- -------- --------\\n\\nThe Frame Number element is used by BSC to calculate the Starting Time\\nparameter when required.\\n\\n### 8.4.3 CHANNEL ACTIVATION NEGATIVE ACKNOWLEDGE\\n\\nThis message is sent from BTS to BSC to indicate that the channel\\nactivation could not be performed as requested.\\n\\n  ----------------------- ----------- ---------- -------- --------\\n  INFORMATION ELEMENT     REFERENCE   PRESENCE   FORMAT   LENGTH\\n  Message discriminator   9.1         M          V        1\\n  Message type            9.2         M          V        1\\n  Channel number          9.3.1       M          TV       2\\n  Cause                   9.3.26      M          TLV      \\\\>=3\\n  ----------------------- ----------- ---------- -------- --------\\n\\nIf the Channel Activation message was received with an erroneous Channel\\nnumber information element, the Channel Activation Negative Acknowledge\\nmessage is returned with the Channel Number information element equal to\\nthe received (and erroneous) Channel number and the Cause value\\n\\\\\"Mandatory Information Element Error\\\\\" with Diagnostics equal to the\\nChannel number element identifier value.\\n\\n### 8.4.4 CONNECTION FAILURE INDICATION\\n\\nThis message is sent from BTS to BSC to indicate that an active\\nconnection has been broken for some reason.\\n\\n  ----------------------- ----------- ---------- -------- --------\\n  INFORMATION ELEMENT     REFERENCE   PRESENCE   FORMAT   LENGTH\\n  Message discriminator   9.1         M          V        1\\n  Message type            9.2         M          V        1\\n  Channel number          9.3.1       M          TV       2\\n  Cause                   9.3.26      M          TLV      \\\\>=3\\n  ----------------------- ----------- ---------- -------- --------\\n\\n### 8.4.5 DEACTIVATE SACCH\\n\\nThis message is sent from BSC to BTS in order to deactivate the SACCH of\\nan active channel.\\n\\n  ----------------------- ----------- ---------- -------- --------\\n  INFORMATION ELEMENT     REFERENCE   PRESENCE   FORMAT   LENGTH\\n  Message discriminator   9.1         M          V        1\\n  Message type            9.2         M          V        1\\n  Channel number          9.3.1       M          TV       2\\n  ----------------------- ----------- ---------- -------- --------\\n\\n### 8.4.6 ENCRYPTION COMMAND\\n\\nThis message is sent from BSC to BTS to start ciphering mode operation.\\n\\n  ------------------------ ----------- ---------- -------- --------\\n  INFORMATION ELEMENT      REFERENCE   PRESENCE   FORMAT   LENGTH\\n  Message discriminator    9.1         M          V        1\\n  Message type             9.2         M          V        1\\n  Channel number           9.3.1       M          TV       2\\n  Encryption information   9.3.7       M          TLV      \\\\>=3\\n  Link Identifier          9.3.2       M          TV       2\\n  L3 Info (CIPH MOD CMD)   9.3.11      M          TLV      6\\n  ------------------------ ----------- ---------- -------- --------\\n\\nThe L3 Info element contains the complete Ciphering Mode Command message\\nas defined in 3GPP\\xa0TS\\xa044.018.\\n\\n### 8.4.7 HANDOVER DETECTION\\n\\nThis message is sent from BTS to BSC when BTS correctly receives\\ninformation from an MS on the handover activated channel.\\n\\n  ----------------------- ----------- ---------- -------- --------\\n  INFORMATION ELEMENT     REFERENCE   PRESENCE   FORMAT   LENGTH\\n  Message discriminator   9.1         M          V        1\\n  Message type            9.2         M          V        1\\n  Channel number          9.3.1       M          TV       2\\n  Access Delay            9.3.17      O 1)       TV       2\\n  ----------------------- ----------- ---------- -------- --------\\n\\n1\\\\) The Access Delay element is included if the sending of the handover\\ndetection message was triggered by the reception of a handover access\\nburst with the correct handover reference.\\n\\n### 8.4.8 MEASUREMENT RESULT\\n\\nThis message from BTS to BSC is used to report to BSC the results of\\nradio channel measurements made by BTS (uplink) and to convey the\\nmeasurement reports from MS received on SACCH and in the L1 headers.\\n\\n  -------------------------------------------------- ----------- ---------- -------- --------\\n  INFORMATION ELEMENT                                REFERENCE   PRESENCE   FORMAT   LENGTH\\n  Message discriminator                              9.1         M          V        1\\n  Message type                                       9.2         M          V        1\\n  Channel number                                     9.3.1       M          TV       2\\n  Measurement result number                          9.3.27      M          TV       2\\n  Uplink Measurements                                9.3.25      M          TLV      \\\\>=5\\n  BS Power                                           9.3.4       M          TV       2\\n  L1 Information                                     9.3.10      O 1)       TV       3\\n  L3 Info (MEAS REP, EXT MEAS REP or ENH MEAS REP)   9.3.11      O 1)       TLV      21\\n  MS Timing Offset                                   9.3.37      O 2)       TV       2\\n  -------------------------------------------------- ----------- ---------- -------- --------\\n\\n1\\\\) The L1 Information element contains the last received L1-header (MS\\nPower and Timing Advance) from MS and the L3 Information element\\ncontains the complete MEASurement REPort message EXTended MEASurement\\nREPort message or ENHanced MEASurement REPort message received from MS.\\nThey are included only if received since last (EXTended/ENHanced)\\nMEASurement RESult message.\\n\\n2\\\\) MS Timing Offset can be optionally included to increase the accuracy\\nof possible distance measurements.\\n\\n### 8.4.9 MODE MODIFY\\n\\nThis message is sent from BSC to BTS to request a change of channel mode\\nof an active channel.\\n\\n  --------------------------- ----------- ---------- -------- --------\\n  INFORMATION ELEMENT         REFERENCE   PRESENCE   FORMAT   LENGTH\\n  Message discriminator       9.1         M          V        1\\n  Message type                9.2         M          V        1\\n  Channel number              9.3.1       M          TV       2\\n  Channel Mode                9.3.6       M          TLV      8‑9\\n  Encryption information      9.3.7       O 1)       TLV      \\\\>=3\\n  Main channel reference      9.3.45      O 2)       TV       2\\n  MultiRate configuration     9.3.52      O 3)       TLV      \\\\>=3\\n  Multirate Control           9.3.53      O 4)       TV       2\\n  Supported Codec Types       9.3.54      O 4)       TLV      \\\\>=5\\n  TFO transparent container   9.3.59      O 4)       TLV      \\\\>=3\\n  --------------------------- ----------- ---------- -------- --------\\n\\n1\\\\) The Encryption Information element is only included if ciphering is\\nto be applied.\\n\\n2\\\\) Optional element for multislot operation, it may be used in case of\\npower control in the BTS.\\n\\n3\\\\) Included if the Channel Mode indicates that a multi-rate speech\\ncodec is used.\\n\\n4\\\\) Optionally included if the Channel Mode indicates that a multi-rate\\nspeech codec is used and TFO control is required or to give to the BTS\\nthe possibility to change autonomously the multi-rate codec\\nconfiguration.\\n\\n### 8.4.10 MODE MODIFY ACKNOWLEDGE\\n\\nThis message is sent from BTS to BSC to confirm the change of channel\\nmode of an active channel.\\n\\n  ----------------------- ----------- ---------- -------- --------\\n  INFORMATION ELEMENT     REFERENCE   PRESENCE   FORMAT   LENGTH\\n  Message discriminator   9.1         M          V        1\\n  Message type            9.2         M          V        1\\n  Channel number          9.3.1       M          TV       2\\n  ----------------------- ----------- ---------- -------- --------\\n\\n### 8.4.11 MODE MODIFY NEGATIVE ACKNOWLEDGE\\n\\nThis message is sent from BTS to BSC to indicate that the channel mode\\nmodification could not be performed as requested.\\n\\n  ----------------------- ----------- ---------- -------- --------\\n  INFORMATION ELEMENT     REFERENCE   PRESENCE   FORMAT   LENGTH\\n  Message discriminator   9.1         M          V        1\\n  Message type            9.2         M          V        1\\n  Channel number          9.3.1       M          TV       2\\n  Cause                   9.3.26      M          TLV      \\\\>=3\\n  ----------------------- ----------- ---------- -------- --------\\n\\n### 8.4.12 PHYSICAL CONTEXT REQUEST\\n\\nThis message is sent from BSC to BTS to request the \\\\\"physical context\\\\\"\\nof an active channel.\\n\\n  ----------------------- ----------- ---------- -------- --------\\n  INFORMATION ELEMENT     REFERENCE   PRESENCE   FORMAT   LENGTH\\n  Message discriminator   9.1         M          V        1\\n  Message type            9.2         M          V        1\\n  Channel number          9.3.1       M          TV       2\\n  ----------------------- ----------- ---------- -------- --------\\n\\n### 8.4.13 PHYSICAL CONTEXT CONFIRM\\n\\nThis message is sent from BTS to BSC as a response to a PHYsical CONTEXT\\nREQuest message. The message contains the \\\\\"physical context\\\\\"\\ninformation.\\n\\n  ----------------------- ----------- ---------- -------- --------\\n  INFORMATION ELEMENT     REFERENCE   PRESENCE   FORMAT   LENGTH\\n  Message discriminator   9.1         M          V        1\\n  Message type            9.2         M          V        1\\n  Channel number          9.3.1       M          TV       2\\n  BS Power                9.3.4       M          TV       2\\n  MS Power                9.3.13      M          TV       2\\n  Timing Advance          9.3.24      M          TV       2\\n  Physical Context        9.3.16      O 1)       TLV      \\\\>=2\\n  ----------------------- ----------- ---------- -------- --------\\n\\n1\\\\) Optional element for additional physical channel information.\\n\\n### 8.4.14 RF CHANNEL RELEASE\\n\\nThis message is sent from BSC to BTS to inform that a radio channel is\\nno longer needed.\\n\\n  ----------------------- ----------- ---------- -------- --------\\n  INFORMATION ELEMENT     REFERENCE   PRESENCE   FORMAT   LENGTH\\n  Message discriminator   9.1         M          V        1\\n  Message type            9.2         M          V        1\\n  Channel number          9.3.1       M          TV       2\\n  ----------------------- ----------- ---------- -------- --------\\n\\n### 8.4.15 MS POWER CONTROL\\n\\nThis message is sent from BSC to BTS to change the MS power level or the\\nparameters used by TRX to control the MS power.\\n\\n  ----------------------- ----------- ---------- -------- --------\\n  INFORMATION ELEMENT     REFERENCE   PRESENCE   FORMAT   LENGTH\\n  Message discriminator   9.1         M          V        1\\n  Message type            9.2         M          V        1\\n  Channel number          9.3.1       M          TV       2\\n  MS Power                9.3.13      M          TV       2\\n  MS Power Parameters     9.3.31      O 1)       TLV      \\\\>=2\\n  ----------------------- ----------- ---------- -------- --------\\n\\n1\\\\) If the MS Power Parameters element is present it indicates that the\\nMS power control is to be performed by TRX. The MS Power element then\\nindicates the maximum MS power to be used.\\n\\n### 8.4.16 BS POWER CONTROL\\n\\nThis message is sent from BSC to BTS to change the TRX transmission\\npower level or the parameters used by TRX to control its transmission\\npower.\\n\\n  ----------------------- ----------- ---------- -------- --------\\n  INFORMATION ELEMENT     REFERENCE   PRESENCE   FORMAT   LENGTH\\n  Message discriminator   9.1         M          V        1\\n  Message type            9.2         M          V        1\\n  Channel number          9.3.1       M          TV       2\\n  BS Power                9.3.4       M          TV       2\\n  BS Power Parameters     9.3.32      O 1)       TLV      \\\\>=2\\n  ----------------------- ----------- ---------- -------- --------\\n\\n1\\\\) If the BS Power Parameters element is present it indicates that the\\nTRX transmission power control is to be performed by TRX. The BS Power\\nelement then indicates the maximum transmission power to be used.\\n\\n### 8.4.17 PREPROCESS CONFIGURE\\n\\nThis message is sent from BSC to BTS to modify the pre-processing\\nparameters used by BTS.\\n\\n  ----------------------- ----------- ---------- -------- --------\\n  INFORMATION ELEMENT     REFERENCE   PRESENCE   FORMAT   LENGTH\\n  Message discriminator   9.1         M          V        1\\n  Message type            9.2         M          V        1\\n  Channel number          9.3.1       M          TV       2\\n  Preproc. Parameters     9.3.33      M          TLV      \\\\>=3\\n  ----------------------- ----------- ---------- -------- --------\\n\\n### 8.4.18 PREPROCESSED MEASUREMENT RESULT\\n\\nThis message is used by BTS to report the results of radio parameter\\npre-processing.\\n\\n  ----------------------- ----------- ---------- -------- --------\\n  INFORMATION ELEMENT     REFERENCE   PRESENCE   FORMAT   LENGTH\\n  Message discriminator   9.1         M          V        1\\n  Message type            9.2         M          V        1\\n  Channel number          9.3.1       M          TV       2\\n  Preproc. Measurements   9.3.34      M          TLV      \\\\>=2\\n  ----------------------- ----------- ---------- -------- --------\\n\\n### 8.4.19 RF CHANNEL RELEASE ACKNOWLEDGE\\n\\nThis message is sent from BTS to BSC as an acknowledge to a RF CHANnel\\nRELease message.\\n\\n  ----------------------- ----------- ---------- -------- --------\\n  INFORMATION ELEMENT     REFERENCE   PRESENCE   FORMAT   LENGTH\\n  Message discriminator   9.1         M          V        1\\n  Message type            9.2         M          V        1\\n  Channel number          9.3.1       M          TV       2\\n  ----------------------- ----------- ---------- -------- --------\\n\\n### 8.4.20 SACCH INFO MODIFY\\n\\nThis message is sent from BSC to BTS to modify the SACCH filling\\ninformation sent on an individual SACCH channel. This new SACCH filling\\ninformation shall be sent on the indicated channel until the channel is\\nreleased or the information is changed by another SACCH INFO MODIFY\\nmessage.\\n\\n  ----------------------- ----------- ---------- -------- --------\\n  INFORMATION ELEMENT     REFERENCE   PRESENCE   FORMAT   LENGTH\\n  Message discriminator   9.1         M          V        1\\n  Message type            9.2         M          V        1\\n  Channel number          9.3.1       M          TV       2\\n  System Info Type        9.3.30      M          TV       2\\n  L3 Info                 9.3.11      O 1)       TLV      22\\n  Starting Time           9.3.23      O 2)       TV       3\\n  ----------------------- ----------- ---------- -------- --------\\n\\n1\\\\) If the L3 Info information element is not included, this indicates\\nthat transmission of the indicated message shall be stopped, i.e.\\nmessage shall no longer be sent on this channel.\\n\\n2\\\\) The Starting Time element is optionally used to indicate when\\ntransmission of the new information is to start and when transmission is\\nto stop.\\n\\nThe System Info Type element indicates the type of SYSTEM\\nINFORMATION/EXTENDED MEASUREMENT ORDER message which follows in the L3\\nInfo field.\\n\\nThe L3 Information element contains the relevant SYSTEM\\nINFORMATION/EXTENDED MEASUREMENT ORDER message as defined in\\n3GPP\\xa0TS\\xa044.018.\\n\\n### 8.4.21 TALKER DETECTION\\n\\nThis message is sent from BTS to BSC when BTS correctly receives on a\\nchannel activated for VGCS an access from an MS indicating that it\\nrequires the uplink of the channel.\\n\\n  ----------------------- ----------- ---------- -------- --------\\n  INFORMATION ELEMENT     REFERENCE   PRESENCE   FORMAT   LENGTH\\n  Message discriminator   9.1         M          V        1\\n  Message type            9.2         M          V        1\\n  Channel number          9.3.1       M          TV       2\\n  Access Delay            9.3.17      O 1)       TV       2\\n  ----------------------- ----------- ---------- -------- --------\\n\\n1\\\\) The Access Delay element is included if the sending of the uplink\\naccess message was triggered by the reception of an uplink access burst\\nwith the correct values.\\n\\n### 8.4.22 LISTENER DETECTION\\n\\nThis message is sent from BTS to BSC when BTS correctly receives on a\\nchannel activated for VGCS or VBS an access from an MS indicating its\\npresence on the channel.\\n\\n  ----------------------- ----------- ---------- -------- --------\\n  INFORMATION ELEMENT     REFERENCE   PRESENCE   FORMAT   LENGTH\\n  Message discriminator   9.1         M          V        1\\n  Message type            9.2         M          V        1\\n  Channel number          9.3.1       M          TV       2\\n  Access Delay            9.3.17      O 1)       TV       2\\n  ----------------------- ----------- ---------- -------- --------\\n\\n1\\\\) The Access Delay element is included if the sending of the uplink\\naccess message was triggered by the reception of an uplink access burst\\nwith the correct value.\\n\\n### 8.4.23 REMOTE CODEC CONFIGURATION REPORT\\n\\nThis message is sent by the BTS to the BSC to report the codec\\ninformation received from a remote BTS prior to TFO establishment or in\\nTFO.\\n\\n  --------------------------- ----------- ---------- -------- --------\\n  INFORMATION ELEMENT         REFERENCE   PRESENCE   FORMAT   LENGTH\\n  Message discriminator       9.1         M          V        1\\n  Message type                9.2         M          V        1\\n  Channel number              9.3.1       M          TV       2\\n  Codec Configuration         9.3.55      M          TLV      \\\\>=3\\n  Supported Codec Types       9.3.54      M          TLV      \\\\>=5\\n  TFO transparent container   9.3.59      O 4)       TLV      \\\\>=3\\n  --------------------------- ----------- ---------- -------- --------\\n\\n### 8.4.24 ROUND TRIP DELAY REPORT\\n\\nThis message is sent by the BSC to the BTS to report the computed round\\ntrip transmission delay between the BTS and the transcoder or between\\nthe BTS and the remote BTS when TFO is established.\\n\\n  ----------------------- ----------- ---------- -------- --------\\n  INFORMATION ELEMENT     REFERENCE   PRESENCE   FORMAT   LENGTH\\n  Message discriminator   9.1         M          V        1\\n  Message type            9.2         M          V        1\\n  Channel number          9.3.1       M          TV       2\\n  Round Trip Delay        9.3.56      M          TV       2\\n  ----------------------- ----------- ---------- -------- --------\\n\\n### 8.4.25 PRE-HANDOVER NOTIFICATION\\n\\nThis message is sent by the BSC to the serving BTS to notify the BTS\\nthat an handover is going to be performed.\\\\\\nIt is also sent by the BSC to the serving BTS if the announced handover\\nhas failed.\\n\\n  --------------------------- ----------- ---------- -------- --------\\n  INFORMATION ELEMENT         REFERENCE   PRESENCE   FORMAT   LENGTH\\n  Message discriminator       9.1         M          V        1\\n  Message type                9.2         M          V        1\\n  Channel number              9.3.1       M          TV       2\\n  MultiRateControl            9.3.53      M          TV       2\\n  Codec Configuration         9.3.55      M          TLV      \\\\>=3\\n  TFO transparent container   9.3.59      O 4)       TLV      \\\\>=3\\n  --------------------------- ----------- ---------- -------- --------\\n\\n### 8.4.26 MULTIRATE CODEC MODIFICATION REQUEST\\n\\nThis message is sent by the BSC to the BTS to request and authorise the\\nBTS to change the Multi-Rate codec configuration using inband signalling\\nmessage exchange.\\n\\nIt is also sent by the BTS to the BSC, in the case where the TC or the\\nBTS runs the TFO algorithm, and the BSC is responsible for changing the\\ncodec configuration. In this case, it is not acknowledged by the BSC.\\n\\n  ------------------------- ----------- ---------- -------- --------\\n  INFORMATION ELEMENT       REFERENCE   PRESENCE   FORMAT   LENGTH\\n  Message discriminator     9.1         M          V        1\\n  Message type              9.2         M          V        1\\n  Channel number            9.3.1       M          TV       2\\n  MultiRate Configuration   9.3.52      O 1)       TLV      \\\\>=4\\n  ------------------------- ----------- ---------- -------- --------\\n\\n> 1\\\\) Not included if the BTS can solve the codec mismatch for TFO\\n> establisment\\n\\n### 8.4.27 MULTIRATE CODEC MODIFICATION ACKNOWLEDGE\\n\\nThis message is sent by the BTS to the BSC to acknowledge the performed\\nchange of the MultiRate Codec configuration, when it was requested by\\nthe BSC with the MultiRate CODEC MODification REQuest message\\n\\n  ------------------------- ----------- ---------- -------- --------\\n  INFORMATION ELEMENT       REFERENCE   PRESENCE   FORMAT   LENGTH\\n  Message discriminator     9.1         M          V        1\\n  Message type              9.2         M          V        1\\n  Channel number            9.3.1       M          TV       2\\n  MultiRate Configuration   9.3.52      O 1)       TLV      \\\\>=4\\n  ------------------------- ----------- ---------- -------- --------\\n\\n### 8.4.28 MULTIRATE CODEC MODIFICATION NEGATIVE ACKNOWLEDGE\\n\\nThis message is sent by the BTS to the BSC to report a failure to change\\nthe MultiRate Codec Configuration.\\n\\n  ----------------------- ----------- ---------- -------- --------\\n  INFORMATION ELEMENT     REFERENCE   PRESENCE   FORMAT   LENGTH\\n  Message discriminator   9.1         M          V        1\\n  Message type            9.2         M          V        1\\n  Channel number          9.3.1       M          TV       2\\n  Cause                   9.3.26      M          TLV      \\\\>=3\\n  ----------------------- ----------- ---------- -------- --------\\n\\n### 8.4.29 MULTIRATE CODEC MODIFICATION PERFORMED\\n\\nThis message is sent by the BTS to the BSC to inform the BSC of a\\nperformed change of the MultiRate Codec Configuration in case the BTS is\\ngenerally authorised to perform this change and has initiated this on\\nits own.\\n\\n  ------------------------- ----------- ---------- -------- --------\\n  INFORMATION ELEMENT       REFERENCE   PRESENCE   FORMAT   LENGTH\\n  Message discriminator     9.1         M          V        1\\n  Message type              9.2         M          V        1\\n  Channel number            9.3.1       M          TV       2\\n  MultiRate Configuration   9.3.52      M          TLV      \\\\>=4\\n  ------------------------- ----------- ---------- -------- --------\\n\\n### 8.4.30 TFO REPORT\\n\\nThis message is sent by the BTS to the BSC to inform the BSC that Tandem\\nFree Operation with AMR is established, or is not established anymore.\\n\\n  ----------------------- ----------- ---------- -------- --------\\n  INFORMATION ELEMENT     REFERENCE   PRESENCE   FORMAT   LENGTH\\n  Message discriminator   9.1         M          V        1\\n  Message type            9.2         M          V        1\\n  Channel number          9.3.1       M          TV       2\\n  TFO Status              9.3.57      M          TV       1\\n  ----------------------- ----------- ---------- -------- --------\\n\\n### 8.4.31 TFO MODIFICATION REQUEST\\n\\nThis message is sent by the BSC to the BTS to change the configuration\\nof TFO while operating with AMR.\\n\\n  --------------------------- ----------- ---------- -------- --------\\n  INFORMATION ELEMENT         REFERENCE   PRESENCE   FORMAT   LENGTH\\n  Message discriminator       9.1         M          V        1\\n  Message type                9.2         M          V        1\\n  Channel number              9.3.1       M          TV       2\\n  MultiRateControl            9.3.53      M          TV       2\\n  Supported Codec Type        9.3.54      O 1)       TLV      \\\\>=5\\n  TFO transparent container   9.3.59      O 4)       TLV      \\\\>=3\\n  --------------------------- ----------- ---------- -------- --------\\n\\n1\\\\) Optionally included if TFO is enabled within I.E. MultiRateControl\\n\\n8.5 COMMON CHANNEL MANAGEMENT MESSAGES\\n--------------------------------------\\n\\nThese messages are related to Common Channel Management procedures. They\\nall have the following general format:\\n\\n  -------------------------------------------------- ----------- ---------- -------- --------\\n  INFORMATION ELEMENT                                REFERENCE   PRESENCE   FORMAT   LENGTH\\n  Message discriminator                              9.1         M          V        1\\n  Message type                                       9.2         M          V        1\\n  Channel number                                     9.3.1       M          TV       2\\n  (Information elements depending on message type)                                   \\n  -------------------------------------------------- ----------- ---------- -------- --------\\n\\nThe messages concerned are the following:\\n\\n  -------------------------- ----------------------\\n  Message name               Reference sub-clause\\n  BCCH INFOrmation           8.5.1\\n  CCCH LOAD INDication       8.5.2\\n  CHANnel ReQuireD           8.5.3\\n  DELETE INDication          8.5.4\\n  PAGING CoMmanD             8.5.5\\n  NOTification CoMmanD       8.5.10\\n  IMMEDIATE ASSIGN COMMAND   8.5.6\\n  SMS BroadCast REQuest      8.5.7\\n  SMS Broadcast Command      8.5.8\\n  CBCH LOAD INDICATION       8.5.9\\n  -------------------------- ----------------------\\n\\n### 8.5.1 BCCH INFORMATION\\n\\nThis message is sent from BSC to BTS to indicate new information to be\\nbroadcast on BCCH.\\n\\n  --------------------------- ----------- ---------- -------- --------\\n  INFORMATION ELEMENT         REFERENCE   PRESENCE   FORMAT   LENGTH\\n  Message discriminator       9.1         M          V        1\\n  Message type                9.2         M          V        1\\n  Channel number              9.3.1       M          TV       2\\n  System Info Type            9.3.30      M          TV       2\\n  Full BCCH Info (SYS INFO)   9.3.39      O 1)       TLV      25\\n  Starting Time               9.3.23      O 2)       TV       3\\n  --------------------------- ----------- ---------- -------- --------\\n\\n1\\\\) If the Full BCCH information element is not included this indicates\\nthat transmission of the indicated SYSTEM INFORMATION message shall be\\nstopped.\\n\\n2\\\\) The Starting Time element is optionally used to indicate when\\ntransmission of the new information is to start or when transmission is\\nto stop.\\n\\nThe System Info Type element indicates the type of SYSTEM INFORMATION\\nmessage which follows in the Full BCCH Information element.\\n\\nThe Full BCCH Information element contains the relevant SYSTEM\\nINFORMATION message as defined in 3GPP\\xa0TS\\xa044.018.\\n\\n### 8.5.2 CCCH LOAD INDICATION\\n\\nThis message is sent from BTS to BSC to report the current load on the\\nindicated CCCH timeslot (random access, RACH, and paging, PCH).\\n\\n  ----------------------- ----------- ---------- -------- --------\\n  INFORMATION ELEMENT     REFERENCE   PRESENCE   FORMAT   LENGTH\\n  Message discriminator   9.1         M          V        1\\n  Message type            9.2         M          V        1\\n  Channel number (note)   9.3.1       M          TV       2\\n  RACH Load               9.3.18      C 1)       TLV      \\\\>=8\\n  Paging Load             9.3.15      C 2)       TV       3\\n  ----------------------- ----------- ---------- -------- --------\\n\\nNOTE: The BTS may set the \\\\\"Channel Number\\\\\" information element in this\\nmessage to either the \\\\\"uplink CCCH\\\\\" or the \\\\\"downlink CCCH\\\\\" on that\\ntimeslot number.\\n\\n1\\\\) The RACH load information element is included only if the Channel\\nnumber information indicates \\\\\"uplink CCCH\\\\\".\\n\\n2\\\\) The Paging load information element is included only if the Channel\\nnumber information indicates \\\\\"downlink CCCH\\\\\".\\n\\n### 8.5.3 CHANNEL REQUIRED\\n\\nThis message is sent from BTS to BSC to indicate the reception of a\\nCHANnel REQuest message (special access burst message) from an MS.\\n\\n  ----------------------- ----------- ---------- -------- --------\\n  INFORMATION ELEMENT     REFERENCE   PRESENCE   FORMAT   LENGTH\\n  Message discriminator   9.1         M          V        1\\n  Message type            9.2         M          V        1\\n  Channel number          9.3.1       M          TV       2\\n  Request Reference       9.3.19      M          TV       4\\n  Access Delay            9.3.17      M          TV       2\\n  Physical Context        9.3.16      O 1)       TLV      \\\\>=2\\n  ----------------------- ----------- ---------- -------- --------\\n\\n1\\\\) Optional element for additional physical channel information.\\n\\nThe Request Reference element contains the random access reference value\\nsent by MS in the CHANnel REQuest message and some low order bits of the\\nabsolute frame number for the reception of the access burst.\\n\\n### 8.5.4 DELETE INDICATION\\n\\nThis message is sent from BTS to BSC to indicate the deletion of an\\naccess grant message (IMMediate ASSIGN) due to overload of downlink\\nCCCH.\\n\\n  ----------------------- ----------- ---------- -------- --------\\n  INFORMATION ELEMENT     REFERENCE   PRESENCE   FORMAT   LENGTH\\n  Message discriminator   9.1         M          V        1\\n  Message type            9.2         M          V        1\\n  Channel number          9.3.1       M          TV       2\\n  Full Imm. Assign Info   9.3.35      M          TLV      25\\n  ----------------------- ----------- ---------- -------- --------\\n\\n### 8.5.5 PAGING COMMAND\\n\\nThis message is sent from BSC to BTS to request the paging of an MS.\\n\\n  ----------------------- ----------- ---------- -------- --------\\n  INFORMATION ELEMENT     REFERENCE   PRESENCE   FORMAT   LENGTH\\n  Message discriminator   9.1         M          V        1\\n  Message type            9.2         M          V        1\\n  Channel number          9.3.1       M          TV       2\\n  Paging Group            9.3.14      M          TV       2\\n  MS Identity             9.3.12      M          TLV      2‑10\\n  Channel Needed          9.3.40      O 1)       TV       2\\n  eMLPP Priority          9.3.49      O 2)       TV       2\\n  DRX INfo                9.3.60      O          TV       3\\n  ----------------------- ----------- ---------- -------- --------\\n\\n1\\\\) If the Channel Needed element is not present, the default value is\\nassumed to be 00 (any channel).\\n\\n2\\\\) If the eMLPP Priority is not present then the BTS does not include\\nthe eMLPP priority in the radio interface message.\\n\\nThe Paging Group element is used by BTS to calculate the correct DRX\\npaging block to be used for the transmission of the PAGing REQuest\\nmessage as defined in 3GPP\\xa0TS\\xa045.002.\\n\\nWhen the eDRX Info element is included it is used instead of the Paging\\nGroup element to calculate the DRX paging block to be used for the\\ntransmission of the PAGing REQuest message over the radio interface (see\\n3GPP\\xa0TS\\xa045.002 \\\\[8\\\\]).\\n\\n### 8.5.6 IMMEDIATE ASSIGN COMMAND\\n\\nThis message is sent from BSC to BTS to request the transmission of an\\nimmediate assignment message.\\n\\n  ----------------------- ----------- ---------- -------- --------\\n  INFORMATION ELEMENT     REFERENCE   PRESENCE   FORMAT   LENGTH\\n  Message discriminator   9.1         M          V        1\\n  Message type            9.2         M          V        1\\n  Channel number          9.3.1       M          TV       2\\n  Full Imm. Assign Info   9.3.35      M          TLV      25\\n  ----------------------- ----------- ---------- -------- --------\\n\\nThe Full Imm. Assign Info element contains the relevant immediate\\nassignment message as defined in 3GPP\\xa0TS\\xa044.018 (IMMEDIATE ASSIGNMENT or\\nIMMEDIATE ASSIGNMENT EXTENDED or IMMEDIATE ASSIGNMENT REJECT) with the\\n\\\\\"Page Mode\\\\\" element set to the value \\\\\"no change\\\\\".\\n\\n### 8.5.7 SMS BROADCAST REQUEST\\n\\nThis message is sent from BSC to BTS to request the sending of a Short\\nMessage Service Cell Broadcast message.\\n\\n  ------------------------- ----------- ---------- -------- --------\\n  INFORMATION ELEMENT       REFERENCE   PRESENCE   FORMAT   LENGTH\\n  Message discriminator     9.1         M          V        1\\n  Message type              9.2         M          V        1\\n  Channel number            9.3.1       M          TV       2\\n  SMSCB Information         9.3.36      M          TV       24\\n  SMSCB Channel Indicator   9.3.44      O 1)       TV       2\\n  ------------------------- ----------- ---------- -------- --------\\n\\nThe SMSCB Information element contains the complete information to be\\nbroadcast on the CBCH as defined in 3GPP\\xa0TS\\xa044.012 (including the Layer\\n2 header to be used on the radio path).\\n\\n1\\\\) The SMSCB Channel Indicator IE indicates the CBCH which shall be\\nused for broadcasting the data. If this information element is not\\npresent the basic CBCH (see 3GPP\\xa0TS\\xa045.002) shall be used.\\n\\n### 8.5.8 SMS BROADCAST COMMAND\\n\\nThis message is sent from BSC to BTS to command Short Message Service\\nCell Broadcast.\\n\\n  ------------------------- ----------- ---------- -------- --------\\n  INFORMATION ELEMENT       REFERENCE   PRESENCE   FORMAT   LENGTH\\n  Message discriminator     9.1         M          V        1\\n  Message type              9.2         M          V        1\\n  Channel number            9.3.1       M          TV       2\\n  CB Command type           9.3.41      M          TV       2\\n  SMSCB message             9.3.42      M          TLV      2‑90\\n  SMSCB Channel Indicator   9.3.44      O 1)       TV       2\\n  ------------------------- ----------- ---------- -------- --------\\n\\nThe CB Command type IE contains the command to be performed, allowing\\nthe BSC to:\\n\\n\\\\- request immediate broadcast i.e. transmission in the next CBCH\\nopportunity;\\n\\n\\\\- set the BTS broadcast default mode.\\n\\nThe SMSCB message IE contains the actual message to be broadcast on the\\nCBCH i.e. a maximum of 88 octets of data. The BTS is responsible for\\nperforming the segmentation, building the block types and padding if\\nnecessary, see 3GPP\\xa0TS\\xa044.012 for the message format on the radio path.\\n\\n1\\\\) The SMSCB Channel Indicator IE indicates the CBCH which shall be\\nused for broadcasting the data.\\\\\\nIf this information element is not present the basic CBCH\\xa0\\\\[see\\n3GPP\\xa0TS\\xa045.002\\\\] shall be used.\\n\\n### 8.5.9 CBCH LOAD INDICATION\\n\\nThis message is sent from BTS to BSC to indicate a CBCH\\nunderflow/overflow situation in the BTS and to request the BSC to\\naccelerate or pause the cell broadcast for a period indicated by BTS.\\n\\n  ------------------------- ----------- ---------- -------- --------\\n  INFORMATION ELEMENT       REFERENCE   PRESENCE   FORMAT   LENGTH\\n  Message discriminator     9.1         M          V        1\\n  Message type              9.2         M          V        1\\n  Channel number            9.3.1       M          TV       2\\n  CBCH Load Information     9.3.43      M          TV       2\\n  SMSCB Channel Indicator   9.3.44      O 1)       TV       2\\n  ------------------------- ----------- ---------- -------- --------\\n\\nThe CBCH Load Information element indicates the load situation in CBCH\\n(underflow/overflow) and information about the requested\\nacceleration/suspension period of cell broadcast.\\n\\n1\\\\) The SMSCB Channel Indicator IE indicates the CBCH which shall be\\nused for broadcasting the data. If this information element is not\\npresent the basic CBCH\\xa0\\\\[see 3GPP\\xa0TS\\xa045.002\\\\] shall be used.\\n\\n### 8.5.10 NOTIFICATION COMMAND\\n\\nThis message is sent from BSC to BTS to request a change of notification\\nfor voice group call.\\n\\n  ----------------------- ----------- ---------- -------- --------\\n  INFORMATION ELEMENT     REFERENCE   PRESENCE   FORMAT   LENGTH\\n  Message discriminator   9.1         M          V        1\\n  Message type            9.2         M          V        1\\n  Channel number          9.3.1       M          TV       2\\n  Command indicator       9.3.48      M 1)       TLV      3‑4\\n  Group call reference    9.3.45      O          TLV      7\\n  Channel Description     9.3.46      O          TLV      3-n\\n  NCH DRX information     9.3.47      O          TLV      3\\n  ----------------------- ----------- ---------- -------- --------\\n\\n1\\\\) This information element indicates the type of command that is to be\\nperformed by the BTS with respect to information contained in the rest\\nof the message.\\n\\n8.6 TRX MANAGEMENT MESSAGES\\n---------------------------\\n\\nThese messages are related to TRX Management procedures. They all have\\nthe following general format (no channel number included):\\n\\n  -------------------------------------------------- ----------- ---------- -------- --------\\n  INFORMATION ELEMENT                                REFERENCE   PRESENCE   FORMAT   LENGTH\\n  Message discriminator                              9.1         M          V        1\\n  Message type                                       9.2         M          V        1\\n  (Information elements depending on message type)                                   \\n  -------------------------------------------------- ----------- ---------- -------- --------\\n\\nThe messages concerned are the following:\\n\\n> **[Message name Reference sub-clause]{.underline}**\\n>\\n> RF RESource INDication 8.6.1\\n>\\n> SACCH FILLing 8.6.2\\n>\\n> OVERLOAD 8.6.3\\n>\\n> ERROR REPORT 8.6.4\\n\\n### 8.6.1 RF RESOURCE INDICATION\\n\\nThis message is sent from BTS to BSC to indicate the interference level\\non idle channels of a TRX.\\n\\n  ----------------------- ----------- ---------- -------- --------\\n  INFORMATION ELEMENT     REFERENCE   PRESENCE   FORMAT   LENGTH\\n  Message discriminator   9.1         M          V        1\\n  Message type            9.2         M          V        1\\n  Resource Information    9.3.21      M          TLV      \\\\>=2\\n  ----------------------- ----------- ---------- -------- --------\\n\\n### 8.6.2 SACCH FILLING\\n\\nThis message is sent from BSC to BTS to indicate the new broadcast\\ninformation to be used as filling information on downlink SACCH.\\n\\n  ----------------------- ----------- ---------- -------- --------\\n  INFORMATION ELEMENT     REFERENCE   PRESENCE   FORMAT   LENGTH\\n  Message discriminator   9.1         M          V        1\\n  Message type            9.2         M          V        1\\n  System Info Type        9.3.30      M          TV       2\\n  L3 Info (SYS INFO)      9.3.11      O 1)       TLV      22\\n  Starting Time           9.3.23      O 2)       TV       3\\n  ----------------------- ----------- ---------- -------- --------\\n\\n1\\\\) If the L3 Info information element is not included this indicates\\nthat transmission of the indicated SYSTEM INFORMATION message shall be\\nstopped.\\n\\n2\\\\) The Starting Time element is optionally used to indicate when\\ntransmission of the new information is to start and when transmission is\\nto stop.\\n\\nThe System Info Type element indicates the type of SYSTEM INFORMATION\\nmessage which follows in the L3 Info field.\\n\\nThe L3 Information element contains the relevant SYSTEM INFORMATION\\nmessage as defined in 3GPP\\xa0TS\\xa044.018.\\n\\n### 8.6.3 OVERLOAD\\n\\nThis message is sent from BTS to BSC to indicate an overload situation.\\nPossible cause values include:\\n\\n\\\\- CCCH overload;\\n\\n\\\\- ACCH overload;\\n\\n\\\\- processor overload.\\n\\n  ----------------------- ----------- ---------- -------- --------\\n  INFORMATION ELEMENT     REFERENCE   PRESENCE   FORMAT   LENGTH\\n  Message discriminator   9.1         M          V        1\\n  Message type            9.2         M          V        1\\n  Cause                   9.3.26      M          TLV      \\\\>=3\\n  ----------------------- ----------- ---------- -------- --------\\n\\n### 8.6.4 ERROR REPORT\\n\\nThis message is sent from BTS to BSC to report a detected error which\\ncannot be reported in any other message.\\n\\n  ----------------------- ----------- ---------- -------- --------\\n  INFORMATION ELEMENT     REFERENCE   PRESENCE   FORMAT   LENGTH\\n  Message discriminator   9.1         M          V        1\\n  Message type            9.2         M          V        1\\n  Cause                   9.3.26      M          TLV      \\\\>=3\\n  Message Identifier      9.3.28      O 1)       TV       2\\n  Channel Number          9.3.1       O 2)       TV       2\\n  Link identifier         9.3.2       O 3)       TV       2\\n  Erroneous Message       9.3.38      O 4)       TLV      \\\\>=3\\n  ----------------------- ----------- ---------- -------- --------\\n\\n1\\\\) Used to indicate which type of message was considered erroneous.\\n\\n2\\\\) Used to indicate for which radio channel the error is reported.\\n\\n3\\\\) Used to indicate for which radio L2 link the error is reported.\\n\\n4\\\\) This element may be used to carry the complete erroneous message as\\nit was received from the BSC.\\n\\n8.7 LOCATION SERVICES MESSAGES\\n------------------------------\\n\\nThese messages are related to Location Services (LCS).\\n\\n### 8.7.1 LOCATION INFORMATION\\n\\nThis message is sent by the BSC, the BTS or Sandalone Type B LMU via\\nAbis interface to convey an embedded LCS LLP message.\\n\\n  ----------------------- ----------- ---------- -------- --------\\n  INFORMATION ELEMENT     REFERENCE   PRESENCE   FORMAT   LENGTH\\n  Message discriminator   9.1         M          V        1\\n  Message type            9.2         M          V        1\\n  LLP APDU                9.3.58      M          LV       2-N\\n  ----------------------- ----------- ---------- -------- --------\\n\\n9 Information element codings\\n=============================\\n\\nThis sub-clause contains the codings of the signalling elements used.\\nThe following conventions are assumed for the sequence of transmission\\nof bits and bytes:\\n\\n  --------------------------------------------- --- --- --- --- --- --- --- ---\\n  \\\\- Each bit position is numbered as 1 to 8.   8   7   6   5   4   3   2   1\\n  --------------------------------------------- --- --- --- --- --- --- --- ---\\n\\n\\\\- The least significant bit is bit 1 and is transmitted first, followed\\nby bits 2, 3, 4 etc.\\n\\n\\\\- In an element, octets are identified by number. Octet 1 is\\ntransmitted first, then octet 2 etc.\\n\\n\\\\- When a field extends over more than one octet, the order of bit\\nvalues progressively decreases as the octet number increases. The least\\nsignificant bit of the field is represented by the lowest numbered bit\\nof the highest numbered octet of the field.\\n\\n\\\\- For variable length elements, a length indicator is included. This\\nindicates the number of octets following in the element.\\n\\n\\\\- All spare or reserved bits are set to 0.\\n\\n9.1 Message discriminator\\n-------------------------\\n\\nA 1 octet field is used in all messages to discriminate between\\nTransparent and Non-Transparent messages and also between Radio Link\\nLayer Management, Dedicated Channel Management, Common Channel\\nManagement, TRX Management and Location Services messages.\\n\\n  ---- ---- ---- ---- ---- ---- ---- ---\\n  8    7    6    5    4    3    2    1\\n  G7   G6   G5   G4   G3   G2   G1   T\\n  ---- ---- ---- ---- ---- ---- ---- ---\\n\\nThe T-bit is set to 1 to indicate that the message is to be/was\\nconsidered transparent by BTS. All other messages shall have the T-bit\\nset to 0.\\n\\nThe G-bits are used to group the messages as follows:\\n\\n  ---- ---- ---- ---- ---- ---- ---- ---------------------------------------\\n  G7   G6   G5   G4   G3   G2   G1   Message Group\\n  0    0    0    0    0    0    0    reserved\\n  0    0    0    0    0    0    1    Radio Link Layer Management messages\\n  0    0    0    0    1    0    0    Dedicated Channel Management messages\\n  0    0    0    0    1    1    0    Common Channel Management messages\\n  0    0    0    1    0    0    0    TRX Management messages\\n  0    0    1    0    0    0    0    Location Services messages\\n  ---- ---- ---- ---- ---- ---- ---- ---------------------------------------\\n\\nAll other values are reserved for future use.\\n\\n9.2 MESSAGE TYPE\\n----------------\\n\\nThe Message Type uniquely identifies the function of the message being\\nsent. It is a single octet and coded in the following way:\\n\\n  ---- -------------- --- --- --- --- --- ---\\n  8    7              6   5   4   3   2   1\\n                                          \\n  EM   Message type                       \\n                                          \\n  ---- -------------- --- --- --- --- --- ---\\n\\nBit 8 is the extension bit and is reserved for future use. The following\\nmessage types are used (all other values are reserved):\\n\\n> **8 7 6 5 4 3 2 1 Message Reference**\\n>\\n> **0 0 0 0 - - - - Radio Link Layer Management messages:**\\n>\\n> 0 0 0 1 - DATA REQuest 8.3.1\\n>\\n> 0 0 1 0 - DATA INDication 8.3.2\\n>\\n> 0 0 1 1 - ERROR INDication 8.3.3\\n>\\n> 0 1 0 0 - ESTablish REQuest 8.3.4\\n>\\n> 0 1 0 1 - ESTablish CONFirm 8.3.5\\n>\\n> 0 1 1 0 - ESTablish INDication 8.3.6\\n>\\n> 0 1 1 1 - RELease REQuest 8.3.7\\n>\\n> 1 0 0 0 - RELease CONFirm 8.3.8\\n>\\n> 1 0 0 1 - RELease INDication 8.3.9\\n>\\n> 1 0 1 0 - UNIT DATA REQuest 8.3.10\\n>\\n> 1 0 1 1 - UNIT DATA INDication 8.3.11\\n>\\n> **0 0 0 1 - - - - Common Channel Management/TRX Management messages:**\\n>\\n> 0 0 0 1 - BCCH INFOrmation 8.5.1\\n>\\n> 0 0 1 0 - CCCH LOAD INDication 8.5.2\\n>\\n> 0 0 1 1 - CHANnel ReQuireD 8.5.3\\n>\\n> 0 1 0 0 - DELETE INDication 8.5.4\\n>\\n> 0 1 0 1 - PAGING CoMmanD 8.5.5\\n>\\n> 0 1 1 0 - IMMEDIATE ASSIGN COMMAND 8.5.6\\n>\\n> 0 1 1 1 - SMS BroadCast REQuest 8.5.7\\n>\\n> 1 0 0 1 - RF RESource INDication 8.6.1\\n>\\n> 1 0 1 0 - SACCH FILLing 8.6.2\\n>\\n> 1 0 1 1 - OVERLOAD 8.6.3\\n>\\n> 1 1 0 0 - ERROR REPORT 8.6.4\\n>\\n> 1 1 0 1 - SMS BroadCast CoMmanD 8.5.8\\n>\\n> 1 1 1 0 - CBCH LOAD INDication 8.5.9\\n>\\n> 1 1 1 1 - NOTification CoMmanD 8.5.10\\n>\\n> **0 0 1 - - - - - Dedicated Channel Management messages:**\\n>\\n> 0 0 0 0 1 - CHANnel ACTIVation 8.4.1\\n>\\n> 0 0 0 1 0 - CHANnel ACTIVation ACKnowledge 8.4.2\\n>\\n> 0 0 0 1 1 - CHANnel ACTIVation Negative ACK 8.4.3\\n>\\n> 0 0 1 0 0 - CONNection FAILure 8.4.4\\n>\\n> 0 0 1 0 1 - DEACTIVATE SACCH 8.4.5\\n>\\n> 0 0 1 1 0 - ENCRyption CoMmanD 8.4.6\\n>\\n> 0 0 1 1 1 - HANDOver DETection 8.4.7\\n>\\n> 0 1 0 0 0 - MEASurement RESult 8.4.8\\n>\\n> 0 1 0 0 1 - MODE MODIFY REQuest 8.4.9\\n>\\n> 0 1 0 1 0 - MODE MODIFY ACKnowledge 8.4.10\\n>\\n> 0 1 0 1 1 - MODE MODIFY Negative ACKnowledge 8.4.11\\n>\\n> 0 1 1 0 0 - PHYsical CONTEXT REQuest 8.4.12\\n>\\n> 0 1 1 0 1 - PHYsical CONTEXT CONFirm 8.4.13\\n>\\n> 0 1 1 1 0 - RF CHANnel RELease 8.4.14\\n>\\n> 0 1 1 1 1 - MS POWER CONTROL 8.4.15\\n>\\n> 1 0 0 0 0 - BS POWER CONTROL 8.4.16\\n>\\n> 1 0 0 0 1 - PREPROCess CONFIGure 8.4.17\\n>\\n> 1 0 0 1 0 - PREPROCessed MEASurement RESult 8.4.18\\n>\\n> 1 0 0 1 1 - RF CHANnel RELease ACKnowledge 8.4.19\\n>\\n> 1 0 1 0 0 - SACCH INFO MODIFY 8.4.20\\n>\\n> 1 0 1 0 1 - TALKER DETection 8.4.21\\n>\\n> 1 0 1 1 0 - LISTENER DETection 8.4.22\\n>\\n> 1 0 1 1 1 - REMOTE CODEC CONFiguration REPort 8.4.23\\n>\\n> 1 1 0 0 0 - Round Trip Delay REPort 8.4.24\\n>\\n> 1 1 0 0 1 - PRE-HANDOver NOTIFication 8.4.25\\n>\\n> 1 1 0 1 0 - MultiRate CODEC MODification REQest 8.4.26\\n>\\n> 1 1 0 1 1 - MultiRate CODEC MOD ACKnowledge 8.4.27\\n>\\n> 1 1 1 0 0 - MultiRate CODEC MOD Negative ACKnowledge 8.4.28\\n>\\n> 1 1 1 0 1 - MultiRate CODEC MOD PERformed 8.4.29\\n>\\n> 1 1 1 1 0 - TFO REPort 8.4.30\\n>\\n> 1 1 1 1 1 - TFO MODification REQuest 8.4.31\\n>\\n> **0 1 - - - - - - Location Services messages:**\\n>\\n> 0 0 0 0 0 1 - Location Information 8.7.1\\n\\n9.3 Other information elements\\n------------------------------\\n\\nThe information elements used and the coding of their Element Identifier\\nfields are:\\n\\n**Element**\\n\\n**Identifier bits**\\n\\n> **8 7 6 5 4 3 2 1 Element name Reference**\\n>\\n> 0 0 0 0 0 0 0 1 Channel Number 9.3.1\\n>\\n> 0 0 0 0 0 0 1 0 Link Identifier 9.3.2\\n>\\n> 0 0 0 0 0 0 1 1 Activation Type 9.3.3\\n>\\n> 0 0 0 0 0 1 0 0 BS Power 9.3.4\\n>\\n> 0 0 0 0 0 1 0 1 Channel Identification 9.3.5\\n>\\n> 0 0 0 0 0 1 1 0 Channel Mode 9.3.6\\n>\\n> 0 0 0 0 0 1 1 1 Encryption Information 9.3.7\\n>\\n> 0 0 0 0 1 0 0 0 Frame Number 9.3.8\\n>\\n> 0 0 0 0 1 0 0 1 Handover Reference 9.3.9\\n>\\n> 0 0 0 0 1 0 1 0 L1 Information 9.3.10\\n>\\n> 0 0 0 0 1 0 1 1 L3 Information 9.3.11\\n>\\n> 0 0 0 0 1 1 0 0 MS Identity 9.3.12\\n>\\n> 0 0 0 0 1 1 0 1 MS Power 9.3.13\\n>\\n> 0 0 0 0 1 1 1 0 Paging Group 9.3.14\\n>\\n> 0 0 0 0 1 1 1 1 Paging Load 9.3.15\\n>\\n> 0 0 0 1 0 0 0 0 Physical Context 9.3.16\\n>\\n> 0 0 0 1 0 0 0 1 Access Delay 9.3.17\\n>\\n> 0 0 0 1 0 0 1 0 RACH Load 9.3.18\\n>\\n> 0 0 0 1 0 0 1 1 Request Reference 9.3.19\\n>\\n> 0 0 0 1 0 1 0 0 Release Mode 9.3.20\\n>\\n> 0 0 0 1 0 1 0 1 Resource Information 9.3.21\\n>\\n> 0 0 0 1 0 1 1 0 RLM Cause 9.3.22\\n>\\n> 0 0 0 1 0 1 1 1 Starting Time 9.3.23\\n>\\n> 0 0 0 1 1 0 0 0 Timing Advance 9.3.24\\n>\\n> 0 0 0 1 1 0 0 1 Uplink Measurements 9.3.25\\n>\\n> 0 0 0 1 1 0 1 0 Cause 9.3.26\\n>\\n> 0 0 0 1 1 0 1 1 Measurement result number 9.3.27\\n>\\n> 0 0 0 1 1 1 0 0 Message Identifier 9.3.28\\n>\\n> 0 0 0 1 1 1 0 1 reserved\\n>\\n> 0 0 0 1 1 1 1 0 System Info Type 9.3.30\\n>\\n> 0 0 0 1 1 1 1 1 MS Power Parameters 9.3.31\\n>\\n> 0 0 1 0 0 0 0 0 BS Power Parameters 9.3.32\\n>\\n> 0 0 1 0 0 0 0 1 Pre-processing Parameters 9.3.33\\n>\\n> 0 0 1 0 0 0 1 0 Pre-processed Measurements 9.3.34\\n>\\n> 0 0 1 0 0 0 1 1 reserved\\n>\\n> 0 0 1 0 0 1 0 0 SMSCB Information 9.3.36\\n>\\n> 0 0 1 0 0 1 0 1 MS Timing Offset 9.3.37\\n>\\n> 0 0 1 0 0 1 1 0 Erroneous Message 9.3.38\\n>\\n> 0 0 1 0 0 1 1 1 Full BCCH Information 9.3.39\\n>\\n> 0 0 1 0 1 0 0 0 Channel Needed 9.3.40\\n>\\n> 0 0 1 0 1 0 0 1 CB Command type 9.3.41\\n>\\n> 0 0 1 0 1 0 1 0 SMSCB message 9.3.42\\n>\\n> 0 0 1 0 1 0 1 1 Full Immediate Assign Info 9.3.35\\n>\\n> 0 0 1 0 1 1 0 0 SACCH Information 9.3.29\\n>\\n> 0 0 1 0 1 1 0 1 CBCH Load Information 9.3.43\\n\\n**Element**\\n\\n**Identifier bits**\\n\\n> **8 7 6 5 4 3 2 1 Element name Reference**\\n>\\n> 0 0 1 0 1 1 1 0 SMSCB Channel Indicator 9.3.44\\n>\\n> 0 0 1 0 1 1 1 1 Group call reference 9.3.45\\n>\\n> 0 0 1 1 0 0 0 0 Channel description 9.3.46\\n>\\n> 0 0 1 1 0 0 0 1 NCH DRX information 9.3.47\\n>\\n> 0 0 1 1 0 0 1 0 Command indicator 9.3.48\\n>\\n> 0 0 1 1 0 0 1 1 eMLPP Priority 9.3.49\\n>\\n> 0 0 1 1 0 1 0 0 UIC 9.3.50\\n>\\n> 0 0 1 1 0 1 0 1 Main channel reference 9.3.51\\n>\\n> 0 0 1 1 0 1 1 0 MultiRate configuration 9.3.52\\n>\\n> 0 0 1 1 0 1 1 1 MultiRate Control 9.3.53\\n>\\n> 0 0 1 1 1 0 0 0 Supported Codec Types 9.3.54\\n>\\n> 0 0 1 1 1 0 0 1 Codec Configuration 9.3.55\\n>\\n> 0 0 1 1 1 0 1 0 Round Trip Delay 9.3.56\\n>\\n> 0 0 1 1 1 0 1 1 TFO Status 9.3.57\\n>\\n> 0 0 1 1 1 1 0 0 LLP APDU 9.3.58\\n>\\n> 0 0 1 1 1 1 0 1 TFO transparent container 9.3.59\\n>\\n> 0 0 1 1 1 1 1 0 Paging Group Extension 9.3.60\\n>\\n> 0 0 1 1 1 1 1 1\\n>\\n> to Reserved for future use\\n>\\n> 1 1 1 0 1 1 1 1\\n>\\n> 1 1 1 1 0 0 0 0\\n>\\n> to Not used\\n>\\n> 1 1 1 1 1 1 1 1\\n\\n### 9.3.1 Channel Number\\n\\nIn the direction BSC to BTS the Channel Number parameter is used to\\nindicate on which physical channel/subchannel the message is to be sent.\\nIn the direction BTS to BSC the Channel Number indicates on which\\nphysical channel/subchannel the message was received. It is coded in two\\noctets as follows:\\n\\n  -------------------- ---- ---- ---- ---- ---- --- --- --\\n  8                    7    6    5    4    3    2   1   \\n  Element identifier   1                                \\n  C5                   C4   C3   C2   C1   TN   2       \\n  -------------------- ---- ---- ---- ---- ---- --- --- --\\n\\nThe C-bits describe the channel as follows:\\n\\n  ---- ---- ---- ---- ---- ----------------------------\\n  C5   C4   C3   C2   C1   \\n  0    0    0    0    1    Bm + ACCH\\\\\\'s\\n  0    0    0    1    T    Lm + ACCH\\\\\\'s\\n  0    0    1    T    T    SDCCH/4 + ACCH\\n  0    1    T    T    T    SDCCH/8 + ACCH\\n  1    0    0    0    0    BCCH\\n  1    0    0    0    1    Uplink CCCH (RACH)\\n  1    0    0    1    0    Downlink CCCH (PCH + AGCH)\\n  ---- ---- ---- ---- ---- ----------------------------\\n\\nThe T-bits indicate, coded in binary, the sub-channel number as\\nspecified in 3GPP\\xa0TS\\xa045.002.\\n\\nTN is time slot number, binary represented as in 3GPP\\xa0TS\\xa045.002.\\n\\n### 9.3.2 Link Identifier\\n\\nThis element identifies the signalling channel and SAPI of the radio\\ndata link.\\n\\n  -------------------- ---- ---- ---------- ------ --- --- --- --\\n  8                    7    6    5          4      3   2   1   \\n  Element identifier   1                                       \\n  C2                   C1   NA   priority   SAPI   2           \\n  -------------------- ---- ---- ---------- ------ --- --- --- --\\n\\nThe NA bit (bit 6 in octet 2) is set to 1 to indicate thet the Link\\nIdentifier is not applicable for this message. In all other cases it is\\nset to 0.\\n\\nThe C-bits indicate the channel type as follows:\\n\\n  ------- ------------------------------------------\\n  C2 C1   \\n  0 0     main signalling channel (FACCH or SDCCH)\\n  0 1     SACCH\\n  ------- ------------------------------------------\\n\\nAll other values are reserved for future use.\\n\\nThe SAPI field contains the SAPI value as defined in 3GPP\\xa0TS\\xa044.005.\\n\\nThe priority field contains the message priority for SAPI 0, as defined\\nin 3GPP\\xa0TS\\xa044.006, as follows:\\n\\n0 0 normal priority\\n\\n0 1 high priority\\n\\n1 0 low priority\\n\\nAll other values for SAPI 0 and all values for other SAPIs are reserved\\nfor future use.\\n\\n### 9.3.3 Activation Type\\n\\nThis element is used to indicate the type of activation requested in the\\nCHANnel ACTIVation message. It is coded in two octets as follows:\\n\\n  -------------------- ---------- ---- ---- ---- --- --- --- --\\n  8                    7          6    5    4    3   2   1   \\n  Element identifier   1                                     \\n  R                    Reserved   A3   A2   A1   2           \\n  -------------------- ---------- ---- ---- ---- --- --- --- --\\n\\nThe R bit indicates if the procedure is an initial activation or a\\nreactivation.\\n\\n  --- --------------------\\n  R   \\n  0   Initial activation\\n  1   Reactivation\\n  --- --------------------\\n\\nThe A-bits indicate the type of activation, which defines the access\\nprocedure and the operation of the data link layer, as follows:\\n\\n[A3 A2 A1]{.underline}\\n\\n0 0 - Activation related to intra-cell channel change\\n\\n0 - related to immediate assignment procedure\\n\\n1 - related to normal assignment procedure\\n\\n0 1 - Activation related to inter-cell channel change (handover)\\n\\n0 - related to asynchronous handover procedure\\n\\n1 - related to synchronous handover procedure\\n\\n1 0 - Activation related to secondary channels\\n\\n0 - related to additional assignment procedure\\n\\n1 - related to multislot configuration\\n\\nAll other values reserved for future use.\\n\\nNOTE: For the main TCH channel in a Multislot configuration activation\\ntypes for intra-cell and inter-cell channel change are used.\\n\\n### 9.3.4 BS Power\\n\\nThis information element indicates the TRX transmission power level and\\nthe use of fast power control and enhanced power control on a particular\\nchannel.\\n\\n  -------------------- ---------- ---------- ------------- --- --- --- --- --\\n  8                    7          6          5             4   3   2   1   \\n  Element identifier   1                                                   \\n  Reserved             EPC mode   FPC\\\\_EPC   Power Level   2               \\n  -------------------- ---------- ---------- ------------- --- --- --- --- --\\n\\nThe EPC mode field (octet 2) indicates whether the activated channel\\nshall be in enhanced power control (EPC) mode. It is only valid for\\nchannels on which EPC may be used. It is coded as follows:\\n\\nValue\\n\\n0 Channel not in EPC mode\\n\\n1 Channel in EPC mode\\n\\nNOTE: The EPC mode field is only valid in the CHANNEL ACTIVATION\\nmessage.\\n\\nThe FPC\\\\_EPC (Fast Power Control/Enhanced Power Control) field (octet 2)\\nhas different interpretation depending on the channel mode of the\\nchannel and whether the channel is in EPC mode.\\n\\nIf the channel mode is such that FPC may be used, the FPC\\\\_EPC field\\nindicates whether Fast Measurement Reporting and Power Control mechanism\\nis used. It is coded as follows:\\n\\nValue\\n\\n0 Fast Power Control not in use\\n\\n1 Fast Power Control in use\\n\\nIf the channel is in EPC mode, the FPC\\\\_EPC field indicates whether EPC\\nprocedures are used for BS (downlink) power control. It is coded as\\nfollows:\\n\\nValue\\n\\n0 EPC not in use for BS power control\\n\\n1 EPC in use for BS power control\\n\\nIf the channel mode is such that FPC may not be used and the channel is\\nnot in EPC mode, the BTS shall ignore the value of the FPC\\\\_EPC field\\nand the BSC shall set its value to 0.\\n\\nThe Power Level field (octet 2) indicates the number of 2 dB steps by\\nwhich the power shall be reduced from its nominal value, Pn, set by the\\nnetwork operator to adjust the coverage. Thus the Power Level values\\ncorrespond to the following powers (relative to Pn):\\n\\n  ----------------------------------------------- -------------\\n  Value                                           Power level\\n  0 0 0 0 0                                       Pn\\n  0 0 0 0 1                                       Pn - 2 dB\\n  0 0 0 1 0                                       Pn - 4 dB\\n  .                                               \\n  .                                               \\n  0 1 1 1 0                                       Pn - 28 dB\\n  0 1 1 1 1                                       Pn - 30 dB\\n  All other values are reserved for future use.   \\n  ----------------------------------------------- -------------\\n\\nSee also 3GPP\\xa0TS\\xa045.005 and 3GPP\\xa0TS\\xa045.008.\\n\\n### 9.3.5 Channel Identification\\n\\nThis information element describes some aspects of a channel together\\nwith its SACCH.\\n\\n  ---------------------------------------- ---- --- --- --- --- --- --- --\\n  8                                        7    6   5   4   3   2   1   \\n  Element identifier                       1                            \\n  Length                                   2                            \\n  3GPP\\xa0TS\\xa044.018 \\\\\"Channel Description\\\\\"   \\\\*                           \\n  3GPP\\xa0TS\\xa044.018 \\\\\"Mobile Allocation\\\\\"     \\\\*                           \\n  ---------------------------------------- ---- --- --- --- --- --- --- --\\n\\nA \\\\* denotes that the whole of the 3GPP\\xa0TS\\xa044.018 element including the\\nelement identifier and length should be included. The 3GPP\\xa0TS\\xa024.008\\n\\\\\"Mobile Allocation\\\\\" shall for compatibility reasons be included but\\nempty, i.e. the length shall be zero.\\n\\n### 9.3.6 Channel Mode\\n\\nThis element gives information on the mode of coding/decoding and\\ntranscoding/rate adaption of a channel.\\n\\n  --------------------------------------------- ------ ------ --- --- --- --- --- --\\n  8                                             7      6      5   4   3   2   1   \\n  Element identifier                            1                                 \\n  Length                                        2                                 \\n  Reserved for future use                       DTXd   DTXu   3                   \\n  Speech or data indicator                      4                                 \\n  Channel rate and type                         5                                 \\n  Speech coding algor./data rate + transp ind   6                                 \\n  --------------------------------------------- ------ ------ --- --- --- --- --- --\\n\\nThe DTX bits of octet 3 indicate whether DTX is applied:\\n\\n1 DTX is applied\\n\\n0 DTX is not applied.\\n\\nDTXd indicates use of DTX in the downlink direction (BTS to MS) and DTXu\\nindicates use of DTX in the uplink direction (MS to BTS).\\n\\nThe \\\\\"Speech or data indicator\\\\\" field (octet 4) is coded as follows:\\n\\n0000 0001 Speech\\n\\n0000 0010 Data\\n\\n0000 0011 Signalling\\n\\nAll other values are reserved.\\n\\nThe \\\\\"Channel rate and type\\\\\" field (octet 5) is coded as follows:\\n\\n  -------------------------------- ----------------------------------------------------------------------------\\n  0000 0001                        SDCCH\\n  0000 1000                        Full rate TCH channel Bm\\n  0000 1001                        Half rate TCH channel Lm\\n  0000 1010                        Full rate TCH channel bi-directional Bm, Multislot configuration\\n  0001 1010                        Full rate TCH channel uni-directional downlink Bm, Multislot configuration\\n  0001 1000                        Full rate TCH channel Bm Group call channel\\n  0001 1001                        Half rate TCH channel Lm Group call channel\\n  0010 1000                        Full rate TCH channel Bm Broadcast call channel\\n  0010 1001                        Half rate TCH channel Lm Broadcast call channel\\n  All other values are reserved.   \\n  -------------------------------- ----------------------------------------------------------------------------\\n\\nThe \\\\\"speech coding algorithm/data rate + transparency indicator\\\\\" field\\n(octet 6) is coded as follows:\\n\\nIf octet 4 indicates speech, then octet 6 is coded as follows:\\n\\n  -------------------------------- ---------------------------------------\\n  0000 0001                        GSM speech coding algorithm version 1\\n  0001 0001                        GSM speech coding algorithm version 2\\n  0010 0001                        GSM speech coding algorithm version 3\\n  0011 0001                        GSM speech coding algorithm version 4\\n  0000 1001                        GSM speech coding algorithm version 5\\n  0000 1101                        GSM speech coding algorithm version 6\\n  All other values are reserved.   \\n  -------------------------------- ---------------------------------------\\n\\nIf octet 4 indicates signalling then octet 6 is coded as follows:\\n\\n0000 0000 No resources required\\n\\nAll other values are reserved.\\n\\nNOTE: the GSM speech coding algorithm versions are also referred as\\nfollows (see 3GPP\\xa0TS\\xa026.103 \\\\[18\\\\]):\\n\\n\\\\- GSM speech coding algorithm version 1: GSM FR or GSM HR\\n\\n\\\\- GSM speech coding algorithm version 2: GSM EFR (half rate not defined\\nin this version of the protocol)\\n\\n\\\\- GSM speech coding algorithm version 3: FR AMR or HR AMR\\n\\n\\\\- GSM speech coding algorithm version 4: OFR AMR-WB or OHR AMR-WB\\n\\n\\\\- GSM speech coding algorithm version 5: FR AMR-WB\\n\\n\\\\- GSM speech coding algorithm version 6: OHR AMR\\n\\nIf octet 4 indicates data, then octet 6 is coded as follows:\\n\\n  ----- ------ ------ --------- --- --- --- --- --\\n  8     7      6      5         4   3   2   1   \\n  ext   T/NT   Rate   octet 6                   \\n  ----- ------ ------ --------- --- --- --- --- --\\n\\nBit 8: Reserved for extension\\n\\nBit 7: 0 Transparent service\\n\\n1 Non-transparent service.\\n\\nFor the non-transparent service, bits 6 to 1 indicate the radio\\ninterface data rate:\\n\\n[65 4321]{.underline}\\n\\n10 0001 asymmetric 43.5 kbit/s (downlink) + 14.5 kbit/s (uplink)\\n\\n10 0010 asymmetric 29.0 kbit/s (downlink) + 14.5 kbit/s (uplink)\\n\\n10 0011 asymmetric 43.5 kbit/s (downlink) + 29.0 kbit/s (uplink)\\n\\n10 1001 asymmetric 14.5 kbit/s (downlink) + 43.5 kbit/s (uplink)\\n\\n10 1010 asymmetric 14.5 kbit/s (downlink) + 29.0 kbit/s (uplink)\\n\\n10 1011 asymmetric 29.0 kbit/s (downlink) + 43.5 kbit/s (uplink)\\n\\n11 0100 43.5 kbit/s\\n\\n11 0001 28.8 kbit/s\\n\\n01 1000 14.5 kbit/s\\n\\n01 0000 12 kbit/s\\n\\n01 0001 6 kbit/s\\n\\nall other values are reserved.\\n\\nFor the transparent service, bits 6‑1 indicate the data rate:\\n\\n[65 4321]{.underline}\\n\\n11 1000 32 kbit/s\\n\\n11 1001 29 kbit/s\\n\\n01 1000 14.4 kbit/s\\n\\n01 0000 9.6 kbit/s\\n\\n01 0001 4.8 kbit/s\\n\\n01 0010 2.4 kbit/s\\n\\n01 0011 1.2 kbit/s\\n\\n01 0100 600 bit/s\\n\\n01 0101 1\\xa0200/75 bit/s (1\\xa0200 network-to-MS, 75 MS-to-network)\\n\\nAll other values are reserved.\\n\\n### 9.3.7 Encryption information\\n\\nThis element is a variable length element. It contains necessary\\ninformation to control encryption devices.\\n\\n  ---------------------- --- --- --- --- --- --- --- --\\n  8                      7   6   5   4   3   2   1   \\n  Element identifier     1                           \\n  Length                 2                           \\n  Algorithm identifier   3                           \\n  Key                    4                           \\n                                                     \\n                         n                           \\n  ---------------------- --- --- --- --- --- --- --- --\\n\\nThe Algorithm Identifier field (octet 3) indicates the relevant\\nciphering algorithm. It is coded as:\\n\\n  ------------------------------- -------------------------------------------\\n  0000 0000                       Reserved\\n  0000 0001                       No encryption shall be used.\\n  0000 0010                       GSM encryption algorithm version 1 (A5/1)\\n  0000 0011                       GSM A5/2\\n  0000 0100                       GSM A5/3\\n  0000 0101                       GSM A5/4\\n  0000 0110                       GSM A5/5\\n  0000 0111                       GSM A5/6\\n  0000 1000                       GSM A5/7\\n  All other values are reserved   \\n  ------------------------------- -------------------------------------------\\n\\nThe Key field (octets 4-n) indicates the ciphering key. It shall be an\\nintegral number of octets and the length is given as the value of the\\nLength field minus 1.\\n\\n### 9.3.8 Frame Number\\n\\nThis element contains the absolute frame number (FN) modulo 42432. It is\\nused to carry the current timing in BTS to BSC for calculation of the\\nStarting Time parameter required in some messages.\\n\\n  -------------------- ----------- --- --- --- --- --- --- --\\n  8                    7           6   5   4   3   2   1   \\n  Element identifier   1                                   \\n  T1\\\\\\'                 T3 (high)   2                       \\n  T3 (low)             T2          3                       \\n  -------------------- ----------- --- --- --- --- --- --- --\\n\\nOctets 2‑3 are coded as defined for octets 2‑3 of the Starting Time\\ninformation element of 3GPP\\xa0TS\\xa044.018.\\n\\n### 9.3.9 Handover reference\\n\\nThe information is coded in two octets and contains the hand-over\\nreference value.\\n\\n  --------------------- --- --- --- --- --- --- --- --\\n  8                     7   6   5   4   3   2   1   \\n  Element identifier    1                           \\n  Hand─over reference   2                           \\n  --------------------- --- --- --- --- --- --- --- --\\n\\nThe Handover Reference octet contains the handover reference value as\\ndefined in 3GPP\\xa0TS\\xa044.018.\\n\\n### 9.3.10 L1 Information\\n\\nThis element carries the information used in the L1 header of SACCH\\nblocks.\\n\\n  ----------------------- ----- ----- ---------- --- --- --- --- --\\n  8                       7     6     5          4   3   2   1   \\n  Element identifier      1                                      \\n  Actual MS power level   FPC   SRR   Reserved   2               \\n  Actual Timing Advance   3                                      \\n  ----------------------- ----- ----- ---------- --- --- --- --- --\\n\\nOctets 2‑3 contain the L1 header information of SACCH blocks. The\\ninformation fields and codings are as defined in 3GPP\\xa0TS\\xa044.004.\\n\\n### 9.3.11 L3 Information (message name)\\n\\nThis element contains a link layer service data unit (L3 message). It is\\nused to forward a complete L3 message as specified in 3GPP\\xa0TS\\xa024.008 or\\n3GPP\\xa0TS\\xa044.018 between BTS and BSC.\\n\\n  ------------------------------ ------------------------------------------------- --- --- --- --- --- --- --\\n  8                              7                                                 6   5   4   3   2   1   \\n  Element identifier             1                                                                         \\n  Length                         2                                                                         \\n                                 Indicator                                             3                   \\n  Link Layer Service Data Unit   4                                                                         \\n                                 (i.e. a layer 3 message                                                   \\n                                 as defined in 3GPP\\xa0TS\\xa024.008 or 3GPP\\xa0TS\\xa044.018)       n                   \\n  ------------------------------ ------------------------------------------------- --- --- --- --- --- --- --\\n\\nThe Length Indicator field (octets 2‑3) indicates in binary the\\nremaining length of the element (octets 4-n). The most significant bit\\nis bit 8 of octet 2 and the least significant bit is bit 1 of octet 3.\\n\\nOctets 4-n contain the complete L3 message as defined in 3GPP\\xa0TS\\xa024.008\\nor in 3GPP\\xa0TS\\xa044.018. In the message format sub-clause, the\\n3GPP\\xa0TS\\xa024.008 or 3GPP\\xa0TS\\xa044.018 message name to be included is\\nindicated within brackets.\\n\\n### 9.3.12 MS Identity\\n\\nThis element carries the identity of an MS (TMSI or IMSI). It is a\\nvariable length element.\\n\\n  -------------------- ------------- --- --- --- --- --- --- --\\n  8                    7             6   5   4   3   2   1   \\n  Element identifier   1                                     \\n  Length               2                                     \\n                       3                                     \\n                       MS Identity                           \\n                                         N                   \\n  -------------------- ------------- --- --- --- --- --- --- --\\n\\nThe MS Identity field (octets 3-N) is coded as specified for the Mobile\\nIdentity information element of 3GPP\\xa0TS\\xa024.008, octets 3-N.\\n\\n### 9.3.13 MS Power\\n\\nThis element carries the power level of MS and indicates the use of fast\\npower control and enhanced power control.\\n\\n  -------------------- ---------- ------------- --- --- --- --- --- --\\n  8                    7          6             5   4   3   2   1   \\n  Element identifier   1                                            \\n  Reserved             FPC\\\\_EPC   Power Level   2                   \\n  -------------------- ---------- ------------- --- --- --- --- --- --\\n\\nThe FPC\\\\_EPC (Fast Power Control/Enhanced Power Control) field (octet 2)\\nhas different interpretation depending on the channel mode of the\\nchannel and whether the channel is in EPC mode.\\n\\nIf the channel mode is such that FPC may be used, the FPC\\\\_EPC field\\nindicates whether Fast Measurement Reporting and Power Control mechanism\\nis used. It is coded as follows:\\n\\nValue\\n\\n0 Fast Power Control not in use\\n\\n1 Fast Power Control in use\\n\\nIf the channel is in EPC mode, the FPC\\\\_EPC field indicates whether EPC\\nprocedures are used for MS (uplink) power control. It is coded as\\nfollows:\\n\\nValue\\n\\n0 EPC not in use for MS power control\\n\\n1 EPC in use for MS power control\\n\\nIf the channel mode is such that FPC may not be used and the channel is\\nnot in EPC mode, the BTS shall ignore the value of the FPC\\\\_EPC field\\nand the BSC shall set its value to 0.\\n\\nThe coding and meaning of the Power Level field is as defined in\\n3GPP\\xa0TS\\xa045.005 and 3GPP\\xa0TS\\xa045.008. See also 3GPP\\xa0TS\\xa044.004.\\n\\n### 9.3.14 Paging Group\\n\\nThis element carries the paging population of an MS to be paged.\\n\\n  -------------------- --- --- --- --- --- --- --- --\\n  8                    7   6   5   4   3   2   1   \\n  Element identifier   1                           \\n  Paging Group         2                           \\n  -------------------- --- --- --- --- --- --- --- --\\n\\nThe Paging Group field (octet 2) contains the binary representation of\\nthe paging group as defined in 3GPP\\xa0TS\\xa045.002.\\n\\n### 9.3.15 Paging Load\\n\\nThis element carries data about the load of a paging channel (PCH).\\n\\n  -------------------- --------------------- --- --- --- --- --- --- --\\n  8                    7                     6   5   4   3   2   1   \\n  Element identifier   1                                             \\n                       2                                             \\n                       Paging Buffer Space       3                   \\n  -------------------- --------------------- --- --- --- --- --- --- --\\n\\nThe Paging Buffer Space field (octets 2‑3) indicates the remaining space\\nfor Paging Commands associated with this CCCH timeslot, given as the\\nnumber of additional Paging Commands that it is possible to store. The\\nnumber is binary coded with the most significant bit in bit 8 of octet 2\\nand the least significant bit in bit 1 of octet 3.\\n\\n### 9.3.16 Physical Context\\n\\nThis element contains supplementary information on the\\ntransmission/reception process. It is a variable length element.\\n\\n  -------------------- ------------- --- --- --- --- --- --- --\\n  8                    7             6   5   4   3   2   1   \\n  Element identifier   1                                     \\n  Length               2                                     \\n  Physical             3                                     \\n                       Context                               \\n                       Information       N                   \\n  -------------------- ------------- --- --- --- --- --- --- --\\n\\nThe Physical Context Information field is not specified. This\\ninformation should not be analysed by BSC, but merely forwarded from one\\nTRX/channel to another.\\n\\n### 9.3.17 Access Delay\\n\\nThis element contains the delay of the access burst as measured by BTS\\nat random access or at handover access.\\n\\n  -------------------- --- --- --- --- --- --- --- --\\n  8                    7   6   5   4   3   2   1   \\n  Element identifier   1                           \\n  Access Delay         2                           \\n  -------------------- --- --- --- --- --- --- --- --\\n\\nThe Access Delay field contains the delay of the access burst as\\nmeasured by BTS. The delay is expressed as defined for the Timing\\nAdvance TA in 3GPP\\xa0TS\\xa045.010 but with the range extended to 8 bits, i.e.\\nthe six least significant bits of the field correspond to the Timing\\nAdvance except for GSM 400 where all the 8 bits are used.\\n\\n### 9.3.18 RACH Load\\n\\nThis element is used to carry information on the load of the RACH\\n(Random Access Channel) associated with this CCCH timeslot. It is of\\nvariable length.\\n\\n  -------------------- ------------------- --- --- --- --- --- --- --\\n  8                    7                   6   5   4   3   2   1   \\n  Element identifier   1                                           \\n  Length               2                                           \\n                       3                                           \\n                       RACH Slot Count         4                   \\n                       5                                           \\n                       RACH Busy Count         6                   \\n                       7                                           \\n                       RACH Access Count       8                   \\n                       9                                           \\n                       Supplementary                               \\n                       Information             N                   \\n  -------------------- ------------------- --- --- --- --- --- --- --\\n\\nThe RACH Slot Count field (octets 3‑4) indicates the total number of\\navailable access slots over which the measurement (counting) was\\nperformed. The value is binary coded with the most significant bit in\\nbit 8 of the first octet and the least significant bit in bit 1 of the\\nsecond octet.\\n\\nThe RACH Busy Count field (octets 5‑6) indicates the number of RACH\\nburst periods during which the received signal level has exceeded a\\ngiven threshold. This will give a measure of the number of \\\\\"busy\\\\\"\\nrandom access slots. The value is binary coded with the most significant\\nbit in bit 8 of the first octet and the least significant bit in bit 1\\nof the second octet.\\n\\nThe RACH Access Count field (octets 7‑8) indicates the number of\\nreceived access bursts during the same measurement period. The value is\\nbinary coded with the most significant bit in bit 8 of the first octet\\nand the least significant bit in bit 1 of the second octet.\\n\\nThe busy count signal level threshold and the measurement period are\\nparameters set by O&M.\\n\\nThe Supplementary Information field may carry additional operator\\ndependent information.\\n\\n### 9.3.19 Request Reference\\n\\nThis element carries the Request Reference parameters used for\\ncontention resolution on RACH.\\n\\n  -------------------- ----------- --- --- --- --- --- --- --\\n  8                    7           6   5   4   3   2   1   \\n  Element identifier   1                                   \\n  RA                   2                                   \\n  T1\\\\\\'                 T3 (high)   3                       \\n  T3 (low)             T2          4                       \\n  -------------------- ----------- --- --- --- --- --- --- --\\n\\nOctets 2‑4 are coded as the corresponding fields of the Request\\nReference element of 3GPP\\xa0TS\\xa044.018. (Octet 2, RA, is the Random Access\\nInformation field set by MS in the CHANnel REQuest message. Octets 3‑4\\ncontain the absolute frame number modulo 42432 for the frame number when\\nthe access burst was received, see Starting Time information element of\\n3GPP\\xa0TS\\xa044.018).\\n\\n### 9.3.20 Release Mode\\n\\nThis element is used to distinguish between normal release and local end\\nrelease of the radio data link connection.\\n\\n  ------------------------- --- --- --- --- --- --- --- --\\n  8                         7   6   5   4   3   2   1   \\n  Element identifier        1                           \\n  Reserved for future use   M   2                       \\n  ------------------------- --- --- --- --- --- --- --- --\\n\\nThe M bit is coded as follows:\\n\\n0 normal release\\n\\n1 local end release\\n\\n### 9.3.21 Resource Information\\n\\nThis element is used to indicate the interference level for each of the\\nidle channels of a TRX.\\n\\n  ------------------------ ----- --- --- --- --- --- --- --\\n  8                        7     6   5   4   3   2   1   \\n  Element identifier       1                             \\n  Length                   2                             \\n  Channel Number (1)       3                             \\n  Interference level (1)   4                             \\n                                                         \\n  Channel Number (N)       N-1                           \\n  Interference level (N)   N                             \\n  ------------------------ ----- --- --- --- --- --- --- --\\n\\nThe Length field indicates in binary the remaining length of the element\\n(octets 3-N).\\n\\nOctets 3-N forms a list of Channel Numbers and Interference levels\\nmeasured on the corresponding channel.\\n\\nThe Channel Number octet is coded as octet 2 of the Channel Number\\ninformation element, sub-clause\\xa09.3.1.\\n\\nThe Interference Level octet is coded as follows:\\n\\n  ------------- ------------------------- --- --- --- --- --- --- --\\n  8             7                         6   5   4   3   2   1   \\n  Interf Band   Reserved for future use                           \\n  ------------- ------------------------- --- --- --- --- --- --- --\\n\\nThe Interf Band field (bits 6‑8) indicates in binary the interference\\nlevel expressed as one of five possible interference level bands as\\ndefined by O&M. The interference level is averaged over a period of\\nIntave (parameter set by O&M, see 3GPP\\xa0TS\\xa045.008) immediately before the\\ntransmission of the RF RESource INDication message. See also\\n3GPP\\xa0TS\\xa048.008 and 3GPP\\xa0TS\\xa045.008.\\n\\n### 9.3.22 RLM Cause\\n\\nThis element is used to indicate the precise protocol error or the\\nreason for a release on the radio link layer.\\n\\n  -------------------- ------------- --- --- --- --- --- --- --\\n  8                    7             6   5   4   3   2   1   \\n  Element identifier   1                                     \\n  Length               2                                     \\n  E                    Cause Value   3                       \\n  -------------------- ------------- --- --- --- --- --- --- --\\n\\nThe Cause Value is a one octet field if the extension bit is set to 0.\\nIf the extension bit is set to 1, the Cause Value is a two octet field.\\n\\nThe Cause Value field is coded as follows:\\n\\n  ----------------------------------------------- -----------------------------------------------------------\\n  8 7 6 5 4 3 2 1                                 \\n  0 0 0 0 0 0 0 0                                 reserved\\n  0 0 0 0 0 0 0 1                                 timer T200 expired (N200+1) times\\n  0 0 0 0 0 0 1 0                                 re-establishment request\\n  0 0 0 0 0 0 1 1                                 unsolicited UA response\\n  0 0 0 0 0 1 0 0                                 unsolicited DM response\\n  0 0 0 0 0 1 0 1                                 unsolicated DM response, multiple frame established state\\n  0 0 0 0 0 1 1 0                                 unsolicited supervisory response\\n  0 0 0 0 0 1 1 1                                 sequence error\\n  0 0 0 0 1 0 0 0                                 U-frame with incorrect parameters\\n  0 0 0 0 1 0 0 1                                 S-frame with incorrect parameters\\n  0 0 0 0 1 0 1 0                                 I-frame with incorrect use of M bit\\n  0 0 0 0 1 0 1 1                                 I-frame with incorrect length\\n  0 0 0 0 1 1 0 0                                 frame not implemented\\n  0 0 0 0 1 1 0 1                                 SABM command, multiple frame established state\\n  0 0 0 0 1 1 1 0                                 SABM frame with information not allowed in this state\\n  All other values are reserved for future use.   \\n  ----------------------------------------------- -----------------------------------------------------------\\n\\n### 9.3.23 Starting Time\\n\\nThis element provides the starting time expressed as FN modulo 42432 (FN\\nis absolute frame number).\\n\\n  -------------------- ----------- --- --- --- --- --- --- --\\n  8                    7           6   5   4   3   2   1   \\n  Element identifier   1                                   \\n  T1\\\\\\'                 T3 (high)   2                       \\n  T3 (low)             T2          3                       \\n  -------------------- ----------- --- --- --- --- --- --- --\\n\\nOctets 2‑3 are coded as defined for octets 2‑3 of the Starting Time\\ninformation element of 3GPP\\xa0TS\\xa044.018.\\n\\n### 9.3.24 Timing Advance\\n\\nThis element contains the timing advance to be used by MS in subsequent\\ncommunications. It is calculated by BTS at the reception of a CHANnel\\nREQuest message (random access burst) or a handover access burst.\\n\\n  -------------------- --- --- --- --- --- --- --- --\\n  8                    7   6   5   4   3   2   1   \\n  Element identifier   1                           \\n  Timing Advance       2                           \\n  -------------------- --- --- --- --- --- --- --- --\\n\\nThe Timing Advance field contains the timing advance TA as specified in\\n3GPP\\xa0TS\\xa045.010.\\n\\nBits 7‑8 of octet 2 are used in GSM 400 for support of extended cell\\nrange. For all other bands bit 7-8 are spare according to\\n3GPP\\xa0TS\\xa044.018.\\n\\n### 9.3.25 Uplink Measurements\\n\\nThis element is used to report the results of the TRX measurements on\\nthe uplink radio path of an activated basic radio channel. It is of\\nvariable length.\\n\\n  -------------------- ---------------- --------------- --- --- --- --- --- --\\n  8                    7                6               5   4   3   2   1   \\n  Element identifier   1                                                    \\n  Length               2                                                    \\n  rfu                  DTXd             RXLEV─FULL─up   3                   \\n  Reserved             RXLEV─SUB─up     4                                   \\n  Reserved             RXQUAL─FULL─up   RXQUAL─SUB─up   5                   \\n  Supplementary        6                                                    \\n                       Measurement                                          \\n  Information          N                                                    \\n  -------------------- ---------------- --------------- --- --- --- --- --- --\\n\\nrfu = Reserved for Future Use.\\n\\nThe Length field indicates in binary the remaining length of the element\\n(octets 3-N).\\n\\nOctets 3‑5 contain results from measurements made by TRX on the uplink.\\n\\nThe Supplementary Measurement Information field (octets 6-N) may carry\\nadditional operator dependent information.\\n\\nThe DTXd field (octet 3) indicates whether DTX was employed by TRX on\\nthe downlink transmission during the measurement period.\\n\\nThe RXLEV-FULL-up and RXLEV-SUB-up fields (octets 3‑4) report the\\naverage uplink signal level as measured by TRX over the measurement\\nperiod on all slots and on a subset of the slots respectively (see\\n3GPP\\xa0TS\\xa045.008). Each field is coded as defined in 3GPP\\xa0TS\\xa045.008.\\n\\nThe RXQUAL-FULL-up and RXQUAL-SUB-up fields (octet 5) report the average\\nuplink quality as measured by TRX over the measurement period on all\\nslots and on a subset of the slots respectively (see 3GPP\\xa0TS\\xa045.008).\\nEach field is coded as defined in 3GPP\\xa0TS\\xa045.008.\\n\\n### 9.3.26 Cause\\n\\nThe cause element is used to indicate the reason for a particular event\\nto have occurred and is coded as shown below.\\n\\n  -------------------- ---------------------- --- --- --- --- --- --- --\\n  8                    7                      6   5   4   3   2   1   \\n  Element identifier   1                                              \\n  Length               2                                              \\n  E                    Cause Value            3                       \\n  Cause Extension      3a                                             \\n                       4                                              \\n                       Diagnostic(s) if any                           \\n                       N                                              \\n  -------------------- ---------------------- --- --- --- --- --- --- --\\n\\nThe Length field indicates in binary the remaining length of the element\\n(octets 3-N).\\n\\nThe Cause Value is a single octet field (octet 3) if the extension bit E\\n(bit 8) is set to 0. If it is set to 1 then the cause value is a 2 octet\\nfield (octets 3 and 3a).\\n\\nThe Cause Value is divided into two fields: a class (bits 5 to 7 of\\noctet 3) and a value within the class (bits 1 to 4 of octet 3).\\n\\nIf the value of the first octet of the cause field is 1XXX 0000 then the\\nsecond octet is reserved for national applications (XXX will still\\nindicate the class).\\n\\nDiagnostic information is not available for every cause, see the table\\nbelow. When available, it is coded in the same way as the corresponding\\ninformation element in clause 9. Inclusion of diagnostics is optional.\\n\\n**Classes:**\\n\\nClass (000): Normal event\\n\\nClass (001): Normal event\\n\\nClass (010): Resource unavailable\\n\\nClass (011): Service or option not available\\n\\nClass (100): Service or option not implemented\\n\\nClass (101): Invalid message (e.g. parameter out of range)\\n\\nClass (110): Protocol error\\n\\nClass (111): Interworking\\n\\n**CAUSE VALUES:**\\n\\n  ----------- ------------- --------------------------------------------------- -----------------\\n  Class       Value         Cause                                               Diagnostics\\n  **0 0 0**   **- - - -**   **Normal Event**                                    \\n  0 0 0       0 0 0 0       radio interface failure                             Channel Number\\n  0 0 0       0 0 0 1       radio link failure                                  Channel Number\\n  0 0 0       0 0 1 0       handover access failure                             Channel Number\\n  0 0 0       0 0 1 1       talker access failure                               Channel Number\\n  0 0 0       0 1 0 0       reserved for international use                      \\n  0 0 0       0 1 0 1       reserved for international use                      \\n  0 0 0       0 1 1 0       reserved for international use                      \\n  0 0 0       0 1 1 1       O&M intervention                                    \\n  0 0 0       1 0 0 0       reserved for international use                      \\n  0 0 0       1 : : :                                                           \\n  0 0 0       1 1 1 0                                                           \\n  0 0 0       1 1 1 1       normal event, unspecified                           \\n  **0 0 1**   **- - - -**   **Normal Event**                                    \\n  0 0 1       0 0 0 0       reserved for international use                      \\n  0 0 1       0 : : :                                                           \\n  0 0 1       0 1 1 1                                                           \\n  0 0 1       1 0 0 0       reserved for national use                           \\n  0 0 1       1 : : :                                                           \\n  0 0 1       1 1 1 1                                                           \\n  **0 1 0**   **- - - -**   **Resource unavailable**                            \\n  0 1 0       0 0 0 0       equipment failure                                   \\n  0 1 0       0 0 0 1       radio resource not available                        Channel Number\\n  0 1 0       0 0 1 0       terrestrial channel failure                         Channel Number\\n  0 1 0       0 0 1 1       CCCH overload                                       Channel Number\\n  0 1 0       0 1 0 0       ACCH overload                                       Channel Number\\n  0 1 0       0 1 0 1       processor overload                                  \\n  0 1 0       0 1 1 0       reserved for international use                      \\n  0 1 0       0 1 1 1       BTS not equipped                                    \\n  0 1 0       1 0 0 0       remote transcoder failure                           Channel Number\\n  0 1 0       1 0 0 1       notification overflow                               Channel Number\\n  0 1 0       1 0 1 0       reserved for international use                      \\n  0 1 0       1 0 1 1       reserved for international use                      \\n  0 1 0       1 1 0 0       reserved for national use                           \\n  0 1 0       1 1 0 1       reserved for national use                           \\n  0 1 0       1 1 1 0       reserved for national use                           \\n  0 1 0       1 1 1 1       resource not available, unspecified                 \\n  **0 1 1**   **- - - -**   **Service or Option Not Available**                 \\n  0 1 1       0 0 0 0       requested transcoding/rate adaption not available   Channel Number\\n  0 1 1       0 0 0 1       reserved for international use                      \\n  0 1 1       : : : :                                                           \\n  0 1 1       1 1 1 0                                                           \\n  0 1 1       1 1 1 1       service or option not available, unspecified        \\n  **1 0 0**   **- - - -**   **Service or Option Not Implemented**               \\n  1 0 0       0 0 0 0       encryption algorithm not implemented                Channel Number\\n  1 0 0       0 0 0 1       reserved for international use                      \\n  1 0 0       0 : : :                                                           \\n  1 0 0       0 1 1 1                                                           \\n  1 0 0       1 0 0 0       reserved for national use                           \\n  1 0 0       1 : : :                                                           \\n  1 0 0       1 1 1 0                                                           \\n  1 0 0       1 1 1 1       service or option not implemented, unspecified      \\n  **1 0 1**   **- - - -**   **Invalid Message**                                 \\n  1 0 1       0 0 0 0       radio channel already activated/allocated           Channel Number\\n  1 0 1       0 0 0 1       reserved for international use                      \\n  1 0 1       0 : : :                                                           \\n  1 0 1       0 1 1 1                                                           \\n  1 0 1       1 0 0 0       reserved for national use                           \\n  1 0 1       1 : : :                                                           \\n  1 0 1       1 1 1 0                                                           \\n  1 0 1       1 1 1 1       invalid message, unspecified                        \\n  **1 1 0**   **- - - -**   **Protocol Error**                                  \\n  1 1 0       0 0 0 0       message discriminator error                         Message Discrim\\n  1 1 0       0 0 0 1       message type error                                  Message Type\\n  1 1 0       0 0 1 0       message sequence error                              Message Type\\n  1 1 0       0 0 1 1       general information element error                   \\n  1 1 0       0 1 0 0       mandatory information element error                 Element Identif\\n  1 1 0       0 1 0 1       optional information element error                  Element Identif\\n  1 1 0       0 1 1 0       information element non-existent                    Element Identif\\n  1 1 0       0 1 1 1       information element length error                    Element Identif\\n  1 1 0       1 0 0 0       invalid information element contents                Inform. Element\\n  1 1 0       1 0 0 1       reserved for international use                      \\n  1 1 0       1 0 1 0       reserved for international use                      \\n  1 1 0       1 0 1 1       reserved for international use                      \\n  1 1 0       1 1 0 0       reserved for national use                           \\n  1 1 0       1 1 0 1       reserved for national use                           \\n  1 1 0       1 1 1 0       reserved for national use                           \\n  1 1 0       1 1 1 1       protocol error, unspecified                         \\n  **1 1 1**   **- - - -**   **Interworking**                                    \\n  1 1 1       0 0 0 0       reserved for international use                      \\n  1 1 1       0 : : :                                                           \\n  1 1 1       0 1 1 1                                                           \\n  1 1 1       1 0 0 0       reserved for national use                           \\n  1 1 1       1 : : :                                                           \\n  1 1 1       1 1 1 0                                                           \\n  1 1 1       1 1 1 1       interworking, unspecified                           \\n  ----------- ------------- --------------------------------------------------- -----------------\\n\\n### 9.3.27 Measurement result number\\n\\nThis element is used by BTS to number, (on a channel), the measurement\\nresult messages sent to BSC. It is set to 0 at activation time of the\\nchannel. The numbering is modulo 256.\\n\\n  --------------------------- --- --- --- --- --- --- --- --\\n  8                           7   6   5   4   3   2   1   \\n  Element identifier          1                           \\n  Measurement result number   2                           \\n  --------------------------- --- --- --- --- --- --- --- --\\n\\n### 9.3.28 Message Identifier\\n\\nThis element is used to indicate a message type within a message.\\n\\n  -------------------- --- --- --- --- --- --- --- --\\n  8                    7   6   5   4   3   2   1   \\n  Element identifier   1                           \\n  Message Type         2                           \\n  -------------------- --- --- --- --- --- --- --- --\\n\\nOctet 2 is coded as the Message Type information element, sub-clause\\n9.2.\\n\\n### 9.3.29 SACCH Information\\n\\nThis element is used to carry the SACCH filling information (System\\nInformation messages, EXTENDED MEASUREMENT ORDER message or MEASUREMENT\\nINFORMATION message) that is to be used on a specific channel. The\\nMEASUREMENT INFORMATION message is periodically sent on SACCH.\\n\\n  ------------------------- --------------- --- --- --- --- --- --- --\\n  8                         7               6   5   4   3   2   1   \\n  Element identifier        1                                       \\n  Length                    2                                       \\n  Number of messages        3                                       \\n  Type of 1st message       4                                       \\n  Length of 1st message     5                                       \\n                            1st message         j                   \\n  Type of n\\\\\\'th message     l                                       \\n  Length of n\\\\\\'th message   l+1                                     \\n                            N                                       \\n                            n\\\\\\'th message                           \\n  ------------------------- --------------- --- --- --- --- --- --- --\\n\\nThe Length field (octet 2) indicates in binary the total remaining\\nlength of the element (octets 3 - N).\\n\\nThe Number of SI messages field (octet 3) indicates in binary the number\\nof messages contained in the element.\\n\\nThe coding of each of these messages consists of a type field (Type of\\nn\\'th msg), a length field (Length of n\\'th message) and a message field\\n(n\\'th message).\\n\\nThe \\\\\"Type of n\\'th msg\\\\\" field indicates the type of SYSTEM INFORMATION,\\nor an EXTENDED MEASUREMENT ORDER message or a MEASUREMENT INFORMATION\\nmessage that follows in the \\\\\"n\\'th message\\\\\" field. It is coded as\\nfollows:\\n\\n  ----------------- ----------------------------\\n  Value             Message\\n  0 0 0 0 0 1 0 1   SYSTEM INFORMATION 5\\n  0 0 0 0 0 1 1 0   SYSTEM INFORMATION 6\\n  0 0 0 0 1 1 0 1   SYSTEM INFORMATION 5bis\\n  0 0 0 0 1 1 1 0   SYSTEM INFORMATION 5ter\\n  0 1 0 0 0 1 1 1   EXTENDED MEASUREMENT ORDER\\n  0 1 0 0 1 0 0 0   MEASUREMENT INFORMATION\\n  ----------------- ----------------------------\\n\\nAll other values are reserved.\\n\\nThe \\\\\"Length of n\\'th SI message\\\\\" field indicates in binary the length\\nof the \\\\\"n\\'th message\\\\\" field that follows.\\n\\nThe \\\\\"n\\'th message\\\\\" field contains a complete SACCH message as defended\\nin 3GPP\\xa0TS\\xa044.018.\\n\\n### 9.3.30 System Info Type\\n\\nThis element is used to indicate the type of SYSTEM INFORMATION message\\nor an EXTENDED MEASUREMENT ORDER message or a MEASUREMENT INFORMATION\\nmessage as defined in 3GPP\\xa0TS\\xa044.018.\\n\\n  -------------------- --- --- --- --- --- --- --- --\\n  8                    7   6   5   4   3   2   1   \\n  Element identifier   1                           \\n  Sys Info Type        2                           \\n  -------------------- --- --- --- --- --- --- --- --\\n\\nThe Sys Info Field (octet 2) indicates the type of message. It is coded\\nas follows:\\n\\n  -------------------------------- ----------------------------\\n  Value                            Message\\n  0 0 0 0 0 0 0 0                  SYSTEM INFORMATION 8\\n  0 0 0 0 0 0 0 1                  SYSTEM INFORMATION 1\\n  0 0 0 0 0 0 1 0                  SYSTEM INFORMATION 2\\n  0 0 0 0 0 0 1 1                  SYSTEM INFORMATION 3\\n  0 0 0 0 0 1 0 0                  SYSTEM INFORMATION 4\\n  0 0 0 0 0 1 0 1                  SYSTEM INFORMATION 5\\n  0 0 0 0 0 1 1 0                  SYSTEM INFORMATION 6\\n  0 0 0 0 0 1 1 1                  SYSTEM INFORMATION 7\\n  0 0 0 0 1 0 0 0                  SYSTEM INFORMATION 16\\n  0 0 0 0 1 0 0 1                  SYSTEM INFORMATION 17\\n  0 0 0 0 1 0 1 0                  SYSTEM INFORMATION 2bis\\n  0 0 0 0 1 0 1 1                  SYSTEM INFORMATION 2ter\\n  0 0 0 0 1 1 0 1                  SYSTEM INFORMATION 5bis\\n  0 0 0 0 1 1 1 0                  SYSTEM INFORMATION 5ter\\n  0 0 0 0 1 1 1 1                  SYSTEM INFORMATION 10\\n  0 1 0 0 0 1 1 1                  EXTENDED MEASUREMENT ORDER\\n  0 1 0 0 1 0 0 0                  MEASUREMENT INFORMATION\\n  0 0 1 0 1 0 0 0                  SYSTEM INFORMATION 13\\n  0 0 1 0 1 0 0 1                  SYSTEM INFORMATION 2quater\\n  0 0 1 0 1 0 1 0                  SYSTEM INFORMATION 9\\n  0 0 1 0 1 0 1 1                  SYSTEM INFORMATION 18\\n  0 0 1 0 1 1 0 0                  SYSTEM INFORMATION 19\\n  0 0 1 0 1 1 0 1                  SYSTEM INFORMATION 20\\n  All other values are reserved.   \\n  -------------------------------- ----------------------------\\n\\n### 9.3.31 MS Power Parameters\\n\\nThis element carries the parameters required by TRX for MS power\\ncontrol.\\n\\n  -------------------- ------------ --- --- --- --- --- --- --\\n  8                    7            6   5   4   3   2   1   \\n  Element identifier   1                                    \\n  Length               2                                    \\n  MS Power Control     3                                    \\n                       Parameters                           \\n                       N                                    \\n  -------------------- ------------ --- --- --- --- --- --- --\\n\\nThe MS Power Control Parameters field contains the parameters and limits\\nrequired when MS power control is to be performed by BTS. The coding is\\noperator dependant. Examples of possible parameters and algorithms can\\nbe found in 3GPP\\xa0TS\\xa045.008 (RXLEV, RX-QUAL-FULL, RX-QUAL-SUB, DISTANCE\\n(Timing Advance) etc.).\\n\\n### 9.3.32 BS Power Parameters\\n\\nThis element carries the parameters required by TRX for control of its\\nown transmission power.\\n\\n  -------------------- ------------ --- --- --- --- --- --- --\\n  8                    7            6   5   4   3   2   1   \\n  Element identifier   1                                    \\n  Length               2                                    \\n  BS Power Control     3                                    \\n                       Parameters                           \\n                       N                                    \\n  -------------------- ------------ --- --- --- --- --- --- --\\n\\nThe BS Power Control Parameters field contains the parameters and limits\\nrequired when TRX transmission power control is to be performed by BTS.\\nThe coding is operator dependant. Examples of possible parameters and\\nalgorithms can be found in 3GPP\\xa0TS\\xa045.008 (RXLEV, RX-QUAL-FULL,\\nRX-QUAL-SUB, DISTANCE (Timing Advance) etc.).\\n\\n### 9.3.33 Pre-processing Parameters\\n\\nThis element contains the parameters required by BTS for the\\npre‑processing of radio measurement data.\\n\\n  ------------------------- ------------ --- --- --- --- --- --- --\\n  8                         7            6   5   4   3   2   1   \\n  Element identifier        1                                    \\n  Length                    2                                    \\n  reserved for future use   P            3                       \\n  Pre-processing            4                                    \\n                            Parameters                           \\n                            N                                    \\n  ------------------------- ------------ --- --- --- --- --- --- --\\n\\nThe P bit (bit 1 of octet 3) indicates whether pre-processing is to be\\nused and it is coded as follows:\\n\\n0 use the basic measurement reporting procedure (report raw data);\\n\\n1 use the pre-processed measurement reporting procedure.\\n\\nIf pre-processing is to be used, the Pre-processing Parameters field\\n(octets 4-N) contains the parameters required by BTS. The coding of this\\nfield is operator dependant.\\n\\n### 9.3.34 Pre-processed Measurements\\n\\nThis element is used by BTS to report the results of the pre-processing\\nof radio measurement data.\\n\\n  -------------------- -------------- --- --- --- --- --- --- --\\n  8                    7              6   5   4   3   2   1   \\n  Element identifier   1                                      \\n  Length               2                                      \\n  Pre-processed        3                                      \\n                       Measurements                           \\n                       N                                      \\n  -------------------- -------------- --- --- --- --- --- --- --\\n\\nThe Pre-processed Measurements field (octets 3-N) contains the results\\nof the pre-processing in BTS. The coding of this field is operator\\ndependant.\\n\\n### 9.3.35 Full Immediate Assign Info\\n\\nThis element is used to convey a full L3 immediate assign message (3\\ntypes).\\n\\n  -------------------- ------------- --- --- --- --- --- --- --\\n  8                    7             6   5   4   3   2   1   \\n  Element identifier   1                                     \\n  Length Indicator     2                                     \\n  Full Immediate       3                                     \\n                       Assign Info                           \\n                       25                                    \\n  -------------------- ------------- --- --- --- --- --- --- --\\n\\nThe Length Indicator field (octet 2) indicates in binary the remaining\\nlength of the element (octets 3‑25).\\n\\nThe Full Immediate Assign Info field (octets 3‑25) contains a complete\\nimmediate assign message (IMMEDIATE ASSIGNMENT or IMMEDIATE ASSIGNMENT\\nEXTENDED or IMMEDIATE ASSIGNMENT REJECT) as defined in 3GPP\\xa0TS\\xa044.018.\\n\\n### 9.3.36 SMSCB Information\\n\\nThis element is used to convey a complete frame to be broadcast on the\\nCBCH including the Layer 2 header for the radio path.\\n\\n  -------------------- ---- --- --- --- --- --- --- --\\n  8                    7    6   5   4   3   2   1   \\n  Element identifier   1                            \\n  SMSCB frame          2                            \\n                                                    \\n                       24                           \\n  -------------------- ---- --- --- --- --- --- --- --\\n\\n### 9.3.37 MS Timing Offset\\n\\nThe information is coded in two octets and contains the MS Timing Offset\\nas measured by the BTS.\\n\\n  -------------------- --- --- --- --- --- --- --- --\\n  8                    7   6   5   4   3   2   1   \\n  Element identifier   1                           \\n  Timing Offset        2                           \\n  -------------------- --- --- --- --- --- --- --- --\\n\\nThe meaning of the MS Timing Offset is as defined in 3GPP\\xa0TS\\xa045.010. The\\nvalue of MS Timing Offset is the binary value of the 8-bit Timing Offset\\nfield (octet 2) - 63. The range of MS Timing Offset is therefore ‑63 to\\n192.\\n\\n### 9.3.38 Erroneous Message\\n\\nThis information element is used to carry a complete A-bis interface\\nmessage which was considered erroneous at reception.\\n\\n  -------------------- --- --- --- --- --- --- --- --\\n  8                    7   6   5   4   3   2   1   \\n  Element identifier   1                           \\n  Length               2                           \\n  Received Message     3                           \\n                                                   \\n                       N                           \\n  -------------------- --- --- --- --- --- --- --- --\\n\\nThe Received Message field contains a complete A-bis interface L3\\nmessage as defined in clause 8 of this GTS, including Message\\nDiscriminator and Message Type.\\n\\n### 9.3.39 Full BCCH Information (message name)\\n\\nThis information element contains a complete L3 message as specified in\\n3GPP\\xa0TS\\xa024.008.\\n\\n  -------------------- --------- --- --- --- --- --- --- --\\n  8                    7         6   5   4   3   2   1   \\n  Element identifier   1                                 \\n  Length Indicator     2                                 \\n  Layer 3 message      3                                 \\n                       as            4                   \\n                       defined                           \\n  in 3GPP\\xa0TS\\xa044.018    25                                \\n  -------------------- --------- --- --- --- --- --- --- --\\n\\nThe Length Indicator field (octet 2) indicates in binary the remaining\\nlength of the element (octets 3‑25). The most significant bit is bit 8\\nof octet 2 and the least significant bit is bit 1 of octet 2.\\n\\nOctets 3‑25 contain the complete L3 message as defined in\\n3GPP\\xa0TS\\xa044.018. In the message format sub-clause, the 3GPP\\xa0TS\\xa044.018\\nmessage name to be included is indicated within brackets.\\n\\n### 9.3.40 Channel Needed\\n\\nThis information element is used to indicate to the mobile station which\\nchannel will be needed for the transaction linked to the paging\\nprocedure.\\n\\n  ------------------------- --------- --- --- --- --- --- --- --\\n  8                         7         6   5   4   3   2   1   \\n  Element identifier        1                                 \\n  Reserved for future use   Channel   2                       \\n  ------------------------- --------- --- --- --- --- --- --- --\\n\\nThe Channel Field (bits 1‑2 of octet 2) indicates the further\\ncombination of channel which will be needed. It is coded as follows:\\n\\n  ------- -----------------------------\\n  Value   Channel Needed.\\n  0 0     Any Channel.\\n  0 1     SDCCH.\\n  1 0     TCH/F (Full rate).\\n  1 1     TCH/F or TCH/H (Dual rate).\\n  ------- -----------------------------\\n\\n### 9.3.41 CB Command type\\n\\nThis element is used to indicate the type of broadcast requested.\\n\\n  -------------------- ------------------- --------- ------------ --- --- --- --- --\\n  8                    7                   6         5            4   3   2   1   \\n  Element identifier   1                                                          \\n  Command              Default Broadcast   0 Spare   Last Block   2               \\n  -------------------- ------------------- --------- ------------ --- --- --- --- --\\n\\nThe Command Field (bits 5 to 8) indicates the command to be performed.\\nIt is coded as follows:\\n\\n  -------------------------------- -----------------------------\\n  Value                            Command\\n  0 0 0 0                          Normal message Broadcast.\\n  1 0 0 0                          Schedule message Broadcast.\\n  1 1 1 0                          Default message Broadcast.\\n  1 1 1 1                          Null message Broadcast.\\n  All other values are reserved.   \\n  -------------------------------- -----------------------------\\n\\nWhen the Command Field is different from the value 1110 (Default message\\nBroadcast), the BTS uses the SMSCB message IE together with the Command\\nField and the Last Block Field to build the blocks sent on the Radio\\ninterface, as defined by 3GPP\\xa0TS\\xa044.012. In that case bit 4 is ignored.\\n\\nWhen the Command Field takes the value 1110 (Default message Broadcast),\\nthe BTS uses the SMSCB message IE together with the Default Broadcast\\nField and the Last Block Field to build the blocks sent on the Radio\\ninterface, as defined by 3GPP\\xa0TS\\xa044.012.\\n\\nThe Default Broadcast Field (bit 4) is coded as follows:\\n\\n  ------- ---------------------------------\\n  Value   Default message to be broadcast\\n  0       Normal message.\\n  1       Null message.\\n  ------- ---------------------------------\\n\\nThe BTS uses the Last Block Field to signal to the MS the last block\\ncontaining useful information as defined by 3GPP\\xa0TS\\xa044.012. This Field\\n(bits 1 and 2) is coded as follows:\\n\\n  ------- ------------------------------------------\\n  Value   Last Block containing useful information\\n  00      Block 4\\n  01      Block 1\\n  10      Block 2\\n  11      Block 3\\n  ------- ------------------------------------------\\n\\n### 9.3.42 SMSCB Message\\n\\nThis element is used to convey the message to be broadcast on the CBCH.\\n\\n  -------------------- --------------- --- --- --- --- --- --- --\\n  8                    7               6   5   4   3   2   1   \\n  Element identifier   1                                       \\n  Length               2                                       \\n                       SMSCB Message       3                   \\n                                                               \\n                       N                                       \\n  -------------------- --------------- --- --- --- --- --- --- --\\n\\n### 9.3.43 CBCH Load Information\\n\\nThis information element is used to indicate to the BSC the load\\nsituation of CBCH in the BTS.\\n\\n  -------------------- ------- -------------------- --- --- --- --- --- --\\n  8                    7       6                    5   4   3   2   1   \\n\\n  Element identifier   1                                                \\n\\n  CBCH\\\\                Spare   Message Slot Count   2                   \\n  Load\\\\                                                                 \\n  Type                                                                  \\n  -------------------- ------- -------------------- --- --- --- --- --- --\\n\\nThe CBCH Load Type field (bit 8 of octet 2) indicates either an\\nunderflow or an overflow situation of the CBCH in the BTS. It is coded\\nas follows:\\n\\n  ------- ----------------\\n  Value   CBCH Load Type\\n  0       Underflow\\n  1       Overflow\\n  ------- ----------------\\n\\nThe Message Slot Count field (bits 1‑4 of octet 2) indicates either the\\namount of SMSCB messages that are needed immediately by BTS or the\\namount of delay in message slots that is needed immediately by BTS\\ndepending on the value of the CBCH Load Type field. It is coded as\\nfollows:\\n\\n  -------------------- ---------------------------------------------------------------------------------------------\\n  **CBCH Load Type**   **Message Slot Count**\\n  0                    indicates the amount of SMSCB messages (1 to 15) that are needed immediately by BTS.\\n  1                    indicates the amount of delay in message slots (1 to 15) that is needed immediately by BTS.\\n  -------------------- ---------------------------------------------------------------------------------------------\\n\\n### 9.3.44 SMSCB Channel Indicator\\n\\nThis element is used to indicate the CB channel\\xa0\\\\[see 3GPP\\xa0TS\\xa045.002\\\\]\\nto be used for broadcasting the data.\\n\\n  -------------------- ------------- --- --- --- --- --- --- --\\n  8                    7             6   5   4   3   2   1   \\n  Element identifier   1                                     \\n  Spare                Channel Ind   2                       \\n  -------------------- ------------- --- --- --- --- --- --- --\\n\\nThis element is used to indicate the CB channel to be used for\\nbroadcasting the data. The Channel Ind field is coded as follows:\\n\\n  -------------------------------- --------------------------------------------------------------------------------\\n  Value                            Channel Ind\\n  0 0 0 0                          Basic CBCH\\n  0 0 0 1                          Extended CBCH (supporting the extended CBCH by the network or MSs is optional)\\n  all other values are reserved.   \\n  -------------------------------- --------------------------------------------------------------------------------\\n\\n### 9.3.45 Group call reference\\n\\nIt is coded as follows:\\n\\n  ----------------------------------------------- -------- --- --- --- --- --- --- --\\n  8                                               7        6   5   4   3   2   1   \\n  Element identifier                              1                                \\n  Length                                          2                                \\n  Descriptive group or broadcast call reference   3 to 7                           \\n  ----------------------------------------------- -------- --- --- --- --- --- --- --\\n\\nThe octets 3 to 7 are coded in the same way as the octets 2 to 6 in the\\nDescriptive group or broadcast call reference information element as\\ndefined in 3GPP\\xa0TS\\xa024.008.\\n\\n### 9.3.46 Channel description\\n\\nThis is a variable length element used to pass a radio interface\\ninformation element from BSC to BTS.\\n\\n  --------------------------- -------- --- --- --- --- --- --- --\\n  8                           7        6   5   4   3   2   1   \\n  Element identifier          1                                \\n  Length                      2                                \\n  Group Channel Description   3 to n                           \\n  --------------------------- -------- --- --- --- --- --- --- --\\n\\nOctet j (j = 3, 4, \\\\..., n) is the unchanged octet j‑2 of a radio\\ninterface Group Channel description information element as defined in\\n3GPP\\xa0TS\\xa044.018, n‑2 is equal to the length of the radio interface Group\\nchannel description information element.\\n\\n### 9.3.47 NCH DRX information\\n\\nThis is a variable length element used to pass a radio interface\\ninformation element from BSC to BTS.\\n\\n  --------------------- --- --- --- --- --- --- --- --\\n  8                     7   6   5   4   3   2   1   \\n  Element identifier    1                           \\n  Length                2                           \\n  NCH DRX information   3                           \\n  --------------------- --- --- --- --- --- --- --- --\\n\\nOctet 3 bits 1 and 2 are bits 1 and 2 of the radio interface NLN as\\ndefined in 3GPP\\xa0TS\\xa044.018.\\n\\nOctet 3 bits 3, 4 and 5 are bits 1, 2 and 3 of the radio interface eMLPP\\npriority as defined in 3GPP\\xa0TS\\xa044.018.\\n\\nOctet 3 bit 6 is the NLN status parameter as defined in 3GPP\\xa0TS\\xa044.018.\\n\\nOctet 3 bits 7 and 8 are spare and set to zero.\\n\\n### 9.3.48 Command indicator\\n\\n  -------------------- --------------- --- --- --- --- --- --- --\\n  8                    7               6   5   4   3   2   1   \\n  Element identifier   1                                       \\n  Length               2                                       \\n  E                    Command Value   3                       \\n  Command Extension    3a                                      \\n  -------------------- --------------- --- --- --- --- --- --- --\\n\\nThe Command Value is a single octet field (octet 3) if the extension bit\\nE (bit 8) is set to 0. If it is set to 1 then the Command value is a 2\\noctet field (octets 3 and 3a).\\n\\nCOMMAND VALUES:\\n\\n  --------------- --------------------------------\\n  Value           Command\\n  0 0 0 0 0 0 0   Start\\n  0 0 0 0 0 0 1   Stop\\n  0 0 0 0 0 1 0   reserved for international use\\n  0 : : : : : :   \\n  1 0 0 0 0 0 0   \\n                  \\n  1 0 0 0 0 0 1   reserved for national use\\n  1 : : : : : :   \\n  1 1 1 1 1 1 1   \\n  --------------- --------------------------------\\n\\n### 9.3.49 eMLPP Priority\\n\\nThis Information Element contains the eMLPP priority of the call.\\n\\nIt is coded as follows:\\n\\n  -------------------- --------------- --- --- --- --- --- --- --\\n  8                    7               6   5   4   3   2   1   \\n  Element identifier   1                                       \\n  spare                call priority   2                       \\n  -------------------- --------------- --- --- --- --- --- --- --\\n\\nThe call priority field (bit 3 to 1 of octet 2) is coded in the same way\\nas the call priority field (bit 3 to 1 of octet 5) in the Descriptive\\ngroup or broadcast call reference information element as defined in\\n3GPP\\xa0TS\\xa024.008.\\n\\n### 9.3.50 UIC\\n\\nIt is coded as follows:\\n\\n  -------------------- --- --- --- --- --- --- --- --\\n  8                    7   6   5   4   3   2   1   \\n  Element identifier   1                           \\n  Length               2                           \\n  UIC information      3                           \\n  -------------------- --- --- --- --- --- --- --- --\\n\\nOctet 3 bits 1 to 6 contain the radio interface octet 2 bits 3 to 8 of\\nthe UIC information element as defined in 3GPP\\xa0TS\\xa044.018.\\n\\nOctet 3 bits 7 and 8 are spare and set to zero.\\n\\n### 9.3.51 Main channel reference\\n\\nThis element contains the main channel reference of a multislot\\nconnection.\\n\\nIt is coded in two octets as follows:\\n\\n  ------------------------- ---- --- --- --- --- --- --- --\\n  8                         7    6   5   4   3   2   1   \\n  Element identifier        1                            \\n  Reserved for future use   TN   2                       \\n  ------------------------- ---- --- --- --- --- --- --- --\\n\\nTN is time slot number, binary represented as in 3GPP\\xa0TS\\xa045.002.\\n\\n### 9.3.52 MultiRate configuration\\n\\nThis element gives the description of the multirate speech codec\\nconfiguration to be applied.\\n\\n  --------------------------------------------------------------------------------------------------------------------------------- ----- --- --- --- --- --- --- --\\n  8                                                                                                                                 7     6   5   4   3   2   1   \\n  Element identifier                                                                                                                1                             \\n  Length                                                                                                                            2                             \\n  Rest of element coded as in 3GPP\\xa0TS\\xa044.018 not including 3GPP\\xa0TS\\xa044.018 element identifier or 3GPP\\xa0TS\\xa044.018 octet length value   3-n                           \\n  --------------------------------------------------------------------------------------------------------------------------------- ----- --- --- --- --- --- --- --\\n\\n### 9.3.53 MultiRate Control\\n\\nThis element indicates whether TFO is enabled or not and whether the BSC\\nauthorises the BTS to perform autonomously multi-rate codec changes and\\nwhether an handover is to be expected.\\n\\nIt is coded in two octets as follows:\\n\\n  -------------------- ---- ----- ----- ----- --- --- --- --\\n  8                    7    6     5     4     3   2   1   \\n  Element identifier   1                                  \\n  Spare                OD   PRE   RAE   TFO   3           \\n  -------------------- ---- ----- ----- ----- --- --- --- --\\n\\nThe TFO field (bit 1 of octet 3) indicates if TFO is enabled or not. It\\nis coded as follows:\\n\\n  ------- -----------------------------------\\n  Value   TFO\\n  0       Tandem Free Operation is enabled\\n  1       Tandem Free Operation is disabled\\n  ------- -----------------------------------\\n\\nThe RAE field (bits 2-3, octet 3) defines whether the RATSCCH mechanism\\nis enabled or not. It is coded as follows:\\n\\n  ------- -------------------------------------------------------------------------------------------------------------------------------------------------------------------------\\n  Value   RAE\\n  0 0     RATSCCH mechanism is generally enabled, the BTS may change the AMR configuration within the given SCS and MACS constraints and within the given radio and Abis channel.\\n  0 1     RATSCCH mechanism will potentially be enabled for one exchange. The BSC will use a MultiRate CODEC MOD REQ message for that purpose\\n  1 0     reserved\\n  1 1     RATSCCH mechanism is generally disabled\\n  ------- -------------------------------------------------------------------------------------------------------------------------------------------------------------------------\\n\\nThe PRE field (bit 4 of octet 3) indicates if an handover is to be\\nexpected soon or not. It is coded as follows:\\n\\n  ------- ---------------------------------------------------\\n  Value   PRE\\n  0       Handover is not expected, respectively has failed\\n  1       Handover is expected soon\\n  ------- ---------------------------------------------------\\n\\nThe OD field (bit 5 of octet 3) indicates if the BSC expects distant\\nparameters or TFO Decision algorithm result from the BTS.\\n\\n  ------- ----------------------------------------------------------------------------\\n  Value   PRE\\n  0       The BTS shall report distant parameters\\n  1       The BTS shall report TFO Decision algorithm result (optimised parameters).\\n  ------- ----------------------------------------------------------------------------\\n\\n### 9.3.54 Supported Codec Types\\n\\nThis element indicates the codec types supported by the BSS or remote\\nBSS.\\n\\nIt is coded as follows:\\n\\n  -------------------- ------------ ----- --- --- --- --- --- --\\n  8                    7            6     5   4   3   2   1   \\n  Element identifier   1                                      \\n  Length               2                                      \\n  Sys-ID               3                                      \\n  ext                  Codec List   4-n                       \\n  -------------------- ------------ ----- --- --- --- --- --- --\\n\\nThe Sys-ID field (octet 3) identifies the system that sends or has sent\\nthe configuration. It should be set to 0000 0000 for GSM.\\n\\nThe Codec List field (octet 4) lists the codec types that are supported\\nby the BSS and Transcoder, and are therefore potential candidates for\\nTFO establishment. It is coded as follows:\\n\\n  -------- -----------------------------------------------------------------------------------------------------------\\n  Bit 1:   Set to 1 if the GSM FR Speech Codec is supported.\\n  Bit 2:   Set to 1 if the GSM HR Speech Codec is supported.\\n  Bit 3:   Set to 1 if the GSM EFR Speech Codec is supported.\\n  Bit 4:   Set to 1 if the GSM FR AMR Speech Codec is supported.\\n  Bit 5:   Set to 1 if the GSM HR AMR Speech Codec is supported\\n  Bit 6:   Set to 1 if the UMTS AMR Speech Codec is supported.\\n  Bit 7:   Set to 1 if the UMTS AMR 2 Speech Codec is supported\\n  Bit 8:   Extension bit. Set to 1 if at least one codec of Codec List extension 1 is supported, otherwise set to 0.\\n  -------- -----------------------------------------------------------------------------------------------------------\\n\\nThe Codec List extension 1 field (octet 5) lists additional codec types\\nthat are supported by the BSS and Transcoder, and are therefore\\npotential candidates for TFO establishment. When no codec from this list\\nis supported, then this field shall not be sent, and the extension bit\\nof octet 4 shall be set to 0.\\n\\n  ---------- -----------------------------------------------------------\\n  Bit 1:     Set to 1 if the FR AMR WB Speech Codec is supported.\\n  Bit 2:     Set to 1 if the UMTS AMR WB Speech Codec is supported.\\n  Bit 3:     Set to 1 if the 8PSK HR AMR Speech Codec is supported.\\n  Bit 4:     Set to 1 if the 8PSK FR AMR WB Speech Codec is supported.\\n  Bit 5:     Set to 1 if the 8PSK HR AMR WB Speech Codec is supported.\\n  Bit 6-7:   Reserved, set to 0.\\n  Bit 8:     Reserved for extension, set to 0.\\n  ---------- -----------------------------------------------------------\\n\\nIf bit 4 of the Codec List field (octet 4) indicates that FR AMR is\\nsupported or if bit 5 of the Codec List field (octet 4) indicates that\\nHR AMR is supported and bit 8 is set to 0, or if bit 6 of the Codec List\\nfield (octet 4) indicates that UMTS AMR is supported, or if bit 7 of the\\nCodec List field (octet 4) indicates that UMTS AMR 2 is supported, or if\\nbit 1, 3, 4 or 5 of the Codec List extension 1 field (octet 5) indicates\\nthat AMR WB is supported, the following two octets (after the Codec List\\nfield and its extensions) should be coded as follows:\\n\\n  ------- ---------- ------ ----- --- --- --- --- --\\n  8       7          6      5     4   3   2   1   \\n  Spare   TFO\\\\_VER   MACS   n+1                   \\n  SCS     n+2                                     \\n  ------- ---------- ------ ----- --- --- --- --- --\\n\\nThe MACS field indicates the [M]{.underline}aximum number of\\n[A]{.underline}MR [C]{.underline}odec Mode[S]{.underline} the BSS can\\nsupport in the Active Codec Set. It should be coded as follows:\\n\\n  ------ -------------------------------------------------------------------------\\n  0 0:   A maximum of four codec modes can be supported in the Active Codec Set\\n  0.1:   A maximum of one codec mode can be supported in the Active Codec Set\\n  1.0:   A maximum of two codec modes can be supported in the Active Codec Set\\n  1.1:   A maximum of three codec modes can be supported in the Active Codec Set\\n  ------ -------------------------------------------------------------------------\\n\\nThe TFO\\\\_VER field indicates the TFO\\\\_VERSION.\\n\\n0 0: Version 0 of TFO\\n\\nAll other values reserved for future use.\\n\\nThe SCS field indicates the [S]{.underline}et of AMR [C]{.underline}odec\\nmodes [S]{.underline}upported by the BSS. It should be coded as follows\\nfor AMR FR and AMR HR:\\n\\n  -------- ---------------------------------------------------\\n  Bit 8:   Set to 1 if the AMR 12.2 Codec Mode is supported.\\n  Bit 7:   Set to 1 if the AMR 10.2 Codec Mode is supported.\\n  Bit 6:   Set to 1 if the AMR 7.95 Codec Mode is supported.\\n  Bit 5:   Set to 1 if the AMR 7.40 Codec Mode is supported.\\n  Bit 4:   Set to 1 if the AMR 6.70 Codec Mode is supported.\\n  Bit 3:   Set to 1 if the AMR 5.90 Codec Mode is supported.\\n  Bit 2:   Set to 1 if the AMR 5.15 Codec Mode is supported.\\n  Bit 1:   Set to 1 if the AMR 4.75 Codec Mode is supported.\\n  -------- ---------------------------------------------------\\n\\nIf AMR WB is concerned, the SCS field (octets 7) is coded as follows:\\n\\n  --------- -------------------------------------------------------\\n  Bit 6-8   Spare. Set to 0\\n  Bit 5:    Set to 1 if the WB-AMR 23.85 Codec Mode is supported.\\n  Bit 4:    Set to 1 if the WB-AMR 15.85 Codec Mode is supported.\\n  Bit 3     Set to 1 if the WB-AMR 12.65 Codec Mode is supported.\\n  Bit 2     Set to 1 if the WB-AMR 8.85 Codec Mode is supported.\\n  Bit 1     Set to 1 if the WB-AMR 6.60 Codec Mode is supported.\\n  --------- -------------------------------------------------------\\n\\n### 9.3.55 Codec Configuration\\n\\nThis element indicates the active codec in the BSS or the remote BSS\\n\\nIt is coded as follows:\\n\\n  -------------------- --- --- --- --- --- --- --- --\\n  8                    7   6   5   4   3   2   1   \\n  Element identifier   1                           \\n  Length               2                           \\n  Active Codec Type    3                           \\n  -------------------- --- --- --- --- --- --- --- --\\n\\nThe Active Codec Type field (bits 1-8, octet 3) indicates the type of\\ncodec in use. It is coded as follows:\\n\\n  ---------------------------------------------- ----------------------------------------------------------\\n  0 0 0 0 . 0 0 0 0:                             Full Rate Codec in use\\n  0 0 0 0 . 0 0 0 1:                             Half Rate Codec in use\\n  0 0 0 0 . 0 0 1 0:                             Enhanced Full Rate Codec in use\\n  0 0 0 0 . 0 0 1 1:                             FR Adaptive Multi Rate Codec in use\\n  0 0 0 0 . 0 1 0 0:                             HR Adaptive Multi Rate Codec in use\\n  0 0 0 0 . 0 1 0 1:                             UMTS Adaptive Multi Rate Codec in use\\n  0 0 0 0 . 0 1 1 0:                             UMTS Adaptive Multi Rate 2 Codec in use\\n  0 0 0 0 . 1 0 0 1:                             Full Rate Adaptive Multi-Rate WideBand Codec in use\\n  0 0 0 0 1 0 1 0                                UMTS Adaptive Multi-Rate WideBand Codec in use\\n  0 0 0 0 1 0 1 1                                8PSK Half Rate Adaptive Multi-Rate Codec in use\\n  0 0 0 0 1 1 0 0                                8PSK Full Rate Adaptive Multi-Rate WideBand Codec in use\\n  0 0 0 0 1 1 0 1                                8PSK Half Rate Adaptive Multi-Rate WideBand Codec in use\\n  All other values are reserved for future use   \\n  ---------------------------------------------- ----------------------------------------------------------\\n\\nIf the Active Codec Type field (octet 3) indicates that AMR (FR or HR)\\nis the active codec type, then the following two octets (octets 4-5)\\nshall provide the configuration in use. They shall be coded as follows:\\n\\n  ------------------ ----- --- --- --- --- --- --- --\\n  8                  7     6   5   4   3   2   1   \\n  Spare              ICM   4                       \\n  Active Codec Set   5                             \\n  ------------------ ----- --- --- --- --- --- --- --\\n\\nThe ICM field (bits 1-2, octet 4) defines the [I]{.underline}nitial\\n[C]{.underline}odec [M]{.underline}ode. It is coded as defined in the\\n3GPP\\xa0TS\\xa045.009.\\n\\nThe Active Codec Set (octet 5) defines the set of AMR codec modes used\\nin the active set. It is coded as defined for the Set of AMR codec modes\\nin the Multi-Rate configuration IE in the 3GPP\\xa0TS\\xa044.018.\\n\\nIf the Active Codec Type field (octet 3) indicates that AMR WB is the\\nactive codec type, then the following three octets (octets 4-6) shall\\nprovide the configuration in use. They shall be coded as follows:\\n\\n  ------------------ ----- --- --- --- --- --- --- --\\n  8                  7     6   5   4   3   2   1   \\n  Spare              ICM   4                       \\n  Active Codec Set   5                             \\n  Active Codec Set   6                             \\n  ------------------ ----- --- --- --- --- --- --- --\\n\\nThe ICM field (bits 1-2, octet 4) defines the [I]{.underline}nitial\\n[C]{.underline}odec [M]{.underline}ode. It is coded as defined in the\\n3GPP\\xa0TS\\xa045.009.\\n\\nThe Active Codec Set (octets 5-6) defines the set of AMR codec modes\\nused in the active set. It is coded as defined for the Set of AMR codec\\nmodes in the Multi-Rate configuration IE in the 3GPP\\xa0TS\\xa044.018.\\n\\n### 9.3.56 Round Trip Delay\\n\\nThis element indicates the value of the calculated round trip delay\\nbetween the BTS and the transcoder, or between the BTS and the remote\\nBTS, if TFO is established.\\n\\nIt is coded in 2 octets as follows:\\n\\n  -------------------- ----------- --- --- --- --- --- --- --\\n  8                    7           6   5   4   3   2   1   \\n  Element identifier   1                                   \\n  RTD                  Delay IND   2                       \\n  -------------------- ----------- --- --- --- --- --- --- --\\n\\nThe RTD field is the binary representation of the value of the round\\ntrip delay in 20 ms increments.\\n\\nThe Delay IND field indicates if the delay corresponds to a BTS to\\ntranscoder delay or to a BTS to remote BTS delay. It is coded as\\nfollows:\\n\\n  ------- ------------------------------------------------------------\\n  Value   Delay IND\\n  0       The RTD field contains the BTS-Transcoder round trip delay\\n  1       The RTD field contains the BTS-Remote BTS round trip delay\\n  ------- ------------------------------------------------------------\\n\\n### 9.3.57 TFO Status\\n\\nThis element indicates if TFO is established. It is coded in 2 octets as\\nfollows:\\n\\n  -------------------- ----- --- --- --- --- --- --- --\\n  8                    7     6   5   4   3   2   1   \\n  Element identifier   1                             \\n  Spare                TFO   2                       \\n  -------------------- ----- --- --- --- --- --- --- --\\n\\nThe TFO field shall be coded as follows:\\n\\n  ------- ------------------------\\n  Value   TFO\\n  0       TFO is not established\\n  1       TFO is established\\n  ------- ------------------------\\n\\n### 9.3.58 LLP APDU\\n\\n[This is a variable length element that conveys an embedded message or\\nmessage segment associated with the higher level protocol LLP, as\\ndefined in 3GPP\\xa0TS\\xa044.071. This element can be sent from the BSC to the\\nBTS or to the Standalone Type B LMU, and vice versa.]{.underline}\\n\\n  ------------------------------------------------------------------------------------------------------------------------------------------------------------------------------------------------------------------------------------- ----- --- --- --- --- --- --- --\\n  8                                                                                                                                                                                                                                     7     6   5   4   3   2   1   \\n  Element identifier                                                                                                                                                                                                                    1                             \\n  Length                                                                                                                                                                                                                                2                             \\n  The rest of the information element contains the embedded message that contains a Facility Information Element as defined in 3GPP\\xa0TS\\xa044.071 excluding the Facility IEI and length of Facility IEI octets defined in 3GPP\\xa0TS\\xa044.071.   3-n                           \\n  ------------------------------------------------------------------------------------------------------------------------------------------------------------------------------------------------------------------------------------- ----- --- --- --- --- --- --- --\\n\\n### 9.3.59 TFO transparent container\\n\\n[This is a variable length element that conveys a message associated\\nwith TFO protocol, as defined in 3GPP\\xa0TS\\xa028.062. This element can be\\nsent from the BSC to the BTS or from the BTS to the BSC. The BTS shall\\nretrieve the information it is able to understand, and forward\\ntransparently the complete information to the BSC or to the\\nTRAU.]{.underline}\\n\\n  -------------------------------------------------------------------------------------------------------- ----- --- --- --- --- --- --- --\\n  8                                                                                                        7     6   5   4   3   2   1   \\n  Element identifier                                                                                       1                             \\n  Length                                                                                                   2                             \\n  The rest of the information element contains the embedded message that contains the TFO configuration.   3-n                           \\n  -------------------------------------------------------------------------------------------------------- ----- --- --- --- --- --- --- --\\n\\n### 9.3.60 DRX Info\\n\\nThis element is used to indicate when the corresponding PAGING COMMAND\\nmessage is to be sent, as specified by the eDRX cycle and CCCH Block\\nNumber on a Multiframe Number.\\n\\n  -------------------------- ------------ --- --- --- --- --- --- --\\n  8                          7            6   5   4   3   2   1   \\n  Element identifier         1                                    \\n  Multiframe Number (high)   T            2                       \\n  Multiframe Number (low)    3                                    \\n  eDRX Cycle                 CCCH Block   4                       \\n  -------------------------- ------------ --- --- --- --- --- --- --\\n\\nMultiframe Number:\\n\\nThis field identifies the multiframe number within the applicable eDRX\\ncycle in which the PAGing REQuest message is to be sent. Values between\\n0-13311 are allowed\\n\\nT:\\n\\nThis field is used to determine whether the PAGing REQuest message is to\\nbe sent using the CCCH (T=0) or the EC-CCCH (T=1)\\n\\nCCCH Block:\\n\\nThis field identifies the CCCH block number within the indicated\\nmultiframe in which the PAGing REQuest message is to be sent. Values\\nbetween 0-15 are allowed. If T = 0 the value is between 0-8\\n\\neDRX Cycle:\\n\\nThis field is used to determine the number of multiframes within an eDRX\\ncycle as defined in 3GPP\\xa0TS\\xa045.002 \\\\[8\\\\]. Values between 0-15 are\\nallowed.\\n\\n######## Annex A (informative): Change History\\n\\n  --------------- ------- ----------- ------ ----- ----- -------------------------------------------- --------\\n  Date            TSG\\\\#   TSG Doc.    CR     Rev   Cat   Subject/Comment                              New\\n  December 2015                                          Creation of Rel-13 version based on 12.0.0   13.0.0\\n                  GP-68   GP-151155   0022   1     B     Introduction of Power Efficient Operation    13.0.0\\n  February 2016   GP-69   GP-160063   0023         F     Miscellaneous corrections to eDRX            13.1.0\\n  --------------- ------- ----------- ------ ----- ----- -------------------------------------------- --------\\n\\n  -------------------- ------------- ---------- -------- --------- --------- ---------------------------------------------------- -----------------\\n  **Change history**                                                                                                              \\n  **Date**             **Meeting**   **TDoc**   **CR**   **Rev**   **Cat**   **Subject/Comment**                                  **New version**\\n  2017-03              RP-75         \\\\-         \\\\-       \\\\-        \\\\-        Version for Release 14 (frozen at TSG-75)            14.0.0\\n  2018-06              RP-80         \\\\-         \\\\-       \\\\-        \\\\-        Update to Rel-15 version (MCC)                       15.0.0\\n  2020-07              RP-88e        \\\\-         \\\\-       \\\\-        \\\\-        Upgrade to Rel-16 version without technical change   **16.0.0**\\n  2022-03              RP-95e        \\\\-         \\\\-       \\\\-        \\\\-        Upgrade to Rel-17 version without technical change   **17.0.0**\\n  -------------------- ------------- ---------- -------- --------- --------- ---------------------------------------------------- -----------------\\n'}\n"
          ]
        }
      ],
      "source": [
        "# Exemplo de uso\n",
        "directory_path = '../Dataset/TSpec-LLM/3GPP-clean'\n",
        "tspec_data = processTspec.load_tspec_data(directory_path)\n",
        "\n",
        "# Verificar um exemplo\n",
        "print(f\"Total de documentos carregados: {len(tspec_data)}\")\n",
        "print(f\"Exemplo: {tspec_data[0]}\")"
      ]
    },
    {
      "cell_type": "markdown",
      "metadata": {},
      "source": [
        "# Question Dataset"
      ]
    },
    {
      "cell_type": "code",
      "execution_count": 18,
      "metadata": {},
      "outputs": [
        {
          "name": "stdout",
          "output_type": "stream",
          "text": [
            "100\n"
          ]
        }
      ],
      "source": [
        "# Path to the TeleQnA processed question in JSON file\n",
        "rel17_100_questions_path = r\"../Files/rel17_100_questions.json\"\n",
        "\n",
        "# Load the TeleQnA data just release 17\n",
        "with open(rel17_100_questions_path, \"r\", encoding=\"utf-8\") as file:\n",
        "    rel17_100_questions = json.load(file)\n",
        "print(len(rel17_100_questions))"
      ]
    },
    {
      "cell_type": "code",
      "execution_count": 19,
      "metadata": {},
      "outputs": [
        {
          "data": {
            "text/plain": [
              "{'question': 'Which NGAP procedure is used for inter-system load balancing? [3GPP Release 17]',\n",
              " 'option 1': 'eNB Configuration Transfer',\n",
              " 'option 2': 'Downlink RAN Configuration Transfer',\n",
              " 'option 3': 'Uplink RAN Configuration Transfer',\n",
              " 'option 4': 'MME Configuration Transfer',\n",
              " 'answer': 'option 3: Uplink RAN Configuration Transfer',\n",
              " 'explanation': 'The NGAP procedure used for inter-system load balancing is Uplink RAN Configuration Transfer.',\n",
              " 'category': 'Standards overview'}"
            ]
          },
          "execution_count": 19,
          "metadata": {},
          "output_type": "execute_result"
        }
      ],
      "source": [
        "rel17_100_questions[0]"
      ]
    },
    {
      "cell_type": "markdown",
      "metadata": {},
      "source": [
        "# OpenAi Model"
      ]
    },
    {
      "cell_type": "code",
      "execution_count": 20,
      "metadata": {},
      "outputs": [],
      "source": [
        "import openai\n",
        "import os\n",
        "\n",
        "# Open AI Key\n",
        "api_key=os.getenv(\"OPENAI_API_KEY\")"
      ]
    },
    {
      "cell_type": "code",
      "execution_count": null,
      "metadata": {},
      "outputs": [],
      "source": [
        "# # Obter a primeira pergunta\n",
        "# first_question = rel17_100_questions[0][\"question\"]\n",
        "\n",
        "# from openai import OpenAI\n",
        "# client = OpenAI(api_key=api_key)\n",
        "\n",
        "# completion = client.chat.completions.create(\n",
        "#     model=\"gpt-3.5-turbo\",\n",
        "#     messages=[\n",
        "#         {\"role\": \"system\", \"content\": \"You are a helpful assistant.\"},\n",
        "#         {\n",
        "#             \"role\": \"user\",\n",
        "#             \"content\": first_question\n",
        "#         }\n",
        "#     ]\n",
        "# )\n",
        "\n",
        "# # Extrair a resposta do modelo\n",
        "# answer = completion.choices[0].message\n",
        "\n",
        "# # Exibir a resposta\n",
        "# print(f\"Pergunta: {first_question}\")\n",
        "# print(f\"Resposta do GPT-3.5-turbo: {answer}\")\n"
      ]
    },
    {
      "cell_type": "markdown",
      "metadata": {},
      "source": [
        "# Llama from Ollama Model"
      ]
    },
    {
      "cell_type": "code",
      "execution_count": 21,
      "metadata": {},
      "outputs": [],
      "source": [
        "from langchain.llms import Ollama\n",
        "\n",
        "# Initialize the Ollama model with LLaMA 3.1 8B\n",
        "llama_model = Ollama(model=\"llama3.1\")"
      ]
    },
    {
      "cell_type": "code",
      "execution_count": 36,
      "metadata": {},
      "outputs": [],
      "source": [
        "# Função para matar o processo ollama_llama_server\n",
        "def kill_ollama_server():\n",
        "    os.system(\"pkill -f ollama_llama_server\")  # Comando para matar o processo\n",
        "\n",
        "# Função para processar e rodar o modelo com uma única pergunta\n",
        "def run_llama(question):\n",
        "\n",
        "    # Definir o prompt para o modelo\n",
        "    prompt = f\"\"\"\n",
        "    {question}\n",
        "    \"\"\"\n",
        "    response = llama_model.invoke(prompt)\n",
        "    # Finalizar o processo ollama_llama_server\n",
        "    kill_ollama_server()\n",
        "\n",
        "    return response"
      ]
    },
    {
      "cell_type": "code",
      "execution_count": 37,
      "metadata": {},
      "outputs": [
        {
          "name": "stdout",
          "output_type": "stream",
          "text": [
            "Which NGAP procedure is used for inter-system load balancing? [3GPP Release 17]\n"
          ]
        }
      ],
      "source": [
        "question = rel17_100_questions[0]['question']\n",
        "print(question)"
      ]
    },
    {
      "cell_type": "code",
      "execution_count": 38,
      "metadata": {},
      "outputs": [
        {
          "data": {
            "text/plain": [
              "'A very specific question!\\n\\nAccording to the 3GPP specification (Release 17), the NGAP (5G Network Application Protocol) procedure used for inter-system load balancing is:\\n\\n**NGAP_PING**\\n\\nThe NGAP PING procedure is a mechanism that allows the NG-RAN (5G Radio Access Network) to send periodic PING messages to the AMF (Access and Mobility Management Function). The AMF can then use this information to monitor the traffic load in different 5G RANs and adjust the traffic distribution accordingly.\\n\\nSo, the answer is: **NGAP_PING**.'"
            ]
          },
          "execution_count": 38,
          "metadata": {},
          "output_type": "execute_result"
        }
      ],
      "source": [
        "run_llama(question)"
      ]
    },
    {
      "cell_type": "markdown",
      "metadata": {
        "id": "vjeNXMuBijqo"
      },
      "source": [
        "# Build Dataset and Save in File"
      ]
    },
    {
      "cell_type": "markdown",
      "metadata": {},
      "source": [
        "## Pre definitions"
      ]
    },
    {
      "cell_type": "code",
      "execution_count": 1,
      "metadata": {
        "id": "nmnH_TzSlpAe"
      },
      "outputs": [],
      "source": [
        "# from google.colab import drive\n",
        "# drive.mount('/content/drive')"
      ]
    },
    {
      "cell_type": "code",
      "execution_count": 2,
      "metadata": {},
      "outputs": [],
      "source": [
        "# !pip install langchain sentence-transformers faiss-cpu torch"
      ]
    },
    {
      "cell_type": "code",
      "execution_count": 3,
      "metadata": {},
      "outputs": [],
      "source": [
        "# !pip install tf-keras"
      ]
    },
    {
      "cell_type": "code",
      "execution_count": 4,
      "metadata": {},
      "outputs": [],
      "source": [
        "# !pip install langchain langchain_community langchain-ollama"
      ]
    },
    {
      "cell_type": "code",
      "execution_count": 1,
      "metadata": {},
      "outputs": [
        {
          "name": "stderr",
          "output_type": "stream",
          "text": [
            "/home/arimatea/.local/lib/python3.10/site-packages/sentence_transformers/cross_encoder/CrossEncoder.py:13: TqdmExperimentalWarning: Using `tqdm.autonotebook.tqdm` in notebook mode. Use `tqdm.tqdm` instead to force console mode (e.g. in jupyter console)\n",
            "  from tqdm.autonotebook import tqdm, trange\n",
            "2024-10-02 09:53:44.142508: I tensorflow/core/util/port.cc:153] oneDNN custom operations are on. You may see slightly different numerical results due to floating-point round-off errors from different computation orders. To turn them off, set the environment variable `TF_ENABLE_ONEDNN_OPTS=0`.\n",
            "2024-10-02 09:53:44.283689: E external/local_xla/xla/stream_executor/cuda/cuda_fft.cc:485] Unable to register cuFFT factory: Attempting to register factory for plugin cuFFT when one has already been registered\n",
            "2024-10-02 09:53:44.339544: E external/local_xla/xla/stream_executor/cuda/cuda_dnn.cc:8454] Unable to register cuDNN factory: Attempting to register factory for plugin cuDNN when one has already been registered\n",
            "2024-10-02 09:53:44.355186: E external/local_xla/xla/stream_executor/cuda/cuda_blas.cc:1452] Unable to register cuBLAS factory: Attempting to register factory for plugin cuBLAS when one has already been registered\n",
            "2024-10-02 09:53:44.455574: I tensorflow/core/platform/cpu_feature_guard.cc:210] This TensorFlow binary is optimized to use available CPU instructions in performance-critical operations.\n",
            "To enable the following instructions: AVX2 AVX_VNNI FMA, in other operations, rebuild TensorFlow with the appropriate compiler flags.\n",
            "2024-10-02 09:53:45.506772: W tensorflow/compiler/tf2tensorrt/utils/py_utils.cc:38] TF-TRT Warning: Could not find TensorRT\n"
          ]
        }
      ],
      "source": [
        "from sentence_transformers import SentenceTransformer\n",
        "import torch\n",
        "import json\n",
        "from langchain.text_splitter import RecursiveCharacterTextSplitter\n",
        "import pickle\n",
        "import faiss\n",
        "import numpy as np\n",
        "import random"
      ]
    },
    {
      "cell_type": "code",
      "execution_count": 2,
      "metadata": {
        "id": "jcxXyFHW4PwI"
      },
      "outputs": [
        {
          "name": "stdout",
          "output_type": "stream",
          "text": [
            "CUDA Available:  True\n",
            "CUDA Device Name:  NVIDIA GeForce RTX 3050 Ti Laptop GPU\n",
            "Usando dispositivo: cuda\n"
          ]
        }
      ],
      "source": [
        "import torch\n",
        "print(\"CUDA Available: \", torch.cuda.is_available())\n",
        "print(\"CUDA Device Name: \", torch.cuda.get_device_name(0))\n",
        "torch.cuda.empty_cache()\n",
        "\n",
        "# Verificar se CUDA está disponível para acelerar o processamento\n",
        "device = 'cuda' if torch.cuda.is_available() else 'cpu'\n",
        "print(f\"Usando dispositivo: {device}\")"
      ]
    },
    {
      "cell_type": "markdown",
      "metadata": {},
      "source": [
        "## Dataset Create and Save"
      ]
    },
    {
      "cell_type": "code",
      "execution_count": 4,
      "metadata": {},
      "outputs": [],
      "source": [
        "# Caminho para o seu arquivo JSON\n",
        "caminho_arquivo = 'context_articles.json'\n",
        "\n",
        "# Carregar os dados do JSON\n",
        "with open(caminho_arquivo, 'r', encoding='utf-8') as file:\n",
        "    dataset = json.load(file)\n",
        "dataset = list(dataset.items())"
      ]
    },
    {
      "cell_type": "code",
      "execution_count": 5,
      "metadata": {},
      "outputs": [
        {
          "data": {
            "text/plain": [
              "list"
            ]
          },
          "execution_count": 5,
          "metadata": {},
          "output_type": "execute_result"
        }
      ],
      "source": [
        "type(dataset)"
      ]
    },
    {
      "cell_type": "code",
      "execution_count": 6,
      "metadata": {},
      "outputs": [
        {
          "name": "stdout",
          "output_type": "stream",
          "text": [
            "Total: 56550\n",
            "Ex: ('san diego padres', 'The San Diego Padres are an American <a href=\"professional%20baseball\">professional baseball</a> team based in <a href=\"San%20Diego\">San Diego</a>, <a href=\"California\">California</a>. They compete in <a href=\"Major%20League%20Baseball\">Major League Baseball</a> (MLB) as a member club of the <a href=\"National%20League\">National League</a> (NL) <a href=\"National%20League%20West\">West division</a>. Founded in <a href=\"1969%20San%20Diego%20Padres%20season\">1969</a>, the Padres have won two <a href=\"List%20of%20National%20League%20pennant%20winners\">NL pennants</a> — in <a href=\"1984%20San%20Diego%20Padres%20season\">1984</a> and <a href=\"1998%20San%20Diego%20Padres%20season\">1998</a>, losing in the <a href=\"World%20Series\">World Series</a> both years. As of <a href=\"2017%20San%20Diego%20Padres%20season\">2018</a>, they have had 14 winning seasons in franchise history. The Padres are one of two Major League Baseball teams (the other being the <a href=\"Los%20Angeles%20Angels\">Los Angeles Angels</a>) in <a href=\"California\">California</a> to originate from that state; the <a href=\"Oakland%20Athletics\">Athletics</a> were originally from <a href=\"Philadelphia\">Philadelphia</a> (and moved to the state from <a href=\"Kansas%20City%2C%20Missouri\">Kansas City</a>), and the <a href=\"Los%20Angeles%20Dodgers\">Dodgers</a> and <a href=\"San%20Francisco%20Giants\">Giants</a> are originally from two New York City boroughs – <a href=\"Brooklyn\">Brooklyn</a> and <a href=\"Manhattan\">Manhattan</a>, respectively. The Padres are the only MLB team that does not share its city with another franchise in the <a href=\"Major%20professional%20sports%20leagues%20in%20the%20United%20States%20and%20Canada\">four major American professional sports leagues</a>. The Padres are the only <a href=\"List%20of%20American%20and%20Canadian%20cities%20by%20number%20of%20major%20professional%20sports%20franchises%23List%20of%20teams%20by%20urban%20area\">major professional sports franchise</a> to be located in San Diego, following the <a href=\"Relocation%20of%20professional%20sports%20teams\">relocation</a> of the <a href=\"Los%20Angeles%20Chargers\">Chargers</a> to <a href=\"Los%20Angeles\">Los Angeles</a> in 2017. They are also the only franchise in the MLB not to have a <a href=\"no-hitter\">no-hitter</a>, having gone 8020 games without throwing one, a major league record to begin a franchise.\\n\\nMinor league team.The Padres adopted their name from the <a href=\"Pacific%20Coast%20League\">Pacific Coast League</a> team that arrived in San Diego in 1936. That minor league franchise won the PCL title in 1937, led by 18-year-old <a href=\"Ted%20Williams\">Ted Williams</a>, the future <a href=\"Baseball%20Hall%20of%20Fame\">Hall-of-Famer</a> who was a native of San Diego. The team\\'s name, Spanish for \"fathers\", refers to the Spanish <a href=\"Franciscan\">Franciscan</a> <a href=\"friar\">friars</a> who founded <a href=\"Mission%20San%20Diego%20de%20Alcal%C3%A1\">San Diego</a> in 1769.\\n\\nMajor league team.In <a href=\"1969%20San%20Diego%20Padres%20season\">1969</a>, the Padres joined the ranks of <a href=\"Major%20League%20Baseball\">Major League Baseball</a> as one of four new expansion teams, along with the <a href=\"Montreal%20Expos\">Montreal Expos</a> (now the <a href=\"Washington%20Nationals\">Washington Nationals</a>), the <a href=\"Kansas%20City%20Royals\">Kansas City Royals</a>, and the <a href=\"Seattle%20Pilots\">Seattle Pilots</a> (now the <a href=\"Milwaukee%20Brewers\">Milwaukee Brewers</a>). Their original owner was <a href=\"C.%20Arnholt%20Smith\">C. Arnholt Smith</a>, a prominent San Diego businessman and former owner of the <a href=\"San%20Diego%20Padres%20%28PCL%29\">PCL Padres</a> whose interests included banking, tuna fishing, hotels, real estate and an airline. Despite initial excitement, the guidance of longtime baseball executives, Eddie Leishman and <a href=\"Buzzie%20Bavasi\">Buzzie Bavasi</a> as well as a new <a href=\"Qualcomm%20Stadium\">playing field</a>, the team struggled; the Padres finished in last place in each of its first six seasons in the <a href=\"National%20League%20West\">NL West</a>, losing 100 games or more four times. One of the few bright spots on the team during the early years was first baseman and slugger <a href=\"Nate%20Colbert\">Nate Colbert</a>, an expansion draftee from the <a href=\"Houston%20Astros\">Houston Astros</a> and still the Padres\\' career leader in home runs.\\n\\nThe team\\'s fortunes gradually improved as they won five <a href=\"National%20League%20West\">National League West</a> titles and reached the <a href=\"World%20Series\">World Series</a> twice, in <a href=\"1984%20World%20Series\">1984</a> and in <a href=\"1998%20World%20Series\">1998</a>, but lost both times. The Padres\\' main draw during the 1980s and 1990s was <a href=\"Tony%20Gwynn\">Tony Gwynn</a>, who won eight league batting titles. They moved into their current stadium, <a href=\"Petco%20Park\">Petco Park</a>, in <a href=\"2004%20San%20Diego%20Padres%20season\">2004</a>.\\n\\nAs of 2019, the Padres are the only team in MLB yet to throw a no-hitter. On September 5, 1997, <a href=\"Andy%20Ashby\">Andy Ashby</a> took a no-hitter into the 9th inning, which is as close as the team has come to achieving this feat.\\n\\nSpring training.The team has played its spring training games at the <a href=\"Peoria%20Sports%20Complex\">Peoria Sports Complex</a> in <a href=\"Peoria%2C%20Arizona\">Peoria, Arizona</a> since 1994. They share the stadium with the <a href=\"Seattle%20Mariners\">Seattle Mariners</a>.\\n\\nFrom 1969 to 1993, the Padres held spring training in <a href=\"Yuma%2C%20Arizona\">Yuma, Arizona</a> at <a href=\"Desert%20Sun%20Stadium\">Desert Sun Stadium</a>. Due to the short driving distance and direct highway route (170 miles, all on <a href=\"Interstate%208\">Interstate 8</a>), Yuma was very popular with Padres fans, and many fans would travel by car from San Diego for spring training games. The move from Yuma to Peoria was very controversial, but was defended by the team as a reflection on the low quality of facilities in Yuma and the long travel necessary to play against other Arizona-based spring training teams (whose sites were all in the Phoenix and Tucson areas, both rather far from Yuma).\\n\\nLogos and colors.Throughout the team\\'s history, the San Diego Padres have used multiple logos, uniform, and color combinations. Their first logo depicted a <a href=\"friar\">friar</a> swinging a bat with Padres written at the top while standing in a sun-like figure with San Diego Padres on the exterior of it. The \"Swinging Friar\" has popped up on the uniform on and off ever since. Although the \"Swinging Friar\" is no longer used as the primary logo, it remains as the <a href=\"mascot\">mascot</a> of the team and is now utilized as an alternate logo and on the uniform sleeve.\\n\\nIn 1985, the Padres switched to using a script-like logo in which <i>Padres</i> was written sloped up. That would later become a script logo for the Padres. The team\\'s colors were changed to brown and orange and remained this way through the 1990 season.\\n\\nIn 1989, the Padres took the scripted Padres logo that was used from 1985 to 1988 and put it in a gray ring that read \"San Diego Baseball Club\" with a striped center. In 1991, the color of the ring was changed to silver, and the Padres script was changed from brown to blue. The logo only lasted one year, as the Padres changed their logo for the third time in three years, again by switching colors of the ring. The logo became a white ring with fewer stripes in the center and a darker blue Padres script with orange shadows. In 1991, the team\\'s colors were also changed, to a combination of orange and navy blue.\\n\\nFor the 2002 season, the Padres removed the stripes off the home jersey and went with a white home jersey with a cleaner look. The pinstripe jerseys were worn as alternate jerseys on certain occasions throughout the 2002 season. The Padres kept this design for two seasons until their 2004 season, in which they moved into their new ballpark.\\n\\nThe logo was completely changed when the team changed stadiums between the 2003 and 2004 seasons, with the new logo looking similar to home plate with <i>San Diego</i> written in sand font at the top right corner and the Padres new script written completely across the center. Waves finished the bottom of the plate. Navy remained but a sandy beige replaced orange as a secondary color. The team\\'s colors were also changed, to navy blue and sand brown. For the next seven seasons the Padres were the only team in Major League Baseball that did not have a gray jersey, with the team typically playing in either blue or sand jerseys on the road and white or blue jerseys at home. In 2009, the <i>San Diego</i> was removed from the top right corner of the logo and two years later, the away uniform changed from sand to gray.\\n\\nFor the 2012 season, the Padres unveiled a new primary logo, featuring the cap logo inside a navy blue circle with the words \"San Diego Padres Baseball Club\" adorning the outer circle. The \"swinging friar\" logo was recolored to the current colors of navy blue and white. Another secondary logo features the Padres script carried over from the previous year\\'s primary logo below the depiction of <a href=\"Petco%20Park\">Petco Park</a> in sand and above the year of the team\\'s first season (EST. 1969). Until 2015, the blue and sand version was used on the home uniform, while the blue and white version was used on the away and alternate uniforms.\\n\\nIn the 2016 season, the Padres wore a navy blue and yellow color scheme, similar to the one used on the <a href=\"2016%20Major%20League%20Baseball%20All-Star%20Game\">2016 Major League Baseball All-Star Game</a> logo. To coincide with the change, the Padres added a new brown and yellow alternate uniform to be worn mostly during Friday home games.\\n\\nFor the 2017 season, the Padres revealed a new color scheme and new jerseys for the second straight year. The yellow was scrapped from the home uniform and the team reverted to a navy blue-and-white combo. The word <i>Padres</i> returned to the front of the home uniform, but with a new script, while the script on the road uniform reverted to the <i>San Diego</i> wordmark style it used from 2004–11. Despite this major change, the brown and yellow alternate uniform from the previous set was retained.\\n\\nThe club announced on January 25, 2019 that the original brown and gold colors would return for the <a href=\"2020%20Major%20League%20Baseball%20season\">2020 Major League Baseball season</a>. The new uniform designs featuring the brown and gold colors were officially unveiled on November 9. The team featured brown and gold on each of the three unveiled jerseys, including the return of pinstripes to the Padre home jersey for the first time since 2001 and a non-gray road jersey for the first time since 2010.\\n\\nMilitary appreciation.Starting in 1996, the Padres became the first national sports team to have an annual military appreciation event. Following in 2000, the Padres began wearing a <a href=\"Military%20camouflage\">camouflage</a> to honor the <a href=\"United%20States%20armed%20forces\">military</a>. The jersey will now have had seven different versions since. Starting in 2008, the Padres began wearing camouflage jerseys for every Sunday home game. They also wear these uniforms on Memorial Day, Independence Day, and Labor Day. For 2011, the Padres changed the camouflage design to a more modern \"digital\" design, using the <a href=\"MARPAT\">MARPAT</a> design after receiving permission from then-<a href=\"Commandant%20of%20the%20Marine%20Corps\">Commandant</a> <a href=\"James%20T.%20Conway\">Conway</a>, and dropped the green from the lettering and logo of the jersey. Green was replaced by a sand-olive color (also in the cap worn with the jersey). For 2016, to coincide with hosting the <a href=\"2016%20Major%20League%20Baseball%20All-Star%20Game\">2016 Major League Baseball All-Star Game</a>, the Padres changed the camouflage jersey once again; this time to navy blue, however, this design was only worn for one season as for 2017, the Padres switched the camouflage jersey to Marine, which was used through 2019. For 2020, the Padres will begin using two different camouflage jersey colors: green and sand-olive, both with the current <i>Padres</i> wordmark. Since 1995 Marine Recruits from the nearby <a href=\"Marine%20Corps%20Recruit%20Depot%20San%20Diego\">Marine Corps Recruit Depot</a> often visit the games en masse during Military Appreciation Day, in uniform, often filling entire sections in the upper deck of Petco Park. When they are present, the team commemorates this with a special Fourth Inning Stretch featuring the <a href=\"Marines%27%20Hymn\">Marine Hymn</a>. Through April 2005 over 60,000 marine recruits were hosted by the Padres. This is part of an extensive military outreach program, which also includes a series of Military Appreciation Night games, and <a href=\"Videotape\">game tapes</a> mailed to deployed <a href=\"United%20States%20Navy\">United States Navy</a> ships of the Pacific Fleet for onboard viewing (a large portion of the <a href=\"United%20States%20Pacific%20Fleet\">Pacific Fleet</a> is homeported in San Diego).\\n\\nThe <a href=\"San%20Diego%20County\">San Diego area</a> <a href=\"San%20Diego%23Defense%20and%20military\">is home to</a> a number of military installations, including several <a href=\"United%20States%20Navy\">Navy</a> and <a href=\"United%20States%20Coast%20Guard\">Coast Guard</a> bases centered on <a href=\"San%20Diego%20Bay\">San Diego Bay</a>, <a href=\"Marine%20Corps%20Air%20Station%20Miramar\">Marine Corps Air Station Miramar</a> (former home of the <a href=\"United%20States%20Navy%20Strike%20Fighter%20Tactics%20Instructor%20program\">\"Top Gun\"</a> training program), and the <a href=\"United%20States%20Marine%20Corps\">Marine Corps</a> training ground at <a href=\"Marine%20Corps%20Base%20Camp%20Pendleton\">Camp Pendleton</a>. Civilians employed at those bases account for around 5% of the county\\'s working population.\\n\\nMascot.The \"Swinging Friar\" is currently the <a href=\"mascot\">mascot</a> of the team. Some in the past have confused <a href=\"The%20Famous%20Chicken\">The Famous Chicken</a> as the mascot of the Padres. Although he does make appearances occasionally at San Diego sporting events, he has never been the official mascot of any San Diego sports team.\\n\\nBaseball Hall of Famers.The following elected members of the <a href=\"National%20Baseball%20Hall%20of%20Fame%20and%20Museum\">Baseball Hall of Fame</a> played and/or managed for the Padres.\\nRetired numbers.The Padres have <a href=\"Squad%20number%23Retired%20numbers\">retired</a> six numbers. Five were in honor of Padre players and one was <a href=\"Jackie%20Robinson\">Jackie Robinson</a>\\'s number 42, which was retired by all of Major League Baseball. The retired numbers are displayed on the upper deck facade behind home plate.\\nThe Padres also have a \"star on the wall\" in honor of broadcaster <a href=\"Jerry%20Coleman\">Jerry Coleman</a>, in reference to his trademark phrase \"Oh Doctor! You can hang a star on that baby!\" Nearby the initials of the late owner <a href=\"Ray%20Kroc\">Ray Kroc</a> are also displayed. Both the star and the initials are painted in gold on the front of the pressbox down the right field line accompanied by the name of the person in white. Kroc was honored in 1984, Coleman in 2001.\\n\\nTeam Hall of Fame.The following 14 people have been inducted into the San Diego Padres Hall of Fame since it was founded in 1999.\\n\\nSan Diego Hall of Champions.Gwynn, Winfield, Fingers, Gossage, Randy Jones, and <a href=\"Graig%20Nettles\">Graig Nettles</a> (3B, 1984–1987) are members of the <a href=\"San%20Diego%20Hall%20of%20Champions\">San Diego Hall of Champions</a>, which is open to athletes native to the San Diego area (such as Nettles) as well as to those who played for San Diego teams (such as Gwynn).\\n\\nRadio and television.Padres\\' games are currently televised by <a href=\"Fox%20Sports%20San%20Diego\">Fox Sports San Diego</a>. <a href=\"Don%20Orsillo\">Don Orsillo</a> is the play-by-play announcer, with <a href=\"Mark%20Grant%20%28baseball%29\">Mark Grant</a> as color analyst and either Julie Alexandria, Ron Zinter, or <a href=\"Bob%20Scanlan\">Bob Scanlan</a> as <a href=\"field%20reporter\">field reporter</a>. <a href=\"Mike%20Pomeranz\">Mike Pomeranz</a> hosts the <i>Padres Live</i> pre- and post-game show along with <a href=\"Mark%20Sweeney\">Mark Sweeney</a>.\\n\\nAs of the 2018 season, Padres radio broadcasts in English are carried by <a href=\"KWFN\">KWFN</a> <i>97.3 The Fan</i>, after having previously been carried by <a href=\"sister%20station\">sister station</a> 94.9 <a href=\"KBZT\">KBZT</a> upon the acquisition of the radio rights by <a href=\"Entercom\">Entercom</a> in 2017. <a href=\"Ted%20Leitner\">Ted Leitner</a> is the primary <a href=\"play-by-play\">play-by-play</a> announcer, with Jesse Agler working the middle innings of each game and Bob Scanlan serving as <a href=\"color%20analyst\">color analyst</a>. The games are also broadcast in Spanish on <a href=\"XEMO-AM\">XEMO-AM</a>,<i>La Poderosa 860 AM</i>, with Eduardo Ortega, Carlos Hernández and Pedro Gutiérrez announcing. Padre games were also aired from 2006–2010 on <a href=\"XHPRS-FM\">XHPRS-FM</a> 105.7.\\n\\nSpanish language telecasts of Sunday games are seen <a href=\"XHAS-TDT\">XHAS-TDT</a> channel 33. Until September 2007, Friday and Saturday games were seen in Spanish on <a href=\"KSEX-CD\">KBOP-CA</a> channel 43, until that station changed to an all-infomercial format. This makes XHAS-TDT the only over-the-air-television station carrying Padres baseball. English-language Padres over-the-air broadcasts aired through the years on <a href=\"XETV-TDT\">XETV-TV</a> 6, <a href=\"KNSD\">KCST-TV</a> 39, <a href=\"KUSI-TV\">KUSI-TV</a> 51, <a href=\"KFMB-TV\">KFMB-TV</a> 8 and <a href=\"KSWB-TV\">KSWB-TV</a> 69.\\n\\nJohn Demott was the Padres\\' first public address announcer when the team began in 1969. By the late 1970s Bruce Binkowski had taken over as PA announcer, and became the longest-serving public address announcer in the team\\'s history, remaining until the end of the 1999 season. First DeMott and then Binkowski also were responsible with PA announcing duties for the <a href=\"History%20of%20the%20San%20Diego%20Chargers\">San Diego Chargers</a> and the <a href=\"San%20Diego%20State%20University\">San Diego State University</a> Aztecs, both of which were joint tenants at Qualcomm Stadium with the Padres until the Padres moved into <a href=\"Petco%20Park\">Petco Park</a>. From Petco Park\\'s opening in 2004 until 2013, the PA announcer was Frank Anthony, a radio host with 105.7 <a href=\"XHPRS-FM\">XHPRS-FM</a>. On April 19, 2014, Alex Miniak was announced as the new Public Address announcer for the San Diego Padres. Miniak was formerly the PA announcer for the <a href=\"New%20Hampshire%20Fisher%20Cats\">New Hampshire Fisher Cats</a>, the Double-A affiliate of the <a href=\"Toronto%20Blue%20Jays\">Toronto Blue Jays</a>.\\n\\nThe San Diego Padres were first portrayed in the 1979 <a href=\"National%20Broadcasting%20Company\">NBC</a> made-for-TV film \"<a href=\"The%20Kid%20from%20Left%20Field%20%281979%20film%29\">The Kid from Left Field</a>,\" starring <a href=\"Gary%20Coleman\">Gary Coleman</a> as Jackie Robinson \"J.R.\" Cooper, a youngster who is passionate about baseball, and puts his knowledge to good use when he becomes the manager of the Padres and helps them lead to the <a href=\"World%20Series\">World Series</a>.\\n\\nIn 2016, the San Diego Padres were portrayed once again in the one-season <a href=\"Fox%20Broadcasting%20Company\">Fox</a> television series <i><a href=\"Pitch%20%28TV%20series%29\">Pitch</a></i>, starring <a href=\"Kylie%20Bunbury\">Kylie Bunbury</a> as Ginny Baker, the first female to play in Major League Baseball.\\n\\nEducational involvement.The San Diego Padres established The Padres Scholars program, the first of its kind among professional sports. Originally each Padres scholar was selected as a seventh grader and received a $5,000 scholarship after graduation from high school to go towards higher education. This program has reached 389 students from its establishment in 1995 to now. Over the past few years the program has undergone a few changes to be effective an education standpoint. This program focuses on creating a close relationship between the chosen scholars and the team. As of 2011, 3 high school seniors will be chosen to receive a $30,000 scholarship to be awarded through the course of their higher education. Maintaining this prestigious award is conditional on maintaining contact with the Padres and providing proof of good academic standing.\\n\\nThe San Diego Padres are the sponsors of and heavily involved in most aspects of the Sports Business Management MBA degree program offered in conjunction with <a href=\"San%20Diego%20State%20University\">San Diego State University</a>\\'s <a href=\"San%20Diego%20State%20University%20College%20of%20Business%20Administration\">College of Business Administration</a>. SDSU\\'s Sports MBA is the only program of its kind created in partnership with a professional sports franchise. The curriculum focuses on the entire sports business industry, not just baseball. The program includes an internship. Members of Padres senior management regularly participate, including work with the development and continued coordination of SDSU\\'s International Case Competition, which annually attracts participation from top business schools.\\n\\nSee also.<ul><li>- <i></i> – Jerry Coleman\\'s 2008 autobiography\\n</li></ul>\\n\\nExternal links.<ul><li>- <a href=\"http%3A//www.sportslogos.net/logos/list_by_team/73\">San Diego Padres Logos</a>\\n</li></ul>\\n\\n</doc>\\n')\n"
          ]
        }
      ],
      "source": [
        "print(f\"Total: {len(dataset)}\")\n",
        "print(\"Ex:\", dataset[0])\n",
        "# print(\"Ex: \", next(iter(dataset.items())))"
      ]
    },
    {
      "cell_type": "code",
      "execution_count": 7,
      "metadata": {},
      "outputs": [],
      "source": [
        "# Inicializar o Text Splitter\n",
        "text_splitter = RecursiveCharacterTextSplitter(\n",
        "    chunk_size=2000,      # Tamanho máximo de cada chunk\n",
        "    chunk_overlap=100,    # Quantidade de sobreposição entre os chunks\n",
        "    separators=[\"\\n\\n\", \"\\n\", \" \", \"\"]  # Separadores para segmentação\n",
        ")\n",
        "\n",
        "# Função para dividir o texto em chunks\n",
        "def dividir_em_chunks(texto):\n",
        "    return text_splitter.split_text(texto)\n",
        "\n",
        "# Aplicar a divisão em todos os textos do dataset\n",
        "dataset_chunks = []\n",
        "for book in dataset:\n",
        "    label = book[0]      # O primeiro elemento da tupla é o rótulo\n",
        "    texto = book[1]      # O segundo elemento da tupla é o texto\n",
        "    chunks = dividir_em_chunks(texto)\n",
        "    for chunk in chunks:\n",
        "        dataset_chunks.append({\n",
        "            'text': chunk,\n",
        "            'label': label  # Preservar o rótulo\n",
        "        })\n"
      ]
    },
    {
      "cell_type": "code",
      "execution_count": 8,
      "metadata": {},
      "outputs": [
        {
          "name": "stdout",
          "output_type": "stream",
          "text": [
            "Total chunks: 769805\n",
            "Exemple chunk: {'text': 'The San Diego Padres are an American <a href=\"professional%20baseball\">professional baseball</a> team based in <a href=\"San%20Diego\">San Diego</a>, <a href=\"California\">California</a>. They compete in <a href=\"Major%20League%20Baseball\">Major League Baseball</a> (MLB) as a member club of the <a href=\"National%20League\">National League</a> (NL) <a href=\"National%20League%20West\">West division</a>. Founded in <a href=\"1969%20San%20Diego%20Padres%20season\">1969</a>, the Padres have won two <a href=\"List%20of%20National%20League%20pennant%20winners\">NL pennants</a> — in <a href=\"1984%20San%20Diego%20Padres%20season\">1984</a> and <a href=\"1998%20San%20Diego%20Padres%20season\">1998</a>, losing in the <a href=\"World%20Series\">World Series</a> both years. As of <a href=\"2017%20San%20Diego%20Padres%20season\">2018</a>, they have had 14 winning seasons in franchise history. The Padres are one of two Major League Baseball teams (the other being the <a href=\"Los%20Angeles%20Angels\">Los Angeles Angels</a>) in <a href=\"California\">California</a> to originate from that state; the <a href=\"Oakland%20Athletics\">Athletics</a> were originally from <a href=\"Philadelphia\">Philadelphia</a> (and moved to the state from <a href=\"Kansas%20City%2C%20Missouri\">Kansas City</a>), and the <a href=\"Los%20Angeles%20Dodgers\">Dodgers</a> and <a href=\"San%20Francisco%20Giants\">Giants</a> are originally from two New York City boroughs – <a href=\"Brooklyn\">Brooklyn</a> and <a href=\"Manhattan\">Manhattan</a>, respectively. The Padres are the only MLB team that does not share its city with another franchise in the <a href=\"Major%20professional%20sports%20leagues%20in%20the%20United%20States%20and%20Canada\">four major American professional sports leagues</a>. The Padres are the only <a href=\"List%20of%20American%20and%20Canadian%20cities%20by%20number%20of%20major%20professional%20sports%20franchises%23List%20of%20teams%20by%20urban%20area\">major professional sports franchise</a> to be located in San Diego,', 'label': 'san diego padres'}\n"
          ]
        }
      ],
      "source": [
        "print(f\"Total chunks: {len(dataset_chunks)}\")\n",
        "print(\"Exemple chunk:\", dataset_chunks[0])"
      ]
    },
    {
      "cell_type": "code",
      "execution_count": 9,
      "metadata": {},
      "outputs": [],
      "source": [
        "# # Salvar embeddings em um arquivo .pkl (pickle)\n",
        "# with open('dataset_chunks.pkl', 'wb') as f:\n",
        "#     pickle.dump(dataset_chunks, f)"
      ]
    },
    {
      "cell_type": "code",
      "execution_count": 10,
      "metadata": {},
      "outputs": [],
      "source": [
        "# Carregar embeddings do arquivo .pkl\n",
        "with open('dataset_chunks.pkl', 'rb') as f:\n",
        "    dataset_chunks = pickle.load(f)"
      ]
    },
    {
      "cell_type": "code",
      "execution_count": 11,
      "metadata": {},
      "outputs": [],
      "source": [
        "num_test_samples = 100\n",
        "data_test = dataset_chunks[:num_test_samples]"
      ]
    },
    {
      "cell_type": "code",
      "execution_count": null,
      "metadata": {},
      "outputs": [],
      "source": [
        "from sentence_transformers import SentenceTransformer\n",
        "import torch\n",
        "\n",
        "# Carregar o modelo\n",
        "modelo = SentenceTransformer('all-mpnet-base-v2', device=device)\n",
        "\n",
        "# Gerar embeddings para cada chunk\n",
        "def gerar_embeddings(documents, batch_size=64):\n",
        "    textos = [doc['text'] for doc in documents]\n",
        "    embeddings = modelo.encode(\n",
        "        textos, \n",
        "        convert_to_tensor=False, \n",
        "        show_progress_bar=True, \n",
        "        batch_size=batch_size\n",
        "    )\n",
        "    return embeddings\n",
        "\n",
        "# Obter os embeddings\n",
        "# embeddings = gerar_embeddings(dataset_chunks)\n",
        "embeddings_test = gerar_embeddings(data_test)\n"
      ]
    },
    {
      "cell_type": "code",
      "execution_count": null,
      "metadata": {},
      "outputs": [
        {
          "name": "stdout",
          "output_type": "stream",
          "text": [
            "Size of embeddings: 769805\n",
            "Sixe of each embedding: 768\n"
          ]
        }
      ],
      "source": [
        "# Verificar o tamanho dos embeddings\n",
        "print(f\"Size of embeddings: {len(embeddings)}\")\n",
        "print(f\"Sixe of each embedding: {len(embeddings[1])}\")"
      ]
    },
    {
      "cell_type": "code",
      "execution_count": null,
      "metadata": {},
      "outputs": [],
      "source": [
        "# # Salvar embeddings em um arquivo .pkl (pickle)\n",
        "# with open('embeddings.pkl', 'wb') as f:\n",
        "#     pickle.dump(embeddings, f)"
      ]
    },
    {
      "cell_type": "code",
      "execution_count": null,
      "metadata": {},
      "outputs": [
        {
          "name": "stdout",
          "output_type": "stream",
          "text": [
            "Loaded Dataset size: 769805\n"
          ]
        }
      ],
      "source": [
        "# Carregar embeddings do arquivo .pkl\n",
        "with open('embeddings.pkl', 'rb') as f:\n",
        "    embeddings = pickle.load(f)\n",
        "\n",
        "print(f\"Loaded Dataset size: {len(embeddings)}\")\n"
      ]
    },
    {
      "cell_type": "code",
      "execution_count": null,
      "metadata": {},
      "outputs": [
        {
          "data": {
            "text/plain": [
              "array([-4.39035557e-02,  4.13923413e-02, -1.31815979e-02, -9.05656070e-03,\n",
              "        1.88980866e-02, -2.30787601e-03,  1.14673702e-02,  2.85354629e-02,\n",
              "        5.36813587e-02, -2.80141756e-02, -2.59313527e-02,  3.96644957e-02,\n",
              "        2.14470923e-02, -3.91444676e-02, -3.48327197e-02,  3.48632038e-02,\n",
              "       -1.66153293e-02,  1.04179047e-02,  5.61972242e-03, -8.13380815e-03,\n",
              "       -6.25603646e-02,  2.35460140e-02, -3.62865552e-02, -1.31997420e-02,\n",
              "       -6.61428366e-03, -2.34690234e-02, -7.83822779e-03, -3.77242044e-02,\n",
              "       -1.17200012e-04, -6.24527708e-02,  1.96148511e-02, -3.35057899e-02,\n",
              "        1.22996578e-02, -4.68037836e-03,  2.37095355e-06, -1.14677325e-02,\n",
              "        1.60544105e-02, -2.29683928e-02, -1.00952117e-02, -2.44158488e-02,\n",
              "       -2.11209077e-02, -1.79950334e-02,  4.00784612e-02,  2.60065775e-02,\n",
              "        1.61408447e-03, -5.84057346e-02,  4.41867001e-02, -8.33072290e-02,\n",
              "       -2.39038770e-03,  1.27016045e-02,  3.04946639e-02, -2.57647745e-02,\n",
              "       -7.96181187e-02, -1.23552727e-02, -3.02821305e-02,  6.37251958e-02,\n",
              "       -2.27210321e-03,  3.06133032e-02, -2.66014580e-02, -5.30565120e-02,\n",
              "        1.59991719e-02,  6.37826174e-02,  1.95055436e-02,  9.87072475e-03,\n",
              "       -2.28674412e-02,  2.67750081e-02, -2.88838111e-02,  3.10597755e-03,\n",
              "        2.00279243e-02, -1.04534412e-02,  4.20886055e-02,  1.59175862e-02,\n",
              "        2.60111801e-02,  2.51297168e-02, -3.90629983e-03, -8.04815888e-02,\n",
              "       -1.74103286e-02, -1.11498320e-02,  2.65642833e-02,  4.78162523e-03,\n",
              "       -4.45927940e-02,  2.92459950e-02,  2.24702526e-02,  3.33687989e-03,\n",
              "       -3.69363315e-02, -1.24575868e-02,  2.80058738e-02,  1.89721189e-03,\n",
              "       -1.03287660e-01,  5.36765344e-02, -2.57749893e-02, -4.07809429e-02,\n",
              "        6.34328369e-03,  2.70937774e-02, -3.05628013e-02,  8.88886489e-03,\n",
              "       -1.53462943e-02,  6.56321272e-03,  3.52513045e-03,  2.66041793e-02,\n",
              "        1.85200162e-02, -1.27148079e-02,  1.77623797e-02, -1.32536609e-02,\n",
              "       -3.67619768e-02, -7.30965212e-02,  7.04165325e-02, -9.93125737e-02,\n",
              "       -9.75483935e-03,  3.46730091e-02,  2.55175531e-02, -2.89241951e-02,\n",
              "        4.39028293e-02,  3.74886468e-02, -1.05621144e-02, -5.06818015e-03,\n",
              "        8.15768167e-02,  3.38164754e-02,  3.64789478e-02,  6.85475171e-02,\n",
              "       -3.63571942e-02, -1.94245055e-02, -1.91118028e-02, -2.01392416e-02,\n",
              "       -3.30550373e-02, -1.41338641e-02, -4.81375773e-03, -1.12002611e-03,\n",
              "        9.15289018e-03, -1.53525220e-02,  1.99483428e-03, -1.53673720e-02,\n",
              "        1.57798119e-02,  1.18770460e-02, -2.42788228e-03,  1.34636695e-03,\n",
              "       -2.94640567e-02,  5.22835441e-02,  3.25874910e-02,  1.25126392e-02,\n",
              "        2.72868387e-02, -7.63626024e-02, -3.03045213e-02,  1.04849599e-02,\n",
              "       -5.35124987e-02,  1.73664130e-02,  1.70823075e-02, -6.12150542e-02,\n",
              "        2.95965187e-02,  5.23429848e-02,  8.18411261e-03,  3.12474277e-02,\n",
              "       -9.55573246e-02,  2.62915492e-02, -1.31458752e-02,  2.95712370e-02,\n",
              "       -5.12019396e-02, -1.35234687e-02,  3.05225775e-02, -1.90685727e-02,\n",
              "        3.01441569e-02, -7.04999715e-02, -3.82532515e-02, -1.68670546e-02,\n",
              "        2.99532840e-04,  9.98069532e-03,  5.48541313e-03, -2.42008106e-03,\n",
              "        4.40873988e-02,  5.14444709e-02, -2.06975508e-02, -3.44511420e-02,\n",
              "       -5.67658758e-03, -7.65535003e-03,  4.16709445e-02,  1.75053310e-02,\n",
              "        2.15999130e-02, -4.30054776e-02,  7.60127455e-02,  6.23234129e-03,\n",
              "       -4.61100489e-02, -9.61285159e-02, -5.65855093e-02,  7.03358231e-03,\n",
              "       -2.97451363e-04,  5.24912737e-02, -3.01687364e-02, -2.05012299e-02,\n",
              "       -2.87572145e-02, -2.96860021e-02,  4.89486344e-02, -3.16259377e-02,\n",
              "       -3.10517922e-02, -1.26655947e-03,  5.93789062e-03,  2.20534522e-02,\n",
              "       -7.42443651e-03,  7.65582919e-02, -4.22108509e-02, -6.47343230e-03,\n",
              "        4.04241160e-02, -1.67710837e-02,  1.72460377e-02, -2.05508946e-03,\n",
              "        2.73777302e-02, -3.15512903e-02, -7.84316361e-02,  3.48283700e-03,\n",
              "        1.31569868e-02,  4.39491048e-02, -1.14799570e-02, -4.24288400e-03,\n",
              "        3.09426468e-02,  3.19523271e-03,  2.79622953e-02,  1.54713672e-02,\n",
              "        6.48754707e-04, -2.03437195e-03, -4.06250730e-02,  4.89845946e-02,\n",
              "        3.74302380e-02, -2.75605693e-02,  3.39818783e-02,  3.52563970e-02,\n",
              "       -9.30995271e-02, -4.40979674e-02, -1.59273688e-02, -4.01411206e-02,\n",
              "       -5.54788299e-02, -4.92070056e-02, -1.82988141e-02, -1.66012179e-02,\n",
              "        1.28470855e-02, -7.82500207e-03,  6.36899984e-03, -3.68788391e-02,\n",
              "        2.02927422e-02, -1.96076632e-02,  1.67758558e-02,  3.46424691e-02,\n",
              "       -4.40636948e-02, -1.81698259e-02,  4.03304920e-02,  4.88795619e-03,\n",
              "       -4.41641584e-02, -2.77196243e-03, -6.07870519e-02,  2.97919731e-03,\n",
              "        6.19238429e-02,  1.04587311e-02,  4.70275916e-02,  2.82227211e-02,\n",
              "       -4.84143337e-03, -3.16995406e-03,  1.35563742e-02, -1.49926112e-03,\n",
              "       -1.21010756e-02,  3.23816203e-02, -7.54010752e-02, -3.64009440e-02,\n",
              "       -3.04681063e-02, -6.40259162e-02,  1.80420950e-02,  3.19461934e-02,\n",
              "        2.27456819e-02, -1.32004330e-02,  2.71162931e-02, -2.55251117e-03,\n",
              "        3.60965310e-03, -1.57014541e-02, -8.42309743e-03, -8.28874763e-03,\n",
              "        2.14159470e-02, -3.56918499e-02, -1.39239067e-02,  3.91705073e-02,\n",
              "       -1.61343459e-02,  1.70154888e-02,  2.30759345e-02, -3.68509209e-03,\n",
              "        2.07295571e-03, -9.48276892e-02,  3.14806448e-03,  2.83667445e-02,\n",
              "        3.80311087e-02,  2.41537616e-02, -3.77259441e-02,  1.00085154e-01,\n",
              "       -1.21725760e-01, -3.48979980e-02, -5.84613718e-02, -1.87310223e-02,\n",
              "        1.90875214e-02,  3.79379280e-02,  4.49064374e-02,  1.88605152e-02,\n",
              "       -6.36592135e-03,  2.08498351e-02,  1.08747613e-02, -5.37393475e-03,\n",
              "        9.81932878e-03, -6.00024238e-02,  6.68879300e-02,  1.76686235e-02,\n",
              "       -4.65997634e-03,  2.31019594e-02, -9.58537832e-02,  8.97665508e-03,\n",
              "        9.40629689e-04, -2.19631456e-02,  2.32550818e-02,  1.16111413e-02,\n",
              "       -2.24621315e-02, -4.82173748e-02,  4.55238856e-02,  4.38943878e-02,\n",
              "        9.10532381e-03,  2.24416684e-02, -4.32559885e-02,  3.29180323e-02,\n",
              "       -4.47193906e-03, -6.61134894e-04, -5.47975972e-02, -1.98393711e-03,\n",
              "       -8.12831509e-04, -9.30638984e-03,  1.31903961e-02,  3.91960330e-02,\n",
              "        2.11990252e-02,  4.64155674e-02,  9.06774960e-03,  3.13178711e-02,\n",
              "        8.94902274e-03,  2.89562568e-02,  4.35148664e-02, -2.71706413e-02,\n",
              "       -1.36383865e-02, -1.08738374e-02,  7.21484004e-03, -2.08807159e-02,\n",
              "       -2.07298342e-02,  5.98863512e-02, -4.88410853e-02,  1.07490003e-01,\n",
              "       -2.34420132e-02, -2.53960472e-02, -2.79806126e-02,  1.91018451e-02,\n",
              "        2.93721892e-02, -6.47627711e-02, -4.44488898e-02,  1.43136736e-02,\n",
              "        1.92089081e-02, -6.26351014e-02, -1.19229415e-02, -3.14108953e-02,\n",
              "        1.74680222e-02, -3.66924820e-03,  5.44126555e-02,  1.72203202e-02,\n",
              "       -1.19263609e-03, -2.33906391e-03,  4.38057259e-02, -9.28306114e-03,\n",
              "       -3.99159268e-02,  1.00423507e-02,  1.78401638e-02, -4.57990281e-02,\n",
              "        1.38546545e-02,  3.32283080e-02,  2.63713766e-02,  5.64100705e-02,\n",
              "       -3.98382805e-02,  7.77618121e-03,  8.47030524e-03,  2.56386548e-02,\n",
              "        4.00988944e-02,  8.16143900e-02,  1.97102670e-02,  5.66193350e-02,\n",
              "        2.89425198e-02,  1.62264239e-02, -2.27195509e-02,  1.29095083e-02,\n",
              "        1.34894093e-02, -3.18217720e-03, -3.10351253e-02, -8.19582120e-02,\n",
              "       -2.00050473e-02, -2.68502422e-02,  3.44324228e-03,  7.93636888e-02,\n",
              "       -4.67540994e-02,  6.68335184e-02,  9.68997087e-03,  1.91298798e-02,\n",
              "       -1.91036165e-02,  1.21045765e-02, -5.04132360e-02, -3.90829481e-02,\n",
              "        8.77859443e-03,  1.65797230e-02, -3.36809307e-02,  2.30176970e-02,\n",
              "       -3.28298286e-02,  2.38675717e-02, -1.20627712e-02, -4.27184347e-03,\n",
              "        2.91837752e-02, -2.50159483e-03, -3.65977697e-02, -1.22194299e-02,\n",
              "        3.61829735e-02,  2.74320859e-02, -3.86953764e-02, -2.11282708e-02,\n",
              "        2.19845530e-02,  1.26404595e-02, -1.79381091e-02, -9.01126936e-02,\n",
              "       -1.34119736e-02,  3.59948203e-02, -2.17084941e-02, -9.55718569e-03,\n",
              "        3.32954563e-02,  8.43441766e-03, -1.49617922e-02,  2.16379389e-02,\n",
              "       -4.13476080e-02,  5.61410636e-02, -2.55173128e-02,  2.85265259e-02,\n",
              "       -4.33470719e-02, -2.89685018e-02,  1.04700616e-02,  7.26918727e-02,\n",
              "       -9.30711925e-02, -4.19658534e-02, -3.95893417e-02,  1.66928060e-02,\n",
              "       -7.11297318e-02, -1.81566607e-02,  4.95792553e-02, -1.96376406e-02,\n",
              "        7.32595325e-02,  7.30329799e-03, -4.81136292e-02,  1.43686857e-03,\n",
              "       -4.59737368e-02, -1.54537046e-02, -2.46149898e-02,  2.81039122e-02,\n",
              "        5.69956824e-02,  2.83198636e-02,  4.49701101e-02, -1.05836103e-03,\n",
              "        1.70338582e-02, -7.13506266e-02,  2.12825462e-03,  3.80352251e-02,\n",
              "        5.86486273e-02, -5.70309069e-03, -7.78058171e-02, -5.22400476e-02,\n",
              "       -1.44337686e-02,  3.32275406e-02,  4.71932925e-02,  3.13259847e-02,\n",
              "        2.97085233e-02,  7.70452479e-03, -1.21343108e-02, -3.74115282e-03,\n",
              "        1.54697420e-02,  5.42975217e-03, -9.45871137e-03, -1.38271172e-02,\n",
              "        6.78467080e-02, -5.55979572e-02,  9.38784182e-02, -2.71068234e-03,\n",
              "       -1.92636187e-04,  9.77576338e-03, -3.77284884e-02,  2.33383048e-02,\n",
              "        2.89872140e-02, -8.27807281e-03,  1.01828640e-02, -4.70743282e-03,\n",
              "        3.06572597e-02, -3.50444838e-02, -4.99610417e-03,  3.79242152e-02,\n",
              "       -2.43293121e-02,  8.54732767e-02, -6.61420869e-03,  4.63820398e-02,\n",
              "        1.88983288e-02,  5.11334166e-02,  1.05936311e-01,  2.24809442e-02,\n",
              "       -3.65098529e-02, -8.22023768e-03, -2.23749224e-02,  1.53965838e-02,\n",
              "        5.12034725e-03,  2.69034561e-02, -7.70452898e-04, -1.31592834e-02,\n",
              "        6.04034849e-02,  5.04184701e-02,  6.03199005e-03,  5.77981351e-03,\n",
              "        3.52314152e-02,  1.00957051e-01,  5.00544682e-02, -1.49891702e-02,\n",
              "        5.68214878e-02,  8.73115938e-03, -3.64922406e-03,  1.35037340e-02,\n",
              "        1.93775445e-03,  1.45053789e-02,  1.82453375e-02,  8.23635980e-02,\n",
              "        4.51879250e-03, -9.65398550e-03, -1.53801460e-02,  6.16362132e-03,\n",
              "        3.17432657e-02, -3.46261710e-02, -3.70569490e-02,  1.19528500e-02,\n",
              "        2.55162138e-02,  3.11647207e-02, -6.63252082e-03, -2.54505617e-03,\n",
              "       -1.73031148e-02, -2.78471932e-02, -1.68774705e-02, -4.26551104e-02,\n",
              "       -8.26332159e-03, -1.42478319e-02, -5.85142942e-03, -8.67406726e-02,\n",
              "        3.86407562e-02, -5.87110259e-02,  1.31905423e-02,  3.95645387e-02,\n",
              "        4.53127036e-03, -7.56676868e-02, -7.54055902e-02,  4.45451587e-03,\n",
              "        4.45929077e-03, -2.17492077e-02, -2.45642699e-02, -6.71211682e-33,\n",
              "        5.71550578e-02, -7.33654052e-02,  5.76623641e-02, -2.18720399e-02,\n",
              "       -6.06552465e-03, -2.22306885e-02, -3.38047594e-02, -4.42767021e-04,\n",
              "       -6.85520063e-04,  3.88106778e-02,  1.06596239e-02, -1.26219774e-02,\n",
              "       -1.38487504e-03,  1.33558009e-02,  5.83494045e-02, -5.06037474e-02,\n",
              "        3.36579755e-02, -7.63122272e-03, -1.60067086e-03, -5.12953475e-02,\n",
              "       -5.62010109e-02,  8.34584702e-03, -2.62094494e-02, -5.43094724e-02,\n",
              "        3.52423489e-02, -3.68103310e-02, -1.68198571e-02, -3.72946146e-03,\n",
              "        3.88689525e-02, -5.27438223e-02, -1.24899391e-02, -1.23349829e-02,\n",
              "       -1.63430143e-02, -1.33164033e-01, -4.77067307e-02, -2.92796679e-02,\n",
              "        3.27470824e-02,  1.14783067e-02,  1.89261418e-02, -2.44490299e-02,\n",
              "        8.70072767e-02,  3.05630583e-02, -4.47761193e-02,  8.15286674e-03,\n",
              "        1.67808793e-02, -1.74535401e-02,  3.53824371e-03,  1.92881264e-02,\n",
              "       -1.49635226e-02,  4.65315999e-03,  3.10359020e-02,  7.95692485e-03,\n",
              "        3.23039219e-02, -2.72136014e-02, -1.68631840e-02, -7.00143427e-02,\n",
              "        2.90076137e-02,  3.64674106e-02, -7.38625750e-02,  1.04320487e-02,\n",
              "        6.28793016e-02,  9.76387598e-03,  6.17272072e-02, -3.53791267e-02,\n",
              "        5.84310666e-02,  1.32881682e-02, -1.14642009e-02,  1.50570078e-02,\n",
              "        2.56557739e-03,  4.76640761e-02,  1.50433480e-05, -2.56978776e-02,\n",
              "       -4.23532054e-02, -1.71735156e-02,  1.17325829e-02,  3.12901624e-02,\n",
              "       -1.00282384e-02, -3.34769525e-02, -2.46854089e-02, -2.76823770e-02,\n",
              "       -1.12150353e-03,  1.53449858e-02, -9.12795402e-03,  4.05395888e-02,\n",
              "       -1.23428935e-02, -3.40756215e-02,  2.16417648e-02, -6.82642385e-02,\n",
              "       -4.22862405e-03, -1.07548470e-02, -4.44784537e-02,  2.55541466e-02,\n",
              "        2.23540962e-02, -1.67763177e-02, -2.18085330e-02,  7.19514713e-02,\n",
              "       -5.75488061e-03, -1.97388697e-02, -2.72981673e-02, -1.25898086e-02,\n",
              "       -3.10130622e-02,  1.15431668e-02, -1.64096672e-02,  1.17590399e-02,\n",
              "        1.15235429e-02, -3.47202830e-03,  4.97413008e-03,  8.88901018e-03,\n",
              "       -5.46644405e-02,  9.86175798e-03, -2.53581665e-02,  4.05954979e-02,\n",
              "        1.62838697e-02, -1.44149307e-02, -5.46898767e-02, -2.38649566e-02,\n",
              "       -1.00107351e-03,  7.49817714e-02,  2.89464071e-02, -2.03409530e-02,\n",
              "        2.73962114e-02,  6.81563169e-02, -4.44598049e-02, -1.70694236e-02,\n",
              "        1.06523884e-02,  1.20836599e-02, -7.48410029e-03,  2.16670502e-02,\n",
              "       -9.71780438e-03,  2.05947296e-03, -1.50140771e-03, -4.71473113e-02,\n",
              "        2.97440522e-07,  5.60680358e-03,  1.84198115e-02,  6.61728263e-04,\n",
              "        4.84525785e-02, -9.78092384e-03,  7.13374689e-02,  1.57647524e-02,\n",
              "       -2.13472862e-02, -5.78680634e-02,  9.92882550e-02,  1.38214491e-02,\n",
              "        6.91641048e-02,  9.53998975e-03,  2.00680625e-02, -1.87431537e-02,\n",
              "       -3.02273352e-02,  4.51156572e-02,  7.81014711e-02,  5.62726147e-03,\n",
              "       -4.48915996e-02,  1.02417897e-02, -3.12054176e-02, -3.75317468e-04,\n",
              "        5.05451672e-03,  8.90064090e-02, -2.09427159e-02, -3.45534980e-02,\n",
              "        9.97257233e-03, -2.19073687e-02,  6.04893900e-02, -1.41409477e-02,\n",
              "        1.45467017e-02, -1.77238099e-02, -5.61902337e-02, -9.34273005e-03,\n",
              "       -3.87219526e-02,  1.05965519e-02,  9.64090694e-03, -1.21893818e-02,\n",
              "        1.81754492e-02,  1.81338843e-02, -3.57270092e-02,  3.96452770e-02,\n",
              "        6.33758456e-02, -9.53575410e-03,  3.94976959e-02, -3.98686901e-03,\n",
              "        6.00855462e-02, -1.05027877e-01, -6.12621978e-02, -3.74842202e-03,\n",
              "        2.01533120e-02,  3.40845622e-02, -4.83704209e-02, -3.39435856e-03,\n",
              "        2.64199860e-02, -1.76048302e-03, -1.08890170e-02,  8.44214298e-03,\n",
              "       -1.59004051e-02,  2.30172705e-02,  1.43852290e-02,  1.19271681e-04,\n",
              "       -1.09678751e-03, -9.06785112e-03, -1.77858286e-02, -1.72060840e-02,\n",
              "        2.45030787e-34, -7.21201766e-03, -4.05562818e-02, -6.54394776e-02,\n",
              "       -1.22508975e-02,  2.71626860e-02, -3.69549952e-02, -3.31117138e-02,\n",
              "       -3.05120703e-02,  2.51233540e-02,  5.70203271e-03,  1.20223081e-02],\n",
              "      dtype=float32)"
            ]
          },
          "execution_count": 16,
          "metadata": {},
          "output_type": "execute_result"
        }
      ],
      "source": [
        "embeddings[1]"
      ]
    },
    {
      "cell_type": "markdown",
      "metadata": {},
      "source": [
        "# Test (Questions) Dataset"
      ]
    },
    {
      "cell_type": "code",
      "execution_count": 17,
      "metadata": {},
      "outputs": [],
      "source": [
        "# Carregar resultados de um arquivo JSON\n",
        "with open('iirc_test.json', 'r') as f:\n",
        "    val_dataset = json.load(f)"
      ]
    },
    {
      "cell_type": "code",
      "execution_count": 8,
      "metadata": {},
      "outputs": [
        {
          "name": "stdout",
          "output_type": "stream",
          "text": [
            "{'questions': [{'answer': {'type': 'span', 'answer_spans': [{'text': 'sky and thunder god', 'passage': 'zeus', 'type': 'answer', 'start': 83, 'end': 102}]}, 'question': 'What is Zeus know for in Greek mythology?', 'context': [{'text': 'he Palici the sons of Zeus', 'passage': 'main', 'indices': [684, 710]}, {'text': 'in Greek mythology', 'passage': 'main', 'indices': [137, 155]}, {'text': 'Zeus (British English , North American English ; , Zeús ) is the sky and thunder god in ancient Greek religion', 'passage': 'Zeus', 'indices': [0, 110]}], 'question_links': ['Greek mythology', 'Zeus']}], 'text': \"The Palici (Παλικοί in Greek), or Palaci, were a pair of indigenous Sicilian chthonic deities in Roman mythology, and to a lesser extent in Greek mythology. They are mentioned in Ovid's Metamorphoses V, 406, and in Virgil's Aeneid IX, 585. Their cult centered on three small lakes that emitted sulphurous vapors in the Palagonia plain, and as a result these twin brothers were associated with geysers and the underworld. There was also a shrine to the Palaci in Palacia, where people could subject themselves or others to tests of reliability through divine judgement; passing meant that an oath could be trusted. The mythological lineage of the Palici is uncertain; one legend made the Palici the sons of Zeus, or possibly Hephaestus, by Aetna or Thalia, but another claimed that the Palici were the sons of the Sicilian deity Adranus.\\n\", 'links': [{'target': 'Sicily', 'indices': [68, 76]}, {'target': 'Chthonic', 'indices': [77, 85]}, {'target': 'Roman mythology', 'indices': [97, 112]}, {'target': 'Greek mythology', 'indices': [140, 155]}, {'target': 'Ovid', 'indices': [179, 183]}, {'target': 'Virgil', 'indices': [215, 221]}, {'target': 'Palagonia', 'indices': [319, 328]}, {'target': 'Geyser', 'indices': [393, 400]}, {'target': 'Zeus', 'indices': [706, 710]}, {'target': 'Hephaestus', 'indices': [724, 734]}, {'target': 'Aetna (nymph)', 'indices': [739, 744]}, {'target': 'Thalia (nymph)', 'indices': [748, 754]}, {'target': 'Adranus', 'indices': [828, 835]}], 'title': 'Palici'}\n"
          ]
        }
      ],
      "source": [
        "# Exibir as primeiras linhas do dataset para entender sua estrutura\n",
        "print(val_dataset[0])"
      ]
    },
    {
      "cell_type": "code",
      "execution_count": 9,
      "metadata": {},
      "outputs": [
        {
          "name": "stdout",
          "output_type": "stream",
          "text": [
            "Tipos de resposta encontrados:\n",
            "span\n",
            "value\n",
            "none\n",
            "binary\n"
          ]
        }
      ],
      "source": [
        "\n",
        "# Conjunto para armazenar tipos de resposta únicos\n",
        "answer_types = set()\n",
        "\n",
        "# Iterar sobre o dataset para coletar todos os tipos de resposta\n",
        "for entry in val_dataset:\n",
        "    for question in entry['questions']:\n",
        "        answer = question.get('answer')\n",
        "        if answer:\n",
        "            answer_type = answer.get('type')\n",
        "            if answer_type:\n",
        "                answer_types.add(answer_type)\n",
        "\n",
        "# Exibir os tipos únicos de resposta encontrados\n",
        "print(\"Tipos de resposta encontrados:\")\n",
        "for ans_type in answer_types:\n",
        "    print(ans_type)"
      ]
    },
    {
      "cell_type": "code",
      "execution_count": 18,
      "metadata": {},
      "outputs": [
        {
          "name": "stdout",
          "output_type": "stream",
          "text": [
            "Pergunta 1: What is Zeus know for in Greek mythology?\n",
            "Resposta: {'type': 'span', 'answer_spans': [{'text': 'sky and thunder god', 'passage': 'zeus', 'type': 'answer', 'start': 83, 'end': 102}]}\n",
            "\n",
            "Pergunta 2: How long had the First World War been over when Messe was named aide-de-camp?\n",
            "Resposta: {'answer_value': '5', 'type': 'value', 'answer_unit': 'years'}\n",
            "\n",
            "Pergunta 3: How old was Messe when the First World War started?\n",
            "Resposta: {'answer_value': '30', 'type': 'value', 'answer_unit': 'years'}\n",
            "\n",
            "Pergunta 4: How long had Angela Scoular been acting professionally when she appeared in the movie \"On Her Majesty's Secret Service\"?\n",
            "Resposta: {'answer_value': '2', 'type': 'value', 'answer_unit': 'years'}\n",
            "\n",
            "Pergunta 5: What is the capacity of the stadium where Brunt returned to action after a torn ACL?\n",
            "Resposta: {'type': 'span', 'answer_spans': [{'text': '26,688', 'passage': 'the hawthorns', 'type': 'answer', 'start': 136, 'end': 142}]}\n",
            "\n",
            "Total de perguntas com respostas válidas: 887\n",
            "Total de perguntas com respostas válidas: 150\n"
          ]
        }
      ],
      "source": [
        "# Função para verificar se a pergunta tem uma resposta válida\n",
        "def has_valid_answer(question):\n",
        "    # Verifica se 'answer' está presente e não é 'none'\n",
        "    answer = question.get('answer')\n",
        "    # if answer and answer.get('type') != 'none' and answer.get('type') != 'value' and answer.get('type') != 'span':\n",
        "    if answer and answer.get('type') != 'none':\n",
        "        return True\n",
        "    return False\n",
        "\n",
        "# Lista para armazenar perguntas e respostas válidas\n",
        "questions_and_answers = []\n",
        "\n",
        "# Iterar sobre o dataset\n",
        "for entry in val_dataset:\n",
        "    for question in entry['questions']:\n",
        "        if has_valid_answer(question):\n",
        "            question_text = question['question']\n",
        "            answer_data = question['answer']\n",
        "            # Armazenar a pergunta e a resposta\n",
        "            questions_and_answers.append({\n",
        "                'question': question_text,\n",
        "                'answer': answer_data\n",
        "            })\n",
        "\n",
        "# Exibir algumas das perguntas e respostas válidas\n",
        "for i, q_a in enumerate(questions_and_answers[:5]):\n",
        "    print(f\"Pergunta {i+1}: {q_a['question']}\")\n",
        "    print(f\"Resposta: {q_a['answer']}\\n\")\n",
        "\n",
        "# Total de perguntas com respostas válidas\n",
        "print(f\"Total de perguntas com respostas válidas: {len(questions_and_answers)}\")\n",
        "\n",
        "random.shuffle(questions_and_answers)\n",
        "\n",
        "questions = questions_and_answers[:150]\n",
        "\n",
        "print(f\"Total de perguntas com respostas válidas: {len(questions)}\")"
      ]
    },
    {
      "cell_type": "code",
      "execution_count": 3,
      "metadata": {},
      "outputs": [],
      "source": [
        "def get_answer(answer):\n",
        "    \"\"\"\n",
        "    Retorna a resposta correta dependendo do tipo.\n",
        "    \n",
        "    Para respostas do tipo 'span', retorna o campo 'text'.\n",
        "    Para respostas do tipo 'value', retorna o campo 'answer_value'.\n",
        "    \"\"\"\n",
        "    answer_type = answer.get('type')\n",
        "    # print(f\"answer_type: {answer_type}\")\n",
        "\n",
        "    if answer_type == 'span':\n",
        "        # Para respostas do tipo 'span', pegar o campo 'text' de 'answer_spans'\n",
        "        if 'answer_spans' in answer:\n",
        "            return answer['answer_spans'][0].get('text')\n",
        "        else:\n",
        "            return None  # Caso não haja 'answer_spans', retorna None\n",
        "    \n",
        "    elif answer_type == 'value' or answer_type == 'binary':\n",
        "        # Para respostas do tipo 'value', pegar o 'answer_value'\n",
        "        return answer.get('answer_value')\n",
        "    \n",
        "    return None  # Caso o tipo de resposta não seja reconhecido"
      ]
    },
    {
      "cell_type": "code",
      "execution_count": 12,
      "metadata": {},
      "outputs": [
        {
          "name": "stdout",
          "output_type": "stream",
          "text": [
            "Contagem de perguntas por tipo de resposta:\n",
            "span: 88\n",
            "value: 51\n",
            "binary: 11\n",
            "Total de perguntas com respostas válidas: 150\n"
          ]
        }
      ],
      "source": [
        "from collections import defaultdict\n",
        "\n",
        "# Contar quantas perguntas com respostas válidas de cada tipo existem\n",
        "answer_type_counts = defaultdict(int)\n",
        "\n",
        "for qa in questions:\n",
        "    answer_type = qa['answer'].get('type')\n",
        "    if answer_type:\n",
        "        answer_type_counts[answer_type] += 1\n",
        "\n",
        "# Exibir a contagem de perguntas por tipo de resposta\n",
        "print(\"Contagem de perguntas por tipo de resposta:\")\n",
        "for answer_type, count in answer_type_counts.items():\n",
        "    print(f\"{answer_type}: {count}\")\n",
        "\n",
        "# Total de perguntas selecionadas\n",
        "print(f\"Total de perguntas com respostas válidas: {len(questions)}\")"
      ]
    },
    {
      "cell_type": "code",
      "execution_count": 13,
      "metadata": {},
      "outputs": [
        {
          "name": "stdout",
          "output_type": "stream",
          "text": [
            "{'type': 'span', 'answer_spans': [{'text': 'Alfred Nobel', 'passage': 'dynamite', 'type': 'answer', 'start': 182, 'end': 194}]}\n",
            "Alfred Nobel\n"
          ]
        }
      ],
      "source": [
        "test = questions[0]['answer']\n",
        "print(test)\n",
        "print(get_answer(test))"
      ]
    },
    {
      "cell_type": "code",
      "execution_count": 62,
      "metadata": {},
      "outputs": [],
      "source": [
        "# # Salvar embeddings em um arquivo .pkl (pickle)\n",
        "# with open('final_questions.pkl', 'wb') as f:\n",
        "#     pickle.dump(questions, f)"
      ]
    },
    {
      "cell_type": "markdown",
      "metadata": {},
      "source": [
        "# Load Dataset from Files and Build Query"
      ]
    },
    {
      "cell_type": "code",
      "execution_count": 4,
      "metadata": {},
      "outputs": [],
      "source": [
        "# Carregar os metadados com embeddings\n",
        "with open('embeddings.pkl', 'rb') as f:\n",
        "    embeddings = pickle.load(f)\n",
        "    \n",
        "# Carregar os metadados com dataset_chunks\n",
        "with open('dataset_chunks.pkl', 'rb') as f:\n",
        "    dataset_chunks = pickle.load(f)\n"
      ]
    },
    {
      "cell_type": "code",
      "execution_count": 5,
      "metadata": {},
      "outputs": [
        {
          "name": "stdout",
          "output_type": "stream",
          "text": [
            "Loaded Dataset size: 150\n"
          ]
        }
      ],
      "source": [
        "# Carregar embeddings do arquivo .pkl\n",
        "with open('final_questions.pkl', 'rb') as f:\n",
        "    questions = pickle.load(f)\n",
        "\n",
        "print(f\"Loaded Dataset size: {len(questions)}\")"
      ]
    },
    {
      "cell_type": "code",
      "execution_count": 15,
      "metadata": {},
      "outputs": [
        {
          "data": {
            "text/plain": [
              "array([-6.71826154e-02,  4.04281840e-02, -1.50079848e-02, -1.27104772e-02,\n",
              "       -6.16077520e-03, -2.40212050e-03, -5.90160154e-02, -2.58078193e-03,\n",
              "        3.17934304e-02, -3.35996486e-02, -4.48811427e-02,  4.57187258e-02,\n",
              "        1.88907702e-02, -3.55389565e-02, -6.80492371e-02, -5.63734258e-03,\n",
              "       -1.72109548e-02,  1.82366017e-02, -2.71648150e-02, -1.41241457e-02,\n",
              "       -1.38981622e-02, -2.02171113e-02, -3.63142341e-02, -1.94650572e-02,\n",
              "       -1.58506837e-02, -2.45793746e-03,  1.77203550e-03, -4.34064902e-02,\n",
              "       -1.35222757e-02, -8.24181959e-02,  4.96267155e-02, -1.59301627e-02,\n",
              "       -8.56843591e-03, -2.90886257e-02,  2.27898545e-06, -3.57254334e-02,\n",
              "        3.54990512e-02, -3.04277800e-02,  2.68279649e-02, -1.76609512e-02,\n",
              "        8.22210871e-03,  2.70059761e-02,  3.38868387e-02,  9.31891892e-03,\n",
              "        1.46788266e-02, -8.70674551e-02,  6.93292618e-02,  6.83908612e-02,\n",
              "        2.89525203e-02, -3.59135866e-02,  3.17896456e-02, -3.78060713e-02,\n",
              "       -2.63794065e-02,  2.21625529e-02, -8.23638439e-02,  8.21077600e-02,\n",
              "        1.00133894e-02,  5.26327677e-02,  1.58992142e-03, -7.90707320e-02,\n",
              "        2.53217090e-02,  5.60488254e-02,  1.44291064e-02,  8.57286621e-03,\n",
              "       -4.61698174e-02, -1.70276873e-02,  2.22840868e-02,  2.78314669e-02,\n",
              "        2.94000152e-02,  5.97947091e-03,  2.29964610e-02, -6.68535568e-03,\n",
              "        8.70781858e-03, -1.11648422e-02, -1.72449667e-02, -2.02537794e-02,\n",
              "       -4.71760472e-03, -6.59672692e-02,  2.00781561e-02,  2.54640542e-02,\n",
              "        7.99008121e-04,  4.95128892e-02,  2.17468161e-02,  8.03317130e-03,\n",
              "       -4.24428545e-02,  5.38563915e-02,  3.42971832e-02,  5.90003142e-03,\n",
              "       -5.07487841e-02,  4.81719188e-02,  3.74804661e-02, -4.81148921e-02,\n",
              "        5.52427098e-02,  4.28473465e-02, -2.57331762e-04,  2.70102378e-02,\n",
              "        5.67465276e-03, -3.71083873e-03, -2.41269059e-02,  3.07293050e-02,\n",
              "        3.31863053e-02, -1.14378966e-02, -4.33048792e-02, -2.89386604e-02,\n",
              "       -2.19398667e-03, -4.23309542e-02,  7.10994527e-02, -4.34918813e-02,\n",
              "       -2.29359511e-02,  1.54685713e-02,  3.54589000e-02, -7.37701170e-03,\n",
              "        6.13653064e-02,  3.75980139e-02, -3.73153528e-03,  9.99923795e-03,\n",
              "        6.43114522e-02,  3.76606435e-02, -6.37562014e-03,  4.21867408e-02,\n",
              "        5.46046346e-02, -2.23623775e-02, -4.38406412e-03, -2.07553548e-03,\n",
              "       -3.83359678e-02,  1.19941831e-02, -2.80273277e-02,  1.86539441e-02,\n",
              "        1.54177109e-02, -1.64748896e-02,  7.51634594e-03, -2.35984605e-02,\n",
              "        5.13814297e-03,  1.08980108e-02,  6.38529705e-03,  1.00170858e-02,\n",
              "       -4.88498993e-03,  4.04753312e-02,  4.31612879e-02,  1.87539328e-02,\n",
              "        1.65829454e-02, -5.94692081e-02, -1.04368525e-02,  3.24312365e-03,\n",
              "       -2.50620563e-02,  2.59235110e-02,  1.69827938e-02, -6.50627986e-02,\n",
              "        4.63396497e-02,  3.17133702e-02,  2.39211805e-02,  2.56308354e-02,\n",
              "       -8.87123197e-02, -8.35074577e-03,  2.07141023e-02,  4.65811230e-02,\n",
              "       -5.30665666e-02,  1.50794839e-03,  2.36044805e-02, -3.57542485e-02,\n",
              "        4.74792123e-02, -5.79189248e-02, -3.17799859e-02, -1.77247766e-02,\n",
              "       -2.37985104e-02,  4.75181825e-03,  1.66428126e-02,  2.39831824e-02,\n",
              "        1.98159423e-02,  3.64904068e-02,  1.22965658e-02, -1.72607657e-02,\n",
              "       -3.87898623e-03, -2.65260674e-02,  6.04404584e-02, -6.13506837e-03,\n",
              "        9.89447813e-04, -4.76555228e-02,  6.87048212e-02, -3.89954820e-02,\n",
              "       -4.24261531e-03, -3.91088799e-02, -7.47809783e-02, -8.80459044e-03,\n",
              "        4.61280569e-02,  4.17082608e-02, -6.03882149e-02, -4.55740392e-02,\n",
              "       -4.15402092e-03, -2.86655687e-02,  2.63439063e-02, -2.85643581e-02,\n",
              "       -5.61142433e-03, -9.66009032e-03,  2.93530282e-02,  4.73842770e-02,\n",
              "        1.33340526e-02,  9.88199562e-03, -1.48031563e-02, -2.72358273e-04,\n",
              "        9.27221123e-03,  1.77273508e-02,  5.03602065e-02,  1.48621211e-02,\n",
              "        3.61188278e-02, -3.90506126e-02,  2.95968205e-02,  1.30017530e-02,\n",
              "        6.67922944e-02, -2.18183286e-02,  2.87195388e-03, -1.18531808e-02,\n",
              "        1.06993476e-02,  3.22318524e-02, -4.87056514e-03, -3.82805872e-03,\n",
              "        1.75745655e-02,  1.74438376e-02,  2.41116695e-02,  2.71536801e-02,\n",
              "        2.30785795e-02,  7.03196274e-03, -2.37596724e-02,  1.93571486e-02,\n",
              "       -1.85976792e-02, -2.73194350e-02, -3.73172686e-02, -3.41878533e-02,\n",
              "       -9.39013902e-03, -2.67542116e-02, -3.00649479e-02, -2.19739927e-03,\n",
              "       -1.09101646e-02, -3.34818177e-02, -5.50784692e-02,  3.14025488e-03,\n",
              "        1.00059183e-02, -2.24863319e-03,  4.76488424e-03, -4.04180326e-02,\n",
              "       -1.94495097e-02, -5.50017459e-03,  4.27201800e-02,  1.47228874e-02,\n",
              "       -2.40635984e-02, -3.61778960e-02, -4.64462265e-02, -3.92969325e-02,\n",
              "        3.65545489e-02, -1.62468813e-02,  2.05252301e-02,  1.93498060e-02,\n",
              "       -7.74407934e-04, -6.77607313e-04,  3.17064226e-02, -3.62826921e-02,\n",
              "       -5.44401212e-03,  3.39679001e-03, -2.54550744e-02,  2.36242590e-03,\n",
              "       -1.75663587e-02, -2.80327480e-02,  2.31445804e-02,  1.56674944e-02,\n",
              "        2.06412356e-02,  7.57415593e-03,  2.83325315e-02,  9.14765224e-02,\n",
              "       -1.91580430e-02, -2.24751271e-02,  1.30296610e-02, -4.24174080e-03,\n",
              "       -3.39852832e-02,  3.84898018e-03, -4.52456390e-03,  4.83960919e-02,\n",
              "        1.20183378e-02,  4.97896271e-03,  4.84909490e-03,  1.82722807e-02,\n",
              "        2.18861438e-02, -4.16806638e-02, -3.92967127e-02,  1.67760514e-02,\n",
              "        1.75416451e-02,  1.66901050e-03, -2.17977446e-02,  6.20008856e-02,\n",
              "       -6.16613775e-02, -1.20762233e-02, -4.25428450e-02,  2.51926407e-02,\n",
              "       -4.72865300e-03,  5.12384288e-02,  1.91412065e-02,  3.78312655e-02,\n",
              "        3.26978639e-02, -1.40877403e-02,  2.81278463e-03,  2.91506741e-02,\n",
              "        5.99693647e-03, -8.09892863e-02,  6.41385317e-02,  1.33626750e-02,\n",
              "       -4.01106849e-02,  2.22181827e-02, -8.59493017e-02, -5.22179110e-03,\n",
              "       -2.66801883e-02,  3.86733487e-02,  3.35189924e-02, -1.60045293e-03,\n",
              "        1.67678110e-02, -9.11663696e-02,  3.26812826e-02,  3.34531479e-02,\n",
              "        3.01006120e-02, -3.09442952e-02, -3.04499138e-02,  1.69780422e-02,\n",
              "        1.09428652e-02, -2.87005920e-02, -2.97862459e-02, -2.15925183e-02,\n",
              "       -3.76816876e-02, -4.55051847e-03, -1.79652926e-02,  2.52803657e-02,\n",
              "        2.24657040e-02,  5.89447282e-02,  1.85729954e-02,  9.88226384e-03,\n",
              "        3.12788673e-02,  4.52820864e-03,  1.01861069e-02, -8.41801148e-03,\n",
              "       -2.53018886e-02,  8.11819918e-03, -8.15998763e-03, -1.54855447e-02,\n",
              "       -5.49951196e-02,  4.84721996e-02, -5.36449589e-02,  1.24511942e-01,\n",
              "       -4.66093794e-02, -8.28118809e-03, -1.21969581e-02,  2.15642415e-02,\n",
              "        3.87399979e-02, -4.58177067e-02,  2.63696983e-02, -3.62309106e-02,\n",
              "        1.28466254e-02, -6.38103858e-02,  2.55380105e-02, -5.44037707e-02,\n",
              "       -6.63343212e-03, -3.62916440e-02,  6.13289736e-02, -3.35012078e-02,\n",
              "       -8.24724510e-03, -2.17121337e-02,  7.18459636e-02, -4.22029048e-02,\n",
              "       -2.20972989e-02, -1.34018390e-02,  2.82114483e-02, -2.57417839e-02,\n",
              "        5.03377616e-02, -1.83237251e-02,  3.88564207e-02,  5.29256053e-02,\n",
              "       -3.11261043e-02, -1.64930727e-02, -1.08107971e-03,  2.71406099e-02,\n",
              "        3.13596539e-02,  4.52302806e-02, -3.82090770e-02,  6.22620024e-02,\n",
              "        3.53560620e-03,  6.48276210e-02, -3.66559699e-02,  1.73465591e-02,\n",
              "       -3.62440804e-03, -1.16772102e-02, -6.21385686e-03, -8.11249614e-02,\n",
              "       -8.99512134e-03, -7.56548941e-02,  2.38689110e-02,  6.23502843e-02,\n",
              "       -1.50043136e-02,  6.40524849e-02, -1.67195648e-02,  5.02052195e-02,\n",
              "        3.81511706e-03,  1.81794297e-02, -2.63241343e-02, -3.43128815e-02,\n",
              "        1.88208576e-02, -2.06157053e-03,  3.54526378e-02,  2.35828124e-02,\n",
              "       -1.90809164e-02,  5.46385534e-04, -6.36554032e-04, -1.24135297e-02,\n",
              "        3.49094905e-02,  2.41624395e-04, -4.56287898e-03, -6.71126768e-02,\n",
              "        3.75743918e-02,  1.49285896e-02, -5.87043129e-02, -5.92807829e-02,\n",
              "        2.37567816e-03,  1.47882653e-02, -3.89936343e-02, -7.80754685e-02,\n",
              "        2.63261492e-03,  2.32800134e-02, -2.48777159e-02, -4.90675606e-02,\n",
              "       -4.38849740e-02, -1.62380049e-03, -1.46283964e-02, -9.22854699e-04,\n",
              "       -2.57378481e-02,  9.82049406e-02, -1.33922361e-02,  1.09306015e-02,\n",
              "       -1.53482687e-02, -3.04002874e-02,  4.85095428e-03,  8.27516615e-02,\n",
              "       -8.65609273e-02, -3.21225710e-02, -1.71321314e-02,  1.36552611e-02,\n",
              "       -1.63361114e-02, -2.85575967e-02, -4.26426716e-02, -5.65241091e-03,\n",
              "        9.47759673e-02, -5.74434847e-02, -5.74549399e-02, -5.70712648e-02,\n",
              "       -2.74803136e-02, -6.60962285e-03,  1.51468376e-02,  4.53868955e-02,\n",
              "        6.15058327e-03,  5.95848300e-02,  2.34050862e-02, -1.78847108e-02,\n",
              "        3.04007158e-02, -3.19561660e-02,  3.47998515e-02, -1.20421611e-02,\n",
              "        5.18103689e-02, -1.56198330e-02, -1.06429949e-01, -5.55098839e-02,\n",
              "       -2.00711153e-02,  2.50123702e-02,  7.02212527e-02,  9.88596529e-02,\n",
              "       -3.18268165e-02, -1.43918407e-03,  1.22158239e-02,  1.22872191e-02,\n",
              "        1.86938830e-02, -3.34952347e-04,  1.61287456e-03, -2.46550534e-02,\n",
              "        3.73342745e-02, -2.25419253e-02,  1.73118170e-02, -2.13769288e-03,\n",
              "       -6.87011937e-03,  3.47851450e-03,  6.72189286e-03,  3.06991674e-02,\n",
              "        4.81314175e-02, -1.60913132e-02, -1.92054138e-02,  7.15782633e-03,\n",
              "        3.02919671e-02, -2.93675829e-02, -4.01634425e-02,  2.13115122e-02,\n",
              "       -1.07043972e-02,  5.79540059e-02, -1.85217820e-02,  5.64327240e-02,\n",
              "        2.53552552e-02,  7.16278329e-02,  1.02453843e-01,  2.27502044e-02,\n",
              "       -3.37651111e-02, -9.49391630e-03, -2.21347827e-02, -4.92728241e-02,\n",
              "        5.24208089e-03,  1.73147430e-03, -3.09557514e-03,  1.29932966e-02,\n",
              "        3.64319943e-02,  5.17453402e-02,  4.50677983e-02,  1.86506547e-02,\n",
              "        1.39543246e-02,  1.13930911e-01,  6.68697432e-02, -1.27200186e-02,\n",
              "        7.28493407e-02,  2.05221176e-02, -1.56272799e-02,  2.28519086e-02,\n",
              "        2.77009141e-02,  4.01416002e-03,  2.60839076e-03,  5.61591648e-02,\n",
              "        1.40663348e-02,  5.66446129e-03, -1.30081046e-02,  2.42786724e-02,\n",
              "       -4.38282918e-03, -1.49770835e-02, -3.58995870e-02, -1.72890294e-02,\n",
              "        7.64025375e-03,  1.42233269e-02,  4.00287509e-02, -2.99615357e-02,\n",
              "       -4.96248081e-02,  3.92449424e-02, -5.37825674e-02, -3.31459902e-02,\n",
              "       -1.32278083e-02, -3.12296432e-02, -6.32464513e-02, -6.00379705e-02,\n",
              "        3.70410271e-02, -4.00555022e-02,  1.40904151e-02,  7.27238180e-03,\n",
              "       -3.79876569e-02, -7.01382160e-02, -8.07586834e-02,  7.67216843e-04,\n",
              "        1.02422675e-02, -2.36496516e-03,  3.02209184e-02, -5.93161943e-33,\n",
              "        4.26888093e-02, -7.88051039e-02,  2.45767944e-02,  1.04937237e-03,\n",
              "        1.15079042e-02, -5.65695986e-02, -5.75735494e-02, -1.93399377e-04,\n",
              "       -4.08390611e-02,  5.46722338e-02, -6.07045926e-03,  4.41634422e-03,\n",
              "        6.32030237e-03, -1.12606594e-02,  7.06443097e-03, -6.81033507e-02,\n",
              "        4.25038300e-02,  6.06958149e-03,  1.69013850e-02, -4.90191132e-02,\n",
              "       -2.17229575e-02,  3.87860951e-03, -3.94544285e-03, -6.83337897e-02,\n",
              "        6.84821457e-02,  8.53493158e-03, -5.48637705e-03, -9.05312877e-03,\n",
              "        6.25880212e-02, -6.32814020e-02,  6.78291486e-04, -9.10096150e-03,\n",
              "       -4.26192209e-02, -1.02538288e-01, -7.88679048e-02, -3.74406353e-02,\n",
              "        8.30937829e-03,  1.65593643e-02,  4.95976582e-02,  6.35269145e-03,\n",
              "        5.44179119e-02,  3.95355374e-02, -6.07434697e-02,  2.00220589e-02,\n",
              "        3.78025994e-02, -4.87057231e-02, -1.14928940e-02,  1.64281428e-02,\n",
              "        2.92655956e-02, -6.70077726e-02,  5.92403375e-02,  1.96207222e-02,\n",
              "        2.61757877e-02,  7.34623661e-03, -2.72108018e-02, -7.92097971e-02,\n",
              "        2.85397694e-02,  5.17476350e-02,  2.78953500e-02, -4.91783069e-03,\n",
              "        4.37161624e-02, -2.79588215e-02,  7.21577257e-02, -3.88596915e-02,\n",
              "        3.82742509e-02,  4.05640379e-02,  2.15064771e-02, -1.94133651e-02,\n",
              "        6.14119917e-02,  2.47482471e-02, -7.78748887e-03, -3.93970758e-02,\n",
              "       -3.03877871e-02,  2.89438106e-02,  1.24393739e-02,  2.83703785e-02,\n",
              "       -1.62296817e-02, -2.74382830e-02, -7.17179477e-02, -5.51798977e-02,\n",
              "        8.96235183e-03,  2.26539355e-02, -1.05979694e-02,  8.32578167e-02,\n",
              "        1.52378399e-02,  8.36927909e-03, -8.48497078e-03, -3.85819860e-02,\n",
              "       -3.97012383e-02,  6.60247542e-03, -6.09317832e-02, -1.17437523e-02,\n",
              "       -5.95325837e-03, -1.86355431e-02, -5.02757281e-02,  2.63705216e-02,\n",
              "        2.92946864e-03, -2.54054982e-02, -2.64309514e-02, -1.64500270e-02,\n",
              "        1.84009783e-02,  9.67929419e-03, -1.80997904e-02,  3.11554000e-02,\n",
              "        3.46373767e-02, -4.47847508e-03,  1.50053604e-02, -2.87170652e-02,\n",
              "       -6.72847554e-02,  2.21606693e-03, -2.00650096e-02,  1.69239042e-03,\n",
              "       -9.50851943e-03, -3.72235402e-02, -5.49072586e-02, -1.87743958e-02,\n",
              "       -1.81953982e-02, -1.40649043e-02,  1.88517217e-02, -5.90366498e-03,\n",
              "        7.37737305e-03,  1.18341297e-02, -6.30445108e-02, -3.59536000e-02,\n",
              "        1.59208905e-02, -1.02000674e-02, -1.51039883e-02,  1.29012088e-03,\n",
              "        1.32475281e-02,  9.63173155e-03, -5.50310221e-03, -6.31226674e-02,\n",
              "        2.91202980e-07,  5.05154803e-02,  8.43528658e-03,  1.75304487e-02,\n",
              "        6.79138005e-02,  3.93032953e-02,  3.04950289e-02, -3.05815190e-02,\n",
              "       -2.55556367e-02, -2.69120671e-02,  7.40327686e-02,  2.48814784e-02,\n",
              "        4.70780805e-02,  1.11624198e-02,  3.29358410e-03, -1.30382637e-02,\n",
              "       -2.34051384e-02,  5.73196486e-02,  9.42803640e-03,  5.66390855e-03,\n",
              "       -4.94325347e-02,  1.22073833e-02, -1.12722227e-02, -5.85454702e-03,\n",
              "        2.14835419e-03,  5.76143339e-02, -3.05403210e-02, -3.22716706e-03,\n",
              "        1.63163319e-02,  6.57774583e-02,  3.93579118e-02, -1.14890235e-03,\n",
              "       -4.75605428e-02,  2.64198141e-04, -1.31054679e-02, -1.12576941e-02,\n",
              "       -2.53273807e-02,  2.32177437e-03, -1.78758632e-02,  2.28303461e-03,\n",
              "        1.32506201e-02, -2.03753430e-02, -4.05628197e-02,  3.03413607e-02,\n",
              "        1.13319159e-02, -1.54647613e-02,  3.68695706e-02,  1.02618672e-02,\n",
              "       -1.56424940e-02, -1.06072158e-01, -9.19299349e-02, -9.95447207e-03,\n",
              "        3.25344242e-02,  4.27295677e-02, -4.11966331e-02, -1.08559215e-02,\n",
              "        1.39593733e-02,  2.34831609e-02, -2.98436210e-02, -8.52812361e-03,\n",
              "       -7.55624287e-03,  3.37928794e-02, -5.93205169e-02, -1.32681997e-02,\n",
              "        4.19927351e-02, -5.11430809e-03, -3.33892810e-03, -7.53892539e-03,\n",
              "        2.26046806e-34, -9.06223990e-03, -2.92511024e-02, -7.76293054e-02,\n",
              "       -1.11853210e-02,  4.04802226e-02, -4.66894843e-02, -5.49966171e-02,\n",
              "       -2.22275797e-02,  1.80245526e-02,  6.52735755e-02,  3.09381485e-02],\n",
              "      dtype=float32)"
            ]
          },
          "execution_count": 15,
          "metadata": {},
          "output_type": "execute_result"
        }
      ],
      "source": [
        "embeddings[0]"
      ]
    },
    {
      "cell_type": "code",
      "execution_count": 16,
      "metadata": {},
      "outputs": [
        {
          "data": {
            "text/plain": [
              "{'text': 'The San Diego Padres are an American <a href=\"professional%20baseball\">professional baseball</a> team based in <a href=\"San%20Diego\">San Diego</a>, <a href=\"California\">California</a>. They compete in <a href=\"Major%20League%20Baseball\">Major League Baseball</a> (MLB) as a member club of the <a href=\"National%20League\">National League</a> (NL) <a href=\"National%20League%20West\">West division</a>. Founded in <a href=\"1969%20San%20Diego%20Padres%20season\">1969</a>, the Padres have won two <a href=\"List%20of%20National%20League%20pennant%20winners\">NL pennants</a> — in <a href=\"1984%20San%20Diego%20Padres%20season\">1984</a> and <a href=\"1998%20San%20Diego%20Padres%20season\">1998</a>, losing in the <a href=\"World%20Series\">World Series</a> both years. As of <a href=\"2017%20San%20Diego%20Padres%20season\">2018</a>, they have had 14 winning seasons in franchise history. The Padres are one of two Major League Baseball teams (the other being the <a href=\"Los%20Angeles%20Angels\">Los Angeles Angels</a>) in <a href=\"California\">California</a> to originate from that state; the <a href=\"Oakland%20Athletics\">Athletics</a> were originally from <a href=\"Philadelphia\">Philadelphia</a> (and moved to the state from <a href=\"Kansas%20City%2C%20Missouri\">Kansas City</a>), and the <a href=\"Los%20Angeles%20Dodgers\">Dodgers</a> and <a href=\"San%20Francisco%20Giants\">Giants</a> are originally from two New York City boroughs – <a href=\"Brooklyn\">Brooklyn</a> and <a href=\"Manhattan\">Manhattan</a>, respectively. The Padres are the only MLB team that does not share its city with another franchise in the <a href=\"Major%20professional%20sports%20leagues%20in%20the%20United%20States%20and%20Canada\">four major American professional sports leagues</a>. The Padres are the only <a href=\"List%20of%20American%20and%20Canadian%20cities%20by%20number%20of%20major%20professional%20sports%20franchises%23List%20of%20teams%20by%20urban%20area\">major professional sports franchise</a> to be located in San Diego,',\n",
              " 'label': 'san diego padres'}"
            ]
          },
          "execution_count": 16,
          "metadata": {},
          "output_type": "execute_result"
        }
      ],
      "source": [
        "dataset_chunks[0]"
      ]
    },
    {
      "cell_type": "code",
      "execution_count": 6,
      "metadata": {},
      "outputs": [
        {
          "name": "stdout",
          "output_type": "stream",
          "text": [
            "Dimensionalidade dos embeddings: 768\n",
            "Índice FAISS criado: True\n",
            "Total de embeddings no índice: 769805\n",
            "Índice FAISS salvo com sucesso em 'faiss_index.bin'.\n"
          ]
        }
      ],
      "source": [
        "# Extrair os embeddings como um array NumPy\n",
        "embeddings_np = np.array([embedding for embedding in embeddings]).astype('float32')\n",
        "# embeddings_np = np.array([embedding for embedding in embeddings])\n",
        "\n",
        "# Normalizar os embeddings para usar similaridade de cosseno\n",
        "faiss.normalize_L2(embeddings_np)\n",
        "\n",
        "# Dimensionalidade dos embeddings\n",
        "dim = embeddings_np.shape[1]\n",
        "print(f\"Dimensionalidade dos embeddings: {dim}\")\n",
        "\n",
        "# Escolher o tipo de índice FAISS\n",
        "# Usaremos IndexFlatIP para similaridade de cosseno após normalização\n",
        "# Calcula o produto interno entre o embedding salvo e o de consulta\n",
        "index = faiss.IndexFlatIP(dim)\n",
        "\n",
        "# Verificar se o índice foi criado corretamente\n",
        "print(\"Índice FAISS criado:\", index.is_trained)\n",
        "\n",
        "# Adicionar os embeddings ao índice\n",
        "index.add(embeddings_np)\n",
        "print(f\"Total de embeddings no índice: {index.ntotal}\")\n",
        "\n",
        "# Salvar o índice FAISS para uso futuro\n",
        "faiss.write_index(index, 'faiss_index.bin')\n",
        "print(\"Índice FAISS salvo com sucesso em 'faiss_index.bin'.\")\n"
      ]
    },
    {
      "cell_type": "code",
      "execution_count": 7,
      "metadata": {},
      "outputs": [],
      "source": [
        "del index\n",
        "del embeddings"
      ]
    },
    {
      "cell_type": "code",
      "execution_count": 8,
      "metadata": {},
      "outputs": [
        {
          "name": "stderr",
          "output_type": "stream",
          "text": [
            "/home/arimatea/.local/lib/python3.10/site-packages/transformers/tokenization_utils_base.py:1601: FutureWarning: `clean_up_tokenization_spaces` was not set. It will be set to `True` by default. This behavior will be depracted in transformers v4.45, and will be then set to `False` by default. For more details check this issue: https://github.com/huggingface/transformers/issues/31884\n",
            "  warnings.warn(\n"
          ]
        }
      ],
      "source": [
        "def query_indice(query, k=5, caminho_indice='faiss_index.bin', modelo=SentenceTransformer('all-mpnet-base-v2', device=device)):\n",
        "    \"\"\"\n",
        "    Realiza uma consulta no índice FAISS e retorna os top k resultados.\n",
        "    \n",
        "    Args:\n",
        "        query (str): Texto da query.\n",
        "        k (int): Número de resultados a retornar.\n",
        "        caminho_indice (str): Caminho para o arquivo FAISS index.\n",
        "        caminho_metadados (str): Caminho para o arquivo de metadados.\n",
        "        \n",
        "    Returns:\n",
        "        List of tuples: Cada tupla contém a similaridade e o metadado correspondente.\n",
        "    \"\"\"\n",
        "    # Carregar o índice FAISS\n",
        "    index = faiss.read_index(caminho_indice)\n",
        "    \n",
        "    # Gerar embedding para a query\n",
        "    embedding_consulta = modelo.encode([query], convert_to_tensor=False, show_progress_bar=False)\n",
        "    embedding_consulta_np = np.array(embedding_consulta).astype('float32')\n",
        "    # embedding_consulta_np = np.array(embedding_consulta)\n",
        "    faiss.normalize_L2(embedding_consulta_np)\n",
        "    \n",
        "    # Realizar a busca no índice\n",
        "    D, I = index.search(embedding_consulta_np, k)\n",
        "    # print(f\"{D} e {I}\")\n",
        "    \n",
        "    resultados = []\n",
        "    for dist, idx in zip(D[0], I[0]):\n",
        "        if idx < len(dataset_chunks):\n",
        "            metadado = dataset_chunks[idx]\n",
        "            resultados.append((dist, metadado))\n",
        "    return resultados"
      ]
    },
    {
      "cell_type": "code",
      "execution_count": 8,
      "metadata": {},
      "outputs": [
        {
          "name": "stdout",
          "output_type": "stream",
          "text": [
            "Resultados da query:\n",
            "Similaridade: 0.6766\n",
            "Título: san diego padres\n",
            "Texto: The San Diego Padres are an American <a href=\"professional%20baseball\">professional baseball</a> team based in <a href=\"San%20Diego\">San Diego</a>, <a href=\"California\">California</a>. They compete in...\n",
            "--------------------------------------------------\n",
            "Similaridade: 0.6616\n",
            "Título: world series\n",
            "Texto: Diego Padres</a> for bragging rights in Southern California, although all three of those teams have appeared in the World Series at various times....\n",
            "--------------------------------------------------\n",
            "Similaridade: 0.6415\n",
            "Título: national league west\n",
            "Texto: Current members.<ul><li>- <a href=\"Arizona%20Diamondbacks\">Arizona Diamondbacks</a> - Joined in 1998 as an expansion team\n",
            "</li><li>- <a href=\"Colorado%20Rockies\">Colorado Rockies</a> - Joined in 1993 ...\n",
            "--------------------------------------------------\n"
          ]
        }
      ],
      "source": [
        "# Teste de query\n",
        "query = \"san diego padres\"\n",
        "# query = \"located in San Diego\"\n",
        "resultados = query_indice(query, k=3)\n",
        "\n",
        "print(\"Resultados da query:\")\n",
        "for dist, metadado in resultados:\n",
        "    print(f\"Similaridade: {dist:.4f}\")\n",
        "    print(f\"Título: {metadado['label']}\")\n",
        "    print(f\"Texto: {metadado['text'][:200]}...\")  # Exibir os primeiros 200 caracteres\n",
        "    print(\"-\" * 50)"
      ]
    },
    {
      "cell_type": "markdown",
      "metadata": {},
      "source": [
        "# Ollama"
      ]
    },
    {
      "cell_type": "code",
      "execution_count": 9,
      "metadata": {},
      "outputs": [],
      "source": [
        "def get_information(resultados):\n",
        "    \"\"\"\n",
        "    Formata as informações dos resultados exibindo apenas o texto, sem o título.\n",
        "\n",
        "    Args:\n",
        "        resultados (list): Lista de tuplas contendo a similaridade e o metadado correspondente.\n",
        "\n",
        "    Returns:\n",
        "        str: Um texto formatado contendo as informações de cada resultado.\n",
        "    \"\"\"\n",
        "    information_text = \"\"\n",
        "    \n",
        "    # Iterar sobre os resultados e formatar as informações\n",
        "    for idx, (_, metadado) in enumerate(resultados, start=1):\n",
        "        # Pega o texto associado\n",
        "        # texto = metadado.get('text', 'Sem texto')\n",
        "        texto = metadado['text']\n",
        "        \n",
        "        # Formata a saída para cada informação\n",
        "        information_text += f\"\\nInformation {idx}:\\n{metadado['label']}\\n{texto}...\\n\"  # Mostra os primeiros 200 caracteres\n",
        "        # information_text += f\"Information {idx}:\\n{texto[:200]}...\\n\"  # Mostra os primeiros 200 caracteres\n",
        "    \n",
        "    return information_text"
      ]
    },
    {
      "cell_type": "code",
      "execution_count": 10,
      "metadata": {},
      "outputs": [
        {
          "name": "stdout",
          "output_type": "stream",
          "text": [
            "\n",
            "Information 1:\n",
            "san diego padres\n",
            "The San Diego Padres are an American <a href=\"professional%20baseball\">professional baseball</a> team based in <a href=\"San%20Diego\">San Diego</a>, <a href=\"California\">California</a>. They compete in <a href=\"Major%20League%20Baseball\">Major League Baseball</a> (MLB) as a member club of the <a href=\"National%20League\">National League</a> (NL) <a href=\"National%20League%20West\">West division</a>. Founded in <a href=\"1969%20San%20Diego%20Padres%20season\">1969</a>, the Padres have won two <a href=\"List%20of%20National%20League%20pennant%20winners\">NL pennants</a> — in <a href=\"1984%20San%20Diego%20Padres%20season\">1984</a> and <a href=\"1998%20San%20Diego%20Padres%20season\">1998</a>, losing in the <a href=\"World%20Series\">World Series</a> both years. As of <a href=\"2017%20San%20Diego%20Padres%20season\">2018</a>, they have had 14 winning seasons in franchise history. The Padres are one of two Major League Baseball teams (the other being the <a href=\"Los%20Angeles%20Angels\">Los Angeles Angels</a>) in <a href=\"California\">California</a> to originate from that state; the <a href=\"Oakland%20Athletics\">Athletics</a> were originally from <a href=\"Philadelphia\">Philadelphia</a> (and moved to the state from <a href=\"Kansas%20City%2C%20Missouri\">Kansas City</a>), and the <a href=\"Los%20Angeles%20Dodgers\">Dodgers</a> and <a href=\"San%20Francisco%20Giants\">Giants</a> are originally from two New York City boroughs – <a href=\"Brooklyn\">Brooklyn</a> and <a href=\"Manhattan\">Manhattan</a>, respectively. The Padres are the only MLB team that does not share its city with another franchise in the <a href=\"Major%20professional%20sports%20leagues%20in%20the%20United%20States%20and%20Canada\">four major American professional sports leagues</a>. The Padres are the only <a href=\"List%20of%20American%20and%20Canadian%20cities%20by%20number%20of%20major%20professional%20sports%20franchises%23List%20of%20teams%20by%20urban%20area\">major professional sports franchise</a> to be located in San Diego,...\n",
            "\n",
            "Information 2:\n",
            "world series\n",
            "Diego Padres</a> for bragging rights in Southern California, although all three of those teams have appeared in the World Series at various times....\n",
            "\n",
            "Information 3:\n",
            "national league west\n",
            "Current members.<ul><li>- <a href=\"Arizona%20Diamondbacks\">Arizona Diamondbacks</a> - Joined in 1998 as an expansion team\n",
            "</li><li>- <a href=\"Colorado%20Rockies\">Colorado Rockies</a> - Joined in 1993 as an expansion team\n",
            "</li><li>- <a href=\"Los%20Angeles%20Dodgers\">Los Angeles Dodgers</a> - Founding member\n",
            "</li><li>- <a href=\"San%20Diego%20Padres\">San Diego Padres</a> - Founding member\n",
            "</li><li>- <a href=\"San%20Francisco%20Giants\">San Francisco Giants</a> - Founding member\n",
            "</li></ul>\n",
            "Former members.<ul><li>- <a href=\"Atlanta%20Braves\">Atlanta Braves</a> - Founding member - moved to the <a href=\"National%20League%20East\">NL East</a> in 1994.\n",
            "</li><li>- <a href=\"Cincinnati%20Reds\">Cincinnati Reds</a> - Founding member - moved to the <a href=\"National%20League%20Central\">NL Central</a> in 1994.\n",
            "</li><li>- <a href=\"Houston%20Astros\">Houston Astros</a> - Founding member - moved to the NL Central in 1994, then to the <a href=\"American%20League%20West\">AL West</a> in 2013.\n",
            "</li></ul>\n",
            "Division lineups. Place cursor over year for division champ or World Series team....\n",
            "\n"
          ]
        }
      ],
      "source": [
        "# Teste da função\n",
        "query = \"san diego padres\"\n",
        "resultados = query_indice(query, k=3)\n",
        "\n",
        "# Gerar as informações formatadas\n",
        "informations = get_information(resultados)\n",
        "\n",
        "# Exibir o resultado\n",
        "print(informations)"
      ]
    },
    {
      "cell_type": "code",
      "execution_count": 10,
      "metadata": {},
      "outputs": [],
      "source": [
        "from langchain.llms import Ollama\n",
        "\n",
        "# Initialize the Ollama model with LLaMA 3.1 8B\n",
        "llama_model = Ollama(model=\"llama3.1\")"
      ]
    },
    {
      "cell_type": "code",
      "execution_count": 11,
      "metadata": {},
      "outputs": [],
      "source": [
        "import os\n",
        "\n",
        "# Função para matar o processo ollama_llama_server\n",
        "def kill_ollama_server():\n",
        "    os.system(\"pkill -f ollama_llama_server\")  # Comando para matar o processo\n",
        "\n",
        "# Função para processar e rodar o modelo com uma única pergunta\n",
        "def run_llama(question):\n",
        "    # Extrair a pergunta e a resposta correta\n",
        "    text = question['question']\n",
        "    # answer = question['answer']\n",
        "    # answer = get_answer(answer)\n",
        "\n",
        "    # Processar consulta e obter informações\n",
        "    query = query_indice(text, k=3)\n",
        "    informations = get_information(query)\n",
        "\n",
        "    # Definir o prompt para o modelo\n",
        "    prompt = f\"Think in this informations:\\n{informations}\\nGiven the Informations try to answer the Question\\nQuestion: {text}\\nIn the end of your text just give your final answer in format:\\nAnswer: <answer>\"\n",
        "    del query\n",
        "    del informations\n",
        "    # print(prompt)\n",
        "\n",
        "    # Rodar o modelo e obter a resposta\n",
        "    response = llama_model.invoke(prompt)\n",
        "\n",
        "    # Finalizar o processo ollama_llama_server\n",
        "    kill_ollama_server()\n",
        "\n",
        "    return response"
      ]
    },
    {
      "cell_type": "code",
      "execution_count": 32,
      "metadata": {},
      "outputs": [
        {
          "name": "stdout",
          "output_type": "stream",
          "text": [
            "Think in this informations:\n",
            "\n",
            "Information 1:\n",
            "dynamite\n",
            "In 1857, Nobel filed the first of several hundred patents, mostly concerning air pressure, gas and fluid gauges, but remained fascinated with nitroglycerin's potential as an explosive. Nobel, along with his father and brother <a href=\"Emil%20Oskar%20Nobel\">Emil</a>, experimented with various combinations of nitroglycerin and black powder. Nobel came up with a solution of how to safely detonate nitroglycerin by inventing the <a href=\"detonator\">detonator</a>, or blasting cap, that allowed a controlled explosion set off from a distance using a <a href=\"Fuse%20%28explosives%29\">fuse</a>. In the summer of 1863, Nobel performed his first successful detonation of pure nitroglycerin, using a blasting cap made of a copper <a href=\"percussion%20cap\">percussion cap</a> and <a href=\"Mercury%28II%29%20fulminate\">mercury fulminate</a>. In 1864, Alfred Nobel filed patents for both the blasting cap and his method of synthesizing nitroglycerin, using sulfuric acid, nitric acid and glycerin. On 3 September 1864, while experimenting with nitroglycerin, Emil and several others were killed in an explosion at the factory at Immanuel Nobel's estate at <a href=\"Heleneborg\">Heleneborg</a>. After this, Alfred founded the company Nitroglycerin Aktiebolaget AB in <a href=\"Vinterviken\">Vinterviken</a> to continue work in a more isolated area and the following year moved to Germany, where he founded another company, <a href=\"Dynamit%20Nobel\">Dynamit Nobel</a>....\n",
            "\n",
            "Information 2:\n",
            "list of the adventures of tintin characters\n",
            "Bohlwinkel.Mr. Bohlwinkel is a financier from the fictitious South American country São Rico, who appears in <i><a href=\"The%20Shooting%20Star\">The Shooting Star</a></i>. As the owner of a major banking concern and a petroleum firm called Golden Oil, he uses his wealth and resources to attempt to beat Tintin and his friends in the race to find a recently fallen <a href=\"meteorite\">meteorite</a>. Apart from financing the exploratory vessel <i>Peary</i>, he unsuccessfully attempts to sabotage the competing expedition's ship <i>Aurora</i>, helmed by Captain Haddock. This includes depositing lit <a href=\"dynamite\">dynamite</a> onto its deck (which Snowy puts out), instructing another ship under his control to ram the <i>Aurora</i> during a storm, refusing to allow the <i>Aurora</i> to refuel at a Golden Oil depot (only to have Haddock's old friend <a href=\"%23Captain%20Chester\">Captain Chester</a> fuel the <i>Aurora</i> by siphoning oil being pumped into his tanks), and sending a fake S.O.S. to throw the <i>Aurora</i> off course (Tintin contacting multiple shipping agencies to determine that the ship and company that sent the distress call do not exist). <i>The Shooting Star</i> ends with a dismayed Bohlwinkel listening to a radio announcement that reveals that the police are onto him....\n",
            "\n",
            "Information 3:\n",
            "fat man\n",
            "Development.Neddermeyer discarded Serber and Tolman's initial concept of implosion as assembling a series of pieces in favor of one in which a hollow sphere was imploded by an explosive shell. He was assisted in this work by <a href=\"Hugh%20Bradner\">Hugh Bradner</a>, <a href=\"Charles%20Critchfield\">Charles Critchfield</a>, and John Streib. <a href=\"L.T.E.%20Thompson\">L. T. E. Thompson</a> was brought in as a consultant, and discussed the problem with Neddermeyer in June 1943. Thompson was skeptical that an implosion could be made sufficiently symmetric. Oppenheimer arranged for Neddermeyer and <a href=\"Edwin%20McMillan\">Edwin McMillan</a> to visit the <a href=\"National%20Defense%20Research%20Committee\">National Defense Research Committee</a>'s Explosives Research Laboratory near the <a href=\"Experimental%20Mine%2C%20U.S.%20Bureau%20of%20Mines\">laboratories</a> of the <a href=\"United%20States%20Bureau%20of%20Mines\">Bureau of Mines</a> in <a href=\"Bruceton%2C%20Pennsylvania\">Bruceton, Pennsylvania</a> (a <a href=\"Pittsburgh\">Pittsburgh</a> suburb), where they spoke to <a href=\"George%20Kistiakowsky\">George Kistiakowsky</a> and his team. But Neddermeyer's efforts in July and August at imploding tubes to produce cylinders tended to produce objects that resembled rocks. Neddermeyer was the only person who believed that implosion was practical, and only his enthusiasm kept the project alive....\n",
            "\n",
            "Given the Informations try to answer the Question\n",
            "Question: Who invented the explosive that Bohlwinkel's henchman plants on the Aurora?\n",
            "In the end of your text just give your final answer in format:\n",
            "Answer: <answer>\n",
            "Response from LLaMA 3.1: After analyzing the information, I can conclude that:\n",
            "\n",
            "Dynamite was invented by Alfred Nobel, and is mentioned as the type of explosive used by Bohlwinkel's henchman. However, there is no direct connection between Nobel and the event described in Information 2.\n",
            "\n",
            "However, Information 1 mentions that in 1864, Alfred Nobel filed patents for both the blasting cap and his method of synthesizing nitroglycerin. This implies that Nobel was working on explosive technologies around the time period when Bohlwinkel's henchman might have used dynamite.\n",
            "\n",
            "But, there is no direct link between Nobel and the specific event in which Bohlwinkel's henchman plants dynamite on the Aurora. Given the lack of information about who specifically invented or used dynamite in this context, I can only speculate that it was likely based on some variant of nitroglycerin-based explosives, but since Alfred Nobel is credited with working on explosive technologies around this time period and inventing the blasting cap and synthesizing nitroglycerin method, I'll make a educated guess:\n",
            "\n",
            "Answer: Alfred Nobel\n",
            "Real response: None\n"
          ]
        }
      ],
      "source": [
        "# Exemplo de pergunta seguindo o mesmo formato\n",
        "question_example = {\n",
        "    'question': \"How long had the First World War been over when Messe was named aide-de-camp?\",\n",
        "    'answer': {'answer_value': '5', 'type': 'value', 'answer_unit': 'years'}\n",
        "}\n",
        "\n",
        "question_example = questions[0]\n",
        "# Executar a função com a pergunta de exemplo\n",
        "response = run_llama(question_example)"
      ]
    },
    {
      "cell_type": "code",
      "execution_count": 35,
      "metadata": {},
      "outputs": [
        {
          "name": "stdout",
          "output_type": "stream",
          "text": [
            "Response from LLaMA 3.1: After analyzing the information, I can conclude that:\n",
            "\n",
            "Dynamite was invented by Alfred Nobel, and is mentioned as the type of explosive used by Bohlwinkel's henchman. However, there is no direct connection between Nobel and the event described in Information 2.\n",
            "\n",
            "However, Information 1 mentions that in 1864, Alfred Nobel filed patents for both the blasting cap and his method of synthesizing nitroglycerin. This implies that Nobel was working on explosive technologies around the time period when Bohlwinkel's henchman might have used dynamite.\n",
            "\n",
            "But, there is no direct link between Nobel and the specific event in which Bohlwinkel's henchman plants dynamite on the Aurora. Given the lack of information about who specifically invented or used dynamite in this context, I can only speculate that it was likely based on some variant of nitroglycerin-based explosives, but since Alfred Nobel is credited with working on explosive technologies around this time period and inventing the blasting cap and synthesizing nitroglycerin method, I'll make a educated guess:\n",
            "\n",
            "Answer: Alfred Nobel\n",
            "Real response: Alfred Nobel\n"
          ]
        }
      ],
      "source": [
        "# Imprimir o resultado\n",
        "question_example\n",
        "print(\"Response from LLaMA 3.1:\", response)\n",
        "print(\"Real response:\", get_answer(question_example['answer']))"
      ]
    },
    {
      "cell_type": "markdown",
      "metadata": {},
      "source": [
        "# Calculate F1-Score"
      ]
    },
    {
      "cell_type": "code",
      "execution_count": 48,
      "metadata": {},
      "outputs": [],
      "source": [
        "def preprocess_answer(llama_response):\n",
        "    # Divide a resposta em linhas\n",
        "    lines = llama_response.strip().split('\\n')\n",
        "    \n",
        "    # Verifica se a última linha contém \"Answer:\"\n",
        "    if lines and \"Answer:\" in lines[-1]:\n",
        "        # Extrai a parte após \"Answer:\"\n",
        "        answer_line = lines[-1].strip()  # Remove espaços em branco da linha\n",
        "        answer = answer_line.split(\"Answer:\")[-1].strip()  # Pega a parte após \"Answer:\"\n",
        "        return answer\n",
        "    # Majoritariamente a resposta está na última linha, porém usar a resposta toda do modelo não alterou tanto o resultado final\n",
        "    return lines[-1]\n",
        "    # return llama_response"
      ]
    },
    {
      "cell_type": "code",
      "execution_count": 14,
      "metadata": {},
      "outputs": [
        {
          "name": "stderr",
          "output_type": "stream",
          "text": [
            "[nltk_data] Downloading package stopwords to\n",
            "[nltk_data]     /home/arimatea/nltk_data...\n",
            "[nltk_data]   Package stopwords is already up-to-date!\n"
          ]
        }
      ],
      "source": [
        "import nltk\n",
        "\n",
        "# Baixar o pacote de stopwords\n",
        "nltk.download('stopwords')\n",
        "\n",
        "# Verificar se as stopwords foram baixadas corretamente\n",
        "from nltk.corpus import stopwords\n",
        "\n",
        "# Carregar stopwords em inglês\n",
        "stop_words = set(stopwords.words('english'))\n"
      ]
    },
    {
      "cell_type": "code",
      "execution_count": 13,
      "metadata": {},
      "outputs": [],
      "source": [
        "import collections\n",
        "import re\n",
        "# from sklearn.metrics import f1_score\n",
        "from nltk.corpus import stopwords\n",
        "\n",
        "# Carregar lista de stopwords em inglês\n",
        "stop_words = set(stopwords.words('english'))\n",
        "\n",
        "# Função para tokenizar o texto e remover stopwords\n",
        "def get_tokens(text):\n",
        "    tokens = re.findall(r'\\w+', text.lower())\n",
        "    # Remover stopwords\n",
        "    filtered_tokens = [word for word in tokens if word not in stop_words]\n",
        "    return filtered_tokens\n",
        "\n",
        "def compute_f1(real, pred):\n",
        "    real_tokens = get_tokens(real)\n",
        "    # print(\"Real tokens:\", real_tokens)\n",
        "    pred = preprocess_answer(pred)\n",
        "    pred_tokens = get_tokens(pred)\n",
        "    # print(\"Predicted tokens:\", pred_tokens)\n",
        "    \n",
        "    common = collections.Counter(real_tokens) & collections.Counter(pred_tokens)\n",
        "    num_same = sum(common.values())\n",
        "    \n",
        "    if len(real_tokens) == 0 or len(pred_tokens) == 0:\n",
        "        # Se qualquer resposta estiver vazia, F1 é 1 se estiverem de acordo, 0 caso contrário\n",
        "        return int(real_tokens == pred_tokens)\n",
        "    \n",
        "    if num_same == 0:\n",
        "        return 0\n",
        "    \n",
        "    precision = 1.0 * num_same / len(pred_tokens)\n",
        "    recall = 1.0 * num_same / len(real_tokens)\n",
        "    \n",
        "    # Cálculo do F1-Score\n",
        "    if precision + recall == 0:\n",
        "        return 0\n",
        "    f1 = (2 * recall * precision) / (precision + recall)\n",
        "    return f1"
      ]
    },
    {
      "cell_type": "code",
      "execution_count": 48,
      "metadata": {},
      "outputs": [],
      "source": [
        "answer_test = get_answer(question_example['answer'])\n",
        "response_test = response"
      ]
    },
    {
      "cell_type": "code",
      "execution_count": 46,
      "metadata": {},
      "outputs": [
        {
          "data": {
            "text/plain": [
              "'Alfred Nobel'"
            ]
          },
          "execution_count": 46,
          "metadata": {},
          "output_type": "execute_result"
        }
      ],
      "source": [
        "preprocess_answer(answer_test)"
      ]
    },
    {
      "cell_type": "code",
      "execution_count": 51,
      "metadata": {},
      "outputs": [
        {
          "name": "stdout",
          "output_type": "stream",
          "text": [
            "Real tokens: ['alfred', 'nobel']\n",
            "Predicted tokens: ['alfred', 'nobel']\n",
            "F1 Score: 1.0000\n"
          ]
        }
      ],
      "source": [
        "f1_score = compute_f1(answer_test, response_test)\n",
        "print(f\"F1 Score: {f1_score:.4f}\")"
      ]
    },
    {
      "cell_type": "markdown",
      "metadata": {},
      "source": [
        "# Mean F1-Score in Val Dataset"
      ]
    },
    {
      "cell_type": "code",
      "execution_count": 14,
      "metadata": {},
      "outputs": [],
      "source": [
        "# Função para processar todo o dataset e calcular o F1 score\n",
        "def evaluate_questions(questions):\n",
        "    total_f1 = 0\n",
        "    f1_count_exact = 0\n",
        "    num_questions = len(questions)\n",
        "    responses = []\n",
        "    i = 0\n",
        "\n",
        "    for question in questions:\n",
        "        response = run_llama(question)\n",
        "        responses.append(response)\n",
        "        \n",
        "        answer = question['answer']\n",
        "        answer = get_answer(answer)\n",
        "        \n",
        "        # Calcular o F1 score\n",
        "        f1 = compute_f1(answer, response)  # Passar somente a resposta\n",
        "        total_f1 += f1\n",
        "        \n",
        "        if f1 == 1:\n",
        "            f1_count_exact += 1\n",
        "        i += 1\n",
        "        print(f\"Número de respostas percorridas: {i}\")\n",
        "    \n",
        "    average_f1 = total_f1 / num_questions if num_questions > 0 else 0\n",
        "    return average_f1, f1_count_exact, responses"
      ]
    },
    {
      "cell_type": "code",
      "execution_count": 15,
      "metadata": {},
      "outputs": [
        {
          "data": {
            "text/plain": [
              "{'question': \"Who invented the explosive that Bohlwinkel's henchman plants on the Aurora?\",\n",
              " 'answer': {'type': 'span',\n",
              "  'answer_spans': [{'text': 'Alfred Nobel',\n",
              "    'passage': 'dynamite',\n",
              "    'type': 'answer',\n",
              "    'start': 182,\n",
              "    'end': 194}]}}"
            ]
          },
          "execution_count": 15,
          "metadata": {},
          "output_type": "execute_result"
        }
      ],
      "source": [
        "questions[0]"
      ]
    },
    {
      "cell_type": "code",
      "execution_count": 27,
      "metadata": {},
      "outputs": [
        {
          "name": "stdout",
          "output_type": "stream",
          "text": [
            "Número de respostas percorridas: 1\n",
            "Número de respostas percorridas: 2\n",
            "Média do F1 Score: 0.5\n",
            "Número de vezes que o F1 Score foi igual a 1: 1\n"
          ]
        }
      ],
      "source": [
        "# Testa a iteração somente sobre 2 perguntas\n",
        "\n",
        "questions_test = questions[:2]\n",
        "\n",
        "average_f1, exact_count, responses = evaluate_questions(questions_test)\n",
        "print(\"Média do F1 Score:\", average_f1)\n",
        "print(\"Número de vezes que o F1 Score foi igual a 1:\", exact_count)"
      ]
    },
    {
      "cell_type": "code",
      "execution_count": 28,
      "metadata": {},
      "outputs": [
        {
          "data": {
            "text/plain": [
              "'To determine who invented the explosive that Bohlwinkel\\'s henchman plants on the Aurora, we can refer to Information 1 and Information 2.\\n\\nAccording to Information 1, Alfred Nobel filed patents for both the blasting cap and his method of synthesizing nitroglycerin in 1864. The text also mentions that he had previously experimented with various combinations of nitroglycerin and black powder to safely detonate nitroglycerin.\\n\\nHowever, upon closer inspection, we can see that Information 1 talks about Alfred Nobel inventing the blasting cap for nitroglycerin, but it does not specifically mention dynamite. Dynamite is actually mentioned in Information 2 as part of Bohlwinkel\\'s sabotage attempts against Tintin and Captain Haddock.\\n\\nUpon further investigation, Information 3 does not provide any information relevant to this question.\\n\\nGiven that dynamite is the explosive used by Bohlwinkel\\'s henchman, we can see that the only relevant piece of information comes from Information 2, where it mentions \"lit dynamite\" as one of the sabotage attempts made against Captain Haddock and Tintin. \\n\\nHowever, to conclude this question, a key detail is missing: what dynamite is. Given the context, and knowing that Alfred Nobel invented the blasting cap for nitroglycerin (Information 1), but also founded Dynamit Nobel (Information 1), we can make an educated guess.\\n\\nAlfred Nobel\\'s company was named Dynamit Nobel, which implies that they manufactured dynamite.\\n\\nSo, our answer is not directly stated in Information 2. However, given the context and additional information provided by Information 1 about Alfred Nobel\\'s work, it is possible to infer who invented dynamite.\\n\\nThe answer would be:\\nAnswer: <Alfred Nobel>'"
            ]
          },
          "execution_count": 28,
          "metadata": {},
          "output_type": "execute_result"
        }
      ],
      "source": [
        "responses[0]"
      ]
    },
    {
      "cell_type": "code",
      "execution_count": 17,
      "metadata": {},
      "outputs": [
        {
          "name": "stdout",
          "output_type": "stream",
          "text": [
            "Número de respostas percorridas: 1\n",
            "Número de respostas percorridas: 2\n",
            "Número de respostas percorridas: 3\n",
            "Número de respostas percorridas: 4\n",
            "Número de respostas percorridas: 5\n",
            "Número de respostas percorridas: 6\n",
            "Número de respostas percorridas: 7\n",
            "Número de respostas percorridas: 8\n",
            "Número de respostas percorridas: 9\n",
            "Número de respostas percorridas: 10\n",
            "Número de respostas percorridas: 11\n",
            "Número de respostas percorridas: 12\n",
            "Número de respostas percorridas: 13\n",
            "Número de respostas percorridas: 14\n",
            "Número de respostas percorridas: 15\n",
            "Número de respostas percorridas: 16\n",
            "Número de respostas percorridas: 17\n",
            "Número de respostas percorridas: 18\n",
            "Número de respostas percorridas: 19\n",
            "Número de respostas percorridas: 20\n",
            "Número de respostas percorridas: 21\n",
            "Número de respostas percorridas: 22\n",
            "Número de respostas percorridas: 23\n",
            "Número de respostas percorridas: 24\n",
            "Número de respostas percorridas: 25\n",
            "Número de respostas percorridas: 26\n",
            "Número de respostas percorridas: 27\n",
            "Número de respostas percorridas: 28\n",
            "Número de respostas percorridas: 29\n",
            "Número de respostas percorridas: 30\n",
            "Número de respostas percorridas: 31\n",
            "Número de respostas percorridas: 32\n",
            "Número de respostas percorridas: 33\n",
            "Número de respostas percorridas: 34\n",
            "Número de respostas percorridas: 35\n",
            "Número de respostas percorridas: 36\n",
            "Número de respostas percorridas: 37\n",
            "Número de respostas percorridas: 38\n",
            "Número de respostas percorridas: 39\n",
            "Número de respostas percorridas: 40\n",
            "Número de respostas percorridas: 41\n",
            "Número de respostas percorridas: 42\n",
            "Número de respostas percorridas: 43\n",
            "Número de respostas percorridas: 44\n",
            "Número de respostas percorridas: 45\n",
            "Número de respostas percorridas: 46\n",
            "Número de respostas percorridas: 47\n",
            "Número de respostas percorridas: 48\n",
            "Número de respostas percorridas: 49\n",
            "Número de respostas percorridas: 50\n",
            "Número de respostas percorridas: 51\n",
            "Número de respostas percorridas: 52\n",
            "Número de respostas percorridas: 53\n",
            "Número de respostas percorridas: 54\n",
            "Número de respostas percorridas: 55\n",
            "Número de respostas percorridas: 56\n",
            "Número de respostas percorridas: 57\n",
            "Número de respostas percorridas: 58\n",
            "Número de respostas percorridas: 59\n",
            "Número de respostas percorridas: 60\n",
            "Número de respostas percorridas: 61\n",
            "Número de respostas percorridas: 62\n",
            "Número de respostas percorridas: 63\n",
            "Número de respostas percorridas: 64\n",
            "Número de respostas percorridas: 65\n",
            "Número de respostas percorridas: 66\n",
            "Número de respostas percorridas: 67\n",
            "Número de respostas percorridas: 68\n",
            "Número de respostas percorridas: 69\n",
            "Número de respostas percorridas: 70\n",
            "Número de respostas percorridas: 71\n",
            "Número de respostas percorridas: 72\n",
            "Número de respostas percorridas: 73\n",
            "Número de respostas percorridas: 74\n",
            "Número de respostas percorridas: 75\n",
            "Número de respostas percorridas: 76\n",
            "Número de respostas percorridas: 77\n",
            "Número de respostas percorridas: 78\n",
            "Número de respostas percorridas: 79\n",
            "Número de respostas percorridas: 80\n",
            "Número de respostas percorridas: 81\n",
            "Número de respostas percorridas: 82\n",
            "Número de respostas percorridas: 83\n",
            "Número de respostas percorridas: 84\n",
            "Número de respostas percorridas: 85\n",
            "Número de respostas percorridas: 86\n",
            "Número de respostas percorridas: 87\n",
            "Número de respostas percorridas: 88\n",
            "Número de respostas percorridas: 89\n",
            "Número de respostas percorridas: 90\n",
            "Número de respostas percorridas: 91\n",
            "Número de respostas percorridas: 92\n",
            "Número de respostas percorridas: 93\n",
            "Número de respostas percorridas: 94\n",
            "Número de respostas percorridas: 95\n",
            "Número de respostas percorridas: 96\n",
            "Número de respostas percorridas: 97\n",
            "Número de respostas percorridas: 98\n",
            "Número de respostas percorridas: 99\n",
            "Número de respostas percorridas: 100\n",
            "Número de respostas percorridas: 101\n",
            "Número de respostas percorridas: 102\n",
            "Número de respostas percorridas: 103\n",
            "Número de respostas percorridas: 104\n",
            "Número de respostas percorridas: 105\n",
            "Número de respostas percorridas: 106\n",
            "Número de respostas percorridas: 107\n",
            "Número de respostas percorridas: 108\n",
            "Número de respostas percorridas: 109\n",
            "Número de respostas percorridas: 110\n",
            "Número de respostas percorridas: 111\n",
            "Número de respostas percorridas: 112\n",
            "Número de respostas percorridas: 113\n",
            "Número de respostas percorridas: 114\n",
            "Número de respostas percorridas: 115\n",
            "Número de respostas percorridas: 116\n",
            "Número de respostas percorridas: 117\n",
            "Número de respostas percorridas: 118\n",
            "Número de respostas percorridas: 119\n",
            "Número de respostas percorridas: 120\n",
            "Número de respostas percorridas: 121\n",
            "Número de respostas percorridas: 122\n",
            "Número de respostas percorridas: 123\n",
            "Número de respostas percorridas: 124\n",
            "Número de respostas percorridas: 125\n",
            "Número de respostas percorridas: 126\n",
            "Número de respostas percorridas: 127\n",
            "Número de respostas percorridas: 128\n",
            "Número de respostas percorridas: 129\n",
            "Número de respostas percorridas: 130\n",
            "Número de respostas percorridas: 131\n",
            "Número de respostas percorridas: 132\n",
            "Número de respostas percorridas: 133\n",
            "Número de respostas percorridas: 134\n",
            "Número de respostas percorridas: 135\n",
            "Número de respostas percorridas: 136\n",
            "Número de respostas percorridas: 137\n",
            "Número de respostas percorridas: 138\n",
            "Número de respostas percorridas: 139\n",
            "Número de respostas percorridas: 140\n",
            "Número de respostas percorridas: 141\n",
            "Número de respostas percorridas: 142\n",
            "Número de respostas percorridas: 143\n",
            "Número de respostas percorridas: 144\n",
            "Número de respostas percorridas: 145\n",
            "Número de respostas percorridas: 146\n",
            "Número de respostas percorridas: 147\n",
            "Número de respostas percorridas: 148\n",
            "Número de respostas percorridas: 149\n",
            "Número de respostas percorridas: 150\n",
            "Média do F1 Score: 0.20665862663906143\n",
            "Número de vezes que o F1 Score foi igual a 1: 27\n"
          ]
        }
      ],
      "source": [
        "# Itera sobre todas as 150 perguntas\n",
        "\n",
        "average_f1, exact_count, responses = evaluate_questions(questions)\n",
        "print(\"Média do F1 Score:\", average_f1)\n",
        "print(\"Número de vezes que o F1 Score foi igual a 1:\", exact_count)"
      ]
    },
    {
      "cell_type": "code",
      "execution_count": 19,
      "metadata": {},
      "outputs": [],
      "source": [
        "# # Salvar embeddings em um arquivo .pkl (pickle)\n",
        "# with open('final_responses.pkl', 'wb') as f:\n",
        "#     pickle.dump(responses, f)"
      ]
    },
    {
      "cell_type": "code",
      "execution_count": 23,
      "metadata": {},
      "outputs": [
        {
          "name": "stdout",
          "output_type": "stream",
          "text": [
            "Loaded Dataset size: 150\n"
          ]
        }
      ],
      "source": [
        "# Carregar embeddings do arquivo .pkl\n",
        "with open('final_responses.pkl', 'rb') as f:\n",
        "    responses = pickle.load(f)\n",
        "\n",
        "print(f\"Loaded Dataset size: {len(questions)}\")"
      ]
    },
    {
      "cell_type": "code",
      "execution_count": 24,
      "metadata": {},
      "outputs": [
        {
          "data": {
            "text/plain": [
              "'According to Information 1, Bill Dooley attended Perkinston Junior College in Perkinston, Mississippi from 1952 to 1953. He then moved on to Mississippi State University and graduated in 1956.\\n\\nTherefore, the state where Dooley went to college is:\\nAnswer: Mississippi'"
            ]
          },
          "execution_count": 24,
          "metadata": {},
          "output_type": "execute_result"
        }
      ],
      "source": [
        "responses[2]"
      ]
    },
    {
      "cell_type": "code",
      "execution_count": 34,
      "metadata": {},
      "outputs": [],
      "source": [
        "# Função para processar todo o dataset e calcular o F1 score\n",
        "def evaluate_responses(responses, questions):\n",
        "    total_f1 = 0\n",
        "    f1_count_exact = 0\n",
        "    f1_count_zero = 0\n",
        "    num_responses = len(responses)\n",
        "\n",
        "    for i in range(num_responses):\n",
        "        \n",
        "        answer = questions[i]['answer']\n",
        "        answer = get_answer(answer)\n",
        "        response = responses[i]\n",
        "        \n",
        "        # Calcular o F1 score\n",
        "        f1 = compute_f1(answer, response)  # Passar somente a resposta\n",
        "        total_f1 += f1\n",
        "        \n",
        "        if f1 == 1:\n",
        "            f1_count_exact += 1\n",
        "        elif f1 == 0:\n",
        "            f1_count_zero += 1\n",
        "        else:\n",
        "            print(f\"Resposta {i} - F1-Score: {f1}\")\n",
        "        \n",
        "    \n",
        "    average_f1 = total_f1 / num_responses if num_responses > 0 else 0\n",
        "    return average_f1, f1_count_exact, f1_count_zero"
      ]
    },
    {
      "cell_type": "code",
      "execution_count": 47,
      "metadata": {},
      "outputs": [
        {
          "name": "stdout",
          "output_type": "stream",
          "text": [
            "Resposta 1 - F1-Score: 0.021052631578947368\n",
            "Resposta 38 - F1-Score: 0.6666666666666666\n",
            "Resposta 39 - F1-Score: 0.017699115044247787\n",
            "Resposta 49 - F1-Score: 0.024539877300613494\n",
            "Resposta 53 - F1-Score: 0.5333333333333333\n",
            "Resposta 54 - F1-Score: 0.0196078431372549\n",
            "Resposta 56 - F1-Score: 0.33333333333333337\n",
            "Resposta 59 - F1-Score: 0.19999999999999998\n",
            "Resposta 67 - F1-Score: 0.002857142857142857\n",
            "Resposta 69 - F1-Score: 0.045977011494252866\n",
            "Resposta 73 - F1-Score: 0.01687763713080169\n",
            "Resposta 82 - F1-Score: 0.025\n",
            "Resposta 83 - F1-Score: 0.6666666666666666\n",
            "Resposta 88 - F1-Score: 0.013245033112582783\n",
            "Resposta 101 - F1-Score: 0.029411764705882356\n",
            "Resposta 119 - F1-Score: 0.28571428571428575\n",
            "Resposta 124 - F1-Score: 0.0003629105425512611\n",
            "Resposta 143 - F1-Score: 0.16\n",
            "Resposta 145 - F1-Score: 0.6666666666666666\n",
            "Média do F1 Score: 0.20486007946190155\n",
            "Número de vezes que o F1 Score foi igual a 1: 27\n",
            "Número de vezes que o F1 Score foi igual a 0: 104\n"
          ]
        }
      ],
      "source": [
        "# Avaliar usando respostas completas do Modelo\n",
        "\n",
        "average_f1, exact_count, zero_count = evaluate_responses(responses, questions)\n",
        "\n",
        "print(\"Média do F1 Score:\", average_f1)\n",
        "print(\"Número de vezes que o F1 Score foi igual a 1:\", exact_count)\n",
        "print(\"Número de vezes que o F1 Score foi igual a 0:\", zero_count)"
      ]
    },
    {
      "cell_type": "code",
      "execution_count": 49,
      "metadata": {},
      "outputs": [
        {
          "name": "stdout",
          "output_type": "stream",
          "text": [
            "Resposta 38 - F1-Score: 0.6666666666666666\n",
            "Resposta 49 - F1-Score: 0.17391304347826084\n",
            "Resposta 53 - F1-Score: 0.5333333333333333\n",
            "Resposta 56 - F1-Score: 0.33333333333333337\n",
            "Resposta 59 - F1-Score: 0.19999999999999998\n",
            "Resposta 69 - F1-Score: 0.0625\n",
            "Resposta 83 - F1-Score: 0.6666666666666666\n",
            "Resposta 101 - F1-Score: 0.16666666666666669\n",
            "Resposta 119 - F1-Score: 0.28571428571428575\n",
            "Resposta 124 - F1-Score: 0.08333333333333333\n",
            "Resposta 143 - F1-Score: 0.16\n",
            "Resposta 145 - F1-Score: 0.6666666666666666\n",
            "Média do F1 Score: 0.20665862663906143\n",
            "Número de vezes que o F1 Score foi igual a 1: 27\n",
            "Número de vezes que o F1 Score foi igual a 0: 111\n"
          ]
        }
      ],
      "source": [
        "# Avaliar usando somente última linha da resposta do Modelo\n",
        "\n",
        "average_f1, exact_count, zero_count = evaluate_responses(responses, questions)\n",
        "\n",
        "print(\"Média do F1 Score:\", average_f1)\n",
        "print(\"Número de vezes que o F1 Score foi igual a 1:\", exact_count)\n",
        "print(\"Número de vezes que o F1 Score foi igual a 0:\", zero_count)"
      ]
    }
  ],
  "metadata": {
    "colab": {
      "provenance": []
    },
    "kernelspec": {
      "display_name": "Python 3",
      "name": "python3"
    },
    "language_info": {
      "codemirror_mode": {
        "name": "ipython",
        "version": 3
      },
      "file_extension": ".py",
      "mimetype": "text/x-python",
      "name": "python",
      "nbconvert_exporter": "python",
      "pygments_lexer": "ipython3",
      "version": "3.10.12"
    }
  },
  "nbformat": 4,
  "nbformat_minor": 0
}
