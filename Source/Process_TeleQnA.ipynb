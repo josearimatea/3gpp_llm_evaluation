{
 "cells": [
  {
   "cell_type": "markdown",
   "metadata": {},
   "source": [
    "# Process the TeleQnA Dataset"
   ]
  },
  {
   "cell_type": "code",
   "execution_count": 1,
   "metadata": {},
   "outputs": [
    {
     "name": "stdout",
     "output_type": "stream",
     "text": [
      "10000\n"
     ]
    }
   ],
   "source": [
    "import json\n",
    "\n",
    "teleQnA_questions_path = r\"../Dataset/TeleQnA/TeleQnA.txt\"\n",
    "\n",
    "# Load TeleQnA dataset\n",
    "with open(teleQnA_questions_path, \"r\", encoding=\"utf-8\") as file:\n",
    "    teleQnA_dataset = json.load(file)\n",
    "print(len(teleQnA_dataset))"
   ]
  },
  {
   "cell_type": "code",
   "execution_count": 2,
   "metadata": {},
   "outputs": [
    {
     "data": {
      "text/plain": [
       "{'question': 'What is the purpose of the Nmfaf_3daDataManagement_Deconfigure service operation? [3GPP Release 18]',\n",
       " 'option 1': 'To configure the MFAF to map data or analytics received by the MFAF to out-bound notification endpoints',\n",
       " 'option 2': 'To configure the MFAF to stop mapping data or analytics received by the MFAF to out-bound notification endpoints',\n",
       " 'option 3': 'To supply data or analytics from the MFAF to notification endpoints',\n",
       " 'option 4': 'To fetch data or analytics from the MFAF based on fetch instructions',\n",
       " 'answer': 'option 2: To configure the MFAF to stop mapping data or analytics received by the MFAF to out-bound notification endpoints',\n",
       " 'explanation': 'The Nmfaf_3daDataManagement_Deconfigure service operation is used to stop mapping data or analytics received by the MFAF to one or more out-bound notification endpoints.',\n",
       " 'category': 'Standards specifications'}"
      ]
     },
     "execution_count": 2,
     "metadata": {},
     "output_type": "execute_result"
    }
   ],
   "source": [
    "teleQnA_dataset[\"question 0\"]"
   ]
  },
  {
   "cell_type": "markdown",
   "metadata": {},
   "source": [
    "## Choose only Release 17 Questions"
   ]
  },
  {
   "cell_type": "code",
   "execution_count": 3,
   "metadata": {},
   "outputs": [
    {
     "name": "stdout",
     "output_type": "stream",
     "text": [
      "Total questions with '[3GPP Release 17]': 733\n"
     ]
    }
   ],
   "source": [
    "# Filter only the questions that contain \"[3GPP Release 17]\" in the question text and save in a list\n",
    "rel17_questions = [\n",
    "    value for key, value in teleQnA_dataset.items() \n",
    "    if \"[3GPP Release 17]\" in value[\"question\"]\n",
    "]\n",
    "\n",
    "print(f\"Total questions with '[3GPP Release 17]': {len(rel17_questions)}\")"
   ]
  },
  {
   "cell_type": "code",
   "execution_count": 4,
   "metadata": {},
   "outputs": [
    {
     "data": {
      "text/plain": [
       "{'question': 'How does a supporting UE attach to the same core network operator from which it detached in a shared network? [3GPP Release 17]',\n",
       " 'option 1': 'It requests the core network node to remember its previous selection.',\n",
       " 'option 2': 'It uses information stored in the UE when it was detached.',\n",
       " 'option 3': 'It relies on the SIM/USIM card for information.',\n",
       " 'option 4': 'It performs a fresh attach procedure.',\n",
       " 'answer': 'option 2: It uses information stored in the UE when it was detached.',\n",
       " 'explanation': 'A supporting UE in a shared network attaches to the same core network operator it detached from by using information stored in the UE when it was detached.',\n",
       " 'category': 'Standards specifications'}"
      ]
     },
     "execution_count": 4,
     "metadata": {},
     "output_type": "execute_result"
    }
   ],
   "source": [
    "rel17_questions[0]"
   ]
  },
  {
   "cell_type": "code",
   "execution_count": 5,
   "metadata": {},
   "outputs": [],
   "source": [
    "# Save the filtered questions to a new JSON file\n",
    "rel17_questions_path = r\"../Files/rel17_questions.json\"\n",
    "with open(rel17_questions_path, \"w\", encoding=\"utf-8\") as file:\n",
    "    json.dump(rel17_questions, file, indent=4, ensure_ascii=False)"
   ]
  },
  {
   "cell_type": "markdown",
   "metadata": {},
   "source": [
    "## Choose 100 questions"
   ]
  },
  {
   "cell_type": "code",
   "execution_count": 23,
   "metadata": {},
   "outputs": [
    {
     "name": "stdout",
     "output_type": "stream",
     "text": [
      "Categories found and counts:\n",
      "- Standards specifications: 641\n",
      "- Standards overview: 92\n"
     ]
    }
   ],
   "source": [
    "# Create a dictionary to store the count of each category\n",
    "category_counts = {}\n",
    "\n",
    "# Extract categories from the questions and count occurrences\n",
    "for question in rel17_questions:\n",
    "    category = question.get(\"category\", \"Unknown\")\n",
    "    if category in category_counts:\n",
    "        category_counts[category] += 1\n",
    "    else:\n",
    "        category_counts[category] = 1\n",
    "\n",
    "# Print unique categories and their counts\n",
    "print(\"Categories found and counts:\")\n",
    "for category, count in category_counts.items():\n",
    "    print(f\"- {category}: {count}\")\n"
   ]
  },
  {
   "cell_type": "code",
   "execution_count": 9,
   "metadata": {},
   "outputs": [],
   "source": [
    "number_questions = 100"
   ]
  },
  {
   "cell_type": "code",
   "execution_count": 10,
   "metadata": {},
   "outputs": [],
   "source": [
    "# Calculate how many questions to take from each category\n",
    "questions_per_category = number_questions // len(categories)\n",
    "\n",
    "rel17_100_questions = []\n",
    "\n",
    "for category in categories:\n",
    "    category_questions = [q for q in rel17_questions if q.get(\"category\", \"Unknown\") == category]\n",
    "    rel17_100_questions.extend(category_questions[:questions_per_category])\n",
    "    "
   ]
  },
  {
   "cell_type": "code",
   "execution_count": 11,
   "metadata": {},
   "outputs": [
    {
     "data": {
      "text/plain": [
       "100"
      ]
     },
     "execution_count": 11,
     "metadata": {},
     "output_type": "execute_result"
    }
   ],
   "source": [
    "len(rel17_100_questions)"
   ]
  },
  {
   "cell_type": "code",
   "execution_count": 13,
   "metadata": {},
   "outputs": [
    {
     "name": "stdout",
     "output_type": "stream",
     "text": [
      "\n",
      "Total selected questions: 100\n",
      "1. Which NGAP procedure is used for inter-system load balancing? [3GPP Release 17] (Category: Standards overview)\n",
      "2. What is covered by enhanced application layer support for V2X services? [3GPP Release 17] (Category: Standards overview)\n",
      "3. What does the Load-Balancing steering mode do? [3GPP Release 17] (Category: Standards overview)\n",
      "4. What is the main objective of intent driven management for service or network management? [3GPP Release 17] (Category: Standards overview)\n",
      "5. What does MINT stand for? [3GPP Release 17] (Category: Standards overview)\n",
      "6. What is the purpose of the Media Streaming AF Event Exposure work item? [3GPP Release 17] (Category: Standards overview)\n",
      "7. What is the purpose of load-balancing steering mode enhancements? [3GPP Release 17] (Category: Standards overview)\n",
      "8. What is a capability added in the V2X Application Enabler (VAE) layer? [3GPP Release 17] (Category: Standards overview)\n",
      "9. What is the purpose of the Edge Data Network (EDN) in enabling edge applications? [3GPP Release 17] (Category: Standards overview)\n",
      "10. What are the three features specified in TS 23.304 for 5G ProSe Direct Communication over NR based PC5 reference point? [3GPP Release 17] (Category: Standards overview)\n",
      "11. How is service continuity supported for specific slice(s)? [3GPP Release 17] (Category: Standards overview)\n",
      "12. How can UE power consumption due to false paging alarms be reduced? [3GPP Release 17] (Category: Standards overview)\n",
      "13. What is the purpose of Generic Bootstrapping Architecture (GBA) in 5GC? [3GPP Release 17] (Category: Standards overview)\n",
      "14. What is the purpose of the Small Data Transmission (SDT) feature in NR? [3GPP Release 17] (Category: Standards overview)\n",
      "15. What functionality does Signalling Based Activation provide? [3GPP Release 17] (Category: Standards overview)\n",
      "16. What are the enhancements for idle/inactive-mode UE power saving in NR? [3GPP Release 17] (Category: Standards overview)\n",
      "17. How does a Multi-USIM UE indicate to the network that it does not accept the paging and requests to return to CM-IDLE state? [3GPP Release 17] (Category: Standards overview)\n",
      "18. What is the purpose of the Slice-Maximum Bit Rate (S-MBR)? [3GPP Release 17] (Category: Standards overview)\n",
      "19. What aspects of the Disaster Roaming service are specified in TS 22.011 and TS 22.261? [3GPP Release 17] (Category: Standards overview)\n",
      "20. What is the purpose of the Provision of potential TRS/CSI-RS occasion(s) to idle/inactive-mode UEs? [3GPP Release 17] (Category: Standards overview)\n",
      "21. What does SL DRX stand for in the context of NR Sidelink? [3GPP Release 17] (Category: Standards overview)\n",
      "22. What is Non-Seamless WLAN offload (NSWO) in the context of 5GS? [3GPP Release 17] (Category: Standards overview)\n",
      "23. What is the purpose of the extended work item on 8K Television over 5G? [3GPP Release 17] (Category: Standards overview)\n",
      "24. In supporting an MA PDU Session, what does Rel-17 enable in terms of 3GPP access over EPC? [3GPP Release 17] (Category: Standards overview)\n",
      "25. In Rel-17, enhancements are made to several SEAL services. Which of the following is NOT an enhancement to SEAL services in Rel-17? [3GPP Release 17] (Category: Standards overview)\n",
      "26. Which procedures are impacted by MUSIM according to TS 23.502 and TS 23.401? [3GPP Release 17] (Category: Standards overview)\n",
      "27. How does a Multi-USIM UE modify the timing of paging occasions in 5GS? [3GPP Release 17] (Category: Standards overview)\n",
      "28. What is the purpose of the Network Slice AS Group (NSAG)? [3GPP Release 17] (Category: Standards overview)\n",
      "29. How are network nodes and NG-RAN configured with Disaster Condition? [3GPP Release 17] (Category: Standards overview)\n",
      "30. What is the purpose of the Access Traffic Steering, Switching and Splitting (ATSS) feature in 5G networks? [3GPP Release 17] (Category: Standards overview)\n",
      "31. What is the purpose of the Network Data Analytics Function (NWDAF)? [3GPP Release 17] (Category: Standards overview)\n",
      "32. What are the key functionalities of MDT enhancement? [3GPP Release 17] (Category: Standards overview)\n",
      "33. How can UE power saving be enabled by relaxing measurements for RLM/BFD? [3GPP Release 17] (Category: Standards overview)\n",
      "34. What does the 5G LAN VN group service charging specify? [3GPP Release 17] (Category: Standards overview)\n",
      "35. Which documents specify the information to be pre-configured or stored in USIM for Disaster Roaming service? [3GPP Release 17] (Category: Standards overview)\n",
      "36. What is the purpose of cyber-physical control applications in vertical domains? [3GPP Release 17] (Category: Standards overview)\n",
      "37. Where are the security aspects on the UE authentication during the authentication procedure specified? [3GPP Release 17] (Category: Standards overview)\n",
      "38. What is the purpose of the Work Item 'Enhancement of Private Network support for NG-RAN'? [3GPP Release 17] (Category: Standards overview)\n",
      "39. Which 3GPP system entities are impacted by MUSIM? [3GPP Release 17] (Category: Standards overview)\n",
      "40. What is specified in TS 24.588 related to V2X services? [3GPP Release 17] (Category: Standards overview)\n",
      "41. What is the purpose of the RedCap UE type? [3GPP Release 17] (Category: Standards overview)\n",
      "42. What are the objectives of the schemes introduced in the MUSIM work item for LTE/NR? [3GPP Release 17] (Category: Standards overview)\n",
      "43. Which document specifies the MUSIM-specific rejection cause for EPS? [3GPP Release 17] (Category: Standards overview)\n",
      "44. What is the purpose of file management in network management? [3GPP Release 17] (Category: Standards overview)\n",
      "45. Under what conditions does the UE ignore PDCCH skipping? [3GPP Release 17] (Category: Standards overview)\n",
      "46. What is the purpose of the ECM Work Item and the resulting specification in TS 28.538? [3GPP Release 17] (Category: Standards overview)\n",
      "47. What is the purpose of Enhanced Closed loop SLS Assurance solution? [3GPP Release 17] (Category: Standards overview)\n",
      "48. What is the purpose of the UE-assistance indication in load-balancing steering mode? [3GPP Release 17] (Category: Standards overview)\n",
      "49. What is the purpose of the Network notification objective introduced by MUSIM for LTE/NR? [3GPP Release 17] (Category: Standards overview)\n",
      "50. What does the Closed loop SLS Assurance solution in TS 28.535 and TS 28.536 provide? [3GPP Release 17] (Category: Standards overview)\n",
      "51. How does a supporting UE attach to the same core network operator from which it detached in a shared network? [3GPP Release 17] (Category: Standards specifications)\n",
      "52. When can the setting of the Privacy exception list be changed? [3GPP Release 17] (Category: Standards specifications)\n",
      "53. What should the UE consider if it cannot detect any cell meeting the S criterion on a frequency for sidelink operation? [3GPP Release 17] (Category: Standards specifications)\n",
      "54. When can target UEs be positioned for lawful interception services? [3GPP Release 17] (Category: Standards specifications)\n",
      "55. What are DCI formats with CRC scrambled by MCCH-RNTI or G-RNTI referred to as? [3GPP Release 17] (Category: Standards specifications)\n",
      "56. What kind of access can enterprise UEs have to non-public networks? [3GPP Release 17] (Category: Standards specifications)\n",
      "57. What action is necessary to get access to services in Idle mode? [3GPP Release 17] (Category: Standards specifications)\n",
      "58. What is the purpose of the User Configuration mechanism in the IMS Multimedia Telephony service? [3GPP Release 17] (Category: Standards specifications)\n",
      "59. What is the maximum number of PDU Sessions? [3GPP Release 17] (Category: Standards specifications)\n",
      "60. Which identity is used for indication of pre-emption in the downlink? [3GPP Release 17] (Category: Standards specifications)\n",
      "61. What does a UE determine when selecting a power for an S-SS/PSBCH block transmission occasion? [3GPP Release 17] (Category: Standards specifications)\n",
      "62. What is the purpose of the MasterInformationBlockSidelink message? [3GPP Release 17] (Category: Standards specifications)\n",
      "63. What is the purpose of interworking between a 5G core network and an EPC? [3GPP Release 17] (Category: Standards specifications)\n",
      "64. How does a non-supporting UE select a core network operator to serve it in a shared network? [3GPP Release 17] (Category: Standards specifications)\n",
      "65. For PSFCH transmission with HARQ-ACK information, how are the PRBs allocated? [3GPP Release 17] (Category: Standards specifications)\n",
      "66. What determines the energy detection threshold in channel access procedures? [3GPP Release 17] (Category: Standards specifications)\n",
      "67. What does VarConnEstFailReportList include? [3GPP Release 17] (Category: Standards specifications)\n",
      "68. Which interface is used to transfer short messages between the SGSN and SMS-GMSC/SMS-IWMSC? [3GPP Release 17] (Category: Standards specifications)\n",
      "69. What does the RRC protocol offer to upper layers? [3GPP Release 17] (Category: Standards specifications)\n",
      "70. What is SIPTO at the Local Network? [3GPP Release 17] (Category: Standards specifications)\n",
      "71. When is Paging with Wake Up Signal (WUS) used? [3GPP Release 17] (Category: Standards specifications)\n",
      "72. In unpaired spectrum operation, when are a DL BWP and an UL BWP linked together? [3GPP Release 17] (Category: Standards specifications)\n",
      "73. How is Extended Access Barring supported in shared networks? [3GPP Release 17] (Category: Standards specifications)\n",
      "74. What are the peak packet data rates supported by the Evolved Packet System on the radio access bearer? [3GPP Release 17] (Category: Standards specifications)\n",
      "75. What is a Personal IoT Network (PIN)? [3GPP Release 17] (Category: Standards specifications)\n",
      "76. What does the 5G system need to provide for mobile base station relays using 5G connectivity provided by a different MNO? [3GPP Release 17] (Category: Standards specifications)\n",
      "77. When can a UE apply Type 1 channel access procedures for a UL transmission(s)? [3GPP Release 17] (Category: Standards specifications)\n",
      "78. What does the timing advance command for a TAG indicate? [3GPP Release 17] (Category: Standards specifications)\n",
      "79. What is the high quality criterion for reporting a PLMN to the NAS in the E-UTRA and NB-IoT case? [3GPP Release 17] (Category: Standards specifications)\n",
      "80. What is the RRC buffer size for a UE? [3GPP Release 17] (Category: Standards specifications)\n",
      "81. What is one of the requirements for interworking between fixed access and Evolved Packet Core? [3GPP Release 17] (Category: Standards specifications)\n",
      "82. How is the modulation order (Qm) and target code rate (R) determined for PSSCH transmission? [3GPP Release 17] (Category: Standards specifications)\n",
      "83. Which parameter in SL-TxProfileList-r17 indicates compatibility with DRX? [3GPP Release 17] (Category: Standards specifications)\n",
      "84. In the context of pathloss models, what is O2I? [3GPP Release 17] (Category: Standards specifications)\n",
      "85. What is true about services not mentioned within the interaction clause? [3GPP Release 17] (Category: Standards specifications)\n",
      "86. What does the 5G system need to support for a UE accessing multiple network slices? [3GPP Release 17] (Category: Standards specifications)\n",
      "87. What does the 5G system prevent in terms of privacy for UEs using 5G LAN-type service? [3GPP Release 17] (Category: Standards specifications)\n",
      "88. What is associated with a time and/or date setting in the IMS Multimedia Telephony service? [3GPP Release 17] (Category: Standards specifications)\n",
      "89. Which entities can consume Management Data Analytics Service (MDAS)? [3GPP Release 17] (Category: Standards specifications)\n",
      "90. What type of frames does the Ethernet transport service need to support? [3GPP Release 17] (Category: Standards specifications)\n",
      "91. What is the typical connection density in factory automation applications? [3GPP Release 17] (Category: Standards specifications)\n",
      "92. What is the purpose of the Enhanced TNL Address Discovery with the X2 GW? [3GPP Release 17] (Category: Standards specifications)\n",
      "93. What is the purpose of providing secure means for communication scheduling information to an NPN in a 5G network? [3GPP Release 17] (Category: Standards specifications)\n",
      "94. What are the ThreshServingOffloadWLAN parameters used for? [3GPP Release 17] (Category: Standards specifications)\n",
      "95. What is the scrambling sequence generator initialized with for a PDCCH with the CRC scrambled by G-RNTI in a common search space? [3GPP Release 17] (Category: Standards specifications)\n",
      "96. Which RRC state is the UE in when no RRC connection is established? [3GPP Release 17] (Category: Standards specifications)\n",
      "97. How are the antenna elements placed on each antenna panel? [3GPP Release 17] (Category: Standards specifications)\n",
      "98. What information may be provided to an emergency services LCS Client without any request? [3GPP Release 17] (Category: Standards specifications)\n",
      "99. What is the purpose of cross-network slice coordination? [3GPP Release 17] (Category: Standards specifications)\n",
      "100. What does a RedCap UE expect if it monitors PDCCH according to Type1-PDCCH CSS set and does not monitor PDCCH according to Type2-PDCCH CSS set? [3GPP Release 17] (Category: Standards specifications)\n"
     ]
    }
   ],
   "source": [
    "# Print the total number of selected questions\n",
    "print(f\"\\nTotal selected questions: {len(rel17_100_questions)}\")\n",
    "for idx, question in enumerate(rel17_100_questions):\n",
    "    print(f\"{idx + 1}. {question['question']} (Category: {question['category']})\")"
   ]
  },
  {
   "cell_type": "code",
   "execution_count": 24,
   "metadata": {},
   "outputs": [],
   "source": [
    "# # Save the selected questions to a new JSON file\n",
    "# rel17_100_questions_path = r\"../Files/rel17_100_questions.json\"\n",
    "# with open(rel17_100_questions_path, \"w\", encoding=\"utf-8\") as file:\n",
    "#     json.dump(rel17_100_questions, file, indent=4, ensure_ascii=False)"
   ]
  },
  {
   "cell_type": "markdown",
   "metadata": {},
   "source": [
    "# Choose 200 questions"
   ]
  },
  {
   "cell_type": "code",
   "execution_count": 24,
   "metadata": {},
   "outputs": [],
   "source": [
    "number_questions = 216 # Only 92 questions of Standards overview"
   ]
  },
  {
   "cell_type": "code",
   "execution_count": 25,
   "metadata": {},
   "outputs": [],
   "source": [
    "# Calculate how many questions to take from each category\n",
    "questions_per_category = number_questions // len(categories)\n",
    "\n",
    "rel17_200_questions = []\n",
    "\n",
    "for category in categories:\n",
    "    category_questions = [q for q in rel17_questions if q.get(\"category\", \"Unknown\") == category]\n",
    "    rel17_200_questions.extend(category_questions[:questions_per_category])\n",
    "    "
   ]
  },
  {
   "cell_type": "code",
   "execution_count": 26,
   "metadata": {},
   "outputs": [
    {
     "data": {
      "text/plain": [
       "200"
      ]
     },
     "execution_count": 26,
     "metadata": {},
     "output_type": "execute_result"
    }
   ],
   "source": [
    "len(rel17_200_questions)"
   ]
  },
  {
   "cell_type": "code",
   "execution_count": 27,
   "metadata": {},
   "outputs": [],
   "source": [
    "# # Save the selected questions to a new JSON file\n",
    "# rel17_200_questions_path = r\"../Files/rel17_200_questions.json\"\n",
    "# with open(rel17_200_questions_path, \"w\", encoding=\"utf-8\") as file:\n",
    "#     json.dump(rel17_200_questions, file, indent=4, ensure_ascii=False)"
   ]
  },
  {
   "cell_type": "markdown",
   "metadata": {},
   "source": [
    "# Take only release 18 Questions"
   ]
  },
  {
   "cell_type": "code",
   "execution_count": 20,
   "metadata": {},
   "outputs": [
    {
     "name": "stdout",
     "output_type": "stream",
     "text": [
      "Total questions with '[3GPP Release 18]': 780\n"
     ]
    }
   ],
   "source": [
    "# Filter only the questions that contain \"[3GPP Release 18]\" in the question text and save in a list\n",
    "rel18_questions = [\n",
    "    value for key, value in teleQnA_dataset.items() \n",
    "    if \"[3GPP Release 18]\" in value[\"question\"]\n",
    "]\n",
    "\n",
    "print(f\"Total questions with '[3GPP Release 18]': {len(rel18_questions)}\")"
   ]
  },
  {
   "cell_type": "code",
   "execution_count": 21,
   "metadata": {},
   "outputs": [],
   "source": [
    "# Save the filtered questions to a new JSON file\n",
    "rel18_questions_path = r\"../Files/rel18_questions.json\"\n",
    "with open(rel18_questions_path, \"w\", encoding=\"utf-8\") as file:\n",
    "    json.dump(rel18_questions, file, indent=4, ensure_ascii=False)"
   ]
  },
  {
   "cell_type": "markdown",
   "metadata": {},
   "source": [
    "# Separate TeleQnA without rel 17 and 18 Questions"
   ]
  },
  {
   "cell_type": "code",
   "execution_count": 25,
   "metadata": {},
   "outputs": [
    {
     "data": {
      "text/plain": [
       "8487"
      ]
     },
     "execution_count": 25,
     "metadata": {},
     "output_type": "execute_result"
    }
   ],
   "source": [
    "questions_no_rel_17_18 = [value for key, value in teleQnA_dataset.items() if (value not in rel17_questions) and (value not in rel18_questions)]\n",
    "len(questions_no_rel_17_18)"
   ]
  },
  {
   "cell_type": "code",
   "execution_count": 26,
   "metadata": {},
   "outputs": [],
   "source": [
    "# Save the filtered questions to a new JSON file\n",
    "questions_no_rel_17_18_path = r\"../Files/questions_no_rel_17_18.json\"\n",
    "with open(questions_no_rel_17_18_path, \"w\", encoding=\"utf-8\") as file:\n",
    "    json.dump(questions_no_rel_17_18, file, indent=4, ensure_ascii=False)"
   ]
  }
 ],
 "metadata": {
  "kernelspec": {
   "display_name": "Python 3",
   "language": "python",
   "name": "python3"
  },
  "language_info": {
   "codemirror_mode": {
    "name": "ipython",
    "version": 3
   },
   "file_extension": ".py",
   "mimetype": "text/x-python",
   "name": "python",
   "nbconvert_exporter": "python",
   "pygments_lexer": "ipython3",
   "version": "3.10.12"
  }
 },
 "nbformat": 4,
 "nbformat_minor": 2
}
