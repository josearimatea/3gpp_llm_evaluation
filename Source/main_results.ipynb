{
  "cells": [
    {
      "cell_type": "markdown",
      "metadata": {},
      "source": [
        "# TSpec-LLM Dataset"
      ]
    },
    {
      "cell_type": "markdown",
      "metadata": {},
      "source": [
        "## What is TSpec-LLM\n",
        "The TSpec-LLM Dataset is the dataset that contains 3GPP documents, but they have already been modified and formatted into markdown files to facilitate usage and integration into LLMs. \n",
        "\n",
        "In this project, only 3GPP release 17 was used. The TSpec-LLM dataset was used to perform retrieval using RAG (Retrieval-Augmented Generation)."
      ]
    },
    {
      "cell_type": "code",
      "execution_count": 1,
      "metadata": {},
      "outputs": [],
      "source": [
        "# import Process_tspec_llm\n",
        "\n",
        "# processTspec = Process_tspec_llm"
      ]
    },
    {
      "cell_type": "markdown",
      "metadata": {},
      "source": [
        "## Verify TSpec-LLM Data"
      ]
    },
    {
      "cell_type": "code",
      "execution_count": 2,
      "metadata": {},
      "outputs": [],
      "source": [
        "# directory_path = '../Dataset/TSpec-LLM/3GPP-clean'\n",
        "# md_sizes_report = processTspec.calculate_md_sizes_and_word_count(directory_path)\n",
        "# json_filename = 'md_sizes_word_count_report.json'\n",
        "# processTspec.save_report_to_json(md_sizes_report, json_filename)\n",
        "# processTspec.print_summary(md_sizes_report)\n"
      ]
    },
    {
      "cell_type": "markdown",
      "metadata": {},
      "source": [
        "# TeleQnA Dataset"
      ]
    },
    {
      "cell_type": "markdown",
      "metadata": {},
      "source": [
        "## Test Questions Dataset"
      ]
    },
    {
      "cell_type": "markdown",
      "metadata": {},
      "source": [
        "100 questions to evaluate the models.\n",
        "\n",
        "The questions were evaluated in two ways: \n",
        "\n",
        "1 - The question was asked along with options, and the model was expected to choose the correct option. \n",
        "\n",
        "2 - The question was asked without options, and the model had to answer based solely on the question."
      ]
    },
    {
      "cell_type": "code",
      "execution_count": 3,
      "metadata": {},
      "outputs": [
        {
          "name": "stdout",
          "output_type": "stream",
          "text": [
            "100\n"
          ]
        }
      ],
      "source": [
        "import json\n",
        "\n",
        "# Path to the TeleQnA processed question in JSON file\n",
        "rel17_100_questions_path = r\"../Files/rel17_100_questions.json\"\n",
        "\n",
        "# Load the TeleQnA data just release 17\n",
        "with open(rel17_100_questions_path, \"r\", encoding=\"utf-8\") as file:\n",
        "    rel17_100_questions = json.load(file)\n",
        "print(len(rel17_100_questions))"
      ]
    },
    {
      "cell_type": "code",
      "execution_count": 4,
      "metadata": {},
      "outputs": [
        {
          "data": {
            "text/plain": [
              "{'question': 'Which NGAP procedure is used for inter-system load balancing? [3GPP Release 17]',\n",
              " 'option 1': 'eNB Configuration Transfer',\n",
              " 'option 2': 'Downlink RAN Configuration Transfer',\n",
              " 'option 3': 'Uplink RAN Configuration Transfer',\n",
              " 'option 4': 'MME Configuration Transfer',\n",
              " 'answer': 'option 3: Uplink RAN Configuration Transfer',\n",
              " 'explanation': 'The NGAP procedure used for inter-system load balancing is Uplink RAN Configuration Transfer.',\n",
              " 'category': 'Standards overview'}"
            ]
          },
          "execution_count": 4,
          "metadata": {},
          "output_type": "execute_result"
        }
      ],
      "source": [
        "rel17_100_questions[0]"
      ]
    },
    {
      "cell_type": "markdown",
      "metadata": {},
      "source": [
        "## Train Dataset"
      ]
    },
    {
      "cell_type": "markdown",
      "metadata": {},
      "source": [
        "The training dataset is also composed of questions from TeleQnA.\n",
        "\n",
        "A total of 4,000 questions were selected from TeleQnA, which are different from the test dataset containing 100 questions.\n",
        "\n",
        "Out of these 4,000 questions, 2,000 had options, with the label being the correct option along with its text, while the other 2,000 questions had no options, with the label being only the text of the correct answer."
      ]
    },
    {
      "cell_type": "code",
      "execution_count": 5,
      "metadata": {},
      "outputs": [
        {
          "name": "stdout",
          "output_type": "stream",
          "text": [
            "4000\n"
          ]
        }
      ],
      "source": [
        "from datasets import load_from_disk\n",
        "\n",
        "dataset_path = '../Files/train_questions_dataset_4000_questions_short_answer_labels'\n",
        "\n",
        "dataset = load_from_disk(dataset_path)\n",
        "\n",
        "print(len(dataset))"
      ]
    },
    {
      "cell_type": "code",
      "execution_count": 6,
      "metadata": {},
      "outputs": [
        {
          "data": {
            "text/plain": [
              "{'conversations': [{'from': 'human',\n",
              "   'value': 'Question: Which type of pulse adaptation is equivalent to the dilation of the pulse depending on the channel dispersion in time and frequency?\\nOptions:\\noption 1: Grid adaptation\\noption 2: Pulse adaptation\\noption 3: Uniform spacing adaptation\\noption 4: Rectangular spacing adaptation\\n'},\n",
              "  {'from': 'gpt', 'value': 'Answer: option 2: Pulse adaptation\\n'}]}"
            ]
          },
          "execution_count": 6,
          "metadata": {},
          "output_type": "execute_result"
        }
      ],
      "source": [
        "dataset[3]"
      ]
    },
    {
      "cell_type": "markdown",
      "metadata": {},
      "source": [
        "# Results"
      ]
    },
    {
      "cell_type": "markdown",
      "metadata": {},
      "source": [
        "Three models were evaluated:\n",
        "\n",
        "1 - Llama 3.2 with 3 billion parameters\n",
        "\n",
        "2 - Llama 3.2 with 3 billion parameters with fine-tuning, using 4,000 questions for training\n",
        "\n",
        "3 - GPT-4o-mini\n",
        "\n",
        "The models were evaluated both without RAG and with RAG, where relevant information was provided as context for the question."
      ]
    },
    {
      "cell_type": "markdown",
      "metadata": {},
      "source": [
        "## Accuracy Results"
      ]
    },
    {
      "cell_type": "code",
      "execution_count": 5,
      "metadata": {},
      "outputs": [
        {
          "name": "stdout",
          "output_type": "stream",
          "text": [
            "100\n"
          ]
        }
      ],
      "source": [
        "from utils.accuracy_evaluator import evaluate_accuracy\n",
        "from utils.load_json import load_responses"
      ]
    },
    {
      "cell_type": "code",
      "execution_count": 3,
      "metadata": {},
      "outputs": [],
      "source": [
        "RAG_llama_3_2_lora_path = \"../Models_responses/Accuracy/llama_3.2_lora_short_answer_RAG_responses.json\"\n",
        "RAG_llama_3_2_path = \"../Models_responses/Accuracy/llama_3.2_RAG_responses.json\"\n",
        "RAG_gpt4_path = \"../Models_responses/Accuracy/gpt4_RAG_responses.json\"\n",
        "llama_3_2_lora_path = \"../Models_responses/Accuracy/llama_3.2_lora_short_answer_responses.json\"\n",
        "llama_3_2_path = \"../Models_responses/Accuracy/llama_3.2_responses.json\"\n",
        "gpt4_path = \"../Models_responses/Accuracy/gpt4_responses.json\""
      ]
    },
    {
      "cell_type": "code",
      "execution_count": 6,
      "metadata": {},
      "outputs": [],
      "source": [
        "RAG_llama_3_2_lora = load_responses(RAG_llama_3_2_lora_path)\n",
        "RAG_llama_3_2 = load_responses(RAG_llama_3_2_path)\n",
        "RAG_gpt4 = load_responses(RAG_gpt4_path)\n",
        "llama_3_2_lora = load_responses(llama_3_2_lora_path)\n",
        "llama_3_2 = load_responses(llama_3_2_path)\n",
        "gpt4 = load_responses(gpt4_path)"
      ]
    },
    {
      "cell_type": "code",
      "execution_count": 7,
      "metadata": {},
      "outputs": [
        {
          "data": {
            "text/plain": [
              "{'question': 'Which NGAP procedure is used for inter-system load balancing? [3GPP Release 17]',\n",
              " 'answer': 'option 3: Uplink RAN Configuration Transfer',\n",
              " 'response': \"system\\n\\nCutting Knowledge Date: December 2023\\nToday Date: 26 July 2024\\n\\nuser\\n\\nRelevant Information:\\nInformation 1:\\nconsider the responses before executing the planned change of its\\nmobility setting.  \\nAll automatic changes on the HO and/or reselection parameters must be\\nwithin the range allowed by OAM.  \\n#### 15.5.1.5 Load reporting for inter-system load balancing  \\nThe load reporting function for inter-system load balancing is executed\\nby exchanging load information between NG-RAN and E-UTRAN. Both\\nevent-triggered and periodic inter-system load reporting are supported.\\nEvent-triggered inter-system load reports are sent when the reporting\\nnode detects crossing of cell load thresholds.  \\nThe following load related information should be supported:  \\n\\\\- Cell Capacity Class value (UL/DL relative capacity indicator);  \\n\\\\- Capacity value (per cell: UL/DL available capacity);  \\n\\\\- RRC connections (number of RRC connections, and available RRC\\nConnection Capacity);  \\n\\\\- Number of active UEs;  \\n\\\\- Radio Resource Status (per cell PRB usage: UL/DL GBR PRB usage for\\nMIMO, DL/UL non-GBR PRB usage for MIMO, DL/UL total PRB usage for MIMO).  \\nNGAP procedures used for inter-system load balancing are Uplink RAN\\nConfiguration Transfer and Downlink RAN Configuration Transfer.  \\nS1AP procedures used for inter-system load balancing are eNB\\nConfiguration Transfer and MME Configuration Transfer.\\n\\nInformation 2:\\ninformation allowing interoperability between nodes of different\\nvendors;  \\ni\\\\) for the inter-PLMN case, local configuration may restrict the\\nexchange and use of Load Control Information across PLMNs;  \\nj\\\\) the GTP-C node may decide to send different values of Load Control\\nInformation on inter-network (roaming) and on intra-network\\n(non-roaming) interfaces based on local configuration, i.e. the values\\nsent on intra-network interfaces may differ from the values sent on\\ninter-network interfaces. However, on intra-network interfaces, the node\\nshould send the same values between the 3GPP and non-3GPP access based\\ninterfaces.  \\nk\\\\) the Load Control Information received via GTP-C signalling shall be\\nused in conjunction with the information received from the DNS, during\\nthe node selection procedure. Refer to 3GPPTS29.303\\\\[32\\\\] for further\\ndetails.\\n\\nInformation 3:\\ninformation allowing interoperability between nodes of different\\nvendors;  \\ni\\\\) for the inter-PLMN case, local configuration may restrict the\\nexchange and use of Load Control Information across PLMNs;  \\nj\\\\) the GTP-C node may decide to send different values of Load Control\\nInformation on inter-network (roaming) and on intra-network\\n(non-roaming) interfaces based on local configuration, i.e. the values\\nsent on intra-network interfaces may differ from the values sent on\\ninter-network interfaces. However, on intra-network interfaces, the node\\nshould send the same values between the 3GPP and non-3GPP access based\\ninterfaces.  \\nk\\\\) the Load Control Information received via GTP-C signalling shall be\\nused in conjunction with the information received from the DNS, during\\nthe node selection procedure. Refer to 3GPPTS29.303\\\\[32\\\\] for further\\ndetails.\\n\\nInformation 4:\\nTo achieve load reporting function, EN-DC Resource Status Reporting\\nInitiation & EN-DC Resource Status Reporting procedures are used.  \\n##### 22.4.1.2.4 Load reporting for inter-system load balancing  \\nBoth event-triggered and periodic inter-system load reporting are\\nsupported. Event-triggered inter-system load reports are sent when the\\nreporting node detects crossing of cell load thresholds.  \\nThe following load related information should be supported which\\nconsists of:  \\n\\\\- Cell Capacity Class value (UL/DL relative capacity indicator);  \\n\\\\- Capacity value (per cell: UL/DL available capacity);  \\n\\\\- RRC connections (number of RRC connections, and available RRC\\nConnection Capacity);  \\n\\\\- Number of active UEs;  \\n\\\\- Radio Resource Status (per cell PRB usage: UL/DL GBR PRB usage, DL/UL\\nnon-GBR PRB usage, DL/UL total PRB usage, and DL/UL ***scheduling PDCCH\\nCCE usage***).  \\nNGAP procedures used for inter-system load balancing are Uplink RAN\\nConfiguration Transfer and Downlink RAN Configuration Transfer.  \\nS1AP procedures used for inter-system load balancing are eNB\\nConfiguration Transfer and MME Configuration Transfer.  \\n#### 22.4.1.3 Load balancing action based on handovers  \\nThe source cell may initiate handover due to load (see clauses 10.1.2\\nand 10.2.2). The target cell performs admission control for the load\\nbalancing handovers. A handover preparation related to a mobility load\\nbalancing action shall be distinguishable from other handovers, so that\\nthe target cell is able to apply appropriate admission control.  \\n#### 22.4.1.4 Adapting handover and/or reselection configuration  \\nThis function enables requesting of a change of handover and/or\\nreselection parameters at target cell. The source cell that initialized\\nthe load balancing estimates if it is needed to change mobility\\nconfiguration in the source and/or target cell. If the amendment is\\nneeded, the source cell initializes mobility negotiation procedure\\ntoward the target cell.\\n\\nInformation 5:\\nWireline Access Gateway Function (W-AGF). NGAP is used as specified in\\nTS 38.413 \\\\[2\\\\] with clarifications or additions as specified in Clause\\n5.  \\n5 Non-3GPP access\\n=================  \\n5.1 Use of the NGAP for non-3GPP access\\n---------------------------------------  \\nThe following NGAP procedures are used between the Non-3GPP access\\nnetwork node and the AMF:  \\n\\\\- PDU Session Management Procedures  \\n\\\\- PDU Session Resource Setup  \\n\\\\- PDU Session Resource Release  \\n\\\\- PDU Session Resource Modify  \\n\\\\- PDU Session Resource Notify  \\n\\\\- UE Context Management Procedures  \\n\\\\- Initial Context Setup  \\n\\\\- UE Context Release Request  \\n\\\\- UE Context Release  \\n\\\\- UE Context Modification  \\n\\\\- Transport of NAS Messages Procedures  \\n\\\\- Initial UE Message  \\n\\\\- Downlink NAS Transport  \\n\\\\- Uplink NAS Transport  \\n\\\\- NAS Non Delivery Indication  \\n\\\\- Reroute NAS Request  \\n\\\\- Interface Management Procedures  \\n\\\\- NG Setup  \\n\\\\- RAN Configuration Update  \\n\\\\- AMF Configuration Update  \\n\\\\- NG Reset  \\n\\\\- Error Indication  \\n\\\\- AMF Status Indication  \\n\\\\- Overload Start  \\n\\\\- Overload Stop  \\n\\\\- UE TNLA Binding Procedures  \\n\\\\- UE TNLA Binding Release  \\nFor the NGAP procedures used between the Non-3GPP access network node\\nand the AMF, the Non-3GPP access network node fulfils the behaviour of\\nthe NG-RAN node as specified in clause 8 of TS 38.413 \\\\[2\\\\], with\\nclarifications as specified in Clause 5.3. The text in clause 8 of TS\\n38.413 \\\\[2\\\\] referring to Uu should be understood as referring to the Y2\\nreference point as specified in TS 23.501 \\\\[3\\\\].  \\n5.2 NGAP messages used for non-3GPP access\\n------------------------------------------  \\nThe list given below shows the NGAP messages, as specified in TS 38.413\\n\\\\[2\\\\] subclause 9.2 (tabular format) and 9.4  \\n(ASN.1 notation) that are used between the Non-3GPP access network node\\nand the AMF.  \\n\\\\- PDU SESSION RESOURCE SETUP REQUEST  \\n\\\\- PDU SESSION RESOURCE SETUP RESPONSE  \\n\\\\- PDU SESSION RESOURCE RELEASE COMMAND  \\n\\\\- PDU SESSION RESOURCE RELEASE RESPONSE\\n\\nQuestion: Which NGAP procedure is used for inter-system load balancing? [3GPP Release 17]\\nOptions:\\noption 1: eNB Configuration Transfer\\noption 2: Downlink RAN Configuration Transfer\\noption 3: Uplink RAN Configuration Transfer\\noption 4: MME Configuration Transfer\\nThink step by step and choose the correct option.\\nYou must respond in the format 'correct option: <X>', where <X> is the correct letter for the option.assistant\\n\\nAnswer: option 3: Uplink RAN Configuration Transfer\\n\"}"
            ]
          },
          "execution_count": 7,
          "metadata": {},
          "output_type": "execute_result"
        }
      ],
      "source": [
        "RAG_llama_3_2_lora[0]"
      ]
    },
    {
      "cell_type": "code",
      "execution_count": 8,
      "metadata": {},
      "outputs": [],
      "source": [
        "# Function to evaluate responses from all models and calculate accuracy\n",
        "def evaluate_accuracy_all_models():\n",
        "    # Evaluate accuracy and collect incorrect question indices for each model\n",
        "    accuracy_llama_3_2_lora, none_llama_3_2_lora, incorrect_llama_3_2_lora = evaluate_accuracy(RAG_llama_3_2_lora)\n",
        "    accuracy_llama_3_2, none_llama_3_2, incorrect_llama_3_2 = evaluate_accuracy(RAG_llama_3_2)\n",
        "    accuracy_gpt4_rag, none_gpt4_rag, incorrect_gpt4_rag = evaluate_accuracy(RAG_gpt4)\n",
        "    accuracy_llama_3_2_lora_no_rag, none_llama_3_2_lora_no_rag, incorrect_llama_3_2_lora_no_rag = evaluate_accuracy(llama_3_2_lora)\n",
        "    accuracy_llama_3_2_no_rag, none_llama_3_2_no_rag, incorrect_llama_3_2_no_rag = evaluate_accuracy(llama_3_2)\n",
        "    accuracy_gpt4_no_rag, none_gpt4_no_rag, incorrect_gpt4_no_rag = evaluate_accuracy(gpt4)\n",
        "\n",
        "    # Store results in a dictionary\n",
        "    results = {\n",
        "        \"RAG llama 3.2 3B Lora\": {\"accuracy\": accuracy_llama_3_2_lora, \"none_count\": none_llama_3_2_lora, \"incorrect_questions\": incorrect_llama_3_2_lora},\n",
        "        \"RAG llama 3.2 3B\": {\"accuracy\": accuracy_llama_3_2, \"none_count\": none_llama_3_2, \"incorrect_questions\": incorrect_llama_3_2},\n",
        "        \"RAG GPT-4o-mini\": {\"accuracy\": accuracy_gpt4_rag, \"none_count\": none_gpt4_rag, \"incorrect_questions\": incorrect_gpt4_rag},\n",
        "        \"Llama 3.2 3B Lora (no RAG)\": {\"accuracy\": accuracy_llama_3_2_lora_no_rag, \"none_count\": none_llama_3_2_lora_no_rag, \"incorrect_questions\": incorrect_llama_3_2_lora_no_rag},\n",
        "        \"Llama 3.2 3B (no RAG)\": {\"accuracy\": accuracy_llama_3_2_no_rag, \"none_count\": none_llama_3_2_no_rag, \"incorrect_questions\": incorrect_llama_3_2_no_rag},\n",
        "        \"GPT-4o-mini (no RAG)\": {\"accuracy\": accuracy_gpt4_no_rag, \"none_count\": none_gpt4_no_rag, \"incorrect_questions\": incorrect_gpt4_no_rag}\n",
        "    }\n",
        "\n",
        "    return results\n",
        "\n",
        "# Compare incorrect question indices across models with RAG and without RAG\n",
        "def compare_incorrect_questions(results):\n",
        "    # Extract incorrect question indices for RAG models\n",
        "    rag_incorrect_sets = [\n",
        "        set(results[\"RAG llama 3.2 3B Lora\"][\"incorrect_questions\"]),\n",
        "        set(results[\"RAG llama 3.2 3B\"][\"incorrect_questions\"]),\n",
        "        set(results[\"RAG GPT-4o-mini\"][\"incorrect_questions\"])\n",
        "    ]\n",
        "    \n",
        "    # Extract incorrect question indices for no-RAG models\n",
        "    no_rag_incorrect_sets = [\n",
        "        set(results[\"Llama 3.2 3B Lora (no RAG)\"][\"incorrect_questions\"]),\n",
        "        set(results[\"Llama 3.2 3B (no RAG)\"][\"incorrect_questions\"]),\n",
        "        set(results[\"GPT-4o-mini (no RAG)\"][\"incorrect_questions\"])\n",
        "    ]\n",
        "\n",
        "    # Find common incorrect question indices across RAG models\n",
        "    common_incorrect_rag = sorted(set.intersection(*rag_incorrect_sets))\n",
        "    # Find common incorrect question indices across no-RAG models\n",
        "    common_incorrect_no_rag = sorted(set.intersection(*no_rag_incorrect_sets))\n",
        "\n",
        "    return common_incorrect_rag, len(common_incorrect_rag), common_incorrect_no_rag, len(common_incorrect_no_rag)"
      ]
    },
    {
      "cell_type": "code",
      "execution_count": 9,
      "metadata": {},
      "outputs": [
        {
          "name": "stdout",
          "output_type": "stream",
          "text": [
            "\n",
            "Summary of all models' accuracy:\n",
            "RAG llama 3.2 3B Lora - Accuracy: 77.00%, 'None' responses: 0\n",
            "RAG llama 3.2 3B - Accuracy: 72.00%, 'None' responses: 2\n",
            "RAG GPT-4o-mini - Accuracy: 73.00%, 'None' responses: 0\n",
            "Llama 3.2 3B Lora (no RAG) - Accuracy: 48.00%, 'None' responses: 0\n",
            "Llama 3.2 3B (no RAG) - Accuracy: 42.00%, 'None' responses: 2\n",
            "GPT-4o-mini (no RAG) - Accuracy: 58.00%, 'None' responses: 0\n",
            "\n",
            "Common incorrect question indices across RAG models:\n",
            "[4, 14, 18, 19, 31, 37, 57, 59, 69, 86, 90, 93, 94, 99]\n",
            "Total common incorrect questions in RAG models: 14\n",
            "\n",
            "Common incorrect question indices across no-RAG models:\n",
            "[0, 6, 11, 14, 18, 19, 26, 39, 42, 52, 54, 55, 56, 59, 61, 63, 67, 69, 73, 75, 86, 90, 94]\n",
            "Total common incorrect questions in no-RAG models: 23\n"
          ]
        }
      ],
      "source": [
        "# Run evaluation and compare incorrect questions\n",
        "accuracy_results = evaluate_accuracy_all_models()\n",
        "common_incorrect_rag, common_count_rag, common_incorrect_no_rag, common_count_no_rag = compare_incorrect_questions(accuracy_results)\n",
        "\n",
        "# Display summary of accuracy results\n",
        "print(\"\\nSummary of all models' accuracy:\")\n",
        "for model_name, result in accuracy_results.items():\n",
        "    print(f\"{model_name} - Accuracy: {result['accuracy']:.2f}%, 'None' responses: {result['none_count']}\")\n",
        "\n",
        "# Display common incorrect question indices and their counts for RAG and no-RAG models\n",
        "print(\"\\nCommon incorrect question indices across RAG models:\")\n",
        "print(common_incorrect_rag)\n",
        "print(f\"Total common incorrect questions in RAG models: {common_count_rag}\")\n",
        "\n",
        "print(\"\\nCommon incorrect question indices across no-RAG models:\")\n",
        "print(common_incorrect_no_rag)\n",
        "print(f\"Total common incorrect questions in no-RAG models: {common_count_no_rag}\")"
      ]
    },
    {
      "cell_type": "code",
      "execution_count": 13,
      "metadata": {},
      "outputs": [],
      "source": [
        "import matplotlib.pyplot as plt\n",
        "\n",
        "def plot_model_accuracies(accuracy_results):\n",
        "    \"\"\"\n",
        "    Plot a bar chart comparing the accuracies of different models, with all bars in gray.\n",
        "    \"\"\"\n",
        "    # Extract model names and their accuracies\n",
        "    model_names = list(accuracy_results.keys())\n",
        "    accuracies = [result['accuracy'] for result in accuracy_results.values()]\n",
        "    \n",
        "    # Create the bar chart\n",
        "    plt.figure(figsize=(10, 6))\n",
        "    plt.bar(model_names, accuracies, color='gray')  # Set all bars to gray\n",
        "    \n",
        "    # Add labels and title\n",
        "    plt.xlabel(\"Model\")\n",
        "    plt.ylabel(\"Accuracy (%)\")\n",
        "    plt.title(\"Model Accuracy Comparison\")\n",
        "    plt.ylim(0, 100)  # Set y-axis limit from 0 to 100%\n",
        "    \n",
        "    # Display values above bars\n",
        "    for i, accuracy in enumerate(accuracies):\n",
        "        plt.text(i, accuracy + 1, f\"{accuracy:.2f}%\", ha='center', va='bottom')\n",
        "    \n",
        "    plt.xticks(rotation=45, ha='right')  # Rotate x labels for better readability\n",
        "    plt.tight_layout()  # Adjust layout to fit all elements\n",
        "\n",
        "    # Show the plot\n",
        "    plt.show()"
      ]
    },
    {
      "cell_type": "code",
      "execution_count": 14,
      "metadata": {},
      "outputs": [
        {
          "data": {
            "image/png": "[encoded data removed]",
            "text/plain": [
              "<Figure size 1000x600 with 1 Axes>"
            ]
          },
          "metadata": {},
          "output_type": "display_data"
        }
      ],
      "source": [
        "# Call the function with the accuracy results\n",
        "plot_model_accuracies(accuracy_results)"
      ]
    },
    {
      "cell_type": "markdown",
      "metadata": {},
      "source": [
        "## RAGAS Results"
      ]
    },
    {
      "cell_type": "code",
      "execution_count": 39,
      "metadata": {},
      "outputs": [],
      "source": [
        "import pandas as pd"
      ]
    },
    {
      "cell_type": "markdown",
      "metadata": {},
      "source": [
        "### LLM Evaluation"
      ]
    },
    {
      "cell_type": "code",
      "execution_count": 49,
      "metadata": {},
      "outputs": [],
      "source": [
        "# Load the data from CSV files\n",
        "RAGAS_RAG_llama_3_2_lora = pd.read_csv(\"../Evaluations/RAGAS/LLM_evaluation/llama_3_2_lora_short_answer_RAG_evaluation_RAGAS_LLM.csv\")\n",
        "RAGAS_RAG_llama_3_2 = pd.read_csv(\"../Evaluations/RAGAS/LLM_evaluation/llama_3_2_RAG_evaluation_RAGAS_LLM.csv\")\n",
        "RAGAS_RAG_gpt4 = pd.read_csv(\"../Evaluations/RAGAS/LLM_evaluation/gpt4_RAG_evaluation_RAGAS_LLM.csv\")\n",
        "RAGAS_llama_3_2_lora = pd.read_csv(\"../Evaluations/RAGAS/LLM_evaluation/llama_3_2_lora_short_answer_evaluation_RAGAS_LLM.csv\")\n",
        "RAGAS_llama_3_2 = pd.read_csv(\"../Evaluations/RAGAS/LLM_evaluation/llama_3_2_evaluation_RAGAS_LLM.csv\")\n",
        "RAGAS_gpt4 = pd.read_csv(\"../Evaluations/RAGAS/LLM_evaluation/gpt4_evaluation_RAGAS_LLM.csv\")"
      ]
    },
    {
      "cell_type": "code",
      "execution_count": 50,
      "metadata": {},
      "outputs": [
        {
          "data": {
            "text/html": [
              "<div>\n",
              "<style scoped>\n",
              "    .dataframe tbody tr th:only-of-type {\n",
              "        vertical-align: middle;\n",
              "    }\n",
              "\n",
              "    .dataframe tbody tr th {\n",
              "        vertical-align: top;\n",
              "    }\n",
              "\n",
              "    .dataframe thead th {\n",
              "        text-align: right;\n",
              "    }\n",
              "</style>\n",
              "<table border=\"1\" class=\"dataframe\">\n",
              "  <thead>\n",
              "    <tr style=\"text-align: right;\">\n",
              "      <th></th>\n",
              "      <th>user_input</th>\n",
              "      <th>response</th>\n",
              "      <th>reference</th>\n",
              "      <th>factual_correctness</th>\n",
              "      <th>semantic_similarity</th>\n",
              "      <th>rubrics_score_with_reference</th>\n",
              "    </tr>\n",
              "  </thead>\n",
              "  <tbody>\n",
              "    <tr>\n",
              "      <th>0</th>\n",
              "      <td>Which NGAP procedure is used for inter-system ...</td>\n",
              "      <td>intersystem load balancing procedure.</td>\n",
              "      <td>uplink ran configuration transfer.</td>\n",
              "      <td>0.00</td>\n",
              "      <td>0.228364</td>\n",
              "      <td>1</td>\n",
              "    </tr>\n",
              "    <tr>\n",
              "      <th>1</th>\n",
              "      <td>What is covered by enhanced application layer ...</td>\n",
              "      <td>all of the above.</td>\n",
              "      <td>advanced v2x services.</td>\n",
              "      <td>NaN</td>\n",
              "      <td>0.113409</td>\n",
              "      <td>1</td>\n",
              "    </tr>\n",
              "    <tr>\n",
              "      <th>2</th>\n",
              "      <td>What does the Load-Balancing steering mode do?...</td>\n",
              "      <td>divides the traffic of a data flow into two po...</td>\n",
              "      <td>splits the traffic of a data flow across 3gpp ...</td>\n",
              "      <td>0.57</td>\n",
              "      <td>0.858245</td>\n",
              "      <td>3</td>\n",
              "    </tr>\n",
              "    <tr>\n",
              "      <th>3</th>\n",
              "      <td>What is the main objective of intent driven ma...</td>\n",
              "      <td>satisfy the new or updated intent.</td>\n",
              "      <td>to reduce the complexity of management for net...</td>\n",
              "      <td>0.00</td>\n",
              "      <td>0.084886</td>\n",
              "      <td>1</td>\n",
              "    </tr>\n",
              "    <tr>\n",
              "      <th>4</th>\n",
              "      <td>What does MINT stand for? [3GPP Release 17]</td>\n",
              "      <td>minimization of service interruption.</td>\n",
              "      <td>minimization of service interruption.</td>\n",
              "      <td>0.67</td>\n",
              "      <td>1.000000</td>\n",
              "      <td>4</td>\n",
              "    </tr>\n",
              "    <tr>\n",
              "      <th>...</th>\n",
              "      <td>...</td>\n",
              "      <td>...</td>\n",
              "      <td>...</td>\n",
              "      <td>...</td>\n",
              "      <td>...</td>\n",
              "      <td>...</td>\n",
              "    </tr>\n",
              "    <tr>\n",
              "      <th>95</th>\n",
              "      <td>Which RRC state is the UE in when no RRC conne...</td>\n",
              "      <td>inactive.</td>\n",
              "      <td>rrcidle.</td>\n",
              "      <td>0.00</td>\n",
              "      <td>0.211736</td>\n",
              "      <td>1</td>\n",
              "    </tr>\n",
              "    <tr>\n",
              "      <th>96</th>\n",
              "      <td>How are the antenna elements placed on each an...</td>\n",
              "      <td>a rectangular arrangement.</td>\n",
              "      <td>in both the vertical and horizontal directions.</td>\n",
              "      <td>0.00</td>\n",
              "      <td>0.370383</td>\n",
              "      <td>2</td>\n",
              "    </tr>\n",
              "    <tr>\n",
              "      <th>97</th>\n",
              "      <td>What information may be provided to an emergen...</td>\n",
              "      <td>current dispatchable location if available.</td>\n",
              "      <td>both 1 and 2.</td>\n",
              "      <td>0.00</td>\n",
              "      <td>0.125532</td>\n",
              "      <td>2</td>\n",
              "    </tr>\n",
              "    <tr>\n",
              "      <th>98</th>\n",
              "      <td>What is the purpose of cross-network slice coo...</td>\n",
              "      <td>to avoid any interference in the slice communi...</td>\n",
              "      <td>to coordinate network slices in multiple 5g ne...</td>\n",
              "      <td>0.00</td>\n",
              "      <td>0.488470</td>\n",
              "      <td>2</td>\n",
              "    </tr>\n",
              "    <tr>\n",
              "      <th>99</th>\n",
              "      <td>What does a RedCap UE expect if it monitors PD...</td>\n",
              "      <td>it is only a redcap ue for which the searchspa...</td>\n",
              "      <td>the initial dl bwp to exclude sspbch blocks an...</td>\n",
              "      <td>0.00</td>\n",
              "      <td>0.259381</td>\n",
              "      <td>2</td>\n",
              "    </tr>\n",
              "  </tbody>\n",
              "</table>\n",
              "<p>100 rows × 6 columns</p>\n",
              "</div>"
            ],
            "text/plain": [
              "                                           user_input  \\\n",
              "0   Which NGAP procedure is used for inter-system ...   \n",
              "1   What is covered by enhanced application layer ...   \n",
              "2   What does the Load-Balancing steering mode do?...   \n",
              "3   What is the main objective of intent driven ma...   \n",
              "4         What does MINT stand for? [3GPP Release 17]   \n",
              "..                                                ...   \n",
              "95  Which RRC state is the UE in when no RRC conne...   \n",
              "96  How are the antenna elements placed on each an...   \n",
              "97  What information may be provided to an emergen...   \n",
              "98  What is the purpose of cross-network slice coo...   \n",
              "99  What does a RedCap UE expect if it monitors PD...   \n",
              "\n",
              "                                             response  \\\n",
              "0               intersystem load balancing procedure.   \n",
              "1                                   all of the above.   \n",
              "2   divides the traffic of a data flow into two po...   \n",
              "3                  satisfy the new or updated intent.   \n",
              "4               minimization of service interruption.   \n",
              "..                                                ...   \n",
              "95                                          inactive.   \n",
              "96                         a rectangular arrangement.   \n",
              "97        current dispatchable location if available.   \n",
              "98  to avoid any interference in the slice communi...   \n",
              "99  it is only a redcap ue for which the searchspa...   \n",
              "\n",
              "                                            reference  factual_correctness  \\\n",
              "0                  uplink ran configuration transfer.                 0.00   \n",
              "1                              advanced v2x services.                  NaN   \n",
              "2   splits the traffic of a data flow across 3gpp ...                 0.57   \n",
              "3   to reduce the complexity of management for net...                 0.00   \n",
              "4               minimization of service interruption.                 0.67   \n",
              "..                                                ...                  ...   \n",
              "95                                           rrcidle.                 0.00   \n",
              "96    in both the vertical and horizontal directions.                 0.00   \n",
              "97                                      both 1 and 2.                 0.00   \n",
              "98  to coordinate network slices in multiple 5g ne...                 0.00   \n",
              "99  the initial dl bwp to exclude sspbch blocks an...                 0.00   \n",
              "\n",
              "    semantic_similarity  rubrics_score_with_reference  \n",
              "0              0.228364                             1  \n",
              "1              0.113409                             1  \n",
              "2              0.858245                             3  \n",
              "3              0.084886                             1  \n",
              "4              1.000000                             4  \n",
              "..                  ...                           ...  \n",
              "95             0.211736                             1  \n",
              "96             0.370383                             2  \n",
              "97             0.125532                             2  \n",
              "98             0.488470                             2  \n",
              "99             0.259381                             2  \n",
              "\n",
              "[100 rows x 6 columns]"
            ]
          },
          "execution_count": 50,
          "metadata": {},
          "output_type": "execute_result"
        }
      ],
      "source": [
        "RAGAS_RAG_llama_3_2_loraSource/Inference/Inference_RAG_llama_3.2_lora_short_answer.ipynb"
      ]
    },
    {
      "cell_type": "code",
      "execution_count": 54,
      "metadata": {},
      "outputs": [],
      "source": [
        "# Calculate means of each DataFrame's columns\n",
        "means_llama_3_2_lora_RAG = RAGAS_RAG_llama_3_2_lora.mean(numeric_only=True)\n",
        "means_llama_3_2_RAG = RAGAS_RAG_llama_3_2.mean(numeric_only=True)\n",
        "means_gpt4_RAG = RAGAS_RAG_gpt4.mean(numeric_only=True)\n",
        "means_llama_3_2_lora_no_RAG = RAGAS_llama_3_2_lora.mean(numeric_only=True)\n",
        "means_llama_3_2_no_RAG = RAGAS_llama_3_2.mean(numeric_only=True)\n",
        "means_gpt4_no_RAG = RAGAS_gpt4.mean(numeric_only=True)\n",
        "\n",
        "# Combine means into a comparative table\n",
        "model_means = pd.DataFrame({\n",
        "    \"RAG llama 3.2 3B Lora\": means_llama_3_2_lora_RAG,\n",
        "    \"RAG llama 3.2 3B\": means_llama_3_2_RAG,\n",
        "    \"RAG GPT-4o-mini\": means_gpt4_RAG,\n",
        "    \"Llama 3.2 3B Lora (no RAG)\": means_llama_3_2_lora_no_RAG,\n",
        "    \"Llama 3.2 3B (no RAG)\": means_llama_3_2_no_RAG,\n",
        "    \"GPT-4o-mini (no RAG)\": means_gpt4_no_RAG\n",
        "}).T  # Transpose to have models as rows and metrics as columns\n",
        "\n",
        "# Round for better readability\n",
        "model_means = model_means.round(3)"
      ]
    },
    {
      "cell_type": "code",
      "execution_count": 58,
      "metadata": {},
      "outputs": [
        {
          "name": "stdout",
          "output_type": "stream",
          "text": [
            "Comparative Model Performance with LLM evaluation:\n"
          ]
        },
        {
          "data": {
            "text/html": [
              "<div>\n",
              "<style scoped>\n",
              "    .dataframe tbody tr th:only-of-type {\n",
              "        vertical-align: middle;\n",
              "    }\n",
              "\n",
              "    .dataframe tbody tr th {\n",
              "        vertical-align: top;\n",
              "    }\n",
              "\n",
              "    .dataframe thead th {\n",
              "        text-align: right;\n",
              "    }\n",
              "</style>\n",
              "<table border=\"1\" class=\"dataframe\">\n",
              "  <thead>\n",
              "    <tr style=\"text-align: right;\">\n",
              "      <th></th>\n",
              "      <th>factual_correctness</th>\n",
              "      <th>semantic_similarity</th>\n",
              "      <th>rubrics_score_with_reference</th>\n",
              "    </tr>\n",
              "  </thead>\n",
              "  <tbody>\n",
              "    <tr>\n",
              "      <th>RAG llama 3.2 3B Lora</th>\n",
              "      <td>0.180</td>\n",
              "      <td>0.410</td>\n",
              "      <td>1.81</td>\n",
              "    </tr>\n",
              "    <tr>\n",
              "      <th>RAG llama 3.2 3B</th>\n",
              "      <td>0.141</td>\n",
              "      <td>0.415</td>\n",
              "      <td>2.37</td>\n",
              "    </tr>\n",
              "    <tr>\n",
              "      <th>RAG GPT-4o-mini</th>\n",
              "      <td>0.181</td>\n",
              "      <td>0.421</td>\n",
              "      <td>2.53</td>\n",
              "    </tr>\n",
              "    <tr>\n",
              "      <th>Llama 3.2 3B Lora (no RAG)</th>\n",
              "      <td>0.008</td>\n",
              "      <td>0.349</td>\n",
              "      <td>1.53</td>\n",
              "    </tr>\n",
              "    <tr>\n",
              "      <th>Llama 3.2 3B (no RAG)</th>\n",
              "      <td>0.078</td>\n",
              "      <td>0.500</td>\n",
              "      <td>1.95</td>\n",
              "    </tr>\n",
              "    <tr>\n",
              "      <th>GPT-4o-mini (no RAG)</th>\n",
              "      <td>0.061</td>\n",
              "      <td>0.362</td>\n",
              "      <td>2.24</td>\n",
              "    </tr>\n",
              "  </tbody>\n",
              "</table>\n",
              "</div>"
            ],
            "text/plain": [
              "                            factual_correctness  semantic_similarity  \\\n",
              "RAG llama 3.2 3B Lora                     0.180                0.410   \n",
              "RAG llama 3.2 3B                          0.141                0.415   \n",
              "RAG GPT-4o-mini                           0.181                0.421   \n",
              "Llama 3.2 3B Lora (no RAG)                0.008                0.349   \n",
              "Llama 3.2 3B (no RAG)                     0.078                0.500   \n",
              "GPT-4o-mini (no RAG)                      0.061                0.362   \n",
              "\n",
              "                            rubrics_score_with_reference  \n",
              "RAG llama 3.2 3B Lora                               1.81  \n",
              "RAG llama 3.2 3B                                    2.37  \n",
              "RAG GPT-4o-mini                                     2.53  \n",
              "Llama 3.2 3B Lora (no RAG)                          1.53  \n",
              "Llama 3.2 3B (no RAG)                               1.95  \n",
              "GPT-4o-mini (no RAG)                                2.24  "
            ]
          },
          "execution_count": 58,
          "metadata": {},
          "output_type": "execute_result"
        }
      ],
      "source": [
        "print(\"Comparative Model Performance with LLM evaluation:\")\n",
        "model_means"
      ]
    },
    {
      "cell_type": "markdown",
      "metadata": {},
      "source": [
        "### No LLM Evalaution"
      ]
    },
    {
      "cell_type": "code",
      "execution_count": 56,
      "metadata": {},
      "outputs": [],
      "source": [
        "# Load the data from CSV files\n",
        "RAGAS_RAG_llama_3_2_lora = pd.read_csv(\"../Evaluations/RAGAS/No_LLM_evaluation/llama_3_2_lora_short_answer_RAG_evaluation_RAGAS_no_LLM.csv\")\n",
        "RAGAS_RAG_llama_3_2 = pd.read_csv(\"../Evaluations/RAGAS/No_LLM_evaluation/llama_3_2_RAG_evaluation_RAGAS_no_LLM.csv\")\n",
        "RAGAS_RAG_gpt4 = pd.read_csv(\"../Evaluations/RAGAS/No_LLM_evaluation/gpt4_RAG_evaluation_RAGAS_no_LLM.csv\")\n",
        "RAGAS_llama_3_2_lora = pd.read_csv(\"../Evaluations/RAGAS/No_LLM_evaluation/llama_3_2_lora_short_answer_evaluation_RAGAS_no_LLM.csv\")\n",
        "RAGAS_llama_3_2 = pd.read_csv(\"../Evaluations/RAGAS/No_LLM_evaluation/llama_3_2_evaluation_RAGAS_no_LLM.csv\")\n",
        "RAGAS_gpt4 = pd.read_csv(\"../Evaluations/RAGAS/No_LLM_evaluation/gpt4_evaluation_RAGAS_no_LLM.csv\")"
      ]
    },
    {
      "cell_type": "code",
      "execution_count": 57,
      "metadata": {},
      "outputs": [
        {
          "data": {
            "text/html": [
              "<div>\n",
              "<style scoped>\n",
              "    .dataframe tbody tr th:only-of-type {\n",
              "        vertical-align: middle;\n",
              "    }\n",
              "\n",
              "    .dataframe tbody tr th {\n",
              "        vertical-align: top;\n",
              "    }\n",
              "\n",
              "    .dataframe thead th {\n",
              "        text-align: right;\n",
              "    }\n",
              "</style>\n",
              "<table border=\"1\" class=\"dataframe\">\n",
              "  <thead>\n",
              "    <tr style=\"text-align: right;\">\n",
              "      <th></th>\n",
              "      <th>user_input</th>\n",
              "      <th>response</th>\n",
              "      <th>reference</th>\n",
              "      <th>bleu_score</th>\n",
              "      <th>rouge_score</th>\n",
              "      <th>exact_match</th>\n",
              "      <th>string_present</th>\n",
              "    </tr>\n",
              "  </thead>\n",
              "  <tbody>\n",
              "    <tr>\n",
              "      <th>0</th>\n",
              "      <td>Which NGAP procedure is used for inter-system ...</td>\n",
              "      <td>intersystem load balancing procedure.</td>\n",
              "      <td>uplink ran configuration transfer.</td>\n",
              "      <td>1.218332e-231</td>\n",
              "      <td>0.000000</td>\n",
              "      <td>0.0</td>\n",
              "      <td>0.0</td>\n",
              "    </tr>\n",
              "    <tr>\n",
              "      <th>1</th>\n",
              "      <td>What is covered by enhanced application layer ...</td>\n",
              "      <td>all of the above.</td>\n",
              "      <td>advanced v2x services.</td>\n",
              "      <td>1.218332e-231</td>\n",
              "      <td>0.000000</td>\n",
              "      <td>0.0</td>\n",
              "      <td>0.0</td>\n",
              "    </tr>\n",
              "    <tr>\n",
              "      <th>2</th>\n",
              "      <td>What does the Load-Balancing steering mode do?...</td>\n",
              "      <td>divides the traffic of a data flow into two po...</td>\n",
              "      <td>splits the traffic of a data flow across 3gpp ...</td>\n",
              "      <td>1.469925e-01</td>\n",
              "      <td>0.425532</td>\n",
              "      <td>0.0</td>\n",
              "      <td>0.0</td>\n",
              "    </tr>\n",
              "    <tr>\n",
              "      <th>3</th>\n",
              "      <td>What is the main objective of intent driven ma...</td>\n",
              "      <td>satisfy the new or updated intent.</td>\n",
              "      <td>to reduce the complexity of management for net...</td>\n",
              "      <td>8.676910e-232</td>\n",
              "      <td>0.133333</td>\n",
              "      <td>0.0</td>\n",
              "      <td>0.0</td>\n",
              "    </tr>\n",
              "    <tr>\n",
              "      <th>4</th>\n",
              "      <td>What does MINT stand for? [3GPP Release 17]</td>\n",
              "      <td>minimization of service interruption.</td>\n",
              "      <td>minimization of service interruption.</td>\n",
              "      <td>1.000000e+00</td>\n",
              "      <td>1.000000</td>\n",
              "      <td>1.0</td>\n",
              "      <td>1.0</td>\n",
              "    </tr>\n",
              "    <tr>\n",
              "      <th>...</th>\n",
              "      <td>...</td>\n",
              "      <td>...</td>\n",
              "      <td>...</td>\n",
              "      <td>...</td>\n",
              "      <td>...</td>\n",
              "      <td>...</td>\n",
              "      <td>...</td>\n",
              "    </tr>\n",
              "    <tr>\n",
              "      <th>95</th>\n",
              "      <td>Which RRC state is the UE in when no RRC conne...</td>\n",
              "      <td>inactive.</td>\n",
              "      <td>rrcidle.</td>\n",
              "      <td>1.531972e-231</td>\n",
              "      <td>0.000000</td>\n",
              "      <td>0.0</td>\n",
              "      <td>0.0</td>\n",
              "    </tr>\n",
              "    <tr>\n",
              "      <th>96</th>\n",
              "      <td>How are the antenna elements placed on each an...</td>\n",
              "      <td>a rectangular arrangement.</td>\n",
              "      <td>in both the vertical and horizontal directions.</td>\n",
              "      <td>4.739132e-232</td>\n",
              "      <td>0.000000</td>\n",
              "      <td>0.0</td>\n",
              "      <td>0.0</td>\n",
              "    </tr>\n",
              "    <tr>\n",
              "      <th>97</th>\n",
              "      <td>What information may be provided to an emergen...</td>\n",
              "      <td>current dispatchable location if available.</td>\n",
              "      <td>both 1 and 2.</td>\n",
              "      <td>1.164047e-231</td>\n",
              "      <td>0.000000</td>\n",
              "      <td>0.0</td>\n",
              "      <td>0.0</td>\n",
              "    </tr>\n",
              "    <tr>\n",
              "      <th>98</th>\n",
              "      <td>What is the purpose of cross-network slice coo...</td>\n",
              "      <td>to avoid any interference in the slice communi...</td>\n",
              "      <td>to coordinate network slices in multiple 5g ne...</td>\n",
              "      <td>1.268852e-231</td>\n",
              "      <td>0.166667</td>\n",
              "      <td>0.0</td>\n",
              "      <td>0.0</td>\n",
              "    </tr>\n",
              "    <tr>\n",
              "      <th>99</th>\n",
              "      <td>What does a RedCap UE expect if it monitors PD...</td>\n",
              "      <td>it is only a redcap ue for which the searchspa...</td>\n",
              "      <td>the initial dl bwp to exclude sspbch blocks an...</td>\n",
              "      <td>5.157007e-155</td>\n",
              "      <td>0.142857</td>\n",
              "      <td>0.0</td>\n",
              "      <td>0.0</td>\n",
              "    </tr>\n",
              "  </tbody>\n",
              "</table>\n",
              "<p>100 rows × 7 columns</p>\n",
              "</div>"
            ],
            "text/plain": [
              "                                           user_input  \\\n",
              "0   Which NGAP procedure is used for inter-system ...   \n",
              "1   What is covered by enhanced application layer ...   \n",
              "2   What does the Load-Balancing steering mode do?...   \n",
              "3   What is the main objective of intent driven ma...   \n",
              "4         What does MINT stand for? [3GPP Release 17]   \n",
              "..                                                ...   \n",
              "95  Which RRC state is the UE in when no RRC conne...   \n",
              "96  How are the antenna elements placed on each an...   \n",
              "97  What information may be provided to an emergen...   \n",
              "98  What is the purpose of cross-network slice coo...   \n",
              "99  What does a RedCap UE expect if it monitors PD...   \n",
              "\n",
              "                                             response  \\\n",
              "0               intersystem load balancing procedure.   \n",
              "1                                   all of the above.   \n",
              "2   divides the traffic of a data flow into two po...   \n",
              "3                  satisfy the new or updated intent.   \n",
              "4               minimization of service interruption.   \n",
              "..                                                ...   \n",
              "95                                          inactive.   \n",
              "96                         a rectangular arrangement.   \n",
              "97        current dispatchable location if available.   \n",
              "98  to avoid any interference in the slice communi...   \n",
              "99  it is only a redcap ue for which the searchspa...   \n",
              "\n",
              "                                            reference     bleu_score  \\\n",
              "0                  uplink ran configuration transfer.  1.218332e-231   \n",
              "1                              advanced v2x services.  1.218332e-231   \n",
              "2   splits the traffic of a data flow across 3gpp ...   1.469925e-01   \n",
              "3   to reduce the complexity of management for net...  8.676910e-232   \n",
              "4               minimization of service interruption.   1.000000e+00   \n",
              "..                                                ...            ...   \n",
              "95                                           rrcidle.  1.531972e-231   \n",
              "96    in both the vertical and horizontal directions.  4.739132e-232   \n",
              "97                                      both 1 and 2.  1.164047e-231   \n",
              "98  to coordinate network slices in multiple 5g ne...  1.268852e-231   \n",
              "99  the initial dl bwp to exclude sspbch blocks an...  5.157007e-155   \n",
              "\n",
              "    rouge_score  exact_match  string_present  \n",
              "0      0.000000          0.0             0.0  \n",
              "1      0.000000          0.0             0.0  \n",
              "2      0.425532          0.0             0.0  \n",
              "3      0.133333          0.0             0.0  \n",
              "4      1.000000          1.0             1.0  \n",
              "..          ...          ...             ...  \n",
              "95     0.000000          0.0             0.0  \n",
              "96     0.000000          0.0             0.0  \n",
              "97     0.000000          0.0             0.0  \n",
              "98     0.166667          0.0             0.0  \n",
              "99     0.142857          0.0             0.0  \n",
              "\n",
              "[100 rows x 7 columns]"
            ]
          },
          "execution_count": 57,
          "metadata": {},
          "output_type": "execute_result"
        }
      ],
      "source": [
        "RAGAS_RAG_llama_3_2_lora"
      ]
    },
    {
      "cell_type": "code",
      "execution_count": 60,
      "metadata": {},
      "outputs": [],
      "source": [
        "# Calculate means of each DataFrame's columns\n",
        "means_llama_3_2_lora_RAG = RAGAS_RAG_llama_3_2_lora.mean(numeric_only=True)\n",
        "means_llama_3_2_RAG = RAGAS_RAG_llama_3_2.mean(numeric_only=True)\n",
        "means_gpt4_RAG = RAGAS_RAG_gpt4.mean(numeric_only=True)\n",
        "means_llama_3_2_lora_no_RAG = RAGAS_llama_3_2_lora.mean(numeric_only=True)\n",
        "means_llama_3_2_no_RAG = RAGAS_llama_3_2.mean(numeric_only=True)\n",
        "means_gpt4_no_RAG = RAGAS_gpt4.mean(numeric_only=True)\n",
        "\n",
        "# Combine means into a comparative table\n",
        "model_means = pd.DataFrame({\n",
        "    \"RAG llama 3.2 3B Lora\": means_llama_3_2_lora_RAG,\n",
        "    \"RAG llama 3.2 3B\": means_llama_3_2_RAG,\n",
        "    \"RAG GPT-4o-mini\": means_gpt4_RAG,\n",
        "    \"Llama 3.2 3B Lora (no RAG)\": means_llama_3_2_lora_no_RAG,\n",
        "    \"Llama 3.2 3B (no RAG)\": means_llama_3_2_no_RAG,\n",
        "    \"GPT-4o-mini (no RAG)\": means_gpt4_no_RAG\n",
        "}).T  # Transpose to have models as rows and metrics as columns\n",
        "\n",
        "# Round for better readability\n",
        "model_means = model_means.round(3)"
      ]
    },
    {
      "cell_type": "code",
      "execution_count": 61,
      "metadata": {},
      "outputs": [
        {
          "name": "stdout",
          "output_type": "stream",
          "text": [
            "Comparative Model Performance with LLM evaluation:\n"
          ]
        },
        {
          "data": {
            "text/html": [
              "<div>\n",
              "<style scoped>\n",
              "    .dataframe tbody tr th:only-of-type {\n",
              "        vertical-align: middle;\n",
              "    }\n",
              "\n",
              "    .dataframe tbody tr th {\n",
              "        vertical-align: top;\n",
              "    }\n",
              "\n",
              "    .dataframe thead th {\n",
              "        text-align: right;\n",
              "    }\n",
              "</style>\n",
              "<table border=\"1\" class=\"dataframe\">\n",
              "  <thead>\n",
              "    <tr style=\"text-align: right;\">\n",
              "      <th></th>\n",
              "      <th>bleu_score</th>\n",
              "      <th>rouge_score</th>\n",
              "      <th>exact_match</th>\n",
              "      <th>string_present</th>\n",
              "    </tr>\n",
              "  </thead>\n",
              "  <tbody>\n",
              "    <tr>\n",
              "      <th>RAG llama 3.2 3B Lora</th>\n",
              "      <td>0.066</td>\n",
              "      <td>0.243</td>\n",
              "      <td>0.06</td>\n",
              "      <td>0.07</td>\n",
              "    </tr>\n",
              "    <tr>\n",
              "      <th>RAG llama 3.2 3B</th>\n",
              "      <td>0.058</td>\n",
              "      <td>0.200</td>\n",
              "      <td>0.05</td>\n",
              "      <td>0.05</td>\n",
              "    </tr>\n",
              "    <tr>\n",
              "      <th>RAG GPT-4o-mini</th>\n",
              "      <td>0.039</td>\n",
              "      <td>0.197</td>\n",
              "      <td>0.04</td>\n",
              "      <td>0.04</td>\n",
              "    </tr>\n",
              "    <tr>\n",
              "      <th>Llama 3.2 3B Lora (no RAG)</th>\n",
              "      <td>0.021</td>\n",
              "      <td>0.183</td>\n",
              "      <td>0.02</td>\n",
              "      <td>0.02</td>\n",
              "    </tr>\n",
              "    <tr>\n",
              "      <th>Llama 3.2 3B (no RAG)</th>\n",
              "      <td>0.056</td>\n",
              "      <td>0.174</td>\n",
              "      <td>0.00</td>\n",
              "      <td>0.00</td>\n",
              "    </tr>\n",
              "    <tr>\n",
              "      <th>GPT-4o-mini (no RAG)</th>\n",
              "      <td>0.003</td>\n",
              "      <td>0.139</td>\n",
              "      <td>0.00</td>\n",
              "      <td>0.02</td>\n",
              "    </tr>\n",
              "  </tbody>\n",
              "</table>\n",
              "</div>"
            ],
            "text/plain": [
              "                            bleu_score  rouge_score  exact_match  \\\n",
              "RAG llama 3.2 3B Lora            0.066        0.243         0.06   \n",
              "RAG llama 3.2 3B                 0.058        0.200         0.05   \n",
              "RAG GPT-4o-mini                  0.039        0.197         0.04   \n",
              "Llama 3.2 3B Lora (no RAG)       0.021        0.183         0.02   \n",
              "Llama 3.2 3B (no RAG)            0.056        0.174         0.00   \n",
              "GPT-4o-mini (no RAG)             0.003        0.139         0.00   \n",
              "\n",
              "                            string_present  \n",
              "RAG llama 3.2 3B Lora                 0.07  \n",
              "RAG llama 3.2 3B                      0.05  \n",
              "RAG GPT-4o-mini                       0.04  \n",
              "Llama 3.2 3B Lora (no RAG)            0.02  \n",
              "Llama 3.2 3B (no RAG)                 0.00  \n",
              "GPT-4o-mini (no RAG)                  0.02  "
            ]
          },
          "execution_count": 61,
          "metadata": {},
          "output_type": "execute_result"
        }
      ],
      "source": [
        "print(\"Comparative Model Performance with LLM evaluation:\")\n",
        "model_means"
      ]
    },
    {
      "cell_type": "markdown",
      "metadata": {},
      "source": [
        "# Classifier Statistical Significance"
      ]
    },
    {
      "cell_type": "markdown",
      "metadata": {},
      "source": [
        "## Confidence Interval"
      ]
    },
    {
      "cell_type": "code",
      "execution_count": 9,
      "metadata": {},
      "outputs": [],
      "source": [
        "# Modelos e suas respostas\n",
        "models = {\n",
        "    \"RAG llama 3.2 3B Lora\": RAG_llama_3_2_lora,\n",
        "    \"RAG llama 3.2 3B\": RAG_llama_3_2,\n",
        "    \"RAG GPT-4o-mini\": RAG_gpt4,\n",
        "    \"Llama 3.2 3B Lora (no RAG)\": llama_3_2_lora,\n",
        "    \"Llama 3.2 3B (no RAG)\": llama_3_2,\n",
        "    \"GPT-4o-mini (no RAG)\": gpt4\n",
        "}"
      ]
    },
    {
      "cell_type": "code",
      "execution_count": 15,
      "metadata": {},
      "outputs": [],
      "source": [
        "# Function to calculate confidence interval\n",
        "import math\n",
        "\n",
        "def calculate_confidence_interval(accuracy, sample_size, confidence_level=0.95):\n",
        "    \"\"\"\n",
        "    Calculate the confidence interval for a given accuracy and sample size.\n",
        "    \n",
        "    :param accuracy: Accuracy as a percentage (0-100).\n",
        "    :param sample_size: Number of samples used to compute accuracy.\n",
        "    :param confidence_level: Confidence level (default is 0.95 for 95% confidence).\n",
        "    :return: Tuple (lower_bound, upper_bound) of the confidence interval.\n",
        "    \"\"\"\n",
        "    accuracy_proportion = accuracy / 100\n",
        "    z = 1.96 if confidence_level == 0.95 else 1.64  # Default: 95% confidence\n",
        "    std_error = math.sqrt((accuracy_proportion * (1 - accuracy_proportion)) / sample_size)\n",
        "    lower_bound = accuracy_proportion - z * std_error\n",
        "    upper_bound = accuracy_proportion + z * std_error\n",
        "    return max(0, lower_bound), min(1, upper_bound)"
      ]
    },
    {
      "cell_type": "code",
      "execution_count": 16,
      "metadata": {},
      "outputs": [],
      "source": [
        "\n",
        "# Function to evaluate models and calculate confidence intervals\n",
        "def evaluate_and_calculate_intervals(models):\n",
        "    \"\"\"\n",
        "    Evaluate accuracy for all models and calculate their confidence intervals.\n",
        "    \n",
        "    :param models: Dictionary with model names as keys and their responses as values.\n",
        "    :return: Dictionary with evaluation results and confidence intervals for each model.\n",
        "    \"\"\"\n",
        "    results = {}\n",
        "    for model_name, responses in models.items():\n",
        "        # Evaluate model accuracy\n",
        "        accuracy, none_count, incorrect_questions = evaluate_accuracy(responses)\n",
        "        sample_size = len(responses)\n",
        "        \n",
        "        # Calculate confidence interval\n",
        "        confidence_interval = calculate_confidence_interval(accuracy, sample_size)\n",
        "        \n",
        "        # Store results\n",
        "        results[model_name] = {\n",
        "            \"accuracy\": accuracy,\n",
        "            \"confidence_interval\": confidence_interval,\n",
        "            \"sample_size\": sample_size,\n",
        "            \"none_count\": none_count\n",
        "        }\n",
        "    return results"
      ]
    },
    {
      "cell_type": "code",
      "execution_count": 17,
      "metadata": {},
      "outputs": [
        {
          "name": "stdout",
          "output_type": "stream",
          "text": [
            "\n",
            "Summary of all models' accuracy with confidence intervals:\n",
            "RAG llama 3.2 3B Lora - Accuracy: 77.00%, Confidence Interval: [0.6875, 0.8525], Sample Size: 100, 'None' responses: 0\n",
            "RAG llama 3.2 3B - Accuracy: 72.00%, Confidence Interval: [0.6320, 0.8080], Sample Size: 100, 'None' responses: 2\n",
            "RAG GPT-4o-mini - Accuracy: 73.00%, Confidence Interval: [0.6430, 0.8170], Sample Size: 100, 'None' responses: 0\n",
            "Llama 3.2 3B Lora (no RAG) - Accuracy: 48.00%, Confidence Interval: [0.3821, 0.5779], Sample Size: 100, 'None' responses: 0\n",
            "Llama 3.2 3B (no RAG) - Accuracy: 42.00%, Confidence Interval: [0.3233, 0.5167], Sample Size: 100, 'None' responses: 2\n",
            "GPT-4o-mini (no RAG) - Accuracy: 58.00%, Confidence Interval: [0.4833, 0.6767], Sample Size: 100, 'None' responses: 0\n"
          ]
        }
      ],
      "source": [
        "# Evaluate models and calculate confidence intervals\n",
        "evaluation_results = evaluate_and_calculate_intervals(models)\n",
        "\n",
        "# Display results\n",
        "print(\"\\nSummary of all models' accuracy with confidence intervals:\")\n",
        "for model_name, result in evaluation_results.items():\n",
        "    lower, upper = result[\"confidence_interval\"]\n",
        "    print(f\"{model_name} - Accuracy: {result['accuracy']:.2f}%, Confidence Interval: [{lower:.4f}, {upper:.4f}], Sample Size: {result['sample_size']}, 'None' responses: {result['none_count']}\")"
      ]
    },
    {
      "cell_type": "markdown",
      "metadata": {},
      "source": [
        "## McNema Test"
      ]
    },
    {
      "cell_type": "code",
      "execution_count": 24,
      "metadata": {},
      "outputs": [],
      "source": [
        "from scipy.stats import binomtest, chi2\n",
        "\n",
        "def calculate_mcnemar_test_from_indices(model1_incorrect, model2_incorrect, total_questions):\n",
        "    \"\"\"\n",
        "    Perform McNemar's test based on incorrect question indices.\n",
        "    \n",
        "    :param model1_incorrect: Set of incorrect question indices for model 1.\n",
        "    :param model2_incorrect: Set of incorrect question indices for model 2.\n",
        "    :param total_questions: Total number of questions evaluated.\n",
        "    :return: Dictionary with McNemar test results.\n",
        "    \"\"\"\n",
        "    # Calculate contingency table values\n",
        "    b = len(model1_incorrect - model2_incorrect)  # Incorrect in model 1 but correct in model 2\n",
        "    c = len(model2_incorrect - model1_incorrect)  # Correct in model 1 but incorrect in model 2\n",
        "\n",
        "    total_disagreements = b + c\n",
        "\n",
        "    if total_disagreements == 0:\n",
        "        return {\n",
        "            \"chi2_statistic\": None,\n",
        "            \"p_value\": 1.0,\n",
        "            \"result\": \"No disagreements found; models perform identically.\",\n",
        "            \"b\": b,\n",
        "            \"c\": c,\n",
        "            \"total_disagreements\": total_disagreements\n",
        "        }\n",
        "\n",
        "    # Calculate chi-squared statistic and p-value\n",
        "    if total_disagreements > 25:\n",
        "        # Chi-squared approximation\n",
        "        chi2_statistic = ((abs(b - c) - 1) ** 2) / (b + c) if (b + c) > 0 else 0\n",
        "        p_value = chi2.sf(chi2_statistic, df=1)\n",
        "        test_method = \"Chi-squared approximation\"\n",
        "    else:\n",
        "        # Binomial test (exact)\n",
        "        p_value = binomtest(b, n=total_disagreements, p=0.5).pvalue\n",
        "        chi2_statistic = None\n",
        "        test_method = \"Binomial exact test\"\n",
        "\n",
        "    # Checking if the difference is significant based on chi-squared test (critical value 3.841 for 95% confidence)\n",
        "    chi2_critical_value = 3.841\n",
        "    is_significant = chi2_statistic > chi2_critical_value if chi2_statistic is not None else p_value < 0.05\n",
        "\n",
        "    return {\n",
        "        \"chi2_statistic\": chi2_statistic,\n",
        "        \"p_value\": p_value,\n",
        "        \"result\": \"Significant difference\" if is_significant else \"No significant difference\",\n",
        "        \"b\": b,\n",
        "        \"c\": c,\n",
        "        \"total_disagreements\": total_disagreements,\n",
        "        \"test_method\": test_method,\n",
        "        \"is_significant\": is_significant,\n",
        "        \"chi2_critical_value\": chi2_critical_value\n",
        "    }\n"
      ]
    },
    {
      "cell_type": "code",
      "execution_count": 25,
      "metadata": {},
      "outputs": [
        {
          "name": "stdout",
          "output_type": "stream",
          "text": [
            "\n",
            "McNemar's Test Results (RAG llama 3.2 3B Lora vs RAG llama 3.2 3B):\n",
            "Method: Binomial exact test\n",
            "Chi2 Statistic: None\n",
            "P-value: 0.2265625\n",
            "Result: No significant difference\n",
            "b (Lora incorrect, llama correct): 3\n",
            "c (Llama incorrect, Lora correct): 8\n",
            "Total disagreements: 11\n",
            "\n",
            "McNemar's Test Results (RAG llama 3.2 3B Lora vs RAG GPT-4o-mini):\n",
            "Method: Binomial exact test\n",
            "Chi2 Statistic: None\n",
            "P-value: 0.5034446716308594\n",
            "Result: No significant difference\n",
            "b (Lora incorrect, GPT-4 correct): 8\n",
            "c (GPT-4 incorrect, Lora correct): 12\n",
            "Total disagreements: 20\n"
          ]
        }
      ],
      "source": [
        "# Example usage with your existing code\n",
        "accuracy_results = evaluate_accuracy_all_models()\n",
        "\n",
        "# Extract incorrect question sets\n",
        "rag_llama_lora_incorrect = set(accuracy_results[\"RAG llama 3.2 3B Lora\"][\"incorrect_questions\"])\n",
        "rag_llama_incorrect = set(accuracy_results[\"RAG llama 3.2 3B\"][\"incorrect_questions\"])\n",
        "rag_gpt4_incorrect = set(accuracy_results[\"RAG GPT-4o-mini\"][\"incorrect_questions\"])\n",
        "\n",
        "# Total number of questions evaluated\n",
        "total_questions = len(llama_3_2_lora)  # Adjust to match your dataset structure\n",
        "\n",
        "# Perform McNemar's test between models\n",
        "mcnemar_llama_lora_vs_llama = calculate_mcnemar_test_from_indices(\n",
        "    rag_llama_lora_incorrect,\n",
        "    rag_llama_incorrect,\n",
        "    total_questions\n",
        ")\n",
        "\n",
        "mcnemar_llama_lora_vs_gpt4 = calculate_mcnemar_test_from_indices(\n",
        "    rag_llama_lora_incorrect,\n",
        "    rag_gpt4_incorrect,\n",
        "    total_questions\n",
        ")\n",
        "\n",
        "# Display McNemar test results\n",
        "print(\"\\nMcNemar's Test Results (RAG llama 3.2 3B Lora vs RAG llama 3.2 3B):\")\n",
        "print(f\"Method: {mcnemar_llama_lora_vs_llama['test_method']}\")\n",
        "print(f\"Chi2 Statistic: {mcnemar_llama_lora_vs_llama['chi2_statistic']}\")\n",
        "print(f\"P-value: {mcnemar_llama_lora_vs_llama['p_value']}\")\n",
        "print(f\"Result: {mcnemar_llama_lora_vs_llama['result']}\")\n",
        "print(f\"b (Lora incorrect, llama correct): {mcnemar_llama_lora_vs_llama['b']}\")\n",
        "print(f\"c (Llama incorrect, Lora correct): {mcnemar_llama_lora_vs_llama['c']}\")\n",
        "print(f\"Total disagreements: {mcnemar_llama_lora_vs_llama['total_disagreements']}\")\n",
        "\n",
        "print(\"\\nMcNemar's Test Results (RAG llama 3.2 3B Lora vs RAG GPT-4o-mini):\")\n",
        "print(f\"Method: {mcnemar_llama_lora_vs_gpt4['test_method']}\")\n",
        "print(f\"Chi2 Statistic: {mcnemar_llama_lora_vs_gpt4['chi2_statistic']}\")\n",
        "print(f\"P-value: {mcnemar_llama_lora_vs_gpt4['p_value']}\")\n",
        "print(f\"Result: {mcnemar_llama_lora_vs_gpt4['result']}\")\n",
        "print(f\"b (Lora incorrect, GPT-4 correct): {mcnemar_llama_lora_vs_gpt4['b']}\")\n",
        "print(f\"c (GPT-4 incorrect, Lora correct): {mcnemar_llama_lora_vs_gpt4['c']}\")\n",
        "print(f\"Total disagreements: {mcnemar_llama_lora_vs_gpt4['total_disagreements']}\")\n"
      ]
    },
    {
      "cell_type": "markdown",
      "metadata": {},
      "source": [
        "## McNemar test 2"
      ]
    },
    {
      "cell_type": "code",
      "execution_count": 37,
      "metadata": {},
      "outputs": [],
      "source": [
        "from scipy.stats import binomtest, chi2\n",
        "\n",
        "def calculate_mcnemar_test_from_indices(model1_incorrect, model2_incorrect, total_questions):\n",
        "    \"\"\"\n",
        "    Perform McNemar's test based on incorrect question indices.\n",
        "    \n",
        "    :param model1_incorrect: Set of incorrect question indices for model 1.\n",
        "    :param model2_incorrect: Set of incorrect question indices for model 2.\n",
        "    :param total_questions: Total number of questions evaluated.\n",
        "    :return: Dictionary with McNemar test results.\n",
        "    \"\"\"\n",
        "    # Calculate contingency table values\n",
        "    b = len(model1_incorrect - model2_incorrect)  # Incorrect in model 1 but correct in model 2\n",
        "    c = len(model2_incorrect - model1_incorrect)  # Correct in model 1 but incorrect in model 2\n",
        "\n",
        "    total_disagreements = b + c\n",
        "\n",
        "    # If no disagreements, return early\n",
        "    if total_disagreements == 0:\n",
        "        return {\n",
        "            \"chi2_statistic\": None,\n",
        "            \"p_value_chi2\": None,\n",
        "            \"p_value_binom\": 1.0,\n",
        "            \"result\": \"No disagreements found; models perform identically.\",\n",
        "            \"b\": b,\n",
        "            \"c\": c,\n",
        "            \"total_disagreements\": total_disagreements\n",
        "        }\n",
        "\n",
        "    # Chi-squared test calculation\n",
        "    chi2_statistic = ((abs(b - c) - 1) ** 2) / (b + c) if (b + c) > 0 else 0\n",
        "    p_value_chi2 = chi2.sf(chi2_statistic, df=1)\n",
        "\n",
        "    # Binomial test calculation (exact test)\n",
        "    p_value_binom = binomtest(b, n=total_disagreements, p=0.5).pvalue\n",
        "\n",
        "    # Checking significance based on chi-squared test (critical value 3.841 for 95% confidence)\n",
        "    chi2_critical_value = 3.841\n",
        "    is_significant_chi2 = chi2_statistic > chi2_critical_value\n",
        "    is_significant_binom = p_value_binom < 0.05\n",
        "\n",
        "    result_chi2 = f\"Significant difference (Chi-squared statistic > {chi2_critical_value})\" if is_significant_chi2 else f\"No significant difference (Chi-squared statistic ≤ {chi2_critical_value})\"\n",
        "    result_binom = f\"Significant difference (p-value < 0.05)\" if is_significant_binom else f\"No significant difference (p-value ≥ 0.05)\"\n",
        "\n",
        "    return {\n",
        "        \"chi2_statistic\": chi2_statistic,\n",
        "        \"p_value_chi2\": p_value_chi2,\n",
        "        \"p_value_binom\": p_value_binom,\n",
        "        \"b\": b,\n",
        "        \"c\": c,\n",
        "        \"total_disagreements\": total_disagreements,\n",
        "        \"is_significant_chi2\": is_significant_chi2,\n",
        "        \"is_significant_binom\": is_significant_binom,\n",
        "        \"chi2_critical_value\": chi2_critical_value,\n",
        "        \"result_chi2\": result_chi2,\n",
        "        \"result_binom\": result_binom\n",
        "    }"
      ]
    },
    {
      "cell_type": "code",
      "execution_count": 39,
      "metadata": {},
      "outputs": [
        {
          "name": "stdout",
          "output_type": "stream",
          "text": [
            "\n",
            "McNemar's Test Results (RAG llama 3.2 3B Lora vs RAG llama 3.2 3B):\n",
            "Method: Chi-squared and Binomial tests calculated\n",
            "Chi2 Statistic: 1.4545454545454546\n",
            "P-value (Chi-squared): 0.22779999398822554\n",
            "Chi-squared result: No significant difference (Chi-squared statistic ≤ 3.841)\n",
            "P-value (Binomial): 0.2265625\n",
            "Binomial result: No significant difference (p-value ≥ 0.05)\n",
            "b (Lora incorrect, llama correct): 3\n",
            "c (Llama incorrect, Lora correct): 8\n",
            "Total disagreements: 11\n",
            "\n",
            "McNemar's Test Results (RAG llama 3.2 3B Lora vs RAG GPT-4o-mini):\n",
            "Method: Chi-squared and Binomial tests calculated\n",
            "Chi2 Statistic: 0.45\n",
            "P-value (Chi-squared): 0.502334954360502\n",
            "Chi-squared result: No significant difference (Chi-squared statistic ≤ 3.841)\n",
            "P-value (Binomial): 0.5034446716308594\n",
            "Binomial result: No significant difference (p-value ≥ 0.05)\n",
            "b (Lora incorrect, GPT-4 correct): 8\n",
            "c (GPT-4 incorrect, Lora correct): 12\n",
            "Total disagreements: 20\n",
            "\n",
            "The Binomial exact test is more appropriate for the RAG llama 3.2 3B Lora vs RAG llama 3.2 3B comparison because there are 25 or fewer disagreements.\n",
            "The Binomial exact test is more appropriate for the RAG llama 3.2 3B Lora vs RAG GPT-4o-mini comparison because there are 25 or fewer disagreements.\n"
          ]
        }
      ],
      "source": [
        "# Example usage with your existing code\n",
        "accuracy_results = evaluate_accuracy_all_models()\n",
        "\n",
        "# Extract incorrect question sets\n",
        "rag_llama_lora_incorrect = set(accuracy_results[\"RAG llama 3.2 3B Lora\"][\"incorrect_questions\"])\n",
        "rag_llama_incorrect = set(accuracy_results[\"RAG llama 3.2 3B\"][\"incorrect_questions\"])\n",
        "rag_gpt4_incorrect = set(accuracy_results[\"RAG GPT-4o-mini\"][\"incorrect_questions\"])\n",
        "\n",
        "# Total number of questions evaluated\n",
        "total_questions = len(llama_3_2_lora)  # Adjust to match your dataset structure\n",
        "\n",
        "# Perform McNemar's test between models\n",
        "mcnemar_llama_lora_vs_llama = calculate_mcnemar_test_from_indices(\n",
        "    rag_llama_lora_incorrect,\n",
        "    rag_llama_incorrect,\n",
        "    total_questions\n",
        ")\n",
        "\n",
        "mcnemar_llama_lora_vs_gpt4 = calculate_mcnemar_test_from_indices(\n",
        "    rag_llama_lora_incorrect,\n",
        "    rag_gpt4_incorrect,\n",
        "    total_questions\n",
        ")\n",
        "\n",
        "# Display McNemar test results\n",
        "print(\"\\nMcNemar's Test Results (RAG llama 3.2 3B Lora vs RAG llama 3.2 3B):\")\n",
        "print(f\"Method: Chi-squared and Binomial tests calculated\")\n",
        "print(f\"Chi2 Statistic: {mcnemar_llama_lora_vs_llama['chi2_statistic']}\")\n",
        "print(f\"P-value (Chi-squared): {mcnemar_llama_lora_vs_llama['p_value_chi2']}\")\n",
        "print(f\"Chi-squared result: {mcnemar_llama_lora_vs_llama['result_chi2']}\")\n",
        "print(f\"P-value (Binomial): {mcnemar_llama_lora_vs_llama['p_value_binom']}\")\n",
        "print(f\"Binomial result: {mcnemar_llama_lora_vs_llama['result_binom']}\")\n",
        "print(f\"b (Lora incorrect, llama correct): {mcnemar_llama_lora_vs_llama['b']}\")\n",
        "print(f\"c (Llama incorrect, Lora correct): {mcnemar_llama_lora_vs_llama['c']}\")\n",
        "print(f\"Total disagreements: {mcnemar_llama_lora_vs_llama['total_disagreements']}\")\n",
        "\n",
        "print(\"\\nMcNemar's Test Results (RAG llama 3.2 3B Lora vs RAG GPT-4o-mini):\")\n",
        "print(f\"Method: Chi-squared and Binomial tests calculated\")\n",
        "print(f\"Chi2 Statistic: {mcnemar_llama_lora_vs_gpt4['chi2_statistic']}\")\n",
        "print(f\"P-value (Chi-squared): {mcnemar_llama_lora_vs_gpt4['p_value_chi2']}\")\n",
        "print(f\"Chi-squared result: {mcnemar_llama_lora_vs_gpt4['result_chi2']}\")\n",
        "print(f\"P-value (Binomial): {mcnemar_llama_lora_vs_gpt4['p_value_binom']}\")\n",
        "print(f\"Binomial result: {mcnemar_llama_lora_vs_gpt4['result_binom']}\")\n",
        "print(f\"b (Lora incorrect, GPT-4 correct): {mcnemar_llama_lora_vs_gpt4['b']}\")\n",
        "print(f\"c (GPT-4 incorrect, Lora correct): {mcnemar_llama_lora_vs_gpt4['c']}\")\n",
        "print(f\"Total disagreements: {mcnemar_llama_lora_vs_gpt4['total_disagreements']}\")\n",
        "\n",
        "# Determining which test is more appropriate\n",
        "if mcnemar_llama_lora_vs_llama['total_disagreements'] > 25:\n",
        "    print(\"\\nThe Chi-squared test is more appropriate for the RAG llama 3.2 3B Lora vs RAG llama 3.2 3B comparison because there are more than 25 disagreements.\")\n",
        "else:\n",
        "    print(\"\\nThe Binomial exact test is more appropriate for the RAG llama 3.2 3B Lora vs RAG llama 3.2 3B comparison because there are 25 or fewer disagreements.\")\n",
        "\n",
        "if mcnemar_llama_lora_vs_gpt4['total_disagreements'] > 25:\n",
        "    print(\"The Chi-squared test is more appropriate for the RAG llama 3.2 3B Lora vs RAG GPT-4o-mini comparison because there are more than 25 disagreements.\")\n",
        "else:\n",
        "    print(\"The Binomial exact test is more appropriate for the RAG llama 3.2 3B Lora vs RAG GPT-4o-mini comparison because there are 25 or fewer disagreements.\")"
      ]
    }
  ],
  "metadata": {
    "colab": {
      "provenance": []
    },
    "kernelspec": {
      "display_name": "Python 3",
      "name": "python3"
    },
    "language_info": {
      "codemirror_mode": {
        "name": "ipython",
        "version": 3
      },
      "file_extension": ".py",
      "mimetype": "text/x-python",
      "name": "python",
      "nbconvert_exporter": "python",
      "pygments_lexer": "ipython3",
      "version": "3.10.12"
    }
  },
  "nbformat": 4,
  "nbformat_minor": 0
}
